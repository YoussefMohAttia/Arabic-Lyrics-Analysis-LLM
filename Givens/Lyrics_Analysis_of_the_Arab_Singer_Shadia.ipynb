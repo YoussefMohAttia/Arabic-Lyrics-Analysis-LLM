{
  "nbformat": 4,
  "nbformat_minor": 0,
  "metadata": {
    "colab": {
      "provenance": [],
      "toc_visible": true
    },
    "kernelspec": {
      "name": "python3",
      "display_name": "Python 3"
    },
    "language_info": {
      "name": "python"
    }
  },
  "cells": [
    {
      "cell_type": "markdown",
      "source": [
        "# Introduction"
      ],
      "metadata": {
        "id": "XuZ6HWQ12juh"
      }
    },
    {
      "cell_type": "markdown",
      "source": [
        "We try to investigate in depth the lyrics of one of the most famous and influential singer in Egypt, namely, شادية. We use statistical, visual, data mining, and exploratory data analysis tools in order to shed light into the artist's career.\n",
        "\n",
        "Musical lyrics may represent an artist's perspective, as well as the corresponding composer's and lyricist's perspectives. Lyric analysis is no easy task. Because **it is often structured so differently than prose**, it requires caution with assumptions and careful choice of analytic techniques.\n",
        "\n",
        "Musical lyrics permeate our lives and influence our thoughts, feelings, and perspectives in very subtle ways. The concept of **Predictive Lyrics** is beginning to take its position in research papers and graduate theses. This case study will just touch on a few pieces of this emerging subject.\n",
        "\n",
        "Fatma Ahmed Kamal Shaker (فاطمة أحمد كمال شاكر), commonly known as Shadia (شادية) is one of the most popular and influential artists in Egypt and the Arab region. She is considered to be one of the greatest Egyptian singers along with Umm Kulthum (ام كلثوم), Mohamed Abdel Wahab (محمد عبد الوهاب), Mohamed Fawzi (محمد فوزي), and Abd ElHalim Hafez (عبد الحليم حافظ). Shadia was born in 1931 and died in 2017. \n",
        "Six of her movies are listed in the top 100 Egyptian movies of the 20th century. In April 2015, she became the first actress to be awarded an honorary doctorate by the Egyptian Academy of Arts (citation: @shadiawiki).\n",
        "\n",
        "The work of Shadia is very diverse including wide range of genres from romanticism, nationalism, spiritual religion, etc. In order to celebrate this inspiring and diverse body of work, we will explore the sometimes obvious, but often hidden, messages in her lyrics. Lyric analysis is slowly finding its way into the data science and machine learning communities as the possibility of predicting \"Hit Songs\" approaches reality.\n",
        "\n"
      ],
      "metadata": {
        "id": "6LACaASYNBth"
      }
    },
    {
      "cell_type": "markdown",
      "source": [
        "# Data Collection"
      ],
      "metadata": {
        "id": "g2736Mu2NErb"
      }
    },
    {
      "cell_type": "markdown",
      "source": [
        "1)  The names of all songs are collected using Wikipedia page\n",
        "    [https://arz.wikipedia.org/wiki/ليستة_اغانى_شادية](https://arz.wikipedia.org/wiki/ليستة_اغانى_شاديه)\n",
        "\n",
        "2)  The lyrics of the corresponding songs were collected using several web sites including:\n",
        "-   <https://fnanen.net/klmat/alaghany/sh/shadyt.html> which contains comprehensive sets of lyrics for Arabic artists.\n",
        "-   <https://ankawa.com/forum/index.php> which also contains the lyrics of many Arabic songs.\n",
        "\n",
        "3)  Then, we have listened to all the songs on YouTube to rewrite its lyrics because in the past, they used to write only the words as they are repeated only once neglecting the many repeating as the songs are too long to write."
      ],
      "metadata": {
        "id": "JV_p-yQCNHKG"
      }
    },
    {
      "cell_type": "markdown",
      "source": [
        "# Installing required libraries."
      ],
      "metadata": {
        "id": "_35jpSzTNrhL"
      }
    },
    {
      "cell_type": "code",
      "source": [
        "!pip uninstall rpy2 -y\n",
        "!pip install rpy2==3.4.2"
      ],
      "metadata": {
        "id": "SF0pcYQF2Uss",
        "colab": {
          "base_uri": "https://localhost:8080/"
        },
        "outputId": "894a5df1-d423-47f6-da45-c1dc9263badf"
      },
      "execution_count": null,
      "outputs": [
        {
          "output_type": "stream",
          "name": "stdout",
          "text": [
            "Found existing installation: rpy2 3.5.5\n",
            "Uninstalling rpy2-3.5.5:\n",
            "  Successfully uninstalled rpy2-3.5.5\n",
            "Looking in indexes: https://pypi.org/simple, https://us-python.pkg.dev/colab-wheels/public/simple/\n",
            "Collecting rpy2==3.4.2\n",
            "  Downloading rpy2-3.4.2.tar.gz (186 kB)\n",
            "\u001b[2K     \u001b[90m━━━━━━━━━━━━━━━━━━━━━━━━━━━━━━━━━━━━━━━\u001b[0m \u001b[32m186.1/186.1 KB\u001b[0m \u001b[31m5.1 MB/s\u001b[0m eta \u001b[36m0:00:00\u001b[0m\n",
            "\u001b[?25h  Preparing metadata (setup.py) ... \u001b[?25l\u001b[?25hdone\n",
            "Requirement already satisfied: cffi>=1.10.0 in /usr/local/lib/python3.8/dist-packages (from rpy2==3.4.2) (1.15.1)\n",
            "Requirement already satisfied: jinja2 in /usr/local/lib/python3.8/dist-packages (from rpy2==3.4.2) (2.11.3)\n",
            "Requirement already satisfied: pytz in /usr/local/lib/python3.8/dist-packages (from rpy2==3.4.2) (2022.7.1)\n",
            "Requirement already satisfied: tzlocal in /usr/local/lib/python3.8/dist-packages (from rpy2==3.4.2) (1.5.1)\n",
            "Requirement already satisfied: pycparser in /usr/local/lib/python3.8/dist-packages (from cffi>=1.10.0->rpy2==3.4.2) (2.21)\n",
            "Requirement already satisfied: MarkupSafe>=0.23 in /usr/local/lib/python3.8/dist-packages (from jinja2->rpy2==3.4.2) (2.0.1)\n",
            "Building wheels for collected packages: rpy2\n",
            "  Building wheel for rpy2 (setup.py) ... \u001b[?25l\u001b[?25hdone\n",
            "  Created wheel for rpy2: filename=rpy2-3.4.2-cp38-cp38-linux_x86_64.whl size=289750 sha256=06a828361219ce27baff3754551fd86ebfd66b26ee67e4fafa197eeb1c172ea6\n",
            "  Stored in directory: /root/.cache/pip/wheels/1e/71/a3/7811e97007d6189777c751352c06f3de1a9997db9526cdabe0\n",
            "Successfully built rpy2\n",
            "Installing collected packages: rpy2\n",
            "Successfully installed rpy2-3.4.2\n"
          ]
        }
      ]
    },
    {
      "cell_type": "code",
      "source": [
        "%load_ext rpy2.ipython"
      ],
      "metadata": {
        "id": "mfHZAnyfCTwp"
      },
      "execution_count": null,
      "outputs": []
    },
    {
      "cell_type": "code",
      "source": [
        "%%R\n",
        "install.packages(c(\"arabicStemR\", \"tidytext\", \"gridExtra\", \"wordcloud2\", \"plotly\", \"reshape2\", \"kableExtra\", \"formattable\", \"fGarch\", \"fitdistrplus\"))"
      ],
      "metadata": {
        "id": "WvsYPCMNBoIQ",
        "colab": {
          "base_uri": "https://localhost:8080/"
        },
        "outputId": "9729ad4f-23de-470e-85d7-a542697ce4db"
      },
      "execution_count": null,
      "outputs": [
        {
          "output_type": "stream",
          "name": "stderr",
          "text": [
            "WARNING:rpy2.rinterface_lib.callbacks:R[write to console]: Installing packages into ‘/usr/local/lib/R/site-library’\n",
            "(as ‘lib’ is unspecified)\n",
            "\n",
            "WARNING:rpy2.rinterface_lib.callbacks:R[write to console]: also installing the dependencies ‘rbibutils’, ‘SnowballC’, ‘later’, ‘gss’, ‘stabledist’, ‘gbutils’, ‘Rdpack’, ‘janeaustenr’, ‘tokenizers’, ‘htmlwidgets’, ‘lazyeval’, ‘crosstalk’, ‘promises’, ‘plyr’, ‘Rcpp’, ‘webshot’, ‘fBasics’, ‘timeDate’, ‘timeSeries’, ‘fastICA’, ‘cvar’\n",
            "\n",
            "\n",
            "WARNING:rpy2.rinterface_lib.callbacks:R[write to console]: trying URL 'https://cran.rstudio.com/src/contrib/rbibutils_2.2.13.tar.gz'\n",
            "\n",
            "WARNING:rpy2.rinterface_lib.callbacks:R[write to console]: Content type 'application/x-gzip'\n",
            "WARNING:rpy2.rinterface_lib.callbacks:R[write to console]:  length 863751 bytes (843 KB)\n",
            "\n",
            "WARNING:rpy2.rinterface_lib.callbacks:R[write to console]: =\n",
            "WARNING:rpy2.rinterface_lib.callbacks:R[write to console]: =\n",
            "WARNING:rpy2.rinterface_lib.callbacks:R[write to console]: =\n",
            "WARNING:rpy2.rinterface_lib.callbacks:R[write to console]: =\n",
            "WARNING:rpy2.rinterface_lib.callbacks:R[write to console]: =\n",
            "WARNING:rpy2.rinterface_lib.callbacks:R[write to console]: =\n",
            "WARNING:rpy2.rinterface_lib.callbacks:R[write to console]: =\n",
            "WARNING:rpy2.rinterface_lib.callbacks:R[write to console]: =\n",
            "WARNING:rpy2.rinterface_lib.callbacks:R[write to console]: =\n",
            "WARNING:rpy2.rinterface_lib.callbacks:R[write to console]: =\n",
            "WARNING:rpy2.rinterface_lib.callbacks:R[write to console]: =\n",
            "WARNING:rpy2.rinterface_lib.callbacks:R[write to console]: =\n",
            "WARNING:rpy2.rinterface_lib.callbacks:R[write to console]: =\n",
            "WARNING:rpy2.rinterface_lib.callbacks:R[write to console]: =\n",
            "WARNING:rpy2.rinterface_lib.callbacks:R[write to console]: =\n",
            "WARNING:rpy2.rinterface_lib.callbacks:R[write to console]: =\n",
            "WARNING:rpy2.rinterface_lib.callbacks:R[write to console]: =\n",
            "WARNING:rpy2.rinterface_lib.callbacks:R[write to console]: =\n",
            "WARNING:rpy2.rinterface_lib.callbacks:R[write to console]: =\n",
            "WARNING:rpy2.rinterface_lib.callbacks:R[write to console]: =\n",
            "WARNING:rpy2.rinterface_lib.callbacks:R[write to console]: =\n",
            "WARNING:rpy2.rinterface_lib.callbacks:R[write to console]: =\n",
            "WARNING:rpy2.rinterface_lib.callbacks:R[write to console]: =\n",
            "WARNING:rpy2.rinterface_lib.callbacks:R[write to console]: =\n",
            "WARNING:rpy2.rinterface_lib.callbacks:R[write to console]: =\n",
            "WARNING:rpy2.rinterface_lib.callbacks:R[write to console]: =\n",
            "WARNING:rpy2.rinterface_lib.callbacks:R[write to console]: =\n",
            "WARNING:rpy2.rinterface_lib.callbacks:R[write to console]: =\n",
            "WARNING:rpy2.rinterface_lib.callbacks:R[write to console]: =\n",
            "WARNING:rpy2.rinterface_lib.callbacks:R[write to console]: =\n",
            "WARNING:rpy2.rinterface_lib.callbacks:R[write to console]: =\n",
            "WARNING:rpy2.rinterface_lib.callbacks:R[write to console]: =\n",
            "WARNING:rpy2.rinterface_lib.callbacks:R[write to console]: =\n",
            "WARNING:rpy2.rinterface_lib.callbacks:R[write to console]: =\n",
            "WARNING:rpy2.rinterface_lib.callbacks:R[write to console]: =\n",
            "WARNING:rpy2.rinterface_lib.callbacks:R[write to console]: =\n",
            "WARNING:rpy2.rinterface_lib.callbacks:R[write to console]: =\n",
            "WARNING:rpy2.rinterface_lib.callbacks:R[write to console]: =\n",
            "WARNING:rpy2.rinterface_lib.callbacks:R[write to console]: =\n",
            "WARNING:rpy2.rinterface_lib.callbacks:R[write to console]: =\n",
            "WARNING:rpy2.rinterface_lib.callbacks:R[write to console]: =\n",
            "WARNING:rpy2.rinterface_lib.callbacks:R[write to console]: =\n",
            "WARNING:rpy2.rinterface_lib.callbacks:R[write to console]: =\n",
            "WARNING:rpy2.rinterface_lib.callbacks:R[write to console]: =\n",
            "WARNING:rpy2.rinterface_lib.callbacks:R[write to console]: =\n",
            "WARNING:rpy2.rinterface_lib.callbacks:R[write to console]: =\n",
            "WARNING:rpy2.rinterface_lib.callbacks:R[write to console]: =\n",
            "WARNING:rpy2.rinterface_lib.callbacks:R[write to console]: =\n",
            "WARNING:rpy2.rinterface_lib.callbacks:R[write to console]: =\n",
            "WARNING:rpy2.rinterface_lib.callbacks:R[write to console]: =\n",
            "WARNING:rpy2.rinterface_lib.callbacks:R[write to console]: \n",
            "\n",
            "WARNING:rpy2.rinterface_lib.callbacks:R[write to console]: downloaded 843 KB\n",
            "\n",
            "\n",
            "WARNING:rpy2.rinterface_lib.callbacks:R[write to console]: trying URL 'https://cran.rstudio.com/src/contrib/SnowballC_0.7.0.tar.gz'\n",
            "\n",
            "WARNING:rpy2.rinterface_lib.callbacks:R[write to console]: Content type 'application/x-gzip'\n",
            "WARNING:rpy2.rinterface_lib.callbacks:R[write to console]:  length 405463 bytes (395 KB)\n",
            "\n",
            "WARNING:rpy2.rinterface_lib.callbacks:R[write to console]: =\n",
            "WARNING:rpy2.rinterface_lib.callbacks:R[write to console]: =\n",
            "WARNING:rpy2.rinterface_lib.callbacks:R[write to console]: =\n",
            "WARNING:rpy2.rinterface_lib.callbacks:R[write to console]: =\n",
            "WARNING:rpy2.rinterface_lib.callbacks:R[write to console]: =\n",
            "WARNING:rpy2.rinterface_lib.callbacks:R[write to console]: =\n",
            "WARNING:rpy2.rinterface_lib.callbacks:R[write to console]: =\n",
            "WARNING:rpy2.rinterface_lib.callbacks:R[write to console]: =\n",
            "WARNING:rpy2.rinterface_lib.callbacks:R[write to console]: =\n",
            "WARNING:rpy2.rinterface_lib.callbacks:R[write to console]: =\n",
            "WARNING:rpy2.rinterface_lib.callbacks:R[write to console]: =\n",
            "WARNING:rpy2.rinterface_lib.callbacks:R[write to console]: =\n",
            "WARNING:rpy2.rinterface_lib.callbacks:R[write to console]: =\n",
            "WARNING:rpy2.rinterface_lib.callbacks:R[write to console]: =\n",
            "WARNING:rpy2.rinterface_lib.callbacks:R[write to console]: =\n",
            "WARNING:rpy2.rinterface_lib.callbacks:R[write to console]: =\n",
            "WARNING:rpy2.rinterface_lib.callbacks:R[write to console]: =\n",
            "WARNING:rpy2.rinterface_lib.callbacks:R[write to console]: =\n",
            "WARNING:rpy2.rinterface_lib.callbacks:R[write to console]: =\n",
            "WARNING:rpy2.rinterface_lib.callbacks:R[write to console]: =\n",
            "WARNING:rpy2.rinterface_lib.callbacks:R[write to console]: =\n",
            "WARNING:rpy2.rinterface_lib.callbacks:R[write to console]: =\n",
            "WARNING:rpy2.rinterface_lib.callbacks:R[write to console]: =\n",
            "WARNING:rpy2.rinterface_lib.callbacks:R[write to console]: =\n",
            "WARNING:rpy2.rinterface_lib.callbacks:R[write to console]: =\n",
            "WARNING:rpy2.rinterface_lib.callbacks:R[write to console]: =\n",
            "WARNING:rpy2.rinterface_lib.callbacks:R[write to console]: =\n",
            "WARNING:rpy2.rinterface_lib.callbacks:R[write to console]: =\n",
            "WARNING:rpy2.rinterface_lib.callbacks:R[write to console]: =\n",
            "WARNING:rpy2.rinterface_lib.callbacks:R[write to console]: =\n",
            "WARNING:rpy2.rinterface_lib.callbacks:R[write to console]: =\n",
            "WARNING:rpy2.rinterface_lib.callbacks:R[write to console]: =\n",
            "WARNING:rpy2.rinterface_lib.callbacks:R[write to console]: =\n",
            "WARNING:rpy2.rinterface_lib.callbacks:R[write to console]: =\n",
            "WARNING:rpy2.rinterface_lib.callbacks:R[write to console]: =\n",
            "WARNING:rpy2.rinterface_lib.callbacks:R[write to console]: =\n",
            "WARNING:rpy2.rinterface_lib.callbacks:R[write to console]: =\n",
            "WARNING:rpy2.rinterface_lib.callbacks:R[write to console]: =\n",
            "WARNING:rpy2.rinterface_lib.callbacks:R[write to console]: =\n",
            "WARNING:rpy2.rinterface_lib.callbacks:R[write to console]: =\n",
            "WARNING:rpy2.rinterface_lib.callbacks:R[write to console]: =\n",
            "WARNING:rpy2.rinterface_lib.callbacks:R[write to console]: =\n",
            "WARNING:rpy2.rinterface_lib.callbacks:R[write to console]: =\n",
            "WARNING:rpy2.rinterface_lib.callbacks:R[write to console]: =\n",
            "WARNING:rpy2.rinterface_lib.callbacks:R[write to console]: =\n",
            "WARNING:rpy2.rinterface_lib.callbacks:R[write to console]: =\n",
            "WARNING:rpy2.rinterface_lib.callbacks:R[write to console]: =\n",
            "WARNING:rpy2.rinterface_lib.callbacks:R[write to console]: =\n",
            "WARNING:rpy2.rinterface_lib.callbacks:R[write to console]: =\n",
            "WARNING:rpy2.rinterface_lib.callbacks:R[write to console]: =\n",
            "WARNING:rpy2.rinterface_lib.callbacks:R[write to console]: \n",
            "\n",
            "WARNING:rpy2.rinterface_lib.callbacks:R[write to console]: downloaded 395 KB\n",
            "\n",
            "\n",
            "WARNING:rpy2.rinterface_lib.callbacks:R[write to console]: trying URL 'https://cran.rstudio.com/src/contrib/later_1.3.0.tar.gz'\n",
            "\n",
            "WARNING:rpy2.rinterface_lib.callbacks:R[write to console]: Content type 'application/x-gzip'\n",
            "WARNING:rpy2.rinterface_lib.callbacks:R[write to console]:  length 63785 bytes (62 KB)\n",
            "\n",
            "WARNING:rpy2.rinterface_lib.callbacks:R[write to console]: =\n",
            "WARNING:rpy2.rinterface_lib.callbacks:R[write to console]: =\n",
            "WARNING:rpy2.rinterface_lib.callbacks:R[write to console]: =\n",
            "WARNING:rpy2.rinterface_lib.callbacks:R[write to console]: =\n",
            "WARNING:rpy2.rinterface_lib.callbacks:R[write to console]: =\n",
            "WARNING:rpy2.rinterface_lib.callbacks:R[write to console]: =\n",
            "WARNING:rpy2.rinterface_lib.callbacks:R[write to console]: =\n",
            "WARNING:rpy2.rinterface_lib.callbacks:R[write to console]: =\n",
            "WARNING:rpy2.rinterface_lib.callbacks:R[write to console]: =\n",
            "WARNING:rpy2.rinterface_lib.callbacks:R[write to console]: =\n",
            "WARNING:rpy2.rinterface_lib.callbacks:R[write to console]: =\n",
            "WARNING:rpy2.rinterface_lib.callbacks:R[write to console]: =\n",
            "WARNING:rpy2.rinterface_lib.callbacks:R[write to console]: =\n",
            "WARNING:rpy2.rinterface_lib.callbacks:R[write to console]: =\n",
            "WARNING:rpy2.rinterface_lib.callbacks:R[write to console]: =\n",
            "WARNING:rpy2.rinterface_lib.callbacks:R[write to console]: =\n",
            "WARNING:rpy2.rinterface_lib.callbacks:R[write to console]: =\n",
            "WARNING:rpy2.rinterface_lib.callbacks:R[write to console]: =\n",
            "WARNING:rpy2.rinterface_lib.callbacks:R[write to console]: =\n",
            "WARNING:rpy2.rinterface_lib.callbacks:R[write to console]: =\n",
            "WARNING:rpy2.rinterface_lib.callbacks:R[write to console]: =\n",
            "WARNING:rpy2.rinterface_lib.callbacks:R[write to console]: =\n",
            "WARNING:rpy2.rinterface_lib.callbacks:R[write to console]: =\n",
            "WARNING:rpy2.rinterface_lib.callbacks:R[write to console]: =\n",
            "WARNING:rpy2.rinterface_lib.callbacks:R[write to console]: =\n",
            "WARNING:rpy2.rinterface_lib.callbacks:R[write to console]: =\n",
            "WARNING:rpy2.rinterface_lib.callbacks:R[write to console]: =\n",
            "WARNING:rpy2.rinterface_lib.callbacks:R[write to console]: =\n",
            "WARNING:rpy2.rinterface_lib.callbacks:R[write to console]: =\n",
            "WARNING:rpy2.rinterface_lib.callbacks:R[write to console]: =\n",
            "WARNING:rpy2.rinterface_lib.callbacks:R[write to console]: =\n",
            "WARNING:rpy2.rinterface_lib.callbacks:R[write to console]: =\n",
            "WARNING:rpy2.rinterface_lib.callbacks:R[write to console]: =\n",
            "WARNING:rpy2.rinterface_lib.callbacks:R[write to console]: =\n",
            "WARNING:rpy2.rinterface_lib.callbacks:R[write to console]: =\n",
            "WARNING:rpy2.rinterface_lib.callbacks:R[write to console]: =\n",
            "WARNING:rpy2.rinterface_lib.callbacks:R[write to console]: =\n",
            "WARNING:rpy2.rinterface_lib.callbacks:R[write to console]: =\n",
            "WARNING:rpy2.rinterface_lib.callbacks:R[write to console]: =\n",
            "WARNING:rpy2.rinterface_lib.callbacks:R[write to console]: =\n",
            "WARNING:rpy2.rinterface_lib.callbacks:R[write to console]: =\n",
            "WARNING:rpy2.rinterface_lib.callbacks:R[write to console]: =\n",
            "WARNING:rpy2.rinterface_lib.callbacks:R[write to console]: =\n",
            "WARNING:rpy2.rinterface_lib.callbacks:R[write to console]: =\n",
            "WARNING:rpy2.rinterface_lib.callbacks:R[write to console]: =\n",
            "WARNING:rpy2.rinterface_lib.callbacks:R[write to console]: =\n",
            "WARNING:rpy2.rinterface_lib.callbacks:R[write to console]: =\n",
            "WARNING:rpy2.rinterface_lib.callbacks:R[write to console]: =\n",
            "WARNING:rpy2.rinterface_lib.callbacks:R[write to console]: =\n",
            "WARNING:rpy2.rinterface_lib.callbacks:R[write to console]: =\n",
            "WARNING:rpy2.rinterface_lib.callbacks:R[write to console]: \n",
            "\n",
            "WARNING:rpy2.rinterface_lib.callbacks:R[write to console]: downloaded 62 KB\n",
            "\n",
            "\n",
            "WARNING:rpy2.rinterface_lib.callbacks:R[write to console]: trying URL 'https://cran.rstudio.com/src/contrib/gss_2.2-3.tar.gz'\n",
            "\n",
            "WARNING:rpy2.rinterface_lib.callbacks:R[write to console]: Content type 'application/x-gzip'\n",
            "WARNING:rpy2.rinterface_lib.callbacks:R[write to console]:  length 544127 bytes (531 KB)\n",
            "\n",
            "WARNING:rpy2.rinterface_lib.callbacks:R[write to console]: =\n",
            "WARNING:rpy2.rinterface_lib.callbacks:R[write to console]: =\n",
            "WARNING:rpy2.rinterface_lib.callbacks:R[write to console]: =\n",
            "WARNING:rpy2.rinterface_lib.callbacks:R[write to console]: =\n",
            "WARNING:rpy2.rinterface_lib.callbacks:R[write to console]: =\n",
            "WARNING:rpy2.rinterface_lib.callbacks:R[write to console]: =\n",
            "WARNING:rpy2.rinterface_lib.callbacks:R[write to console]: =\n",
            "WARNING:rpy2.rinterface_lib.callbacks:R[write to console]: =\n",
            "WARNING:rpy2.rinterface_lib.callbacks:R[write to console]: =\n",
            "WARNING:rpy2.rinterface_lib.callbacks:R[write to console]: =\n",
            "WARNING:rpy2.rinterface_lib.callbacks:R[write to console]: =\n",
            "WARNING:rpy2.rinterface_lib.callbacks:R[write to console]: =\n",
            "WARNING:rpy2.rinterface_lib.callbacks:R[write to console]: =\n",
            "WARNING:rpy2.rinterface_lib.callbacks:R[write to console]: =\n",
            "WARNING:rpy2.rinterface_lib.callbacks:R[write to console]: =\n",
            "WARNING:rpy2.rinterface_lib.callbacks:R[write to console]: =\n",
            "WARNING:rpy2.rinterface_lib.callbacks:R[write to console]: =\n",
            "WARNING:rpy2.rinterface_lib.callbacks:R[write to console]: =\n",
            "WARNING:rpy2.rinterface_lib.callbacks:R[write to console]: =\n",
            "WARNING:rpy2.rinterface_lib.callbacks:R[write to console]: =\n",
            "WARNING:rpy2.rinterface_lib.callbacks:R[write to console]: =\n",
            "WARNING:rpy2.rinterface_lib.callbacks:R[write to console]: =\n",
            "WARNING:rpy2.rinterface_lib.callbacks:R[write to console]: =\n",
            "WARNING:rpy2.rinterface_lib.callbacks:R[write to console]: =\n",
            "WARNING:rpy2.rinterface_lib.callbacks:R[write to console]: =\n",
            "WARNING:rpy2.rinterface_lib.callbacks:R[write to console]: =\n",
            "WARNING:rpy2.rinterface_lib.callbacks:R[write to console]: =\n",
            "WARNING:rpy2.rinterface_lib.callbacks:R[write to console]: =\n",
            "WARNING:rpy2.rinterface_lib.callbacks:R[write to console]: =\n",
            "WARNING:rpy2.rinterface_lib.callbacks:R[write to console]: =\n",
            "WARNING:rpy2.rinterface_lib.callbacks:R[write to console]: =\n",
            "WARNING:rpy2.rinterface_lib.callbacks:R[write to console]: =\n",
            "WARNING:rpy2.rinterface_lib.callbacks:R[write to console]: =\n",
            "WARNING:rpy2.rinterface_lib.callbacks:R[write to console]: =\n",
            "WARNING:rpy2.rinterface_lib.callbacks:R[write to console]: =\n",
            "WARNING:rpy2.rinterface_lib.callbacks:R[write to console]: =\n",
            "WARNING:rpy2.rinterface_lib.callbacks:R[write to console]: =\n",
            "WARNING:rpy2.rinterface_lib.callbacks:R[write to console]: =\n",
            "WARNING:rpy2.rinterface_lib.callbacks:R[write to console]: =\n",
            "WARNING:rpy2.rinterface_lib.callbacks:R[write to console]: =\n",
            "WARNING:rpy2.rinterface_lib.callbacks:R[write to console]: =\n",
            "WARNING:rpy2.rinterface_lib.callbacks:R[write to console]: =\n",
            "WARNING:rpy2.rinterface_lib.callbacks:R[write to console]: =\n",
            "WARNING:rpy2.rinterface_lib.callbacks:R[write to console]: =\n",
            "WARNING:rpy2.rinterface_lib.callbacks:R[write to console]: =\n",
            "WARNING:rpy2.rinterface_lib.callbacks:R[write to console]: =\n",
            "WARNING:rpy2.rinterface_lib.callbacks:R[write to console]: =\n",
            "WARNING:rpy2.rinterface_lib.callbacks:R[write to console]: =\n",
            "WARNING:rpy2.rinterface_lib.callbacks:R[write to console]: =\n",
            "WARNING:rpy2.rinterface_lib.callbacks:R[write to console]: =\n",
            "WARNING:rpy2.rinterface_lib.callbacks:R[write to console]: \n",
            "\n",
            "WARNING:rpy2.rinterface_lib.callbacks:R[write to console]: downloaded 531 KB\n",
            "\n",
            "\n",
            "WARNING:rpy2.rinterface_lib.callbacks:R[write to console]: trying URL 'https://cran.rstudio.com/src/contrib/stabledist_0.7-1.tar.gz'\n",
            "\n",
            "WARNING:rpy2.rinterface_lib.callbacks:R[write to console]: Content type 'application/x-gzip'\n",
            "WARNING:rpy2.rinterface_lib.callbacks:R[write to console]:  length 31963 bytes (31 KB)\n",
            "\n",
            "WARNING:rpy2.rinterface_lib.callbacks:R[write to console]: =\n",
            "WARNING:rpy2.rinterface_lib.callbacks:R[write to console]: =\n",
            "WARNING:rpy2.rinterface_lib.callbacks:R[write to console]: =\n",
            "WARNING:rpy2.rinterface_lib.callbacks:R[write to console]: =\n",
            "WARNING:rpy2.rinterface_lib.callbacks:R[write to console]: =\n",
            "WARNING:rpy2.rinterface_lib.callbacks:R[write to console]: =\n",
            "WARNING:rpy2.rinterface_lib.callbacks:R[write to console]: =\n",
            "WARNING:rpy2.rinterface_lib.callbacks:R[write to console]: =\n",
            "WARNING:rpy2.rinterface_lib.callbacks:R[write to console]: =\n",
            "WARNING:rpy2.rinterface_lib.callbacks:R[write to console]: =\n",
            "WARNING:rpy2.rinterface_lib.callbacks:R[write to console]: =\n",
            "WARNING:rpy2.rinterface_lib.callbacks:R[write to console]: =\n",
            "WARNING:rpy2.rinterface_lib.callbacks:R[write to console]: =\n",
            "WARNING:rpy2.rinterface_lib.callbacks:R[write to console]: =\n",
            "WARNING:rpy2.rinterface_lib.callbacks:R[write to console]: =\n",
            "WARNING:rpy2.rinterface_lib.callbacks:R[write to console]: =\n",
            "WARNING:rpy2.rinterface_lib.callbacks:R[write to console]: =\n",
            "WARNING:rpy2.rinterface_lib.callbacks:R[write to console]: =\n",
            "WARNING:rpy2.rinterface_lib.callbacks:R[write to console]: =\n",
            "WARNING:rpy2.rinterface_lib.callbacks:R[write to console]: =\n",
            "WARNING:rpy2.rinterface_lib.callbacks:R[write to console]: =\n",
            "WARNING:rpy2.rinterface_lib.callbacks:R[write to console]: =\n",
            "WARNING:rpy2.rinterface_lib.callbacks:R[write to console]: =\n",
            "WARNING:rpy2.rinterface_lib.callbacks:R[write to console]: =\n",
            "WARNING:rpy2.rinterface_lib.callbacks:R[write to console]: =\n",
            "WARNING:rpy2.rinterface_lib.callbacks:R[write to console]: =\n",
            "WARNING:rpy2.rinterface_lib.callbacks:R[write to console]: =\n",
            "WARNING:rpy2.rinterface_lib.callbacks:R[write to console]: =\n",
            "WARNING:rpy2.rinterface_lib.callbacks:R[write to console]: =\n",
            "WARNING:rpy2.rinterface_lib.callbacks:R[write to console]: =\n",
            "WARNING:rpy2.rinterface_lib.callbacks:R[write to console]: =\n",
            "WARNING:rpy2.rinterface_lib.callbacks:R[write to console]: =\n",
            "WARNING:rpy2.rinterface_lib.callbacks:R[write to console]: =\n",
            "WARNING:rpy2.rinterface_lib.callbacks:R[write to console]: =\n",
            "WARNING:rpy2.rinterface_lib.callbacks:R[write to console]: =\n",
            "WARNING:rpy2.rinterface_lib.callbacks:R[write to console]: =\n",
            "WARNING:rpy2.rinterface_lib.callbacks:R[write to console]: =\n",
            "WARNING:rpy2.rinterface_lib.callbacks:R[write to console]: =\n",
            "WARNING:rpy2.rinterface_lib.callbacks:R[write to console]: =\n",
            "WARNING:rpy2.rinterface_lib.callbacks:R[write to console]: =\n",
            "WARNING:rpy2.rinterface_lib.callbacks:R[write to console]: =\n",
            "WARNING:rpy2.rinterface_lib.callbacks:R[write to console]: =\n",
            "WARNING:rpy2.rinterface_lib.callbacks:R[write to console]: =\n",
            "WARNING:rpy2.rinterface_lib.callbacks:R[write to console]: =\n",
            "WARNING:rpy2.rinterface_lib.callbacks:R[write to console]: =\n",
            "WARNING:rpy2.rinterface_lib.callbacks:R[write to console]: =\n",
            "WARNING:rpy2.rinterface_lib.callbacks:R[write to console]: =\n",
            "WARNING:rpy2.rinterface_lib.callbacks:R[write to console]: =\n",
            "WARNING:rpy2.rinterface_lib.callbacks:R[write to console]: =\n",
            "WARNING:rpy2.rinterface_lib.callbacks:R[write to console]: =\n",
            "WARNING:rpy2.rinterface_lib.callbacks:R[write to console]: \n",
            "\n",
            "WARNING:rpy2.rinterface_lib.callbacks:R[write to console]: downloaded 31 KB\n",
            "\n",
            "\n",
            "WARNING:rpy2.rinterface_lib.callbacks:R[write to console]: trying URL 'https://cran.rstudio.com/src/contrib/gbutils_0.5.tar.gz'\n",
            "\n",
            "WARNING:rpy2.rinterface_lib.callbacks:R[write to console]: Content type 'application/x-gzip'\n",
            "WARNING:rpy2.rinterface_lib.callbacks:R[write to console]:  length 110921 bytes (108 KB)\n",
            "\n",
            "WARNING:rpy2.rinterface_lib.callbacks:R[write to console]: =\n",
            "WARNING:rpy2.rinterface_lib.callbacks:R[write to console]: =\n",
            "WARNING:rpy2.rinterface_lib.callbacks:R[write to console]: =\n",
            "WARNING:rpy2.rinterface_lib.callbacks:R[write to console]: =\n",
            "WARNING:rpy2.rinterface_lib.callbacks:R[write to console]: =\n",
            "WARNING:rpy2.rinterface_lib.callbacks:R[write to console]: =\n",
            "WARNING:rpy2.rinterface_lib.callbacks:R[write to console]: =\n",
            "WARNING:rpy2.rinterface_lib.callbacks:R[write to console]: =\n",
            "WARNING:rpy2.rinterface_lib.callbacks:R[write to console]: =\n",
            "WARNING:rpy2.rinterface_lib.callbacks:R[write to console]: =\n",
            "WARNING:rpy2.rinterface_lib.callbacks:R[write to console]: =\n",
            "WARNING:rpy2.rinterface_lib.callbacks:R[write to console]: =\n",
            "WARNING:rpy2.rinterface_lib.callbacks:R[write to console]: =\n",
            "WARNING:rpy2.rinterface_lib.callbacks:R[write to console]: =\n",
            "WARNING:rpy2.rinterface_lib.callbacks:R[write to console]: =\n",
            "WARNING:rpy2.rinterface_lib.callbacks:R[write to console]: =\n",
            "WARNING:rpy2.rinterface_lib.callbacks:R[write to console]: =\n",
            "WARNING:rpy2.rinterface_lib.callbacks:R[write to console]: =\n",
            "WARNING:rpy2.rinterface_lib.callbacks:R[write to console]: =\n",
            "WARNING:rpy2.rinterface_lib.callbacks:R[write to console]: =\n",
            "WARNING:rpy2.rinterface_lib.callbacks:R[write to console]: =\n",
            "WARNING:rpy2.rinterface_lib.callbacks:R[write to console]: =\n",
            "WARNING:rpy2.rinterface_lib.callbacks:R[write to console]: =\n",
            "WARNING:rpy2.rinterface_lib.callbacks:R[write to console]: =\n",
            "WARNING:rpy2.rinterface_lib.callbacks:R[write to console]: =\n",
            "WARNING:rpy2.rinterface_lib.callbacks:R[write to console]: =\n",
            "WARNING:rpy2.rinterface_lib.callbacks:R[write to console]: =\n",
            "WARNING:rpy2.rinterface_lib.callbacks:R[write to console]: =\n",
            "WARNING:rpy2.rinterface_lib.callbacks:R[write to console]: =\n",
            "WARNING:rpy2.rinterface_lib.callbacks:R[write to console]: =\n",
            "WARNING:rpy2.rinterface_lib.callbacks:R[write to console]: =\n",
            "WARNING:rpy2.rinterface_lib.callbacks:R[write to console]: =\n",
            "WARNING:rpy2.rinterface_lib.callbacks:R[write to console]: =\n",
            "WARNING:rpy2.rinterface_lib.callbacks:R[write to console]: =\n",
            "WARNING:rpy2.rinterface_lib.callbacks:R[write to console]: =\n",
            "WARNING:rpy2.rinterface_lib.callbacks:R[write to console]: =\n",
            "WARNING:rpy2.rinterface_lib.callbacks:R[write to console]: =\n",
            "WARNING:rpy2.rinterface_lib.callbacks:R[write to console]: =\n",
            "WARNING:rpy2.rinterface_lib.callbacks:R[write to console]: =\n",
            "WARNING:rpy2.rinterface_lib.callbacks:R[write to console]: =\n",
            "WARNING:rpy2.rinterface_lib.callbacks:R[write to console]: =\n",
            "WARNING:rpy2.rinterface_lib.callbacks:R[write to console]: =\n",
            "WARNING:rpy2.rinterface_lib.callbacks:R[write to console]: =\n",
            "WARNING:rpy2.rinterface_lib.callbacks:R[write to console]: =\n",
            "WARNING:rpy2.rinterface_lib.callbacks:R[write to console]: =\n",
            "WARNING:rpy2.rinterface_lib.callbacks:R[write to console]: =\n",
            "WARNING:rpy2.rinterface_lib.callbacks:R[write to console]: =\n",
            "WARNING:rpy2.rinterface_lib.callbacks:R[write to console]: =\n",
            "WARNING:rpy2.rinterface_lib.callbacks:R[write to console]: =\n",
            "WARNING:rpy2.rinterface_lib.callbacks:R[write to console]: =\n",
            "WARNING:rpy2.rinterface_lib.callbacks:R[write to console]: \n",
            "\n",
            "WARNING:rpy2.rinterface_lib.callbacks:R[write to console]: downloaded 108 KB\n",
            "\n",
            "\n",
            "WARNING:rpy2.rinterface_lib.callbacks:R[write to console]: trying URL 'https://cran.rstudio.com/src/contrib/Rdpack_2.4.tar.gz'\n",
            "\n",
            "WARNING:rpy2.rinterface_lib.callbacks:R[write to console]: Content type 'application/x-gzip'\n",
            "WARNING:rpy2.rinterface_lib.callbacks:R[write to console]:  length 707773 bytes (691 KB)\n",
            "\n",
            "WARNING:rpy2.rinterface_lib.callbacks:R[write to console]: =\n",
            "WARNING:rpy2.rinterface_lib.callbacks:R[write to console]: =\n",
            "WARNING:rpy2.rinterface_lib.callbacks:R[write to console]: =\n",
            "WARNING:rpy2.rinterface_lib.callbacks:R[write to console]: =\n",
            "WARNING:rpy2.rinterface_lib.callbacks:R[write to console]: =\n",
            "WARNING:rpy2.rinterface_lib.callbacks:R[write to console]: =\n",
            "WARNING:rpy2.rinterface_lib.callbacks:R[write to console]: =\n",
            "WARNING:rpy2.rinterface_lib.callbacks:R[write to console]: =\n",
            "WARNING:rpy2.rinterface_lib.callbacks:R[write to console]: =\n",
            "WARNING:rpy2.rinterface_lib.callbacks:R[write to console]: =\n",
            "WARNING:rpy2.rinterface_lib.callbacks:R[write to console]: =\n",
            "WARNING:rpy2.rinterface_lib.callbacks:R[write to console]: =\n",
            "WARNING:rpy2.rinterface_lib.callbacks:R[write to console]: =\n",
            "WARNING:rpy2.rinterface_lib.callbacks:R[write to console]: =\n",
            "WARNING:rpy2.rinterface_lib.callbacks:R[write to console]: =\n",
            "WARNING:rpy2.rinterface_lib.callbacks:R[write to console]: =\n",
            "WARNING:rpy2.rinterface_lib.callbacks:R[write to console]: =\n",
            "WARNING:rpy2.rinterface_lib.callbacks:R[write to console]: =\n",
            "WARNING:rpy2.rinterface_lib.callbacks:R[write to console]: =\n",
            "WARNING:rpy2.rinterface_lib.callbacks:R[write to console]: =\n",
            "WARNING:rpy2.rinterface_lib.callbacks:R[write to console]: =\n",
            "WARNING:rpy2.rinterface_lib.callbacks:R[write to console]: =\n",
            "WARNING:rpy2.rinterface_lib.callbacks:R[write to console]: =\n",
            "WARNING:rpy2.rinterface_lib.callbacks:R[write to console]: =\n",
            "WARNING:rpy2.rinterface_lib.callbacks:R[write to console]: =\n",
            "WARNING:rpy2.rinterface_lib.callbacks:R[write to console]: =\n",
            "WARNING:rpy2.rinterface_lib.callbacks:R[write to console]: =\n",
            "WARNING:rpy2.rinterface_lib.callbacks:R[write to console]: =\n",
            "WARNING:rpy2.rinterface_lib.callbacks:R[write to console]: =\n",
            "WARNING:rpy2.rinterface_lib.callbacks:R[write to console]: =\n",
            "WARNING:rpy2.rinterface_lib.callbacks:R[write to console]: =\n",
            "WARNING:rpy2.rinterface_lib.callbacks:R[write to console]: =\n",
            "WARNING:rpy2.rinterface_lib.callbacks:R[write to console]: =\n",
            "WARNING:rpy2.rinterface_lib.callbacks:R[write to console]: =\n",
            "WARNING:rpy2.rinterface_lib.callbacks:R[write to console]: =\n",
            "WARNING:rpy2.rinterface_lib.callbacks:R[write to console]: =\n",
            "WARNING:rpy2.rinterface_lib.callbacks:R[write to console]: =\n",
            "WARNING:rpy2.rinterface_lib.callbacks:R[write to console]: =\n",
            "WARNING:rpy2.rinterface_lib.callbacks:R[write to console]: =\n",
            "WARNING:rpy2.rinterface_lib.callbacks:R[write to console]: =\n",
            "WARNING:rpy2.rinterface_lib.callbacks:R[write to console]: =\n",
            "WARNING:rpy2.rinterface_lib.callbacks:R[write to console]: =\n",
            "WARNING:rpy2.rinterface_lib.callbacks:R[write to console]: =\n",
            "WARNING:rpy2.rinterface_lib.callbacks:R[write to console]: =\n",
            "WARNING:rpy2.rinterface_lib.callbacks:R[write to console]: =\n",
            "WARNING:rpy2.rinterface_lib.callbacks:R[write to console]: =\n",
            "WARNING:rpy2.rinterface_lib.callbacks:R[write to console]: =\n",
            "WARNING:rpy2.rinterface_lib.callbacks:R[write to console]: =\n",
            "WARNING:rpy2.rinterface_lib.callbacks:R[write to console]: =\n",
            "WARNING:rpy2.rinterface_lib.callbacks:R[write to console]: =\n",
            "WARNING:rpy2.rinterface_lib.callbacks:R[write to console]: \n",
            "\n",
            "WARNING:rpy2.rinterface_lib.callbacks:R[write to console]: downloaded 691 KB\n",
            "\n",
            "\n",
            "WARNING:rpy2.rinterface_lib.callbacks:R[write to console]: trying URL 'https://cran.rstudio.com/src/contrib/janeaustenr_1.0.0.tar.gz'\n",
            "\n",
            "WARNING:rpy2.rinterface_lib.callbacks:R[write to console]: Content type 'application/x-gzip'\n",
            "WARNING:rpy2.rinterface_lib.callbacks:R[write to console]:  length 1174356 bytes (1.1 MB)\n",
            "\n",
            "WARNING:rpy2.rinterface_lib.callbacks:R[write to console]: =\n",
            "WARNING:rpy2.rinterface_lib.callbacks:R[write to console]: =\n",
            "WARNING:rpy2.rinterface_lib.callbacks:R[write to console]: =\n",
            "WARNING:rpy2.rinterface_lib.callbacks:R[write to console]: =\n",
            "WARNING:rpy2.rinterface_lib.callbacks:R[write to console]: =\n",
            "WARNING:rpy2.rinterface_lib.callbacks:R[write to console]: =\n",
            "WARNING:rpy2.rinterface_lib.callbacks:R[write to console]: =\n",
            "WARNING:rpy2.rinterface_lib.callbacks:R[write to console]: =\n",
            "WARNING:rpy2.rinterface_lib.callbacks:R[write to console]: =\n",
            "WARNING:rpy2.rinterface_lib.callbacks:R[write to console]: =\n",
            "WARNING:rpy2.rinterface_lib.callbacks:R[write to console]: =\n",
            "WARNING:rpy2.rinterface_lib.callbacks:R[write to console]: =\n",
            "WARNING:rpy2.rinterface_lib.callbacks:R[write to console]: =\n",
            "WARNING:rpy2.rinterface_lib.callbacks:R[write to console]: =\n",
            "WARNING:rpy2.rinterface_lib.callbacks:R[write to console]: =\n",
            "WARNING:rpy2.rinterface_lib.callbacks:R[write to console]: =\n",
            "WARNING:rpy2.rinterface_lib.callbacks:R[write to console]: =\n",
            "WARNING:rpy2.rinterface_lib.callbacks:R[write to console]: =\n",
            "WARNING:rpy2.rinterface_lib.callbacks:R[write to console]: =\n",
            "WARNING:rpy2.rinterface_lib.callbacks:R[write to console]: =\n",
            "WARNING:rpy2.rinterface_lib.callbacks:R[write to console]: =\n",
            "WARNING:rpy2.rinterface_lib.callbacks:R[write to console]: =\n",
            "WARNING:rpy2.rinterface_lib.callbacks:R[write to console]: =\n",
            "WARNING:rpy2.rinterface_lib.callbacks:R[write to console]: =\n",
            "WARNING:rpy2.rinterface_lib.callbacks:R[write to console]: =\n",
            "WARNING:rpy2.rinterface_lib.callbacks:R[write to console]: =\n",
            "WARNING:rpy2.rinterface_lib.callbacks:R[write to console]: =\n",
            "WARNING:rpy2.rinterface_lib.callbacks:R[write to console]: =\n",
            "WARNING:rpy2.rinterface_lib.callbacks:R[write to console]: =\n",
            "WARNING:rpy2.rinterface_lib.callbacks:R[write to console]: =\n",
            "WARNING:rpy2.rinterface_lib.callbacks:R[write to console]: =\n",
            "WARNING:rpy2.rinterface_lib.callbacks:R[write to console]: =\n",
            "WARNING:rpy2.rinterface_lib.callbacks:R[write to console]: =\n",
            "WARNING:rpy2.rinterface_lib.callbacks:R[write to console]: =\n",
            "WARNING:rpy2.rinterface_lib.callbacks:R[write to console]: =\n",
            "WARNING:rpy2.rinterface_lib.callbacks:R[write to console]: =\n",
            "WARNING:rpy2.rinterface_lib.callbacks:R[write to console]: =\n",
            "WARNING:rpy2.rinterface_lib.callbacks:R[write to console]: =\n",
            "WARNING:rpy2.rinterface_lib.callbacks:R[write to console]: =\n",
            "WARNING:rpy2.rinterface_lib.callbacks:R[write to console]: =\n",
            "WARNING:rpy2.rinterface_lib.callbacks:R[write to console]: =\n",
            "WARNING:rpy2.rinterface_lib.callbacks:R[write to console]: =\n",
            "WARNING:rpy2.rinterface_lib.callbacks:R[write to console]: =\n",
            "WARNING:rpy2.rinterface_lib.callbacks:R[write to console]: =\n",
            "WARNING:rpy2.rinterface_lib.callbacks:R[write to console]: =\n",
            "WARNING:rpy2.rinterface_lib.callbacks:R[write to console]: =\n",
            "WARNING:rpy2.rinterface_lib.callbacks:R[write to console]: =\n",
            "WARNING:rpy2.rinterface_lib.callbacks:R[write to console]: =\n",
            "WARNING:rpy2.rinterface_lib.callbacks:R[write to console]: =\n",
            "WARNING:rpy2.rinterface_lib.callbacks:R[write to console]: =\n",
            "WARNING:rpy2.rinterface_lib.callbacks:R[write to console]: \n",
            "\n",
            "WARNING:rpy2.rinterface_lib.callbacks:R[write to console]: downloaded 1.1 MB\n",
            "\n",
            "\n",
            "WARNING:rpy2.rinterface_lib.callbacks:R[write to console]: trying URL 'https://cran.rstudio.com/src/contrib/tokenizers_0.3.0.tar.gz'\n",
            "\n",
            "WARNING:rpy2.rinterface_lib.callbacks:R[write to console]: Content type 'application/x-gzip'\n",
            "WARNING:rpy2.rinterface_lib.callbacks:R[write to console]:  length 458876 bytes (448 KB)\n",
            "\n",
            "WARNING:rpy2.rinterface_lib.callbacks:R[write to console]: =\n",
            "WARNING:rpy2.rinterface_lib.callbacks:R[write to console]: =\n",
            "WARNING:rpy2.rinterface_lib.callbacks:R[write to console]: =\n",
            "WARNING:rpy2.rinterface_lib.callbacks:R[write to console]: =\n",
            "WARNING:rpy2.rinterface_lib.callbacks:R[write to console]: =\n",
            "WARNING:rpy2.rinterface_lib.callbacks:R[write to console]: =\n",
            "WARNING:rpy2.rinterface_lib.callbacks:R[write to console]: =\n",
            "WARNING:rpy2.rinterface_lib.callbacks:R[write to console]: =\n",
            "WARNING:rpy2.rinterface_lib.callbacks:R[write to console]: =\n",
            "WARNING:rpy2.rinterface_lib.callbacks:R[write to console]: =\n",
            "WARNING:rpy2.rinterface_lib.callbacks:R[write to console]: =\n",
            "WARNING:rpy2.rinterface_lib.callbacks:R[write to console]: =\n",
            "WARNING:rpy2.rinterface_lib.callbacks:R[write to console]: =\n",
            "WARNING:rpy2.rinterface_lib.callbacks:R[write to console]: =\n",
            "WARNING:rpy2.rinterface_lib.callbacks:R[write to console]: =\n",
            "WARNING:rpy2.rinterface_lib.callbacks:R[write to console]: =\n",
            "WARNING:rpy2.rinterface_lib.callbacks:R[write to console]: =\n",
            "WARNING:rpy2.rinterface_lib.callbacks:R[write to console]: =\n",
            "WARNING:rpy2.rinterface_lib.callbacks:R[write to console]: =\n",
            "WARNING:rpy2.rinterface_lib.callbacks:R[write to console]: =\n",
            "WARNING:rpy2.rinterface_lib.callbacks:R[write to console]: =\n",
            "WARNING:rpy2.rinterface_lib.callbacks:R[write to console]: =\n",
            "WARNING:rpy2.rinterface_lib.callbacks:R[write to console]: =\n",
            "WARNING:rpy2.rinterface_lib.callbacks:R[write to console]: =\n",
            "WARNING:rpy2.rinterface_lib.callbacks:R[write to console]: =\n",
            "WARNING:rpy2.rinterface_lib.callbacks:R[write to console]: =\n",
            "WARNING:rpy2.rinterface_lib.callbacks:R[write to console]: =\n",
            "WARNING:rpy2.rinterface_lib.callbacks:R[write to console]: =\n",
            "WARNING:rpy2.rinterface_lib.callbacks:R[write to console]: =\n",
            "WARNING:rpy2.rinterface_lib.callbacks:R[write to console]: =\n",
            "WARNING:rpy2.rinterface_lib.callbacks:R[write to console]: =\n",
            "WARNING:rpy2.rinterface_lib.callbacks:R[write to console]: =\n",
            "WARNING:rpy2.rinterface_lib.callbacks:R[write to console]: =\n",
            "WARNING:rpy2.rinterface_lib.callbacks:R[write to console]: =\n",
            "WARNING:rpy2.rinterface_lib.callbacks:R[write to console]: =\n",
            "WARNING:rpy2.rinterface_lib.callbacks:R[write to console]: =\n",
            "WARNING:rpy2.rinterface_lib.callbacks:R[write to console]: =\n",
            "WARNING:rpy2.rinterface_lib.callbacks:R[write to console]: =\n",
            "WARNING:rpy2.rinterface_lib.callbacks:R[write to console]: =\n",
            "WARNING:rpy2.rinterface_lib.callbacks:R[write to console]: =\n",
            "WARNING:rpy2.rinterface_lib.callbacks:R[write to console]: =\n",
            "WARNING:rpy2.rinterface_lib.callbacks:R[write to console]: =\n",
            "WARNING:rpy2.rinterface_lib.callbacks:R[write to console]: =\n",
            "WARNING:rpy2.rinterface_lib.callbacks:R[write to console]: =\n",
            "WARNING:rpy2.rinterface_lib.callbacks:R[write to console]: =\n",
            "WARNING:rpy2.rinterface_lib.callbacks:R[write to console]: =\n",
            "WARNING:rpy2.rinterface_lib.callbacks:R[write to console]: =\n",
            "WARNING:rpy2.rinterface_lib.callbacks:R[write to console]: =\n",
            "WARNING:rpy2.rinterface_lib.callbacks:R[write to console]: =\n",
            "WARNING:rpy2.rinterface_lib.callbacks:R[write to console]: =\n",
            "WARNING:rpy2.rinterface_lib.callbacks:R[write to console]: \n",
            "\n",
            "WARNING:rpy2.rinterface_lib.callbacks:R[write to console]: downloaded 448 KB\n",
            "\n",
            "\n",
            "WARNING:rpy2.rinterface_lib.callbacks:R[write to console]: trying URL 'https://cran.rstudio.com/src/contrib/htmlwidgets_1.6.1.tar.gz'\n",
            "\n",
            "WARNING:rpy2.rinterface_lib.callbacks:R[write to console]: Content type 'application/x-gzip'\n",
            "WARNING:rpy2.rinterface_lib.callbacks:R[write to console]:  length 868433 bytes (848 KB)\n",
            "\n",
            "WARNING:rpy2.rinterface_lib.callbacks:R[write to console]: =\n",
            "WARNING:rpy2.rinterface_lib.callbacks:R[write to console]: =\n",
            "WARNING:rpy2.rinterface_lib.callbacks:R[write to console]: =\n",
            "WARNING:rpy2.rinterface_lib.callbacks:R[write to console]: =\n",
            "WARNING:rpy2.rinterface_lib.callbacks:R[write to console]: =\n",
            "WARNING:rpy2.rinterface_lib.callbacks:R[write to console]: =\n",
            "WARNING:rpy2.rinterface_lib.callbacks:R[write to console]: =\n",
            "WARNING:rpy2.rinterface_lib.callbacks:R[write to console]: =\n",
            "WARNING:rpy2.rinterface_lib.callbacks:R[write to console]: =\n",
            "WARNING:rpy2.rinterface_lib.callbacks:R[write to console]: =\n",
            "WARNING:rpy2.rinterface_lib.callbacks:R[write to console]: =\n",
            "WARNING:rpy2.rinterface_lib.callbacks:R[write to console]: =\n",
            "WARNING:rpy2.rinterface_lib.callbacks:R[write to console]: =\n",
            "WARNING:rpy2.rinterface_lib.callbacks:R[write to console]: =\n",
            "WARNING:rpy2.rinterface_lib.callbacks:R[write to console]: =\n",
            "WARNING:rpy2.rinterface_lib.callbacks:R[write to console]: =\n",
            "WARNING:rpy2.rinterface_lib.callbacks:R[write to console]: =\n",
            "WARNING:rpy2.rinterface_lib.callbacks:R[write to console]: =\n",
            "WARNING:rpy2.rinterface_lib.callbacks:R[write to console]: =\n",
            "WARNING:rpy2.rinterface_lib.callbacks:R[write to console]: =\n",
            "WARNING:rpy2.rinterface_lib.callbacks:R[write to console]: =\n",
            "WARNING:rpy2.rinterface_lib.callbacks:R[write to console]: =\n",
            "WARNING:rpy2.rinterface_lib.callbacks:R[write to console]: =\n",
            "WARNING:rpy2.rinterface_lib.callbacks:R[write to console]: =\n",
            "WARNING:rpy2.rinterface_lib.callbacks:R[write to console]: =\n",
            "WARNING:rpy2.rinterface_lib.callbacks:R[write to console]: =\n",
            "WARNING:rpy2.rinterface_lib.callbacks:R[write to console]: =\n",
            "WARNING:rpy2.rinterface_lib.callbacks:R[write to console]: =\n",
            "WARNING:rpy2.rinterface_lib.callbacks:R[write to console]: =\n",
            "WARNING:rpy2.rinterface_lib.callbacks:R[write to console]: =\n",
            "WARNING:rpy2.rinterface_lib.callbacks:R[write to console]: =\n",
            "WARNING:rpy2.rinterface_lib.callbacks:R[write to console]: =\n",
            "WARNING:rpy2.rinterface_lib.callbacks:R[write to console]: =\n",
            "WARNING:rpy2.rinterface_lib.callbacks:R[write to console]: =\n",
            "WARNING:rpy2.rinterface_lib.callbacks:R[write to console]: =\n",
            "WARNING:rpy2.rinterface_lib.callbacks:R[write to console]: =\n",
            "WARNING:rpy2.rinterface_lib.callbacks:R[write to console]: =\n",
            "WARNING:rpy2.rinterface_lib.callbacks:R[write to console]: =\n",
            "WARNING:rpy2.rinterface_lib.callbacks:R[write to console]: =\n",
            "WARNING:rpy2.rinterface_lib.callbacks:R[write to console]: =\n",
            "WARNING:rpy2.rinterface_lib.callbacks:R[write to console]: =\n",
            "WARNING:rpy2.rinterface_lib.callbacks:R[write to console]: =\n",
            "WARNING:rpy2.rinterface_lib.callbacks:R[write to console]: =\n",
            "WARNING:rpy2.rinterface_lib.callbacks:R[write to console]: =\n",
            "WARNING:rpy2.rinterface_lib.callbacks:R[write to console]: =\n",
            "WARNING:rpy2.rinterface_lib.callbacks:R[write to console]: =\n",
            "WARNING:rpy2.rinterface_lib.callbacks:R[write to console]: =\n",
            "WARNING:rpy2.rinterface_lib.callbacks:R[write to console]: =\n",
            "WARNING:rpy2.rinterface_lib.callbacks:R[write to console]: =\n",
            "WARNING:rpy2.rinterface_lib.callbacks:R[write to console]: =\n",
            "WARNING:rpy2.rinterface_lib.callbacks:R[write to console]: \n",
            "\n",
            "WARNING:rpy2.rinterface_lib.callbacks:R[write to console]: downloaded 848 KB\n",
            "\n",
            "\n",
            "WARNING:rpy2.rinterface_lib.callbacks:R[write to console]: trying URL 'https://cran.rstudio.com/src/contrib/lazyeval_0.2.2.tar.gz'\n",
            "\n",
            "WARNING:rpy2.rinterface_lib.callbacks:R[write to console]: Content type 'application/x-gzip'\n",
            "WARNING:rpy2.rinterface_lib.callbacks:R[write to console]:  length 83482 bytes (81 KB)\n",
            "\n",
            "WARNING:rpy2.rinterface_lib.callbacks:R[write to console]: =\n",
            "WARNING:rpy2.rinterface_lib.callbacks:R[write to console]: =\n",
            "WARNING:rpy2.rinterface_lib.callbacks:R[write to console]: =\n",
            "WARNING:rpy2.rinterface_lib.callbacks:R[write to console]: =\n",
            "WARNING:rpy2.rinterface_lib.callbacks:R[write to console]: =\n",
            "WARNING:rpy2.rinterface_lib.callbacks:R[write to console]: =\n",
            "WARNING:rpy2.rinterface_lib.callbacks:R[write to console]: =\n",
            "WARNING:rpy2.rinterface_lib.callbacks:R[write to console]: =\n",
            "WARNING:rpy2.rinterface_lib.callbacks:R[write to console]: =\n",
            "WARNING:rpy2.rinterface_lib.callbacks:R[write to console]: =\n",
            "WARNING:rpy2.rinterface_lib.callbacks:R[write to console]: =\n",
            "WARNING:rpy2.rinterface_lib.callbacks:R[write to console]: =\n",
            "WARNING:rpy2.rinterface_lib.callbacks:R[write to console]: =\n",
            "WARNING:rpy2.rinterface_lib.callbacks:R[write to console]: =\n",
            "WARNING:rpy2.rinterface_lib.callbacks:R[write to console]: =\n",
            "WARNING:rpy2.rinterface_lib.callbacks:R[write to console]: =\n",
            "WARNING:rpy2.rinterface_lib.callbacks:R[write to console]: =\n",
            "WARNING:rpy2.rinterface_lib.callbacks:R[write to console]: =\n",
            "WARNING:rpy2.rinterface_lib.callbacks:R[write to console]: =\n",
            "WARNING:rpy2.rinterface_lib.callbacks:R[write to console]: =\n",
            "WARNING:rpy2.rinterface_lib.callbacks:R[write to console]: =\n",
            "WARNING:rpy2.rinterface_lib.callbacks:R[write to console]: =\n",
            "WARNING:rpy2.rinterface_lib.callbacks:R[write to console]: =\n",
            "WARNING:rpy2.rinterface_lib.callbacks:R[write to console]: =\n",
            "WARNING:rpy2.rinterface_lib.callbacks:R[write to console]: =\n",
            "WARNING:rpy2.rinterface_lib.callbacks:R[write to console]: =\n",
            "WARNING:rpy2.rinterface_lib.callbacks:R[write to console]: =\n",
            "WARNING:rpy2.rinterface_lib.callbacks:R[write to console]: =\n",
            "WARNING:rpy2.rinterface_lib.callbacks:R[write to console]: =\n",
            "WARNING:rpy2.rinterface_lib.callbacks:R[write to console]: =\n",
            "WARNING:rpy2.rinterface_lib.callbacks:R[write to console]: =\n",
            "WARNING:rpy2.rinterface_lib.callbacks:R[write to console]: =\n",
            "WARNING:rpy2.rinterface_lib.callbacks:R[write to console]: =\n",
            "WARNING:rpy2.rinterface_lib.callbacks:R[write to console]: =\n",
            "WARNING:rpy2.rinterface_lib.callbacks:R[write to console]: =\n",
            "WARNING:rpy2.rinterface_lib.callbacks:R[write to console]: =\n",
            "WARNING:rpy2.rinterface_lib.callbacks:R[write to console]: =\n",
            "WARNING:rpy2.rinterface_lib.callbacks:R[write to console]: =\n",
            "WARNING:rpy2.rinterface_lib.callbacks:R[write to console]: =\n",
            "WARNING:rpy2.rinterface_lib.callbacks:R[write to console]: =\n",
            "WARNING:rpy2.rinterface_lib.callbacks:R[write to console]: =\n",
            "WARNING:rpy2.rinterface_lib.callbacks:R[write to console]: =\n",
            "WARNING:rpy2.rinterface_lib.callbacks:R[write to console]: =\n",
            "WARNING:rpy2.rinterface_lib.callbacks:R[write to console]: =\n",
            "WARNING:rpy2.rinterface_lib.callbacks:R[write to console]: =\n",
            "WARNING:rpy2.rinterface_lib.callbacks:R[write to console]: =\n",
            "WARNING:rpy2.rinterface_lib.callbacks:R[write to console]: =\n",
            "WARNING:rpy2.rinterface_lib.callbacks:R[write to console]: =\n",
            "WARNING:rpy2.rinterface_lib.callbacks:R[write to console]: =\n",
            "WARNING:rpy2.rinterface_lib.callbacks:R[write to console]: =\n",
            "WARNING:rpy2.rinterface_lib.callbacks:R[write to console]: \n",
            "\n",
            "WARNING:rpy2.rinterface_lib.callbacks:R[write to console]: downloaded 81 KB\n",
            "\n",
            "\n",
            "WARNING:rpy2.rinterface_lib.callbacks:R[write to console]: trying URL 'https://cran.rstudio.com/src/contrib/crosstalk_1.2.0.tar.gz'\n",
            "\n",
            "WARNING:rpy2.rinterface_lib.callbacks:R[write to console]: Content type 'application/x-gzip'\n",
            "WARNING:rpy2.rinterface_lib.callbacks:R[write to console]:  length 296495 bytes (289 KB)\n",
            "\n",
            "WARNING:rpy2.rinterface_lib.callbacks:R[write to console]: =\n",
            "WARNING:rpy2.rinterface_lib.callbacks:R[write to console]: =\n",
            "WARNING:rpy2.rinterface_lib.callbacks:R[write to console]: =\n",
            "WARNING:rpy2.rinterface_lib.callbacks:R[write to console]: =\n",
            "WARNING:rpy2.rinterface_lib.callbacks:R[write to console]: =\n",
            "WARNING:rpy2.rinterface_lib.callbacks:R[write to console]: =\n",
            "WARNING:rpy2.rinterface_lib.callbacks:R[write to console]: =\n",
            "WARNING:rpy2.rinterface_lib.callbacks:R[write to console]: =\n",
            "WARNING:rpy2.rinterface_lib.callbacks:R[write to console]: =\n",
            "WARNING:rpy2.rinterface_lib.callbacks:R[write to console]: =\n",
            "WARNING:rpy2.rinterface_lib.callbacks:R[write to console]: =\n",
            "WARNING:rpy2.rinterface_lib.callbacks:R[write to console]: =\n",
            "WARNING:rpy2.rinterface_lib.callbacks:R[write to console]: =\n",
            "WARNING:rpy2.rinterface_lib.callbacks:R[write to console]: =\n",
            "WARNING:rpy2.rinterface_lib.callbacks:R[write to console]: =\n",
            "WARNING:rpy2.rinterface_lib.callbacks:R[write to console]: =\n",
            "WARNING:rpy2.rinterface_lib.callbacks:R[write to console]: =\n",
            "WARNING:rpy2.rinterface_lib.callbacks:R[write to console]: =\n",
            "WARNING:rpy2.rinterface_lib.callbacks:R[write to console]: =\n",
            "WARNING:rpy2.rinterface_lib.callbacks:R[write to console]: =\n",
            "WARNING:rpy2.rinterface_lib.callbacks:R[write to console]: =\n",
            "WARNING:rpy2.rinterface_lib.callbacks:R[write to console]: =\n",
            "WARNING:rpy2.rinterface_lib.callbacks:R[write to console]: =\n",
            "WARNING:rpy2.rinterface_lib.callbacks:R[write to console]: =\n",
            "WARNING:rpy2.rinterface_lib.callbacks:R[write to console]: =\n",
            "WARNING:rpy2.rinterface_lib.callbacks:R[write to console]: =\n",
            "WARNING:rpy2.rinterface_lib.callbacks:R[write to console]: =\n",
            "WARNING:rpy2.rinterface_lib.callbacks:R[write to console]: =\n",
            "WARNING:rpy2.rinterface_lib.callbacks:R[write to console]: =\n",
            "WARNING:rpy2.rinterface_lib.callbacks:R[write to console]: =\n",
            "WARNING:rpy2.rinterface_lib.callbacks:R[write to console]: =\n",
            "WARNING:rpy2.rinterface_lib.callbacks:R[write to console]: =\n",
            "WARNING:rpy2.rinterface_lib.callbacks:R[write to console]: =\n",
            "WARNING:rpy2.rinterface_lib.callbacks:R[write to console]: =\n",
            "WARNING:rpy2.rinterface_lib.callbacks:R[write to console]: =\n",
            "WARNING:rpy2.rinterface_lib.callbacks:R[write to console]: =\n",
            "WARNING:rpy2.rinterface_lib.callbacks:R[write to console]: =\n",
            "WARNING:rpy2.rinterface_lib.callbacks:R[write to console]: =\n",
            "WARNING:rpy2.rinterface_lib.callbacks:R[write to console]: =\n",
            "WARNING:rpy2.rinterface_lib.callbacks:R[write to console]: =\n",
            "WARNING:rpy2.rinterface_lib.callbacks:R[write to console]: =\n",
            "WARNING:rpy2.rinterface_lib.callbacks:R[write to console]: =\n",
            "WARNING:rpy2.rinterface_lib.callbacks:R[write to console]: =\n",
            "WARNING:rpy2.rinterface_lib.callbacks:R[write to console]: =\n",
            "WARNING:rpy2.rinterface_lib.callbacks:R[write to console]: =\n",
            "WARNING:rpy2.rinterface_lib.callbacks:R[write to console]: =\n",
            "WARNING:rpy2.rinterface_lib.callbacks:R[write to console]: =\n",
            "WARNING:rpy2.rinterface_lib.callbacks:R[write to console]: =\n",
            "WARNING:rpy2.rinterface_lib.callbacks:R[write to console]: =\n",
            "WARNING:rpy2.rinterface_lib.callbacks:R[write to console]: =\n",
            "WARNING:rpy2.rinterface_lib.callbacks:R[write to console]: \n",
            "\n",
            "WARNING:rpy2.rinterface_lib.callbacks:R[write to console]: downloaded 289 KB\n",
            "\n",
            "\n",
            "WARNING:rpy2.rinterface_lib.callbacks:R[write to console]: trying URL 'https://cran.rstudio.com/src/contrib/promises_1.2.0.1.tar.gz'\n",
            "\n",
            "WARNING:rpy2.rinterface_lib.callbacks:R[write to console]: Content type 'application/x-gzip'\n",
            "WARNING:rpy2.rinterface_lib.callbacks:R[write to console]:  length 3120504 bytes (3.0 MB)\n",
            "\n",
            "WARNING:rpy2.rinterface_lib.callbacks:R[write to console]: =\n",
            "WARNING:rpy2.rinterface_lib.callbacks:R[write to console]: =\n",
            "WARNING:rpy2.rinterface_lib.callbacks:R[write to console]: =\n",
            "WARNING:rpy2.rinterface_lib.callbacks:R[write to console]: =\n",
            "WARNING:rpy2.rinterface_lib.callbacks:R[write to console]: =\n",
            "WARNING:rpy2.rinterface_lib.callbacks:R[write to console]: =\n",
            "WARNING:rpy2.rinterface_lib.callbacks:R[write to console]: =\n",
            "WARNING:rpy2.rinterface_lib.callbacks:R[write to console]: =\n",
            "WARNING:rpy2.rinterface_lib.callbacks:R[write to console]: =\n",
            "WARNING:rpy2.rinterface_lib.callbacks:R[write to console]: =\n",
            "WARNING:rpy2.rinterface_lib.callbacks:R[write to console]: =\n",
            "WARNING:rpy2.rinterface_lib.callbacks:R[write to console]: =\n",
            "WARNING:rpy2.rinterface_lib.callbacks:R[write to console]: =\n",
            "WARNING:rpy2.rinterface_lib.callbacks:R[write to console]: =\n",
            "WARNING:rpy2.rinterface_lib.callbacks:R[write to console]: =\n",
            "WARNING:rpy2.rinterface_lib.callbacks:R[write to console]: =\n",
            "WARNING:rpy2.rinterface_lib.callbacks:R[write to console]: =\n",
            "WARNING:rpy2.rinterface_lib.callbacks:R[write to console]: =\n",
            "WARNING:rpy2.rinterface_lib.callbacks:R[write to console]: =\n",
            "WARNING:rpy2.rinterface_lib.callbacks:R[write to console]: =\n",
            "WARNING:rpy2.rinterface_lib.callbacks:R[write to console]: =\n",
            "WARNING:rpy2.rinterface_lib.callbacks:R[write to console]: =\n",
            "WARNING:rpy2.rinterface_lib.callbacks:R[write to console]: =\n",
            "WARNING:rpy2.rinterface_lib.callbacks:R[write to console]: =\n",
            "WARNING:rpy2.rinterface_lib.callbacks:R[write to console]: =\n",
            "WARNING:rpy2.rinterface_lib.callbacks:R[write to console]: =\n",
            "WARNING:rpy2.rinterface_lib.callbacks:R[write to console]: =\n",
            "WARNING:rpy2.rinterface_lib.callbacks:R[write to console]: =\n",
            "WARNING:rpy2.rinterface_lib.callbacks:R[write to console]: =\n",
            "WARNING:rpy2.rinterface_lib.callbacks:R[write to console]: =\n",
            "WARNING:rpy2.rinterface_lib.callbacks:R[write to console]: =\n",
            "WARNING:rpy2.rinterface_lib.callbacks:R[write to console]: =\n",
            "WARNING:rpy2.rinterface_lib.callbacks:R[write to console]: =\n",
            "WARNING:rpy2.rinterface_lib.callbacks:R[write to console]: =\n",
            "WARNING:rpy2.rinterface_lib.callbacks:R[write to console]: =\n",
            "WARNING:rpy2.rinterface_lib.callbacks:R[write to console]: =\n",
            "WARNING:rpy2.rinterface_lib.callbacks:R[write to console]: =\n",
            "WARNING:rpy2.rinterface_lib.callbacks:R[write to console]: =\n",
            "WARNING:rpy2.rinterface_lib.callbacks:R[write to console]: =\n",
            "WARNING:rpy2.rinterface_lib.callbacks:R[write to console]: =\n",
            "WARNING:rpy2.rinterface_lib.callbacks:R[write to console]: =\n",
            "WARNING:rpy2.rinterface_lib.callbacks:R[write to console]: =\n",
            "WARNING:rpy2.rinterface_lib.callbacks:R[write to console]: =\n",
            "WARNING:rpy2.rinterface_lib.callbacks:R[write to console]: =\n",
            "WARNING:rpy2.rinterface_lib.callbacks:R[write to console]: =\n",
            "WARNING:rpy2.rinterface_lib.callbacks:R[write to console]: =\n",
            "WARNING:rpy2.rinterface_lib.callbacks:R[write to console]: =\n",
            "WARNING:rpy2.rinterface_lib.callbacks:R[write to console]: =\n",
            "WARNING:rpy2.rinterface_lib.callbacks:R[write to console]: =\n",
            "WARNING:rpy2.rinterface_lib.callbacks:R[write to console]: =\n",
            "WARNING:rpy2.rinterface_lib.callbacks:R[write to console]: \n",
            "\n",
            "WARNING:rpy2.rinterface_lib.callbacks:R[write to console]: downloaded 3.0 MB\n",
            "\n",
            "\n",
            "WARNING:rpy2.rinterface_lib.callbacks:R[write to console]: trying URL 'https://cran.rstudio.com/src/contrib/plyr_1.8.8.tar.gz'\n",
            "\n",
            "WARNING:rpy2.rinterface_lib.callbacks:R[write to console]: Content type 'application/x-gzip'\n",
            "WARNING:rpy2.rinterface_lib.callbacks:R[write to console]:  length 401438 bytes (392 KB)\n",
            "\n",
            "WARNING:rpy2.rinterface_lib.callbacks:R[write to console]: =\n",
            "WARNING:rpy2.rinterface_lib.callbacks:R[write to console]: =\n",
            "WARNING:rpy2.rinterface_lib.callbacks:R[write to console]: =\n",
            "WARNING:rpy2.rinterface_lib.callbacks:R[write to console]: =\n",
            "WARNING:rpy2.rinterface_lib.callbacks:R[write to console]: =\n",
            "WARNING:rpy2.rinterface_lib.callbacks:R[write to console]: =\n",
            "WARNING:rpy2.rinterface_lib.callbacks:R[write to console]: =\n",
            "WARNING:rpy2.rinterface_lib.callbacks:R[write to console]: =\n",
            "WARNING:rpy2.rinterface_lib.callbacks:R[write to console]: =\n",
            "WARNING:rpy2.rinterface_lib.callbacks:R[write to console]: =\n",
            "WARNING:rpy2.rinterface_lib.callbacks:R[write to console]: =\n",
            "WARNING:rpy2.rinterface_lib.callbacks:R[write to console]: =\n",
            "WARNING:rpy2.rinterface_lib.callbacks:R[write to console]: =\n",
            "WARNING:rpy2.rinterface_lib.callbacks:R[write to console]: =\n",
            "WARNING:rpy2.rinterface_lib.callbacks:R[write to console]: =\n",
            "WARNING:rpy2.rinterface_lib.callbacks:R[write to console]: =\n",
            "WARNING:rpy2.rinterface_lib.callbacks:R[write to console]: =\n",
            "WARNING:rpy2.rinterface_lib.callbacks:R[write to console]: =\n",
            "WARNING:rpy2.rinterface_lib.callbacks:R[write to console]: =\n",
            "WARNING:rpy2.rinterface_lib.callbacks:R[write to console]: =\n",
            "WARNING:rpy2.rinterface_lib.callbacks:R[write to console]: =\n",
            "WARNING:rpy2.rinterface_lib.callbacks:R[write to console]: =\n",
            "WARNING:rpy2.rinterface_lib.callbacks:R[write to console]: =\n",
            "WARNING:rpy2.rinterface_lib.callbacks:R[write to console]: =\n",
            "WARNING:rpy2.rinterface_lib.callbacks:R[write to console]: =\n",
            "WARNING:rpy2.rinterface_lib.callbacks:R[write to console]: =\n",
            "WARNING:rpy2.rinterface_lib.callbacks:R[write to console]: =\n",
            "WARNING:rpy2.rinterface_lib.callbacks:R[write to console]: =\n",
            "WARNING:rpy2.rinterface_lib.callbacks:R[write to console]: =\n",
            "WARNING:rpy2.rinterface_lib.callbacks:R[write to console]: =\n",
            "WARNING:rpy2.rinterface_lib.callbacks:R[write to console]: =\n",
            "WARNING:rpy2.rinterface_lib.callbacks:R[write to console]: =\n",
            "WARNING:rpy2.rinterface_lib.callbacks:R[write to console]: =\n",
            "WARNING:rpy2.rinterface_lib.callbacks:R[write to console]: =\n",
            "WARNING:rpy2.rinterface_lib.callbacks:R[write to console]: =\n",
            "WARNING:rpy2.rinterface_lib.callbacks:R[write to console]: =\n",
            "WARNING:rpy2.rinterface_lib.callbacks:R[write to console]: =\n",
            "WARNING:rpy2.rinterface_lib.callbacks:R[write to console]: =\n",
            "WARNING:rpy2.rinterface_lib.callbacks:R[write to console]: =\n",
            "WARNING:rpy2.rinterface_lib.callbacks:R[write to console]: =\n",
            "WARNING:rpy2.rinterface_lib.callbacks:R[write to console]: =\n",
            "WARNING:rpy2.rinterface_lib.callbacks:R[write to console]: =\n",
            "WARNING:rpy2.rinterface_lib.callbacks:R[write to console]: =\n",
            "WARNING:rpy2.rinterface_lib.callbacks:R[write to console]: =\n",
            "WARNING:rpy2.rinterface_lib.callbacks:R[write to console]: =\n",
            "WARNING:rpy2.rinterface_lib.callbacks:R[write to console]: =\n",
            "WARNING:rpy2.rinterface_lib.callbacks:R[write to console]: =\n",
            "WARNING:rpy2.rinterface_lib.callbacks:R[write to console]: =\n",
            "WARNING:rpy2.rinterface_lib.callbacks:R[write to console]: =\n",
            "WARNING:rpy2.rinterface_lib.callbacks:R[write to console]: =\n",
            "WARNING:rpy2.rinterface_lib.callbacks:R[write to console]: \n",
            "\n",
            "WARNING:rpy2.rinterface_lib.callbacks:R[write to console]: downloaded 392 KB\n",
            "\n",
            "\n",
            "WARNING:rpy2.rinterface_lib.callbacks:R[write to console]: trying URL 'https://cran.rstudio.com/src/contrib/Rcpp_1.0.10.tar.gz'\n",
            "\n",
            "WARNING:rpy2.rinterface_lib.callbacks:R[write to console]: Content type 'application/x-gzip'\n",
            "WARNING:rpy2.rinterface_lib.callbacks:R[write to console]:  length 2936173 bytes (2.8 MB)\n",
            "\n",
            "WARNING:rpy2.rinterface_lib.callbacks:R[write to console]: =\n",
            "WARNING:rpy2.rinterface_lib.callbacks:R[write to console]: =\n",
            "WARNING:rpy2.rinterface_lib.callbacks:R[write to console]: =\n",
            "WARNING:rpy2.rinterface_lib.callbacks:R[write to console]: =\n",
            "WARNING:rpy2.rinterface_lib.callbacks:R[write to console]: =\n",
            "WARNING:rpy2.rinterface_lib.callbacks:R[write to console]: =\n",
            "WARNING:rpy2.rinterface_lib.callbacks:R[write to console]: =\n",
            "WARNING:rpy2.rinterface_lib.callbacks:R[write to console]: =\n",
            "WARNING:rpy2.rinterface_lib.callbacks:R[write to console]: =\n",
            "WARNING:rpy2.rinterface_lib.callbacks:R[write to console]: =\n",
            "WARNING:rpy2.rinterface_lib.callbacks:R[write to console]: =\n",
            "WARNING:rpy2.rinterface_lib.callbacks:R[write to console]: =\n",
            "WARNING:rpy2.rinterface_lib.callbacks:R[write to console]: =\n",
            "WARNING:rpy2.rinterface_lib.callbacks:R[write to console]: =\n",
            "WARNING:rpy2.rinterface_lib.callbacks:R[write to console]: =\n",
            "WARNING:rpy2.rinterface_lib.callbacks:R[write to console]: =\n",
            "WARNING:rpy2.rinterface_lib.callbacks:R[write to console]: =\n",
            "WARNING:rpy2.rinterface_lib.callbacks:R[write to console]: =\n",
            "WARNING:rpy2.rinterface_lib.callbacks:R[write to console]: =\n",
            "WARNING:rpy2.rinterface_lib.callbacks:R[write to console]: =\n",
            "WARNING:rpy2.rinterface_lib.callbacks:R[write to console]: =\n",
            "WARNING:rpy2.rinterface_lib.callbacks:R[write to console]: =\n",
            "WARNING:rpy2.rinterface_lib.callbacks:R[write to console]: =\n",
            "WARNING:rpy2.rinterface_lib.callbacks:R[write to console]: =\n",
            "WARNING:rpy2.rinterface_lib.callbacks:R[write to console]: =\n",
            "WARNING:rpy2.rinterface_lib.callbacks:R[write to console]: =\n",
            "WARNING:rpy2.rinterface_lib.callbacks:R[write to console]: =\n",
            "WARNING:rpy2.rinterface_lib.callbacks:R[write to console]: =\n",
            "WARNING:rpy2.rinterface_lib.callbacks:R[write to console]: =\n",
            "WARNING:rpy2.rinterface_lib.callbacks:R[write to console]: =\n",
            "WARNING:rpy2.rinterface_lib.callbacks:R[write to console]: =\n",
            "WARNING:rpy2.rinterface_lib.callbacks:R[write to console]: =\n",
            "WARNING:rpy2.rinterface_lib.callbacks:R[write to console]: =\n",
            "WARNING:rpy2.rinterface_lib.callbacks:R[write to console]: =\n",
            "WARNING:rpy2.rinterface_lib.callbacks:R[write to console]: =\n",
            "WARNING:rpy2.rinterface_lib.callbacks:R[write to console]: =\n",
            "WARNING:rpy2.rinterface_lib.callbacks:R[write to console]: =\n",
            "WARNING:rpy2.rinterface_lib.callbacks:R[write to console]: =\n",
            "WARNING:rpy2.rinterface_lib.callbacks:R[write to console]: =\n",
            "WARNING:rpy2.rinterface_lib.callbacks:R[write to console]: =\n",
            "WARNING:rpy2.rinterface_lib.callbacks:R[write to console]: =\n",
            "WARNING:rpy2.rinterface_lib.callbacks:R[write to console]: =\n",
            "WARNING:rpy2.rinterface_lib.callbacks:R[write to console]: =\n",
            "WARNING:rpy2.rinterface_lib.callbacks:R[write to console]: =\n",
            "WARNING:rpy2.rinterface_lib.callbacks:R[write to console]: =\n",
            "WARNING:rpy2.rinterface_lib.callbacks:R[write to console]: =\n",
            "WARNING:rpy2.rinterface_lib.callbacks:R[write to console]: =\n",
            "WARNING:rpy2.rinterface_lib.callbacks:R[write to console]: =\n",
            "WARNING:rpy2.rinterface_lib.callbacks:R[write to console]: =\n",
            "WARNING:rpy2.rinterface_lib.callbacks:R[write to console]: =\n",
            "WARNING:rpy2.rinterface_lib.callbacks:R[write to console]: \n",
            "\n",
            "WARNING:rpy2.rinterface_lib.callbacks:R[write to console]: downloaded 2.8 MB\n",
            "\n",
            "\n",
            "WARNING:rpy2.rinterface_lib.callbacks:R[write to console]: trying URL 'https://cran.rstudio.com/src/contrib/webshot_0.5.4.tar.gz'\n",
            "\n",
            "WARNING:rpy2.rinterface_lib.callbacks:R[write to console]: Content type 'application/x-gzip'\n",
            "WARNING:rpy2.rinterface_lib.callbacks:R[write to console]:  length 159902 bytes (156 KB)\n",
            "\n",
            "WARNING:rpy2.rinterface_lib.callbacks:R[write to console]: =\n",
            "WARNING:rpy2.rinterface_lib.callbacks:R[write to console]: =\n",
            "WARNING:rpy2.rinterface_lib.callbacks:R[write to console]: =\n",
            "WARNING:rpy2.rinterface_lib.callbacks:R[write to console]: =\n",
            "WARNING:rpy2.rinterface_lib.callbacks:R[write to console]: =\n",
            "WARNING:rpy2.rinterface_lib.callbacks:R[write to console]: =\n",
            "WARNING:rpy2.rinterface_lib.callbacks:R[write to console]: =\n",
            "WARNING:rpy2.rinterface_lib.callbacks:R[write to console]: =\n",
            "WARNING:rpy2.rinterface_lib.callbacks:R[write to console]: =\n",
            "WARNING:rpy2.rinterface_lib.callbacks:R[write to console]: =\n",
            "WARNING:rpy2.rinterface_lib.callbacks:R[write to console]: =\n",
            "WARNING:rpy2.rinterface_lib.callbacks:R[write to console]: =\n",
            "WARNING:rpy2.rinterface_lib.callbacks:R[write to console]: =\n",
            "WARNING:rpy2.rinterface_lib.callbacks:R[write to console]: =\n",
            "WARNING:rpy2.rinterface_lib.callbacks:R[write to console]: =\n",
            "WARNING:rpy2.rinterface_lib.callbacks:R[write to console]: =\n",
            "WARNING:rpy2.rinterface_lib.callbacks:R[write to console]: =\n",
            "WARNING:rpy2.rinterface_lib.callbacks:R[write to console]: =\n",
            "WARNING:rpy2.rinterface_lib.callbacks:R[write to console]: =\n",
            "WARNING:rpy2.rinterface_lib.callbacks:R[write to console]: =\n",
            "WARNING:rpy2.rinterface_lib.callbacks:R[write to console]: =\n",
            "WARNING:rpy2.rinterface_lib.callbacks:R[write to console]: =\n",
            "WARNING:rpy2.rinterface_lib.callbacks:R[write to console]: =\n",
            "WARNING:rpy2.rinterface_lib.callbacks:R[write to console]: =\n",
            "WARNING:rpy2.rinterface_lib.callbacks:R[write to console]: =\n",
            "WARNING:rpy2.rinterface_lib.callbacks:R[write to console]: =\n",
            "WARNING:rpy2.rinterface_lib.callbacks:R[write to console]: =\n",
            "WARNING:rpy2.rinterface_lib.callbacks:R[write to console]: =\n",
            "WARNING:rpy2.rinterface_lib.callbacks:R[write to console]: =\n",
            "WARNING:rpy2.rinterface_lib.callbacks:R[write to console]: =\n",
            "WARNING:rpy2.rinterface_lib.callbacks:R[write to console]: =\n",
            "WARNING:rpy2.rinterface_lib.callbacks:R[write to console]: =\n",
            "WARNING:rpy2.rinterface_lib.callbacks:R[write to console]: =\n",
            "WARNING:rpy2.rinterface_lib.callbacks:R[write to console]: =\n",
            "WARNING:rpy2.rinterface_lib.callbacks:R[write to console]: =\n",
            "WARNING:rpy2.rinterface_lib.callbacks:R[write to console]: =\n",
            "WARNING:rpy2.rinterface_lib.callbacks:R[write to console]: =\n",
            "WARNING:rpy2.rinterface_lib.callbacks:R[write to console]: =\n",
            "WARNING:rpy2.rinterface_lib.callbacks:R[write to console]: =\n",
            "WARNING:rpy2.rinterface_lib.callbacks:R[write to console]: =\n",
            "WARNING:rpy2.rinterface_lib.callbacks:R[write to console]: =\n",
            "WARNING:rpy2.rinterface_lib.callbacks:R[write to console]: =\n",
            "WARNING:rpy2.rinterface_lib.callbacks:R[write to console]: =\n",
            "WARNING:rpy2.rinterface_lib.callbacks:R[write to console]: =\n",
            "WARNING:rpy2.rinterface_lib.callbacks:R[write to console]: =\n",
            "WARNING:rpy2.rinterface_lib.callbacks:R[write to console]: =\n",
            "WARNING:rpy2.rinterface_lib.callbacks:R[write to console]: =\n",
            "WARNING:rpy2.rinterface_lib.callbacks:R[write to console]: =\n",
            "WARNING:rpy2.rinterface_lib.callbacks:R[write to console]: =\n",
            "WARNING:rpy2.rinterface_lib.callbacks:R[write to console]: =\n",
            "WARNING:rpy2.rinterface_lib.callbacks:R[write to console]: \n",
            "\n",
            "WARNING:rpy2.rinterface_lib.callbacks:R[write to console]: downloaded 156 KB\n",
            "\n",
            "\n",
            "WARNING:rpy2.rinterface_lib.callbacks:R[write to console]: trying URL 'https://cran.rstudio.com/src/contrib/fBasics_4021.93.tar.gz'\n",
            "\n",
            "WARNING:rpy2.rinterface_lib.callbacks:R[write to console]: Content type 'application/x-gzip'\n",
            "WARNING:rpy2.rinterface_lib.callbacks:R[write to console]:  length 940062 bytes (918 KB)\n",
            "\n",
            "WARNING:rpy2.rinterface_lib.callbacks:R[write to console]: =\n",
            "WARNING:rpy2.rinterface_lib.callbacks:R[write to console]: =\n",
            "WARNING:rpy2.rinterface_lib.callbacks:R[write to console]: =\n",
            "WARNING:rpy2.rinterface_lib.callbacks:R[write to console]: =\n",
            "WARNING:rpy2.rinterface_lib.callbacks:R[write to console]: =\n",
            "WARNING:rpy2.rinterface_lib.callbacks:R[write to console]: =\n",
            "WARNING:rpy2.rinterface_lib.callbacks:R[write to console]: =\n",
            "WARNING:rpy2.rinterface_lib.callbacks:R[write to console]: =\n",
            "WARNING:rpy2.rinterface_lib.callbacks:R[write to console]: =\n",
            "WARNING:rpy2.rinterface_lib.callbacks:R[write to console]: =\n",
            "WARNING:rpy2.rinterface_lib.callbacks:R[write to console]: =\n",
            "WARNING:rpy2.rinterface_lib.callbacks:R[write to console]: =\n",
            "WARNING:rpy2.rinterface_lib.callbacks:R[write to console]: =\n",
            "WARNING:rpy2.rinterface_lib.callbacks:R[write to console]: =\n",
            "WARNING:rpy2.rinterface_lib.callbacks:R[write to console]: =\n",
            "WARNING:rpy2.rinterface_lib.callbacks:R[write to console]: =\n",
            "WARNING:rpy2.rinterface_lib.callbacks:R[write to console]: =\n",
            "WARNING:rpy2.rinterface_lib.callbacks:R[write to console]: =\n",
            "WARNING:rpy2.rinterface_lib.callbacks:R[write to console]: =\n",
            "WARNING:rpy2.rinterface_lib.callbacks:R[write to console]: =\n",
            "WARNING:rpy2.rinterface_lib.callbacks:R[write to console]: =\n",
            "WARNING:rpy2.rinterface_lib.callbacks:R[write to console]: =\n",
            "WARNING:rpy2.rinterface_lib.callbacks:R[write to console]: =\n",
            "WARNING:rpy2.rinterface_lib.callbacks:R[write to console]: =\n",
            "WARNING:rpy2.rinterface_lib.callbacks:R[write to console]: =\n",
            "WARNING:rpy2.rinterface_lib.callbacks:R[write to console]: =\n",
            "WARNING:rpy2.rinterface_lib.callbacks:R[write to console]: =\n",
            "WARNING:rpy2.rinterface_lib.callbacks:R[write to console]: =\n",
            "WARNING:rpy2.rinterface_lib.callbacks:R[write to console]: =\n",
            "WARNING:rpy2.rinterface_lib.callbacks:R[write to console]: =\n",
            "WARNING:rpy2.rinterface_lib.callbacks:R[write to console]: =\n",
            "WARNING:rpy2.rinterface_lib.callbacks:R[write to console]: =\n",
            "WARNING:rpy2.rinterface_lib.callbacks:R[write to console]: =\n",
            "WARNING:rpy2.rinterface_lib.callbacks:R[write to console]: =\n",
            "WARNING:rpy2.rinterface_lib.callbacks:R[write to console]: =\n",
            "WARNING:rpy2.rinterface_lib.callbacks:R[write to console]: =\n",
            "WARNING:rpy2.rinterface_lib.callbacks:R[write to console]: =\n",
            "WARNING:rpy2.rinterface_lib.callbacks:R[write to console]: =\n",
            "WARNING:rpy2.rinterface_lib.callbacks:R[write to console]: =\n",
            "WARNING:rpy2.rinterface_lib.callbacks:R[write to console]: =\n",
            "WARNING:rpy2.rinterface_lib.callbacks:R[write to console]: =\n",
            "WARNING:rpy2.rinterface_lib.callbacks:R[write to console]: =\n",
            "WARNING:rpy2.rinterface_lib.callbacks:R[write to console]: =\n",
            "WARNING:rpy2.rinterface_lib.callbacks:R[write to console]: =\n",
            "WARNING:rpy2.rinterface_lib.callbacks:R[write to console]: =\n",
            "WARNING:rpy2.rinterface_lib.callbacks:R[write to console]: =\n",
            "WARNING:rpy2.rinterface_lib.callbacks:R[write to console]: =\n",
            "WARNING:rpy2.rinterface_lib.callbacks:R[write to console]: =\n",
            "WARNING:rpy2.rinterface_lib.callbacks:R[write to console]: =\n",
            "WARNING:rpy2.rinterface_lib.callbacks:R[write to console]: =\n",
            "WARNING:rpy2.rinterface_lib.callbacks:R[write to console]: \n",
            "\n",
            "WARNING:rpy2.rinterface_lib.callbacks:R[write to console]: downloaded 918 KB\n",
            "\n",
            "\n",
            "WARNING:rpy2.rinterface_lib.callbacks:R[write to console]: trying URL 'https://cran.rstudio.com/src/contrib/timeDate_4022.108.tar.gz'\n",
            "\n",
            "WARNING:rpy2.rinterface_lib.callbacks:R[write to console]: Content type 'application/x-gzip'\n",
            "WARNING:rpy2.rinterface_lib.callbacks:R[write to console]:  length 292518 bytes (285 KB)\n",
            "\n",
            "WARNING:rpy2.rinterface_lib.callbacks:R[write to console]: =\n",
            "WARNING:rpy2.rinterface_lib.callbacks:R[write to console]: =\n",
            "WARNING:rpy2.rinterface_lib.callbacks:R[write to console]: =\n",
            "WARNING:rpy2.rinterface_lib.callbacks:R[write to console]: =\n",
            "WARNING:rpy2.rinterface_lib.callbacks:R[write to console]: =\n",
            "WARNING:rpy2.rinterface_lib.callbacks:R[write to console]: =\n",
            "WARNING:rpy2.rinterface_lib.callbacks:R[write to console]: =\n",
            "WARNING:rpy2.rinterface_lib.callbacks:R[write to console]: =\n",
            "WARNING:rpy2.rinterface_lib.callbacks:R[write to console]: =\n",
            "WARNING:rpy2.rinterface_lib.callbacks:R[write to console]: =\n",
            "WARNING:rpy2.rinterface_lib.callbacks:R[write to console]: =\n",
            "WARNING:rpy2.rinterface_lib.callbacks:R[write to console]: =\n",
            "WARNING:rpy2.rinterface_lib.callbacks:R[write to console]: =\n",
            "WARNING:rpy2.rinterface_lib.callbacks:R[write to console]: =\n",
            "WARNING:rpy2.rinterface_lib.callbacks:R[write to console]: =\n",
            "WARNING:rpy2.rinterface_lib.callbacks:R[write to console]: =\n",
            "WARNING:rpy2.rinterface_lib.callbacks:R[write to console]: =\n",
            "WARNING:rpy2.rinterface_lib.callbacks:R[write to console]: =\n",
            "WARNING:rpy2.rinterface_lib.callbacks:R[write to console]: =\n",
            "WARNING:rpy2.rinterface_lib.callbacks:R[write to console]: =\n",
            "WARNING:rpy2.rinterface_lib.callbacks:R[write to console]: =\n",
            "WARNING:rpy2.rinterface_lib.callbacks:R[write to console]: =\n",
            "WARNING:rpy2.rinterface_lib.callbacks:R[write to console]: =\n",
            "WARNING:rpy2.rinterface_lib.callbacks:R[write to console]: =\n",
            "WARNING:rpy2.rinterface_lib.callbacks:R[write to console]: =\n",
            "WARNING:rpy2.rinterface_lib.callbacks:R[write to console]: =\n",
            "WARNING:rpy2.rinterface_lib.callbacks:R[write to console]: =\n",
            "WARNING:rpy2.rinterface_lib.callbacks:R[write to console]: =\n",
            "WARNING:rpy2.rinterface_lib.callbacks:R[write to console]: =\n",
            "WARNING:rpy2.rinterface_lib.callbacks:R[write to console]: =\n",
            "WARNING:rpy2.rinterface_lib.callbacks:R[write to console]: =\n",
            "WARNING:rpy2.rinterface_lib.callbacks:R[write to console]: =\n",
            "WARNING:rpy2.rinterface_lib.callbacks:R[write to console]: =\n",
            "WARNING:rpy2.rinterface_lib.callbacks:R[write to console]: =\n",
            "WARNING:rpy2.rinterface_lib.callbacks:R[write to console]: =\n",
            "WARNING:rpy2.rinterface_lib.callbacks:R[write to console]: =\n",
            "WARNING:rpy2.rinterface_lib.callbacks:R[write to console]: =\n",
            "WARNING:rpy2.rinterface_lib.callbacks:R[write to console]: =\n",
            "WARNING:rpy2.rinterface_lib.callbacks:R[write to console]: =\n",
            "WARNING:rpy2.rinterface_lib.callbacks:R[write to console]: =\n",
            "WARNING:rpy2.rinterface_lib.callbacks:R[write to console]: =\n",
            "WARNING:rpy2.rinterface_lib.callbacks:R[write to console]: =\n",
            "WARNING:rpy2.rinterface_lib.callbacks:R[write to console]: =\n",
            "WARNING:rpy2.rinterface_lib.callbacks:R[write to console]: =\n",
            "WARNING:rpy2.rinterface_lib.callbacks:R[write to console]: =\n",
            "WARNING:rpy2.rinterface_lib.callbacks:R[write to console]: =\n",
            "WARNING:rpy2.rinterface_lib.callbacks:R[write to console]: =\n",
            "WARNING:rpy2.rinterface_lib.callbacks:R[write to console]: =\n",
            "WARNING:rpy2.rinterface_lib.callbacks:R[write to console]: =\n",
            "WARNING:rpy2.rinterface_lib.callbacks:R[write to console]: =\n",
            "WARNING:rpy2.rinterface_lib.callbacks:R[write to console]: \n",
            "\n",
            "WARNING:rpy2.rinterface_lib.callbacks:R[write to console]: downloaded 285 KB\n",
            "\n",
            "\n",
            "WARNING:rpy2.rinterface_lib.callbacks:R[write to console]: trying URL 'https://cran.rstudio.com/src/contrib/timeSeries_4021.105.tar.gz'\n",
            "\n",
            "WARNING:rpy2.rinterface_lib.callbacks:R[write to console]: Content type 'application/x-gzip'\n",
            "WARNING:rpy2.rinterface_lib.callbacks:R[write to console]:  length 1378821 bytes (1.3 MB)\n",
            "\n",
            "WARNING:rpy2.rinterface_lib.callbacks:R[write to console]: =\n",
            "WARNING:rpy2.rinterface_lib.callbacks:R[write to console]: =\n",
            "WARNING:rpy2.rinterface_lib.callbacks:R[write to console]: =\n",
            "WARNING:rpy2.rinterface_lib.callbacks:R[write to console]: =\n",
            "WARNING:rpy2.rinterface_lib.callbacks:R[write to console]: =\n",
            "WARNING:rpy2.rinterface_lib.callbacks:R[write to console]: =\n",
            "WARNING:rpy2.rinterface_lib.callbacks:R[write to console]: =\n",
            "WARNING:rpy2.rinterface_lib.callbacks:R[write to console]: =\n",
            "WARNING:rpy2.rinterface_lib.callbacks:R[write to console]: =\n",
            "WARNING:rpy2.rinterface_lib.callbacks:R[write to console]: =\n",
            "WARNING:rpy2.rinterface_lib.callbacks:R[write to console]: =\n",
            "WARNING:rpy2.rinterface_lib.callbacks:R[write to console]: =\n",
            "WARNING:rpy2.rinterface_lib.callbacks:R[write to console]: =\n",
            "WARNING:rpy2.rinterface_lib.callbacks:R[write to console]: =\n",
            "WARNING:rpy2.rinterface_lib.callbacks:R[write to console]: =\n",
            "WARNING:rpy2.rinterface_lib.callbacks:R[write to console]: =\n",
            "WARNING:rpy2.rinterface_lib.callbacks:R[write to console]: =\n",
            "WARNING:rpy2.rinterface_lib.callbacks:R[write to console]: =\n",
            "WARNING:rpy2.rinterface_lib.callbacks:R[write to console]: =\n",
            "WARNING:rpy2.rinterface_lib.callbacks:R[write to console]: =\n",
            "WARNING:rpy2.rinterface_lib.callbacks:R[write to console]: =\n",
            "WARNING:rpy2.rinterface_lib.callbacks:R[write to console]: =\n",
            "WARNING:rpy2.rinterface_lib.callbacks:R[write to console]: =\n",
            "WARNING:rpy2.rinterface_lib.callbacks:R[write to console]: =\n",
            "WARNING:rpy2.rinterface_lib.callbacks:R[write to console]: =\n",
            "WARNING:rpy2.rinterface_lib.callbacks:R[write to console]: =\n",
            "WARNING:rpy2.rinterface_lib.callbacks:R[write to console]: =\n",
            "WARNING:rpy2.rinterface_lib.callbacks:R[write to console]: =\n",
            "WARNING:rpy2.rinterface_lib.callbacks:R[write to console]: =\n",
            "WARNING:rpy2.rinterface_lib.callbacks:R[write to console]: =\n",
            "WARNING:rpy2.rinterface_lib.callbacks:R[write to console]: =\n",
            "WARNING:rpy2.rinterface_lib.callbacks:R[write to console]: =\n",
            "WARNING:rpy2.rinterface_lib.callbacks:R[write to console]: =\n",
            "WARNING:rpy2.rinterface_lib.callbacks:R[write to console]: =\n",
            "WARNING:rpy2.rinterface_lib.callbacks:R[write to console]: =\n",
            "WARNING:rpy2.rinterface_lib.callbacks:R[write to console]: =\n",
            "WARNING:rpy2.rinterface_lib.callbacks:R[write to console]: =\n",
            "WARNING:rpy2.rinterface_lib.callbacks:R[write to console]: =\n",
            "WARNING:rpy2.rinterface_lib.callbacks:R[write to console]: =\n",
            "WARNING:rpy2.rinterface_lib.callbacks:R[write to console]: =\n",
            "WARNING:rpy2.rinterface_lib.callbacks:R[write to console]: =\n",
            "WARNING:rpy2.rinterface_lib.callbacks:R[write to console]: =\n",
            "WARNING:rpy2.rinterface_lib.callbacks:R[write to console]: =\n",
            "WARNING:rpy2.rinterface_lib.callbacks:R[write to console]: =\n",
            "WARNING:rpy2.rinterface_lib.callbacks:R[write to console]: =\n",
            "WARNING:rpy2.rinterface_lib.callbacks:R[write to console]: =\n",
            "WARNING:rpy2.rinterface_lib.callbacks:R[write to console]: =\n",
            "WARNING:rpy2.rinterface_lib.callbacks:R[write to console]: =\n",
            "WARNING:rpy2.rinterface_lib.callbacks:R[write to console]: =\n",
            "WARNING:rpy2.rinterface_lib.callbacks:R[write to console]: =\n",
            "WARNING:rpy2.rinterface_lib.callbacks:R[write to console]: \n",
            "\n",
            "WARNING:rpy2.rinterface_lib.callbacks:R[write to console]: downloaded 1.3 MB\n",
            "\n",
            "\n",
            "WARNING:rpy2.rinterface_lib.callbacks:R[write to console]: trying URL 'https://cran.rstudio.com/src/contrib/fastICA_1.2-3.tar.gz'\n",
            "\n",
            "WARNING:rpy2.rinterface_lib.callbacks:R[write to console]: Content type 'application/x-gzip'\n",
            "WARNING:rpy2.rinterface_lib.callbacks:R[write to console]:  length 11525 bytes (11 KB)\n",
            "\n",
            "WARNING:rpy2.rinterface_lib.callbacks:R[write to console]: =\n",
            "WARNING:rpy2.rinterface_lib.callbacks:R[write to console]: =\n",
            "WARNING:rpy2.rinterface_lib.callbacks:R[write to console]: =\n",
            "WARNING:rpy2.rinterface_lib.callbacks:R[write to console]: =\n",
            "WARNING:rpy2.rinterface_lib.callbacks:R[write to console]: =\n",
            "WARNING:rpy2.rinterface_lib.callbacks:R[write to console]: =\n",
            "WARNING:rpy2.rinterface_lib.callbacks:R[write to console]: =\n",
            "WARNING:rpy2.rinterface_lib.callbacks:R[write to console]: =\n",
            "WARNING:rpy2.rinterface_lib.callbacks:R[write to console]: =\n",
            "WARNING:rpy2.rinterface_lib.callbacks:R[write to console]: =\n",
            "WARNING:rpy2.rinterface_lib.callbacks:R[write to console]: =\n",
            "WARNING:rpy2.rinterface_lib.callbacks:R[write to console]: =\n",
            "WARNING:rpy2.rinterface_lib.callbacks:R[write to console]: =\n",
            "WARNING:rpy2.rinterface_lib.callbacks:R[write to console]: =\n",
            "WARNING:rpy2.rinterface_lib.callbacks:R[write to console]: =\n",
            "WARNING:rpy2.rinterface_lib.callbacks:R[write to console]: =\n",
            "WARNING:rpy2.rinterface_lib.callbacks:R[write to console]: =\n",
            "WARNING:rpy2.rinterface_lib.callbacks:R[write to console]: =\n",
            "WARNING:rpy2.rinterface_lib.callbacks:R[write to console]: =\n",
            "WARNING:rpy2.rinterface_lib.callbacks:R[write to console]: =\n",
            "WARNING:rpy2.rinterface_lib.callbacks:R[write to console]: =\n",
            "WARNING:rpy2.rinterface_lib.callbacks:R[write to console]: =\n",
            "WARNING:rpy2.rinterface_lib.callbacks:R[write to console]: =\n",
            "WARNING:rpy2.rinterface_lib.callbacks:R[write to console]: =\n",
            "WARNING:rpy2.rinterface_lib.callbacks:R[write to console]: =\n",
            "WARNING:rpy2.rinterface_lib.callbacks:R[write to console]: =\n",
            "WARNING:rpy2.rinterface_lib.callbacks:R[write to console]: =\n",
            "WARNING:rpy2.rinterface_lib.callbacks:R[write to console]: =\n",
            "WARNING:rpy2.rinterface_lib.callbacks:R[write to console]: =\n",
            "WARNING:rpy2.rinterface_lib.callbacks:R[write to console]: =\n",
            "WARNING:rpy2.rinterface_lib.callbacks:R[write to console]: =\n",
            "WARNING:rpy2.rinterface_lib.callbacks:R[write to console]: =\n",
            "WARNING:rpy2.rinterface_lib.callbacks:R[write to console]: =\n",
            "WARNING:rpy2.rinterface_lib.callbacks:R[write to console]: =\n",
            "WARNING:rpy2.rinterface_lib.callbacks:R[write to console]: =\n",
            "WARNING:rpy2.rinterface_lib.callbacks:R[write to console]: =\n",
            "WARNING:rpy2.rinterface_lib.callbacks:R[write to console]: =\n",
            "WARNING:rpy2.rinterface_lib.callbacks:R[write to console]: =\n",
            "WARNING:rpy2.rinterface_lib.callbacks:R[write to console]: =\n",
            "WARNING:rpy2.rinterface_lib.callbacks:R[write to console]: =\n",
            "WARNING:rpy2.rinterface_lib.callbacks:R[write to console]: =\n",
            "WARNING:rpy2.rinterface_lib.callbacks:R[write to console]: =\n",
            "WARNING:rpy2.rinterface_lib.callbacks:R[write to console]: =\n",
            "WARNING:rpy2.rinterface_lib.callbacks:R[write to console]: =\n",
            "WARNING:rpy2.rinterface_lib.callbacks:R[write to console]: =\n",
            "WARNING:rpy2.rinterface_lib.callbacks:R[write to console]: =\n",
            "WARNING:rpy2.rinterface_lib.callbacks:R[write to console]: =\n",
            "WARNING:rpy2.rinterface_lib.callbacks:R[write to console]: =\n",
            "WARNING:rpy2.rinterface_lib.callbacks:R[write to console]: =\n",
            "WARNING:rpy2.rinterface_lib.callbacks:R[write to console]: =\n",
            "WARNING:rpy2.rinterface_lib.callbacks:R[write to console]: \n",
            "\n",
            "WARNING:rpy2.rinterface_lib.callbacks:R[write to console]: downloaded 11 KB\n",
            "\n",
            "\n",
            "WARNING:rpy2.rinterface_lib.callbacks:R[write to console]: trying URL 'https://cran.rstudio.com/src/contrib/cvar_0.5.tar.gz'\n",
            "\n",
            "WARNING:rpy2.rinterface_lib.callbacks:R[write to console]: Content type 'application/x-gzip'\n",
            "WARNING:rpy2.rinterface_lib.callbacks:R[write to console]:  length 255174 bytes (249 KB)\n",
            "\n",
            "WARNING:rpy2.rinterface_lib.callbacks:R[write to console]: =\n",
            "WARNING:rpy2.rinterface_lib.callbacks:R[write to console]: =\n",
            "WARNING:rpy2.rinterface_lib.callbacks:R[write to console]: =\n",
            "WARNING:rpy2.rinterface_lib.callbacks:R[write to console]: =\n",
            "WARNING:rpy2.rinterface_lib.callbacks:R[write to console]: =\n",
            "WARNING:rpy2.rinterface_lib.callbacks:R[write to console]: =\n",
            "WARNING:rpy2.rinterface_lib.callbacks:R[write to console]: =\n",
            "WARNING:rpy2.rinterface_lib.callbacks:R[write to console]: =\n",
            "WARNING:rpy2.rinterface_lib.callbacks:R[write to console]: =\n",
            "WARNING:rpy2.rinterface_lib.callbacks:R[write to console]: =\n",
            "WARNING:rpy2.rinterface_lib.callbacks:R[write to console]: =\n",
            "WARNING:rpy2.rinterface_lib.callbacks:R[write to console]: =\n",
            "WARNING:rpy2.rinterface_lib.callbacks:R[write to console]: =\n",
            "WARNING:rpy2.rinterface_lib.callbacks:R[write to console]: =\n",
            "WARNING:rpy2.rinterface_lib.callbacks:R[write to console]: =\n",
            "WARNING:rpy2.rinterface_lib.callbacks:R[write to console]: =\n",
            "WARNING:rpy2.rinterface_lib.callbacks:R[write to console]: =\n",
            "WARNING:rpy2.rinterface_lib.callbacks:R[write to console]: =\n",
            "WARNING:rpy2.rinterface_lib.callbacks:R[write to console]: =\n",
            "WARNING:rpy2.rinterface_lib.callbacks:R[write to console]: =\n",
            "WARNING:rpy2.rinterface_lib.callbacks:R[write to console]: =\n",
            "WARNING:rpy2.rinterface_lib.callbacks:R[write to console]: =\n",
            "WARNING:rpy2.rinterface_lib.callbacks:R[write to console]: =\n",
            "WARNING:rpy2.rinterface_lib.callbacks:R[write to console]: =\n",
            "WARNING:rpy2.rinterface_lib.callbacks:R[write to console]: =\n",
            "WARNING:rpy2.rinterface_lib.callbacks:R[write to console]: =\n",
            "WARNING:rpy2.rinterface_lib.callbacks:R[write to console]: =\n",
            "WARNING:rpy2.rinterface_lib.callbacks:R[write to console]: =\n",
            "WARNING:rpy2.rinterface_lib.callbacks:R[write to console]: =\n",
            "WARNING:rpy2.rinterface_lib.callbacks:R[write to console]: =\n",
            "WARNING:rpy2.rinterface_lib.callbacks:R[write to console]: =\n",
            "WARNING:rpy2.rinterface_lib.callbacks:R[write to console]: =\n",
            "WARNING:rpy2.rinterface_lib.callbacks:R[write to console]: =\n",
            "WARNING:rpy2.rinterface_lib.callbacks:R[write to console]: =\n",
            "WARNING:rpy2.rinterface_lib.callbacks:R[write to console]: =\n",
            "WARNING:rpy2.rinterface_lib.callbacks:R[write to console]: =\n",
            "WARNING:rpy2.rinterface_lib.callbacks:R[write to console]: =\n",
            "WARNING:rpy2.rinterface_lib.callbacks:R[write to console]: =\n",
            "WARNING:rpy2.rinterface_lib.callbacks:R[write to console]: =\n",
            "WARNING:rpy2.rinterface_lib.callbacks:R[write to console]: =\n",
            "WARNING:rpy2.rinterface_lib.callbacks:R[write to console]: =\n",
            "WARNING:rpy2.rinterface_lib.callbacks:R[write to console]: =\n",
            "WARNING:rpy2.rinterface_lib.callbacks:R[write to console]: =\n",
            "WARNING:rpy2.rinterface_lib.callbacks:R[write to console]: =\n",
            "WARNING:rpy2.rinterface_lib.callbacks:R[write to console]: =\n",
            "WARNING:rpy2.rinterface_lib.callbacks:R[write to console]: =\n",
            "WARNING:rpy2.rinterface_lib.callbacks:R[write to console]: =\n",
            "WARNING:rpy2.rinterface_lib.callbacks:R[write to console]: =\n",
            "WARNING:rpy2.rinterface_lib.callbacks:R[write to console]: =\n",
            "WARNING:rpy2.rinterface_lib.callbacks:R[write to console]: =\n",
            "WARNING:rpy2.rinterface_lib.callbacks:R[write to console]: \n",
            "\n",
            "WARNING:rpy2.rinterface_lib.callbacks:R[write to console]: downloaded 249 KB\n",
            "\n",
            "\n",
            "WARNING:rpy2.rinterface_lib.callbacks:R[write to console]: trying URL 'https://cran.rstudio.com/src/contrib/arabicStemR_1.3.tar.gz'\n",
            "\n",
            "WARNING:rpy2.rinterface_lib.callbacks:R[write to console]: Content type 'application/x-gzip'\n",
            "WARNING:rpy2.rinterface_lib.callbacks:R[write to console]:  length 13371 bytes (13 KB)\n",
            "\n",
            "WARNING:rpy2.rinterface_lib.callbacks:R[write to console]: =\n",
            "WARNING:rpy2.rinterface_lib.callbacks:R[write to console]: =\n",
            "WARNING:rpy2.rinterface_lib.callbacks:R[write to console]: =\n",
            "WARNING:rpy2.rinterface_lib.callbacks:R[write to console]: =\n",
            "WARNING:rpy2.rinterface_lib.callbacks:R[write to console]: =\n",
            "WARNING:rpy2.rinterface_lib.callbacks:R[write to console]: =\n",
            "WARNING:rpy2.rinterface_lib.callbacks:R[write to console]: =\n",
            "WARNING:rpy2.rinterface_lib.callbacks:R[write to console]: =\n",
            "WARNING:rpy2.rinterface_lib.callbacks:R[write to console]: =\n",
            "WARNING:rpy2.rinterface_lib.callbacks:R[write to console]: =\n",
            "WARNING:rpy2.rinterface_lib.callbacks:R[write to console]: =\n",
            "WARNING:rpy2.rinterface_lib.callbacks:R[write to console]: =\n",
            "WARNING:rpy2.rinterface_lib.callbacks:R[write to console]: =\n",
            "WARNING:rpy2.rinterface_lib.callbacks:R[write to console]: =\n",
            "WARNING:rpy2.rinterface_lib.callbacks:R[write to console]: =\n",
            "WARNING:rpy2.rinterface_lib.callbacks:R[write to console]: =\n",
            "WARNING:rpy2.rinterface_lib.callbacks:R[write to console]: =\n",
            "WARNING:rpy2.rinterface_lib.callbacks:R[write to console]: =\n",
            "WARNING:rpy2.rinterface_lib.callbacks:R[write to console]: =\n",
            "WARNING:rpy2.rinterface_lib.callbacks:R[write to console]: =\n",
            "WARNING:rpy2.rinterface_lib.callbacks:R[write to console]: =\n",
            "WARNING:rpy2.rinterface_lib.callbacks:R[write to console]: =\n",
            "WARNING:rpy2.rinterface_lib.callbacks:R[write to console]: =\n",
            "WARNING:rpy2.rinterface_lib.callbacks:R[write to console]: =\n",
            "WARNING:rpy2.rinterface_lib.callbacks:R[write to console]: =\n",
            "WARNING:rpy2.rinterface_lib.callbacks:R[write to console]: =\n",
            "WARNING:rpy2.rinterface_lib.callbacks:R[write to console]: =\n",
            "WARNING:rpy2.rinterface_lib.callbacks:R[write to console]: =\n",
            "WARNING:rpy2.rinterface_lib.callbacks:R[write to console]: =\n",
            "WARNING:rpy2.rinterface_lib.callbacks:R[write to console]: =\n",
            "WARNING:rpy2.rinterface_lib.callbacks:R[write to console]: =\n",
            "WARNING:rpy2.rinterface_lib.callbacks:R[write to console]: =\n",
            "WARNING:rpy2.rinterface_lib.callbacks:R[write to console]: =\n",
            "WARNING:rpy2.rinterface_lib.callbacks:R[write to console]: =\n",
            "WARNING:rpy2.rinterface_lib.callbacks:R[write to console]: =\n",
            "WARNING:rpy2.rinterface_lib.callbacks:R[write to console]: =\n",
            "WARNING:rpy2.rinterface_lib.callbacks:R[write to console]: =\n",
            "WARNING:rpy2.rinterface_lib.callbacks:R[write to console]: =\n",
            "WARNING:rpy2.rinterface_lib.callbacks:R[write to console]: =\n",
            "WARNING:rpy2.rinterface_lib.callbacks:R[write to console]: =\n",
            "WARNING:rpy2.rinterface_lib.callbacks:R[write to console]: =\n",
            "WARNING:rpy2.rinterface_lib.callbacks:R[write to console]: =\n",
            "WARNING:rpy2.rinterface_lib.callbacks:R[write to console]: =\n",
            "WARNING:rpy2.rinterface_lib.callbacks:R[write to console]: =\n",
            "WARNING:rpy2.rinterface_lib.callbacks:R[write to console]: =\n",
            "WARNING:rpy2.rinterface_lib.callbacks:R[write to console]: =\n",
            "WARNING:rpy2.rinterface_lib.callbacks:R[write to console]: =\n",
            "WARNING:rpy2.rinterface_lib.callbacks:R[write to console]: =\n",
            "WARNING:rpy2.rinterface_lib.callbacks:R[write to console]: =\n",
            "WARNING:rpy2.rinterface_lib.callbacks:R[write to console]: =\n",
            "WARNING:rpy2.rinterface_lib.callbacks:R[write to console]: \n",
            "\n",
            "WARNING:rpy2.rinterface_lib.callbacks:R[write to console]: downloaded 13 KB\n",
            "\n",
            "\n",
            "WARNING:rpy2.rinterface_lib.callbacks:R[write to console]: trying URL 'https://cran.rstudio.com/src/contrib/tidytext_0.4.1.tar.gz'\n",
            "\n",
            "WARNING:rpy2.rinterface_lib.callbacks:R[write to console]: Content type 'application/x-gzip'\n",
            "WARNING:rpy2.rinterface_lib.callbacks:R[write to console]:  length 3138568 bytes (3.0 MB)\n",
            "\n",
            "WARNING:rpy2.rinterface_lib.callbacks:R[write to console]: =\n",
            "WARNING:rpy2.rinterface_lib.callbacks:R[write to console]: =\n",
            "WARNING:rpy2.rinterface_lib.callbacks:R[write to console]: =\n",
            "WARNING:rpy2.rinterface_lib.callbacks:R[write to console]: =\n",
            "WARNING:rpy2.rinterface_lib.callbacks:R[write to console]: =\n",
            "WARNING:rpy2.rinterface_lib.callbacks:R[write to console]: =\n",
            "WARNING:rpy2.rinterface_lib.callbacks:R[write to console]: =\n",
            "WARNING:rpy2.rinterface_lib.callbacks:R[write to console]: =\n",
            "WARNING:rpy2.rinterface_lib.callbacks:R[write to console]: =\n",
            "WARNING:rpy2.rinterface_lib.callbacks:R[write to console]: =\n",
            "WARNING:rpy2.rinterface_lib.callbacks:R[write to console]: =\n",
            "WARNING:rpy2.rinterface_lib.callbacks:R[write to console]: =\n",
            "WARNING:rpy2.rinterface_lib.callbacks:R[write to console]: =\n",
            "WARNING:rpy2.rinterface_lib.callbacks:R[write to console]: =\n",
            "WARNING:rpy2.rinterface_lib.callbacks:R[write to console]: =\n",
            "WARNING:rpy2.rinterface_lib.callbacks:R[write to console]: =\n",
            "WARNING:rpy2.rinterface_lib.callbacks:R[write to console]: =\n",
            "WARNING:rpy2.rinterface_lib.callbacks:R[write to console]: =\n",
            "WARNING:rpy2.rinterface_lib.callbacks:R[write to console]: =\n",
            "WARNING:rpy2.rinterface_lib.callbacks:R[write to console]: =\n",
            "WARNING:rpy2.rinterface_lib.callbacks:R[write to console]: =\n",
            "WARNING:rpy2.rinterface_lib.callbacks:R[write to console]: =\n",
            "WARNING:rpy2.rinterface_lib.callbacks:R[write to console]: =\n",
            "WARNING:rpy2.rinterface_lib.callbacks:R[write to console]: =\n",
            "WARNING:rpy2.rinterface_lib.callbacks:R[write to console]: =\n",
            "WARNING:rpy2.rinterface_lib.callbacks:R[write to console]: =\n",
            "WARNING:rpy2.rinterface_lib.callbacks:R[write to console]: =\n",
            "WARNING:rpy2.rinterface_lib.callbacks:R[write to console]: =\n",
            "WARNING:rpy2.rinterface_lib.callbacks:R[write to console]: =\n",
            "WARNING:rpy2.rinterface_lib.callbacks:R[write to console]: =\n",
            "WARNING:rpy2.rinterface_lib.callbacks:R[write to console]: =\n",
            "WARNING:rpy2.rinterface_lib.callbacks:R[write to console]: =\n",
            "WARNING:rpy2.rinterface_lib.callbacks:R[write to console]: =\n",
            "WARNING:rpy2.rinterface_lib.callbacks:R[write to console]: =\n",
            "WARNING:rpy2.rinterface_lib.callbacks:R[write to console]: =\n",
            "WARNING:rpy2.rinterface_lib.callbacks:R[write to console]: =\n",
            "WARNING:rpy2.rinterface_lib.callbacks:R[write to console]: =\n",
            "WARNING:rpy2.rinterface_lib.callbacks:R[write to console]: =\n",
            "WARNING:rpy2.rinterface_lib.callbacks:R[write to console]: =\n",
            "WARNING:rpy2.rinterface_lib.callbacks:R[write to console]: =\n",
            "WARNING:rpy2.rinterface_lib.callbacks:R[write to console]: =\n",
            "WARNING:rpy2.rinterface_lib.callbacks:R[write to console]: =\n",
            "WARNING:rpy2.rinterface_lib.callbacks:R[write to console]: =\n",
            "WARNING:rpy2.rinterface_lib.callbacks:R[write to console]: =\n",
            "WARNING:rpy2.rinterface_lib.callbacks:R[write to console]: =\n",
            "WARNING:rpy2.rinterface_lib.callbacks:R[write to console]: =\n",
            "WARNING:rpy2.rinterface_lib.callbacks:R[write to console]: =\n",
            "WARNING:rpy2.rinterface_lib.callbacks:R[write to console]: =\n",
            "WARNING:rpy2.rinterface_lib.callbacks:R[write to console]: =\n",
            "WARNING:rpy2.rinterface_lib.callbacks:R[write to console]: =\n",
            "WARNING:rpy2.rinterface_lib.callbacks:R[write to console]: \n",
            "\n",
            "WARNING:rpy2.rinterface_lib.callbacks:R[write to console]: downloaded 3.0 MB\n",
            "\n",
            "\n",
            "WARNING:rpy2.rinterface_lib.callbacks:R[write to console]: trying URL 'https://cran.rstudio.com/src/contrib/gridExtra_2.3.tar.gz'\n",
            "\n",
            "WARNING:rpy2.rinterface_lib.callbacks:R[write to console]: Content type 'application/x-gzip'\n",
            "WARNING:rpy2.rinterface_lib.callbacks:R[write to console]:  length 1062844 bytes (1.0 MB)\n",
            "\n",
            "WARNING:rpy2.rinterface_lib.callbacks:R[write to console]: =\n",
            "WARNING:rpy2.rinterface_lib.callbacks:R[write to console]: =\n",
            "WARNING:rpy2.rinterface_lib.callbacks:R[write to console]: =\n",
            "WARNING:rpy2.rinterface_lib.callbacks:R[write to console]: =\n",
            "WARNING:rpy2.rinterface_lib.callbacks:R[write to console]: =\n",
            "WARNING:rpy2.rinterface_lib.callbacks:R[write to console]: =\n",
            "WARNING:rpy2.rinterface_lib.callbacks:R[write to console]: =\n",
            "WARNING:rpy2.rinterface_lib.callbacks:R[write to console]: =\n",
            "WARNING:rpy2.rinterface_lib.callbacks:R[write to console]: =\n",
            "WARNING:rpy2.rinterface_lib.callbacks:R[write to console]: =\n",
            "WARNING:rpy2.rinterface_lib.callbacks:R[write to console]: =\n",
            "WARNING:rpy2.rinterface_lib.callbacks:R[write to console]: =\n",
            "WARNING:rpy2.rinterface_lib.callbacks:R[write to console]: =\n",
            "WARNING:rpy2.rinterface_lib.callbacks:R[write to console]: =\n",
            "WARNING:rpy2.rinterface_lib.callbacks:R[write to console]: =\n",
            "WARNING:rpy2.rinterface_lib.callbacks:R[write to console]: =\n",
            "WARNING:rpy2.rinterface_lib.callbacks:R[write to console]: =\n",
            "WARNING:rpy2.rinterface_lib.callbacks:R[write to console]: =\n",
            "WARNING:rpy2.rinterface_lib.callbacks:R[write to console]: =\n",
            "WARNING:rpy2.rinterface_lib.callbacks:R[write to console]: =\n",
            "WARNING:rpy2.rinterface_lib.callbacks:R[write to console]: =\n",
            "WARNING:rpy2.rinterface_lib.callbacks:R[write to console]: =\n",
            "WARNING:rpy2.rinterface_lib.callbacks:R[write to console]: =\n",
            "WARNING:rpy2.rinterface_lib.callbacks:R[write to console]: =\n",
            "WARNING:rpy2.rinterface_lib.callbacks:R[write to console]: =\n",
            "WARNING:rpy2.rinterface_lib.callbacks:R[write to console]: =\n",
            "WARNING:rpy2.rinterface_lib.callbacks:R[write to console]: =\n",
            "WARNING:rpy2.rinterface_lib.callbacks:R[write to console]: =\n",
            "WARNING:rpy2.rinterface_lib.callbacks:R[write to console]: =\n",
            "WARNING:rpy2.rinterface_lib.callbacks:R[write to console]: =\n",
            "WARNING:rpy2.rinterface_lib.callbacks:R[write to console]: =\n",
            "WARNING:rpy2.rinterface_lib.callbacks:R[write to console]: =\n",
            "WARNING:rpy2.rinterface_lib.callbacks:R[write to console]: =\n",
            "WARNING:rpy2.rinterface_lib.callbacks:R[write to console]: =\n",
            "WARNING:rpy2.rinterface_lib.callbacks:R[write to console]: =\n",
            "WARNING:rpy2.rinterface_lib.callbacks:R[write to console]: =\n",
            "WARNING:rpy2.rinterface_lib.callbacks:R[write to console]: =\n",
            "WARNING:rpy2.rinterface_lib.callbacks:R[write to console]: =\n",
            "WARNING:rpy2.rinterface_lib.callbacks:R[write to console]: =\n",
            "WARNING:rpy2.rinterface_lib.callbacks:R[write to console]: =\n",
            "WARNING:rpy2.rinterface_lib.callbacks:R[write to console]: =\n",
            "WARNING:rpy2.rinterface_lib.callbacks:R[write to console]: =\n",
            "WARNING:rpy2.rinterface_lib.callbacks:R[write to console]: =\n",
            "WARNING:rpy2.rinterface_lib.callbacks:R[write to console]: =\n",
            "WARNING:rpy2.rinterface_lib.callbacks:R[write to console]: =\n",
            "WARNING:rpy2.rinterface_lib.callbacks:R[write to console]: =\n",
            "WARNING:rpy2.rinterface_lib.callbacks:R[write to console]: =\n",
            "WARNING:rpy2.rinterface_lib.callbacks:R[write to console]: =\n",
            "WARNING:rpy2.rinterface_lib.callbacks:R[write to console]: =\n",
            "WARNING:rpy2.rinterface_lib.callbacks:R[write to console]: =\n",
            "WARNING:rpy2.rinterface_lib.callbacks:R[write to console]: \n",
            "\n",
            "WARNING:rpy2.rinterface_lib.callbacks:R[write to console]: downloaded 1.0 MB\n",
            "\n",
            "\n",
            "WARNING:rpy2.rinterface_lib.callbacks:R[write to console]: trying URL 'https://cran.rstudio.com/src/contrib/wordcloud2_0.2.1.tar.gz'\n",
            "\n",
            "WARNING:rpy2.rinterface_lib.callbacks:R[write to console]: Content type 'application/x-gzip'\n",
            "WARNING:rpy2.rinterface_lib.callbacks:R[write to console]:  length 1849493 bytes (1.8 MB)\n",
            "\n",
            "WARNING:rpy2.rinterface_lib.callbacks:R[write to console]: =\n",
            "WARNING:rpy2.rinterface_lib.callbacks:R[write to console]: =\n",
            "WARNING:rpy2.rinterface_lib.callbacks:R[write to console]: =\n",
            "WARNING:rpy2.rinterface_lib.callbacks:R[write to console]: =\n",
            "WARNING:rpy2.rinterface_lib.callbacks:R[write to console]: =\n",
            "WARNING:rpy2.rinterface_lib.callbacks:R[write to console]: =\n",
            "WARNING:rpy2.rinterface_lib.callbacks:R[write to console]: =\n",
            "WARNING:rpy2.rinterface_lib.callbacks:R[write to console]: =\n",
            "WARNING:rpy2.rinterface_lib.callbacks:R[write to console]: =\n",
            "WARNING:rpy2.rinterface_lib.callbacks:R[write to console]: =\n",
            "WARNING:rpy2.rinterface_lib.callbacks:R[write to console]: =\n",
            "WARNING:rpy2.rinterface_lib.callbacks:R[write to console]: =\n",
            "WARNING:rpy2.rinterface_lib.callbacks:R[write to console]: =\n",
            "WARNING:rpy2.rinterface_lib.callbacks:R[write to console]: =\n",
            "WARNING:rpy2.rinterface_lib.callbacks:R[write to console]: =\n",
            "WARNING:rpy2.rinterface_lib.callbacks:R[write to console]: =\n",
            "WARNING:rpy2.rinterface_lib.callbacks:R[write to console]: =\n",
            "WARNING:rpy2.rinterface_lib.callbacks:R[write to console]: =\n",
            "WARNING:rpy2.rinterface_lib.callbacks:R[write to console]: =\n",
            "WARNING:rpy2.rinterface_lib.callbacks:R[write to console]: =\n",
            "WARNING:rpy2.rinterface_lib.callbacks:R[write to console]: =\n",
            "WARNING:rpy2.rinterface_lib.callbacks:R[write to console]: =\n",
            "WARNING:rpy2.rinterface_lib.callbacks:R[write to console]: =\n",
            "WARNING:rpy2.rinterface_lib.callbacks:R[write to console]: =\n",
            "WARNING:rpy2.rinterface_lib.callbacks:R[write to console]: =\n",
            "WARNING:rpy2.rinterface_lib.callbacks:R[write to console]: =\n",
            "WARNING:rpy2.rinterface_lib.callbacks:R[write to console]: =\n",
            "WARNING:rpy2.rinterface_lib.callbacks:R[write to console]: =\n",
            "WARNING:rpy2.rinterface_lib.callbacks:R[write to console]: =\n",
            "WARNING:rpy2.rinterface_lib.callbacks:R[write to console]: =\n",
            "WARNING:rpy2.rinterface_lib.callbacks:R[write to console]: =\n",
            "WARNING:rpy2.rinterface_lib.callbacks:R[write to console]: =\n",
            "WARNING:rpy2.rinterface_lib.callbacks:R[write to console]: =\n",
            "WARNING:rpy2.rinterface_lib.callbacks:R[write to console]: =\n",
            "WARNING:rpy2.rinterface_lib.callbacks:R[write to console]: =\n",
            "WARNING:rpy2.rinterface_lib.callbacks:R[write to console]: =\n",
            "WARNING:rpy2.rinterface_lib.callbacks:R[write to console]: =\n",
            "WARNING:rpy2.rinterface_lib.callbacks:R[write to console]: =\n",
            "WARNING:rpy2.rinterface_lib.callbacks:R[write to console]: =\n",
            "WARNING:rpy2.rinterface_lib.callbacks:R[write to console]: =\n",
            "WARNING:rpy2.rinterface_lib.callbacks:R[write to console]: =\n",
            "WARNING:rpy2.rinterface_lib.callbacks:R[write to console]: =\n",
            "WARNING:rpy2.rinterface_lib.callbacks:R[write to console]: =\n",
            "WARNING:rpy2.rinterface_lib.callbacks:R[write to console]: =\n",
            "WARNING:rpy2.rinterface_lib.callbacks:R[write to console]: =\n",
            "WARNING:rpy2.rinterface_lib.callbacks:R[write to console]: =\n",
            "WARNING:rpy2.rinterface_lib.callbacks:R[write to console]: =\n",
            "WARNING:rpy2.rinterface_lib.callbacks:R[write to console]: =\n",
            "WARNING:rpy2.rinterface_lib.callbacks:R[write to console]: =\n",
            "WARNING:rpy2.rinterface_lib.callbacks:R[write to console]: =\n",
            "WARNING:rpy2.rinterface_lib.callbacks:R[write to console]: \n",
            "\n",
            "WARNING:rpy2.rinterface_lib.callbacks:R[write to console]: downloaded 1.8 MB\n",
            "\n",
            "\n",
            "WARNING:rpy2.rinterface_lib.callbacks:R[write to console]: trying URL 'https://cran.rstudio.com/src/contrib/plotly_4.10.1.tar.gz'\n",
            "\n",
            "WARNING:rpy2.rinterface_lib.callbacks:R[write to console]: Content type 'application/x-gzip'\n",
            "WARNING:rpy2.rinterface_lib.callbacks:R[write to console]:  length 3893413 bytes (3.7 MB)\n",
            "\n",
            "WARNING:rpy2.rinterface_lib.callbacks:R[write to console]: =\n",
            "WARNING:rpy2.rinterface_lib.callbacks:R[write to console]: =\n",
            "WARNING:rpy2.rinterface_lib.callbacks:R[write to console]: =\n",
            "WARNING:rpy2.rinterface_lib.callbacks:R[write to console]: =\n",
            "WARNING:rpy2.rinterface_lib.callbacks:R[write to console]: =\n",
            "WARNING:rpy2.rinterface_lib.callbacks:R[write to console]: =\n",
            "WARNING:rpy2.rinterface_lib.callbacks:R[write to console]: =\n",
            "WARNING:rpy2.rinterface_lib.callbacks:R[write to console]: =\n",
            "WARNING:rpy2.rinterface_lib.callbacks:R[write to console]: =\n",
            "WARNING:rpy2.rinterface_lib.callbacks:R[write to console]: =\n",
            "WARNING:rpy2.rinterface_lib.callbacks:R[write to console]: =\n",
            "WARNING:rpy2.rinterface_lib.callbacks:R[write to console]: =\n",
            "WARNING:rpy2.rinterface_lib.callbacks:R[write to console]: =\n",
            "WARNING:rpy2.rinterface_lib.callbacks:R[write to console]: =\n",
            "WARNING:rpy2.rinterface_lib.callbacks:R[write to console]: =\n",
            "WARNING:rpy2.rinterface_lib.callbacks:R[write to console]: =\n",
            "WARNING:rpy2.rinterface_lib.callbacks:R[write to console]: =\n",
            "WARNING:rpy2.rinterface_lib.callbacks:R[write to console]: =\n",
            "WARNING:rpy2.rinterface_lib.callbacks:R[write to console]: =\n",
            "WARNING:rpy2.rinterface_lib.callbacks:R[write to console]: =\n",
            "WARNING:rpy2.rinterface_lib.callbacks:R[write to console]: =\n",
            "WARNING:rpy2.rinterface_lib.callbacks:R[write to console]: =\n",
            "WARNING:rpy2.rinterface_lib.callbacks:R[write to console]: =\n",
            "WARNING:rpy2.rinterface_lib.callbacks:R[write to console]: =\n",
            "WARNING:rpy2.rinterface_lib.callbacks:R[write to console]: =\n",
            "WARNING:rpy2.rinterface_lib.callbacks:R[write to console]: =\n",
            "WARNING:rpy2.rinterface_lib.callbacks:R[write to console]: =\n",
            "WARNING:rpy2.rinterface_lib.callbacks:R[write to console]: =\n",
            "WARNING:rpy2.rinterface_lib.callbacks:R[write to console]: =\n",
            "WARNING:rpy2.rinterface_lib.callbacks:R[write to console]: =\n",
            "WARNING:rpy2.rinterface_lib.callbacks:R[write to console]: =\n",
            "WARNING:rpy2.rinterface_lib.callbacks:R[write to console]: =\n",
            "WARNING:rpy2.rinterface_lib.callbacks:R[write to console]: =\n",
            "WARNING:rpy2.rinterface_lib.callbacks:R[write to console]: =\n",
            "WARNING:rpy2.rinterface_lib.callbacks:R[write to console]: =\n",
            "WARNING:rpy2.rinterface_lib.callbacks:R[write to console]: =\n",
            "WARNING:rpy2.rinterface_lib.callbacks:R[write to console]: =\n",
            "WARNING:rpy2.rinterface_lib.callbacks:R[write to console]: =\n",
            "WARNING:rpy2.rinterface_lib.callbacks:R[write to console]: =\n",
            "WARNING:rpy2.rinterface_lib.callbacks:R[write to console]: =\n",
            "WARNING:rpy2.rinterface_lib.callbacks:R[write to console]: =\n",
            "WARNING:rpy2.rinterface_lib.callbacks:R[write to console]: =\n",
            "WARNING:rpy2.rinterface_lib.callbacks:R[write to console]: =\n",
            "WARNING:rpy2.rinterface_lib.callbacks:R[write to console]: =\n",
            "WARNING:rpy2.rinterface_lib.callbacks:R[write to console]: =\n",
            "WARNING:rpy2.rinterface_lib.callbacks:R[write to console]: =\n",
            "WARNING:rpy2.rinterface_lib.callbacks:R[write to console]: =\n",
            "WARNING:rpy2.rinterface_lib.callbacks:R[write to console]: =\n",
            "WARNING:rpy2.rinterface_lib.callbacks:R[write to console]: =\n",
            "WARNING:rpy2.rinterface_lib.callbacks:R[write to console]: =\n",
            "WARNING:rpy2.rinterface_lib.callbacks:R[write to console]: \n",
            "\n",
            "WARNING:rpy2.rinterface_lib.callbacks:R[write to console]: downloaded 3.7 MB\n",
            "\n",
            "\n",
            "WARNING:rpy2.rinterface_lib.callbacks:R[write to console]: trying URL 'https://cran.rstudio.com/src/contrib/reshape2_1.4.4.tar.gz'\n",
            "\n",
            "WARNING:rpy2.rinterface_lib.callbacks:R[write to console]: Content type 'application/x-gzip'\n",
            "WARNING:rpy2.rinterface_lib.callbacks:R[write to console]:  length 37307 bytes (36 KB)\n",
            "\n",
            "WARNING:rpy2.rinterface_lib.callbacks:R[write to console]: =\n",
            "WARNING:rpy2.rinterface_lib.callbacks:R[write to console]: =\n",
            "WARNING:rpy2.rinterface_lib.callbacks:R[write to console]: =\n",
            "WARNING:rpy2.rinterface_lib.callbacks:R[write to console]: =\n",
            "WARNING:rpy2.rinterface_lib.callbacks:R[write to console]: =\n",
            "WARNING:rpy2.rinterface_lib.callbacks:R[write to console]: =\n",
            "WARNING:rpy2.rinterface_lib.callbacks:R[write to console]: =\n",
            "WARNING:rpy2.rinterface_lib.callbacks:R[write to console]: =\n",
            "WARNING:rpy2.rinterface_lib.callbacks:R[write to console]: =\n",
            "WARNING:rpy2.rinterface_lib.callbacks:R[write to console]: =\n",
            "WARNING:rpy2.rinterface_lib.callbacks:R[write to console]: =\n",
            "WARNING:rpy2.rinterface_lib.callbacks:R[write to console]: =\n",
            "WARNING:rpy2.rinterface_lib.callbacks:R[write to console]: =\n",
            "WARNING:rpy2.rinterface_lib.callbacks:R[write to console]: =\n",
            "WARNING:rpy2.rinterface_lib.callbacks:R[write to console]: =\n",
            "WARNING:rpy2.rinterface_lib.callbacks:R[write to console]: =\n",
            "WARNING:rpy2.rinterface_lib.callbacks:R[write to console]: =\n",
            "WARNING:rpy2.rinterface_lib.callbacks:R[write to console]: =\n",
            "WARNING:rpy2.rinterface_lib.callbacks:R[write to console]: =\n",
            "WARNING:rpy2.rinterface_lib.callbacks:R[write to console]: =\n",
            "WARNING:rpy2.rinterface_lib.callbacks:R[write to console]: =\n",
            "WARNING:rpy2.rinterface_lib.callbacks:R[write to console]: =\n",
            "WARNING:rpy2.rinterface_lib.callbacks:R[write to console]: =\n",
            "WARNING:rpy2.rinterface_lib.callbacks:R[write to console]: =\n",
            "WARNING:rpy2.rinterface_lib.callbacks:R[write to console]: =\n",
            "WARNING:rpy2.rinterface_lib.callbacks:R[write to console]: =\n",
            "WARNING:rpy2.rinterface_lib.callbacks:R[write to console]: =\n",
            "WARNING:rpy2.rinterface_lib.callbacks:R[write to console]: =\n",
            "WARNING:rpy2.rinterface_lib.callbacks:R[write to console]: =\n",
            "WARNING:rpy2.rinterface_lib.callbacks:R[write to console]: =\n",
            "WARNING:rpy2.rinterface_lib.callbacks:R[write to console]: =\n",
            "WARNING:rpy2.rinterface_lib.callbacks:R[write to console]: =\n",
            "WARNING:rpy2.rinterface_lib.callbacks:R[write to console]: =\n",
            "WARNING:rpy2.rinterface_lib.callbacks:R[write to console]: =\n",
            "WARNING:rpy2.rinterface_lib.callbacks:R[write to console]: =\n",
            "WARNING:rpy2.rinterface_lib.callbacks:R[write to console]: =\n",
            "WARNING:rpy2.rinterface_lib.callbacks:R[write to console]: =\n",
            "WARNING:rpy2.rinterface_lib.callbacks:R[write to console]: =\n",
            "WARNING:rpy2.rinterface_lib.callbacks:R[write to console]: =\n",
            "WARNING:rpy2.rinterface_lib.callbacks:R[write to console]: =\n",
            "WARNING:rpy2.rinterface_lib.callbacks:R[write to console]: =\n",
            "WARNING:rpy2.rinterface_lib.callbacks:R[write to console]: =\n",
            "WARNING:rpy2.rinterface_lib.callbacks:R[write to console]: =\n",
            "WARNING:rpy2.rinterface_lib.callbacks:R[write to console]: =\n",
            "WARNING:rpy2.rinterface_lib.callbacks:R[write to console]: =\n",
            "WARNING:rpy2.rinterface_lib.callbacks:R[write to console]: =\n",
            "WARNING:rpy2.rinterface_lib.callbacks:R[write to console]: =\n",
            "WARNING:rpy2.rinterface_lib.callbacks:R[write to console]: =\n",
            "WARNING:rpy2.rinterface_lib.callbacks:R[write to console]: =\n",
            "WARNING:rpy2.rinterface_lib.callbacks:R[write to console]: =\n",
            "WARNING:rpy2.rinterface_lib.callbacks:R[write to console]: \n",
            "\n",
            "WARNING:rpy2.rinterface_lib.callbacks:R[write to console]: downloaded 36 KB\n",
            "\n",
            "\n",
            "WARNING:rpy2.rinterface_lib.callbacks:R[write to console]: trying URL 'https://cran.rstudio.com/src/contrib/kableExtra_1.3.4.tar.gz'\n",
            "\n",
            "WARNING:rpy2.rinterface_lib.callbacks:R[write to console]: Content type 'application/x-gzip'\n",
            "WARNING:rpy2.rinterface_lib.callbacks:R[write to console]:  length 1646490 bytes (1.6 MB)\n",
            "\n",
            "WARNING:rpy2.rinterface_lib.callbacks:R[write to console]: =\n",
            "WARNING:rpy2.rinterface_lib.callbacks:R[write to console]: =\n",
            "WARNING:rpy2.rinterface_lib.callbacks:R[write to console]: =\n",
            "WARNING:rpy2.rinterface_lib.callbacks:R[write to console]: =\n",
            "WARNING:rpy2.rinterface_lib.callbacks:R[write to console]: =\n",
            "WARNING:rpy2.rinterface_lib.callbacks:R[write to console]: =\n",
            "WARNING:rpy2.rinterface_lib.callbacks:R[write to console]: =\n",
            "WARNING:rpy2.rinterface_lib.callbacks:R[write to console]: =\n",
            "WARNING:rpy2.rinterface_lib.callbacks:R[write to console]: =\n",
            "WARNING:rpy2.rinterface_lib.callbacks:R[write to console]: =\n",
            "WARNING:rpy2.rinterface_lib.callbacks:R[write to console]: =\n",
            "WARNING:rpy2.rinterface_lib.callbacks:R[write to console]: =\n",
            "WARNING:rpy2.rinterface_lib.callbacks:R[write to console]: =\n",
            "WARNING:rpy2.rinterface_lib.callbacks:R[write to console]: =\n",
            "WARNING:rpy2.rinterface_lib.callbacks:R[write to console]: =\n",
            "WARNING:rpy2.rinterface_lib.callbacks:R[write to console]: =\n",
            "WARNING:rpy2.rinterface_lib.callbacks:R[write to console]: =\n",
            "WARNING:rpy2.rinterface_lib.callbacks:R[write to console]: =\n",
            "WARNING:rpy2.rinterface_lib.callbacks:R[write to console]: =\n",
            "WARNING:rpy2.rinterface_lib.callbacks:R[write to console]: =\n",
            "WARNING:rpy2.rinterface_lib.callbacks:R[write to console]: =\n",
            "WARNING:rpy2.rinterface_lib.callbacks:R[write to console]: =\n",
            "WARNING:rpy2.rinterface_lib.callbacks:R[write to console]: =\n",
            "WARNING:rpy2.rinterface_lib.callbacks:R[write to console]: =\n",
            "WARNING:rpy2.rinterface_lib.callbacks:R[write to console]: =\n",
            "WARNING:rpy2.rinterface_lib.callbacks:R[write to console]: =\n",
            "WARNING:rpy2.rinterface_lib.callbacks:R[write to console]: =\n",
            "WARNING:rpy2.rinterface_lib.callbacks:R[write to console]: =\n",
            "WARNING:rpy2.rinterface_lib.callbacks:R[write to console]: =\n",
            "WARNING:rpy2.rinterface_lib.callbacks:R[write to console]: =\n",
            "WARNING:rpy2.rinterface_lib.callbacks:R[write to console]: =\n",
            "WARNING:rpy2.rinterface_lib.callbacks:R[write to console]: =\n",
            "WARNING:rpy2.rinterface_lib.callbacks:R[write to console]: =\n",
            "WARNING:rpy2.rinterface_lib.callbacks:R[write to console]: =\n",
            "WARNING:rpy2.rinterface_lib.callbacks:R[write to console]: =\n",
            "WARNING:rpy2.rinterface_lib.callbacks:R[write to console]: =\n",
            "WARNING:rpy2.rinterface_lib.callbacks:R[write to console]: =\n",
            "WARNING:rpy2.rinterface_lib.callbacks:R[write to console]: =\n",
            "WARNING:rpy2.rinterface_lib.callbacks:R[write to console]: =\n",
            "WARNING:rpy2.rinterface_lib.callbacks:R[write to console]: =\n",
            "WARNING:rpy2.rinterface_lib.callbacks:R[write to console]: =\n",
            "WARNING:rpy2.rinterface_lib.callbacks:R[write to console]: =\n",
            "WARNING:rpy2.rinterface_lib.callbacks:R[write to console]: =\n",
            "WARNING:rpy2.rinterface_lib.callbacks:R[write to console]: =\n",
            "WARNING:rpy2.rinterface_lib.callbacks:R[write to console]: =\n",
            "WARNING:rpy2.rinterface_lib.callbacks:R[write to console]: =\n",
            "WARNING:rpy2.rinterface_lib.callbacks:R[write to console]: =\n",
            "WARNING:rpy2.rinterface_lib.callbacks:R[write to console]: =\n",
            "WARNING:rpy2.rinterface_lib.callbacks:R[write to console]: =\n",
            "WARNING:rpy2.rinterface_lib.callbacks:R[write to console]: =\n",
            "WARNING:rpy2.rinterface_lib.callbacks:R[write to console]: \n",
            "\n",
            "WARNING:rpy2.rinterface_lib.callbacks:R[write to console]: downloaded 1.6 MB\n",
            "\n",
            "\n",
            "WARNING:rpy2.rinterface_lib.callbacks:R[write to console]: trying URL 'https://cran.rstudio.com/src/contrib/formattable_0.2.1.tar.gz'\n",
            "\n",
            "WARNING:rpy2.rinterface_lib.callbacks:R[write to console]: Content type 'application/x-gzip'\n",
            "WARNING:rpy2.rinterface_lib.callbacks:R[write to console]:  length 57063 bytes (55 KB)\n",
            "\n",
            "WARNING:rpy2.rinterface_lib.callbacks:R[write to console]: =\n",
            "WARNING:rpy2.rinterface_lib.callbacks:R[write to console]: =\n",
            "WARNING:rpy2.rinterface_lib.callbacks:R[write to console]: =\n",
            "WARNING:rpy2.rinterface_lib.callbacks:R[write to console]: =\n",
            "WARNING:rpy2.rinterface_lib.callbacks:R[write to console]: =\n",
            "WARNING:rpy2.rinterface_lib.callbacks:R[write to console]: =\n",
            "WARNING:rpy2.rinterface_lib.callbacks:R[write to console]: =\n",
            "WARNING:rpy2.rinterface_lib.callbacks:R[write to console]: =\n",
            "WARNING:rpy2.rinterface_lib.callbacks:R[write to console]: =\n",
            "WARNING:rpy2.rinterface_lib.callbacks:R[write to console]: =\n",
            "WARNING:rpy2.rinterface_lib.callbacks:R[write to console]: =\n",
            "WARNING:rpy2.rinterface_lib.callbacks:R[write to console]: =\n",
            "WARNING:rpy2.rinterface_lib.callbacks:R[write to console]: =\n",
            "WARNING:rpy2.rinterface_lib.callbacks:R[write to console]: =\n",
            "WARNING:rpy2.rinterface_lib.callbacks:R[write to console]: =\n",
            "WARNING:rpy2.rinterface_lib.callbacks:R[write to console]: =\n",
            "WARNING:rpy2.rinterface_lib.callbacks:R[write to console]: =\n",
            "WARNING:rpy2.rinterface_lib.callbacks:R[write to console]: =\n",
            "WARNING:rpy2.rinterface_lib.callbacks:R[write to console]: =\n",
            "WARNING:rpy2.rinterface_lib.callbacks:R[write to console]: =\n",
            "WARNING:rpy2.rinterface_lib.callbacks:R[write to console]: =\n",
            "WARNING:rpy2.rinterface_lib.callbacks:R[write to console]: =\n",
            "WARNING:rpy2.rinterface_lib.callbacks:R[write to console]: =\n",
            "WARNING:rpy2.rinterface_lib.callbacks:R[write to console]: =\n",
            "WARNING:rpy2.rinterface_lib.callbacks:R[write to console]: =\n",
            "WARNING:rpy2.rinterface_lib.callbacks:R[write to console]: =\n",
            "WARNING:rpy2.rinterface_lib.callbacks:R[write to console]: =\n",
            "WARNING:rpy2.rinterface_lib.callbacks:R[write to console]: =\n",
            "WARNING:rpy2.rinterface_lib.callbacks:R[write to console]: =\n",
            "WARNING:rpy2.rinterface_lib.callbacks:R[write to console]: =\n",
            "WARNING:rpy2.rinterface_lib.callbacks:R[write to console]: =\n",
            "WARNING:rpy2.rinterface_lib.callbacks:R[write to console]: =\n",
            "WARNING:rpy2.rinterface_lib.callbacks:R[write to console]: =\n",
            "WARNING:rpy2.rinterface_lib.callbacks:R[write to console]: =\n",
            "WARNING:rpy2.rinterface_lib.callbacks:R[write to console]: =\n",
            "WARNING:rpy2.rinterface_lib.callbacks:R[write to console]: =\n",
            "WARNING:rpy2.rinterface_lib.callbacks:R[write to console]: =\n",
            "WARNING:rpy2.rinterface_lib.callbacks:R[write to console]: =\n",
            "WARNING:rpy2.rinterface_lib.callbacks:R[write to console]: =\n",
            "WARNING:rpy2.rinterface_lib.callbacks:R[write to console]: =\n",
            "WARNING:rpy2.rinterface_lib.callbacks:R[write to console]: =\n",
            "WARNING:rpy2.rinterface_lib.callbacks:R[write to console]: =\n",
            "WARNING:rpy2.rinterface_lib.callbacks:R[write to console]: =\n",
            "WARNING:rpy2.rinterface_lib.callbacks:R[write to console]: =\n",
            "WARNING:rpy2.rinterface_lib.callbacks:R[write to console]: =\n",
            "WARNING:rpy2.rinterface_lib.callbacks:R[write to console]: =\n",
            "WARNING:rpy2.rinterface_lib.callbacks:R[write to console]: =\n",
            "WARNING:rpy2.rinterface_lib.callbacks:R[write to console]: =\n",
            "WARNING:rpy2.rinterface_lib.callbacks:R[write to console]: =\n",
            "WARNING:rpy2.rinterface_lib.callbacks:R[write to console]: =\n",
            "WARNING:rpy2.rinterface_lib.callbacks:R[write to console]: \n",
            "\n",
            "WARNING:rpy2.rinterface_lib.callbacks:R[write to console]: downloaded 55 KB\n",
            "\n",
            "\n",
            "WARNING:rpy2.rinterface_lib.callbacks:R[write to console]: trying URL 'https://cran.rstudio.com/src/contrib/fGarch_4022.89.tar.gz'\n",
            "\n",
            "WARNING:rpy2.rinterface_lib.callbacks:R[write to console]: Content type 'application/x-gzip'\n",
            "WARNING:rpy2.rinterface_lib.callbacks:R[write to console]:  length 168872 bytes (164 KB)\n",
            "\n",
            "WARNING:rpy2.rinterface_lib.callbacks:R[write to console]: =\n",
            "WARNING:rpy2.rinterface_lib.callbacks:R[write to console]: =\n",
            "WARNING:rpy2.rinterface_lib.callbacks:R[write to console]: =\n",
            "WARNING:rpy2.rinterface_lib.callbacks:R[write to console]: =\n",
            "WARNING:rpy2.rinterface_lib.callbacks:R[write to console]: =\n",
            "WARNING:rpy2.rinterface_lib.callbacks:R[write to console]: =\n",
            "WARNING:rpy2.rinterface_lib.callbacks:R[write to console]: =\n",
            "WARNING:rpy2.rinterface_lib.callbacks:R[write to console]: =\n",
            "WARNING:rpy2.rinterface_lib.callbacks:R[write to console]: =\n",
            "WARNING:rpy2.rinterface_lib.callbacks:R[write to console]: =\n",
            "WARNING:rpy2.rinterface_lib.callbacks:R[write to console]: =\n",
            "WARNING:rpy2.rinterface_lib.callbacks:R[write to console]: =\n",
            "WARNING:rpy2.rinterface_lib.callbacks:R[write to console]: =\n",
            "WARNING:rpy2.rinterface_lib.callbacks:R[write to console]: =\n",
            "WARNING:rpy2.rinterface_lib.callbacks:R[write to console]: =\n",
            "WARNING:rpy2.rinterface_lib.callbacks:R[write to console]: =\n",
            "WARNING:rpy2.rinterface_lib.callbacks:R[write to console]: =\n",
            "WARNING:rpy2.rinterface_lib.callbacks:R[write to console]: =\n",
            "WARNING:rpy2.rinterface_lib.callbacks:R[write to console]: =\n",
            "WARNING:rpy2.rinterface_lib.callbacks:R[write to console]: =\n",
            "WARNING:rpy2.rinterface_lib.callbacks:R[write to console]: =\n",
            "WARNING:rpy2.rinterface_lib.callbacks:R[write to console]: =\n",
            "WARNING:rpy2.rinterface_lib.callbacks:R[write to console]: =\n",
            "WARNING:rpy2.rinterface_lib.callbacks:R[write to console]: =\n",
            "WARNING:rpy2.rinterface_lib.callbacks:R[write to console]: =\n",
            "WARNING:rpy2.rinterface_lib.callbacks:R[write to console]: =\n",
            "WARNING:rpy2.rinterface_lib.callbacks:R[write to console]: =\n",
            "WARNING:rpy2.rinterface_lib.callbacks:R[write to console]: =\n",
            "WARNING:rpy2.rinterface_lib.callbacks:R[write to console]: =\n",
            "WARNING:rpy2.rinterface_lib.callbacks:R[write to console]: =\n",
            "WARNING:rpy2.rinterface_lib.callbacks:R[write to console]: =\n",
            "WARNING:rpy2.rinterface_lib.callbacks:R[write to console]: =\n",
            "WARNING:rpy2.rinterface_lib.callbacks:R[write to console]: =\n",
            "WARNING:rpy2.rinterface_lib.callbacks:R[write to console]: =\n",
            "WARNING:rpy2.rinterface_lib.callbacks:R[write to console]: =\n",
            "WARNING:rpy2.rinterface_lib.callbacks:R[write to console]: =\n",
            "WARNING:rpy2.rinterface_lib.callbacks:R[write to console]: =\n",
            "WARNING:rpy2.rinterface_lib.callbacks:R[write to console]: =\n",
            "WARNING:rpy2.rinterface_lib.callbacks:R[write to console]: =\n",
            "WARNING:rpy2.rinterface_lib.callbacks:R[write to console]: =\n",
            "WARNING:rpy2.rinterface_lib.callbacks:R[write to console]: =\n",
            "WARNING:rpy2.rinterface_lib.callbacks:R[write to console]: =\n",
            "WARNING:rpy2.rinterface_lib.callbacks:R[write to console]: =\n",
            "WARNING:rpy2.rinterface_lib.callbacks:R[write to console]: =\n",
            "WARNING:rpy2.rinterface_lib.callbacks:R[write to console]: =\n",
            "WARNING:rpy2.rinterface_lib.callbacks:R[write to console]: =\n",
            "WARNING:rpy2.rinterface_lib.callbacks:R[write to console]: =\n",
            "WARNING:rpy2.rinterface_lib.callbacks:R[write to console]: =\n",
            "WARNING:rpy2.rinterface_lib.callbacks:R[write to console]: =\n",
            "WARNING:rpy2.rinterface_lib.callbacks:R[write to console]: =\n",
            "WARNING:rpy2.rinterface_lib.callbacks:R[write to console]: \n",
            "\n",
            "WARNING:rpy2.rinterface_lib.callbacks:R[write to console]: downloaded 164 KB\n",
            "\n",
            "\n",
            "WARNING:rpy2.rinterface_lib.callbacks:R[write to console]: trying URL 'https://cran.rstudio.com/src/contrib/fitdistrplus_1.1-8.tar.gz'\n",
            "\n",
            "WARNING:rpy2.rinterface_lib.callbacks:R[write to console]: Content type 'application/x-gzip'\n",
            "WARNING:rpy2.rinterface_lib.callbacks:R[write to console]:  length 2434918 bytes (2.3 MB)\n",
            "\n",
            "WARNING:rpy2.rinterface_lib.callbacks:R[write to console]: =\n",
            "WARNING:rpy2.rinterface_lib.callbacks:R[write to console]: =\n",
            "WARNING:rpy2.rinterface_lib.callbacks:R[write to console]: =\n",
            "WARNING:rpy2.rinterface_lib.callbacks:R[write to console]: =\n",
            "WARNING:rpy2.rinterface_lib.callbacks:R[write to console]: =\n",
            "WARNING:rpy2.rinterface_lib.callbacks:R[write to console]: =\n",
            "WARNING:rpy2.rinterface_lib.callbacks:R[write to console]: =\n",
            "WARNING:rpy2.rinterface_lib.callbacks:R[write to console]: =\n",
            "WARNING:rpy2.rinterface_lib.callbacks:R[write to console]: =\n",
            "WARNING:rpy2.rinterface_lib.callbacks:R[write to console]: =\n",
            "WARNING:rpy2.rinterface_lib.callbacks:R[write to console]: =\n",
            "WARNING:rpy2.rinterface_lib.callbacks:R[write to console]: =\n",
            "WARNING:rpy2.rinterface_lib.callbacks:R[write to console]: =\n",
            "WARNING:rpy2.rinterface_lib.callbacks:R[write to console]: =\n",
            "WARNING:rpy2.rinterface_lib.callbacks:R[write to console]: =\n",
            "WARNING:rpy2.rinterface_lib.callbacks:R[write to console]: =\n",
            "WARNING:rpy2.rinterface_lib.callbacks:R[write to console]: =\n",
            "WARNING:rpy2.rinterface_lib.callbacks:R[write to console]: =\n",
            "WARNING:rpy2.rinterface_lib.callbacks:R[write to console]: =\n",
            "WARNING:rpy2.rinterface_lib.callbacks:R[write to console]: =\n",
            "WARNING:rpy2.rinterface_lib.callbacks:R[write to console]: =\n",
            "WARNING:rpy2.rinterface_lib.callbacks:R[write to console]: =\n",
            "WARNING:rpy2.rinterface_lib.callbacks:R[write to console]: =\n",
            "WARNING:rpy2.rinterface_lib.callbacks:R[write to console]: =\n",
            "WARNING:rpy2.rinterface_lib.callbacks:R[write to console]: =\n",
            "WARNING:rpy2.rinterface_lib.callbacks:R[write to console]: =\n",
            "WARNING:rpy2.rinterface_lib.callbacks:R[write to console]: =\n",
            "WARNING:rpy2.rinterface_lib.callbacks:R[write to console]: =\n",
            "WARNING:rpy2.rinterface_lib.callbacks:R[write to console]: =\n",
            "WARNING:rpy2.rinterface_lib.callbacks:R[write to console]: =\n",
            "WARNING:rpy2.rinterface_lib.callbacks:R[write to console]: =\n",
            "WARNING:rpy2.rinterface_lib.callbacks:R[write to console]: =\n",
            "WARNING:rpy2.rinterface_lib.callbacks:R[write to console]: =\n",
            "WARNING:rpy2.rinterface_lib.callbacks:R[write to console]: =\n",
            "WARNING:rpy2.rinterface_lib.callbacks:R[write to console]: =\n",
            "WARNING:rpy2.rinterface_lib.callbacks:R[write to console]: =\n",
            "WARNING:rpy2.rinterface_lib.callbacks:R[write to console]: =\n",
            "WARNING:rpy2.rinterface_lib.callbacks:R[write to console]: =\n",
            "WARNING:rpy2.rinterface_lib.callbacks:R[write to console]: =\n",
            "WARNING:rpy2.rinterface_lib.callbacks:R[write to console]: =\n",
            "WARNING:rpy2.rinterface_lib.callbacks:R[write to console]: =\n",
            "WARNING:rpy2.rinterface_lib.callbacks:R[write to console]: =\n",
            "WARNING:rpy2.rinterface_lib.callbacks:R[write to console]: =\n",
            "WARNING:rpy2.rinterface_lib.callbacks:R[write to console]: =\n",
            "WARNING:rpy2.rinterface_lib.callbacks:R[write to console]: =\n",
            "WARNING:rpy2.rinterface_lib.callbacks:R[write to console]: =\n",
            "WARNING:rpy2.rinterface_lib.callbacks:R[write to console]: =\n",
            "WARNING:rpy2.rinterface_lib.callbacks:R[write to console]: =\n",
            "WARNING:rpy2.rinterface_lib.callbacks:R[write to console]: =\n",
            "WARNING:rpy2.rinterface_lib.callbacks:R[write to console]: =\n",
            "WARNING:rpy2.rinterface_lib.callbacks:R[write to console]: \n",
            "\n",
            "WARNING:rpy2.rinterface_lib.callbacks:R[write to console]: downloaded 2.3 MB\n",
            "\n",
            "\n",
            "WARNING:rpy2.rinterface_lib.callbacks:R[write to console]: \n",
            "\n",
            "WARNING:rpy2.rinterface_lib.callbacks:R[write to console]: \n",
            "WARNING:rpy2.rinterface_lib.callbacks:R[write to console]: The downloaded source packages are in\n",
            "\t‘/tmp/RtmpGlC5TS/downloaded_packages’\n",
            "WARNING:rpy2.rinterface_lib.callbacks:R[write to console]: \n",
            "WARNING:rpy2.rinterface_lib.callbacks:R[write to console]: \n",
            "\n"
          ]
        }
      ]
    },
    {
      "cell_type": "markdown",
      "source": [
        "# Including required libraries."
      ],
      "metadata": {
        "id": "CsyMENMj3CTn"
      }
    },
    {
      "cell_type": "code",
      "source": [
        "%%R\n",
        "library(arabicStemR)\n",
        "library(tidytext)\n",
        "library(dplyr)\n",
        "library(stringi)\n",
        "library(tidyr)\n",
        "library(ggplot2)\n",
        "library(gridExtra)\n",
        "library(wordcloud2)\n",
        "library(readr)\n",
        "library(scales)\n",
        "library(plotly)\n",
        "library(data.table)\n",
        "library(utf8)\n",
        "library(RColorBrewer)\n",
        "library(reshape2) \n",
        "library(knitr) # for dynamic reporting\n",
        "library(kableExtra) # create a nicely formatted HTML table\n",
        "library(formattable) # for the color_tile function\n",
        "#library(modeest) # to estimate the mode of a distribution of samples\n",
        "library(purrr)\n",
        "#library(ggwordcloud)\n",
        "library(fGarch)\n",
        "library(fitdistrplus)"
      ],
      "metadata": {
        "id": "RyoiUwB62sH8",
        "colab": {
          "base_uri": "https://localhost:8080/"
        },
        "outputId": "517fbf4b-68bb-45e3-8f88-ab6cde0d6d4f"
      },
      "execution_count": null,
      "outputs": [
        {
          "output_type": "stream",
          "name": "stderr",
          "text": [
            "WARNING:rpy2.rinterface_lib.callbacks:R[write to console]: \n",
            "Attaching package: ‘arabicStemR’\n",
            "\n",
            "\n",
            "WARNING:rpy2.rinterface_lib.callbacks:R[write to console]: The following object is masked from ‘package:graphics’:\n",
            "\n",
            "    stem\n",
            "\n",
            "\n",
            "WARNING:rpy2.rinterface_lib.callbacks:R[write to console]: \n",
            "Attaching package: ‘dplyr’\n",
            "\n",
            "\n",
            "WARNING:rpy2.rinterface_lib.callbacks:R[write to console]: The following objects are masked from ‘package:stats’:\n",
            "\n",
            "    filter, lag\n",
            "\n",
            "\n",
            "WARNING:rpy2.rinterface_lib.callbacks:R[write to console]: The following objects are masked from ‘package:base’:\n",
            "\n",
            "    intersect, setdiff, setequal, union\n",
            "\n",
            "\n",
            "WARNING:rpy2.rinterface_lib.callbacks:R[write to console]: Keep up to date with changes at https://www.tidyverse.org/blog/\n",
            "\n",
            "WARNING:rpy2.rinterface_lib.callbacks:R[write to console]: \n",
            "Attaching package: ‘gridExtra’\n",
            "\n",
            "\n",
            "WARNING:rpy2.rinterface_lib.callbacks:R[write to console]: The following object is masked from ‘package:dplyr’:\n",
            "\n",
            "    combine\n",
            "\n",
            "\n",
            "WARNING:rpy2.rinterface_lib.callbacks:R[write to console]: \n",
            "Attaching package: ‘scales’\n",
            "\n",
            "\n",
            "WARNING:rpy2.rinterface_lib.callbacks:R[write to console]: The following object is masked from ‘package:readr’:\n",
            "\n",
            "    col_factor\n",
            "\n",
            "\n",
            "WARNING:rpy2.rinterface_lib.callbacks:R[write to console]: \n",
            "Attaching package: ‘plotly’\n",
            "\n",
            "\n",
            "WARNING:rpy2.rinterface_lib.callbacks:R[write to console]: The following object is masked from ‘package:ggplot2’:\n",
            "\n",
            "    last_plot\n",
            "\n",
            "\n",
            "WARNING:rpy2.rinterface_lib.callbacks:R[write to console]: The following object is masked from ‘package:stats’:\n",
            "\n",
            "    filter\n",
            "\n",
            "\n",
            "WARNING:rpy2.rinterface_lib.callbacks:R[write to console]: The following object is masked from ‘package:graphics’:\n",
            "\n",
            "    layout\n",
            "\n",
            "\n",
            "WARNING:rpy2.rinterface_lib.callbacks:R[write to console]: data.table 1.14.4 using 1 threads (see ?getDTthreads).  Latest news: r-datatable.com\n",
            "\n",
            "WARNING:rpy2.rinterface_lib.callbacks:R[write to console]: \n",
            "Attaching package: ‘data.table’\n",
            "\n",
            "\n",
            "WARNING:rpy2.rinterface_lib.callbacks:R[write to console]: The following objects are masked from ‘package:dplyr’:\n",
            "\n",
            "    between, first, last\n",
            "\n",
            "\n",
            "WARNING:rpy2.rinterface_lib.callbacks:R[write to console]: \n",
            "Attaching package: ‘reshape2’\n",
            "\n",
            "\n",
            "WARNING:rpy2.rinterface_lib.callbacks:R[write to console]: The following objects are masked from ‘package:data.table’:\n",
            "\n",
            "    dcast, melt\n",
            "\n",
            "\n",
            "WARNING:rpy2.rinterface_lib.callbacks:R[write to console]: The following object is masked from ‘package:tidyr’:\n",
            "\n",
            "    smiths\n",
            "\n",
            "\n",
            "WARNING:rpy2.rinterface_lib.callbacks:R[write to console]: \n",
            "Attaching package: ‘kableExtra’\n",
            "\n",
            "\n",
            "WARNING:rpy2.rinterface_lib.callbacks:R[write to console]: The following object is masked from ‘package:dplyr’:\n",
            "\n",
            "    group_rows\n",
            "\n",
            "\n",
            "WARNING:rpy2.rinterface_lib.callbacks:R[write to console]: \n",
            "Attaching package: ‘formattable’\n",
            "\n",
            "\n",
            "WARNING:rpy2.rinterface_lib.callbacks:R[write to console]: The following object is masked from ‘package:plotly’:\n",
            "\n",
            "    style\n",
            "\n",
            "\n",
            "WARNING:rpy2.rinterface_lib.callbacks:R[write to console]: The following objects are masked from ‘package:scales’:\n",
            "\n",
            "    comma, percent, scientific\n",
            "\n",
            "\n",
            "WARNING:rpy2.rinterface_lib.callbacks:R[write to console]: \n",
            "Attaching package: ‘purrr’\n",
            "\n",
            "\n",
            "WARNING:rpy2.rinterface_lib.callbacks:R[write to console]: The following object is masked from ‘package:data.table’:\n",
            "\n",
            "    transpose\n",
            "\n",
            "\n",
            "WARNING:rpy2.rinterface_lib.callbacks:R[write to console]: The following object is masked from ‘package:scales’:\n",
            "\n",
            "    discard\n",
            "\n",
            "\n",
            "WARNING:rpy2.rinterface_lib.callbacks:R[write to console]: NOTE: Packages 'fBasics', 'timeDate', and 'timeSeries' are no longer\n",
            "attached to the search() path when 'fGarch' is attached.\n",
            "\n",
            "If needed attach them yourself in your R script by e.g.,\n",
            "        require(\"timeSeries\")\n",
            "\n",
            "WARNING:rpy2.rinterface_lib.callbacks:R[write to console]: Loading required package: MASS\n",
            "\n",
            "WARNING:rpy2.rinterface_lib.callbacks:R[write to console]: \n",
            "Attaching package: ‘MASS’\n",
            "\n",
            "\n",
            "WARNING:rpy2.rinterface_lib.callbacks:R[write to console]: The following object is masked from ‘package:formattable’:\n",
            "\n",
            "    area\n",
            "\n",
            "\n",
            "WARNING:rpy2.rinterface_lib.callbacks:R[write to console]: The following object is masked from ‘package:plotly’:\n",
            "\n",
            "    select\n",
            "\n",
            "\n",
            "WARNING:rpy2.rinterface_lib.callbacks:R[write to console]: The following object is masked from ‘package:dplyr’:\n",
            "\n",
            "    select\n",
            "\n",
            "\n",
            "WARNING:rpy2.rinterface_lib.callbacks:R[write to console]: Loading required package: survival\n",
            "\n"
          ]
        }
      ]
    },
    {
      "cell_type": "markdown",
      "source": [
        "# Reading the data"
      ],
      "metadata": {
        "id": "sNwayKVJCS9A"
      }
    },
    {
      "cell_type": "code",
      "source": [
        "from google.colab import drive\n",
        "drive.mount('/content/drive/')"
      ],
      "metadata": {
        "colab": {
          "base_uri": "https://localhost:8080/"
        },
        "id": "CZEL-1Ej2SAY",
        "outputId": "0972be6b-bd1f-4aa6-c3d1-79f2d7a03844"
      },
      "execution_count": null,
      "outputs": [
        {
          "output_type": "stream",
          "name": "stdout",
          "text": [
            "Mounted at /content/drive/\n"
          ]
        }
      ]
    },
    {
      "cell_type": "markdown",
      "source": [
        "Reading the csv file containing Shadia songs information in the form of comma separated (csv) file. Read the stop words as well\n"
      ],
      "metadata": {
        "id": "GfG2BpmkCY49"
      }
    },
    {
      "cell_type": "code",
      "source": [
        "%%R\n",
        "songs <- read.csv(\"/content/drive/MyDrive/Shadia/data/songs.csv\", header = TRUE, sep = \",\", \n",
        "                  stringsAsFactors = FALSE, encoding = \"UTF-8\", na.strings = \"\") # Empty fields are replace by NA.\n",
        "\n",
        "no_of_songs <- nrow(songs)\n",
        "no_of_attributes <- ncol(songs)\n",
        "attrs <- names(songs)\n",
        "\n",
        "my_stopwords <- read.table(\"/content/drive/MyDrive/Shadia/data/stopwords.txt\", header = TRUE)\n",
        "colnames(my_stopwords) <- c(\"Word\")\n",
        "no_stopwords <- nrow(my_stopwords)"
      ],
      "metadata": {
        "id": "tr7zG0li3Fqd"
      },
      "execution_count": null,
      "outputs": []
    },
    {
      "cell_type": "code",
      "source": [
        "%%R\n",
        "cat(\"Total number of songs in the dataset: \", no_of_songs, \"\\n\")"
      ],
      "metadata": {
        "colab": {
          "base_uri": "https://localhost:8080/"
        },
        "id": "Z-rnLtJ6C5nZ",
        "outputId": "db1a1303-b9b1-47c8-b0df-b2625574f426"
      },
      "execution_count": null,
      "outputs": [
        {
          "output_type": "stream",
          "name": "stdout",
          "text": [
            "Total number of songs in the dataset:  391 \n"
          ]
        }
      ]
    },
    {
      "cell_type": "markdown",
      "source": [
        "# Preprocessing the data"
      ],
      "metadata": {
        "id": "72gMTo0fPyso"
      }
    },
    {
      "cell_type": "markdown",
      "source": [
        "In the following, we do some preprocessing of the data that involves the following: - removing punctuation symbols, - removing newline characters, - removing diacritics from Arabic unicode text.\n",
        "\n",
        "All of the above are done using the arabicStemR package.\n",
        "\n",
        "In addition, we preprocessed all the Arabic text in names, title, lyrics, etc. in order to unify the way some letters are written in order to facilitate the text mining processing coming afterwards. \n",
        "\n",
        "We do that in such a way to remove ambiguities in writing some particular Arabic characters in particular word positions. \n",
        "For example, the name \"أحمد\" can sometimes be written \"احمد\". \n",
        "So we unified all to be written in the same way for the alph letter. \n",
        "These include the following: \n",
        "- Replacing the letter \"ي\" at the end of a word by \"ى\". \n",
        "- Replacing the letter \"أ\" at the beginning or middle of a word by the letter \"ا\". \n",
        "- Replacing the letter \"إ\" at the beginning of a word by \"ا\". \n",
        "- Replacing \"ة\" at the end of a word by \"ه\".\n",
        "\n",
        "Note that in all of these we relaxed the correctness of proper Arabic writing for the sake of much easier text processing and removing ambiguities, and consistency of inferring. \n",
        "For example, the composer Mohamed ElMogy is sometimes written as \"محمد الموجي\" and sometimes \"محمد الموجى\". So, we found it much easier to have one writing using the latter, even though, proper formal Arabic implies the former.\n",
        "\n",
        "Removing newline characters, punctuation symbols, and diacritics."
      ],
      "metadata": {
        "id": "0LQ6UDv4P2Es"
      }
    },
    {
      "cell_type": "code",
      "source": [
        "%%R\n",
        "invisible(sapply(1:no_of_songs, FUN = function(i)\n",
        "  invisible(sapply(1:no_of_attributes, FUN = function(j)\n",
        "    {\n",
        "      songs[i,j] <<- removePunctuation(songs[i,j])\n",
        "      #songs[i,j] <<- removeNumbers(songs[i,j])\n",
        "      #songs[i,j] <<- removeArabicNumbers(songs[i,j])\n",
        "      songs[i,j] <<- removeNewlineChars(songs[i,j])\n",
        "      songs[i,j] <<- removeDiacritics(songs[i,j])\n",
        "    }))))\n",
        "\n",
        "\n",
        "invisible(sapply(1:no_stopwords, FUN = function(i)\n",
        "  {\n",
        "    my_stopwords$Word[i] <<- removePunctuation(my_stopwords$Word[i])\n",
        "    my_stopwords$Word[i] <<- removeNewlineChars(my_stopwords$Word[i])\n",
        "    my_stopwords$Word[i] <<- removeDiacritics(my_stopwords$Word[i])\n",
        "  }))"
      ],
      "metadata": {
        "id": "NOYtWp08P0Ve"
      },
      "execution_count": null,
      "outputs": []
    },
    {
      "cell_type": "markdown",
      "source": [
        "Create a decade column: We add a new derived column to the original data which is \"Decade\". \n",
        "We aggregate each 10 years into a decade, and further partition it into two halves: the early period of the decade, namely the first 5 years, and the latter part of the decade, namely, the last 5 years."
      ],
      "metadata": {
        "id": "X-ZDQNBkQLRw"
      }
    },
    {
      "cell_type": "code",
      "source": [
        "%%R\n",
        "songs <- songs %>% \n",
        "  arrange(Year) %>%\n",
        "  mutate(Decade = \n",
        "           ifelse(Year %in% 1945:1949, \"Late 1940s\",\n",
        "           ifelse(Year %in% 1950:1954, \"Early 1950s\",\n",
        "           ifelse(Year %in% 1955:1959, \"Late 1950s\",\n",
        "           ifelse(Year %in% 1960:1964, \"Early 1960s\",\n",
        "           ifelse(Year %in% 1965:1969, \"Late 1960s\",\n",
        "           ifelse(Year %in% 1970:1974, \"Early 1970s\",\n",
        "           ifelse(Year %in% 1975:1979, \"Late 1970s\",\n",
        "           ifelse(Year %in% 1980:1984, \"Early 1980s\",\n",
        "           ifelse(Year %in% 1985:1989, \"Late 1980s\",NA))))))))))"
      ],
      "metadata": {
        "id": "B_hU78-FQN4b"
      },
      "execution_count": null,
      "outputs": []
    },
    {
      "cell_type": "markdown",
      "source": [
        "Create two new columns that divide all names (composers and lyricists) into first names and last names. \n",
        "This is done to ease the preprocessing of the Arabic text later."
      ],
      "metadata": {
        "id": "EPmOTNtWz2Q4"
      }
    },
    {
      "cell_type": "code",
      "source": [
        "%%R\n",
        "concat <- function(x) ifelse(length(x[-1]) != 0, stri_paste_list(list(x[-1]), sep = \" \"), NA)\n",
        "\n",
        "songs <- songs %>%\n",
        "  mutate(Composer_first_name= ifelse(!is.na(Composer),\n",
        "                                     sapply(stri_split(Composer, tokens_only = TRUE, regex = \" \"), \"[\", 1), NA)) %>%\n",
        "  mutate(Composer_last_name = ifelse(!is.na(Composer),\n",
        "                                     sapply(stri_split(Composer, tokens_only = TRUE, regex = \" \"), FUN = \"concat\"), NA)) %>%\n",
        "  mutate(Lyricist_first_name = ifelse(!is.na(Lyricist),\n",
        "                                      sapply(stri_split(Lyricist, tokens_only = TRUE, regex = \" \"), \"[\", 1), NA)) %>%\n",
        "  mutate(Lyricist_last_name = ifelse(!is.na(Lyricist),\n",
        "                                     sapply(stri_split(Lyricist, tokens_only = TRUE, regex = \" \"), FUN = \"concat\"), NA))"
      ],
      "metadata": {
        "id": "mivgN3Q6z6dY"
      },
      "execution_count": null,
      "outputs": []
    },
    {
      "cell_type": "markdown",
      "source": [
        "In the following, we define a function that would try to remove ambiguities in writing some particular Arabic characters in particular word positions."
      ],
      "metadata": {
        "id": "LgdbDnpd1sll"
      }
    },
    {
      "cell_type": "code",
      "source": [
        "%%R\n",
        "sub_arabic_chars <- function(x)\n",
        "{\n",
        "  # We use the unicodes of the characters.\n",
        "  \n",
        "  # Replace \"ي\" with \"ى\".\n",
        "  org <- as_utf8(\"*\\u064A$\")    # حرف ي at the end of word\n",
        "  substit <- as_utf8(\"\\u0649\")    # حرف ى\n",
        "  x <- sub(org, substit, x)\n",
        "  \n",
        "  # Replace \"أ\" with \"ا\".\n",
        "  org <- as_utf8(\"\\u0623\")   # حرف أ\n",
        "  substit <- as_utf8(\"\\u0627\")   # حرف ا\n",
        "  x <- sub(org, substit, x)\n",
        "\n",
        "  #### Replace \"إ\" with \"ا\".\n",
        "  org <- as_utf8(\"\\u0625\")   # حرف  إ\n",
        "  substit <- as_utf8(\"\\u0627\")    # حرف ا\n",
        "  x <- sub(org, substit, x)\n",
        " \n",
        "  # Replace \"ة\" with \"ه\".\n",
        "  org <- as_utf8(\"\\u0629\")  # حرف ة\n",
        "  substit <- as_utf8(\"\\u0647\")   # حرف ه\n",
        "  x <- sub(org, substit, x)\n",
        "\n",
        "  x\n",
        "}"
      ],
      "metadata": {
        "id": "0Nla-bhn1w7r"
      },
      "execution_count": null,
      "outputs": []
    },
    {
      "cell_type": "markdown",
      "source": [
        "Process all Arabic words in the dataset (currently only the composers and lyricists names) so that common ambiguities in the different ways people write Arabic characters are mitigated."
      ],
      "metadata": {
        "id": "h5E7X2q23AQC"
      }
    },
    {
      "cell_type": "code",
      "source": [
        "%%R\n",
        "handle_last_name_yae <- function(x)\n",
        "  stri_paste_list(list(sapply(unlist(stri_split(x, tokens_only = TRUE, regex = \" \")),\n",
        "                              FUN = \"sub_arabic_chars\")), sep = \" \")\n",
        "\n",
        "songs$Composer_first_name <- \n",
        "  sapply(songs$Composer_first_name, FUN = \"sub_arabic_chars\")\n",
        "songs$Composer_last_name <- \n",
        "  sapply(songs$Composer_last_name, FUN = \"handle_last_name_yae\")\n",
        "\n",
        "songs$Lyricist_first_name <- \n",
        "  sapply(songs$Lyricist_first_name, FUN = \"sub_arabic_chars\")\n",
        "songs$Lyricist_last_name <- \n",
        "  sapply(songs$Lyricist_last_name, FUN = \"handle_last_name_yae\")"
      ],
      "metadata": {
        "id": "UWGY8fNI3F5A"
      },
      "execution_count": null,
      "outputs": []
    },
    {
      "cell_type": "markdown",
      "source": [
        "# Tokenization"
      ],
      "metadata": {
        "id": "lPyQgrmj3Jqr"
      }
    },
    {
      "cell_type": "markdown",
      "source": [
        "Generally, there are different methods and data formats that can be used to **mine** text. \n",
        "Here we use \"Tidy Text\": a table with one token per row. A token in our context will be a word (or an 1-gram).\n",
        "**Tokenization** is therefore the process of splitting the lyrics into tokens. Here we use the R package tidytext's unnest_tokens() to do this.\n",
        "\n",
        "Processing and mining of natural language text aims at finding the significant words in the given documents. Our first guess might be that the words appearing most frequently in a document are the most significant. \n",
        "However, that intuition is exactly opposite of the truth (you may think of it in terms of information-theoretic principles, that less frequent events carry more information when they occur). \n",
        "The most frequent words include words such as \"the\" or \"and\" which help build ideas but do not carry any significance themselves [citation: @rajaraman_mining_2012].\n",
        "\n",
        "Such words are called **stop words** and have to be filtered out before processing and/or mining the text. \n",
        "So given any language, stop words usually refers to the most common words in a language, however, there is no single universal list of stop words that can be agreed upon by all researchers and practitioners. \n",
        "In our context, we remove stop words from the songs lyrics using the \"removeStopWords\" function in the R package \"arabicStemR\". \n",
        "This package contains an Arabic stop word list containing 258 words and include words such as (لا/no), (لأنه/because), (لو/if).\n",
        "This list of stop words has two constraints: (1) its size is limited and (2) it is done for modern standard Arabic, hence, it lacks a lot of words in the Egyptian dialect. However, as we will see below in the analysis and results, the error or noise resulting from these two constraints are minimal and does not affect the quality of the results."
      ],
      "metadata": {
        "id": "Ha-uZyu73ZLV"
      }
    },
    {
      "cell_type": "code",
      "source": [
        "%%R\n",
        "# Read the stop words list\n",
        "# my_stopwords <- read.table(\"/content/drive/MyDrive/Shadia/data/ar_stop_complete_list_processed.txt\", header = TRUE)\n",
        "# colnames(my_stopwords) <- c(\"Word\")"
      ],
      "metadata": {
        "id": "oK0qUBrR3Ya6"
      },
      "execution_count": null,
      "outputs": []
    },
    {
      "cell_type": "code",
      "source": [
        "%%R\n",
        "#songs$Lyrics <- sapply(songs$Lyrics, FUN = function(x) removeStopWords(x)$text)\n",
        "#songs$Lyrics <- sapply(songs$Lyrics, FUN = function(x) removeStopWords(x, defaultStopwordList = TRUE)$text)\n",
        "#songs$Lyrics <- sapply(songs$Lyrics, FUN = function(x) removeStopWords(x, defaultStopwordList = FALSE, customStopwordList = my_stopwords)$text)"
      ],
      "metadata": {
        "id": "GV4o2Ec43pni"
      },
      "execution_count": null,
      "outputs": []
    },
    {
      "cell_type": "markdown",
      "source": [
        "Extract tokens"
      ],
      "metadata": {
        "id": "OvYZpMnF97jj"
      }
    },
    {
      "cell_type": "code",
      "source": [
        "%%R\n",
        "songs <- songs %>%\n",
        "  unnest_tokens(Word, Lyrics) %>%\n",
        "  mutate(Word_org = Word)"
      ],
      "metadata": {
        "id": "ZrS25LOF9-hj"
      },
      "execution_count": null,
      "outputs": []
    },
    {
      "cell_type": "code",
      "source": [
        "%%R\n",
        "songs$Word <- sapply(songs$Word, FUN = \"sub_arabic_chars\")"
      ],
      "metadata": {
        "id": "g3wTs2GU-DZE"
      },
      "execution_count": null,
      "outputs": []
    },
    {
      "cell_type": "code",
      "source": [
        "%%R\n",
        "my_stopwords$Word <- sapply(my_stopwords$Word, FUN = \"sub_arabic_chars\")"
      ],
      "metadata": {
        "id": "rVo-avnq-IDk"
      },
      "execution_count": null,
      "outputs": []
    },
    {
      "cell_type": "markdown",
      "source": [
        "Remove stop words after applying \"sub_arabic_chars\"."
      ],
      "metadata": {
        "id": "ysF3Ojlw-MUZ"
      }
    },
    {
      "cell_type": "code",
      "source": [
        "%%R\n",
        "songs <- songs %>% anti_join(my_stopwords, by = \"Word\")"
      ],
      "metadata": {
        "id": "e2YA4gVJ-Ss4"
      },
      "execution_count": null,
      "outputs": []
    },
    {
      "cell_type": "code",
      "source": [
        "%%R\n",
        "#songs$Word <- sapply(songs$Word, FUN = function(x) removeStopWords(x)$text)\n",
        "#songs$Word <- sapply(songs$Word, FUN = function(x) removeStopWords(x, defaultStopwordList = TRUE)$text)\n",
        "#songs$Word <- sapply(songs$Word, FUN = function(x) removeStopWords(x, defaultStopwordList = FALSE, customStopwordList = my_stopwords)$text)"
      ],
      "metadata": {
        "id": "JLjvbphD-XoJ",
        "colab": {
          "base_uri": "https://localhost:8080/"
        },
        "outputId": "782c3c38-6223-433a-bb42-814746e7fae2"
      },
      "execution_count": null,
      "outputs": [
        {
          "output_type": "stream",
          "name": "stdout",
          "text": [
            "NULL\n"
          ]
        }
      ]
    },
    {
      "cell_type": "markdown",
      "source": [
        "Remove empty word entries."
      ],
      "metadata": {
        "id": "w9VLfSIF-bTj"
      }
    },
    {
      "cell_type": "code",
      "source": [
        "%%R\n",
        "songs <- songs %>%\n",
        "  dplyr::filter(Word != \"\") %>%\n",
        "  dplyr::filter(!is.na(Word))"
      ],
      "metadata": {
        "id": "G1fMdE6H-fRc"
      },
      "execution_count": null,
      "outputs": []
    },
    {
      "cell_type": "code",
      "source": [
        "%%R\n",
        "songs <- songs %>% dplyr::rename(Song_org = Song)"
      ],
      "metadata": {
        "id": "fquYv-gmADyU"
      },
      "execution_count": null,
      "outputs": []
    },
    {
      "cell_type": "code",
      "source": [
        "%%R\n",
        "process_song_name <- function(x)\n",
        "{\n",
        "  stri_paste_list(lapply(stri_split(x, tokens_only = TRUE, regex = \" \"), \n",
        "         function(y) sub_arabic_chars(y)), sep = \" \")\n",
        "}\n",
        "\n",
        "songs <- songs %>%\n",
        "  mutate(Song = process_song_name(Song_org))"
      ],
      "metadata": {
        "id": "k10ZfeTZAbnp"
      },
      "execution_count": null,
      "outputs": []
    },
    {
      "cell_type": "markdown",
      "source": [
        "Write a new version of the data set where the data are pre-processed"
      ],
      "metadata": {
        "id": "oggVAzugA1sT"
      }
    },
    {
      "cell_type": "code",
      "source": [
        "%%R\n",
        "#write_csv(songs, file = \"/content/drive/MyDrive/Shadia/data/songs_proc.csv\")\n",
        "\n",
        "#write.csv(songs, file = \"/content/drive/MyDrive/Shadia/data/songs_proc.csv\", \n",
        "#           fileEncoding = \"UTF-8\",\n",
        "#           row.names = FALSE)\n",
        "readr::write_csv(songs, file = \"/content/drive/MyDrive/Shadia/data/songs_proc.csv\")"
      ],
      "metadata": {
        "id": "erUIKHpGA4vc"
      },
      "execution_count": null,
      "outputs": []
    },
    {
      "cell_type": "markdown",
      "source": [
        "# Some High Level Statistical Aggregates of the Data"
      ],
      "metadata": {
        "id": "9Ohm7XlEBT7F"
      }
    },
    {
      "cell_type": "markdown",
      "source": [
        "Print out some preliminary information about the songs data file."
      ],
      "metadata": {
        "id": "bh5wjP0jBX2s"
      }
    },
    {
      "cell_type": "code",
      "source": [
        "%%R\n",
        "cat(\"Data items in the songs data file: \\n\")\n",
        "print(attrs)"
      ],
      "metadata": {
        "colab": {
          "base_uri": "https://localhost:8080/"
        },
        "id": "uxVaEvdABWnI",
        "outputId": "b139fafc-4a41-4fb9-ef81-7eb57a07e533"
      },
      "execution_count": null,
      "outputs": [
        {
          "output_type": "stream",
          "name": "stdout",
          "text": [
            "Data items in the songs data file: \n",
            "[1] \"Year\"     \"Composer\" \"Lyricist\" \"Song\"     \"Lyrics\"  \n"
          ]
        }
      ]
    },
    {
      "cell_type": "code",
      "source": [
        "%%R\n",
        "cat(\"Total number of songs in the dataset: \", no_of_songs, \"\\n\")\n",
        "cat(\"Total number of composers: \", length(unique(songs$Composer)), \"\\n\")\n",
        "cat(\"Total number of lyricists: \", length(unique(songs$Lyricist)), \"\\n\")"
      ],
      "metadata": {
        "colab": {
          "base_uri": "https://localhost:8080/"
        },
        "id": "kKfszVlOBmJo",
        "outputId": "736f7508-e6db-4136-f12b-b7c031a62d83"
      },
      "execution_count": null,
      "outputs": [
        {
          "output_type": "stream",
          "name": "stdout",
          "text": [
            "Total number of songs in the dataset:  391 \n",
            "Total number of composers:  45 \n",
            "Total number of lyricists:  66 \n"
          ]
        }
      ]
    },
    {
      "cell_type": "markdown",
      "source": [
        "It is apparent from the numbers above that the list of composers whom Shadia dealt with is almost 2/3 that of the number of lyricists. \n",
        "So in some rough sense the lyrics of the songs are much diverse than the music itself.\n",
        "\n",
        "Remove unnecessary variables to free up storage."
      ],
      "metadata": {
        "id": "CVwXAS5eF9GZ"
      }
    },
    {
      "cell_type": "code",
      "source": [
        "%%R\n",
        "rm(list=ls())"
      ],
      "metadata": {
        "id": "T88OVqpdF_J_"
      },
      "execution_count": null,
      "outputs": []
    },
    {
      "cell_type": "markdown",
      "source": [
        "# Some initial simple analysis"
      ],
      "metadata": {
        "id": "JhN4-CqWGmvP"
      }
    },
    {
      "cell_type": "markdown",
      "source": [
        "Reading the csv file containing the songs (before and after preprocessing) in the form of comma separated file."
      ],
      "metadata": {
        "id": "vRNAa5JjGqRT"
      }
    },
    {
      "cell_type": "code",
      "source": [
        "%%R\n",
        "songs.proc <- read.csv(\"/content/drive/MyDrive/Shadia/data/songs_proc.csv\", header = TRUE, sep = \",\", \n",
        "                  stringsAsFactors = FALSE,\n",
        "                  encoding = \"UTF-8\"\n",
        "                  )\n",
        "#songs <- read.csv(\"/content/drive/MyDrive/Shadia/data/songs.csv\", header = TRUE, sep = \",\", \n",
        "#                  stringsAsFactors = FALSE, encoding = \"UTF-8\")"
      ],
      "metadata": {
        "id": "Y8i1kKNSGvNa"
      },
      "execution_count": null,
      "outputs": []
    },
    {
      "cell_type": "markdown",
      "source": [
        "## Initial investigation using the keyword حب (love)"
      ],
      "metadata": {
        "id": "-1kf_UqIG8kd"
      }
    },
    {
      "cell_type": "markdown",
      "source": [
        "This is particularly chosen as Shadia is mostly famous for the romantic themes.\n",
        "\n",
        "Extract all subwords containing the word \"حب\", including repetitions."
      ],
      "metadata": {
        "id": "LmPFrNe1HDeb"
      }
    },
    {
      "cell_type": "code",
      "source": [
        "%%R\n",
        "keyword <- as_utf8(\"\\u062D\\u0628\")  # the keyword حب\n",
        " \n",
        "songs.2.1 <- songs.proc %>%\n",
        "   dplyr::filter(grepl(keyword, Word))"
      ],
      "metadata": {
        "id": "eQWSi1guHGT2"
      },
      "execution_count": null,
      "outputs": []
    },
    {
      "cell_type": "code",
      "source": [
        "%%R\n",
        "cat(\"Total number of occurences of words containing the subword \\u062D\\u0628 (with repititions) accross all songs: \\n\")\n",
        "cat(nrow(songs.2.1), \"\\n\")\n",
        "cat(\"Out of a total number of \", nrow(songs.proc), \" words.\\n\")\n",
        "cat(\"Note that all these counts include repititions.\\n\")"
      ],
      "metadata": {
        "colab": {
          "base_uri": "https://localhost:8080/"
        },
        "id": "IvKaJdP7HK2B",
        "outputId": "465a0bcb-54b2-4248-aa4b-b0cc8af4b043"
      },
      "execution_count": null,
      "outputs": [
        {
          "output_type": "stream",
          "name": "stdout",
          "text": [
            "Total number of occurences of words containing the subword حب (with repititions) accross all songs: \n",
            "1384 \n",
            "Out of a total number of  28814  words.\n",
            "Note that all these counts include repititions.\n"
          ]
        }
      ]
    },
    {
      "cell_type": "code",
      "source": [
        "%%R\n",
        "cat(\"Number of songs with lyrics containing the subword \\u062D\\u0628: \\n\")\n",
        "cat(length(unique(songs.2.1$Song)), \"\\n\")\n",
        "cat(\"Out of a total of: \", length(unique(songs.proc$Song)), \" songs.\\n\")"
      ],
      "metadata": {
        "colab": {
          "base_uri": "https://localhost:8080/"
        },
        "id": "jfEDgB3SRw2c",
        "outputId": "71cf20f9-64a5-42b3-8a38-27ba577e7105"
      },
      "execution_count": null,
      "outputs": [
        {
          "output_type": "stream",
          "name": "stdout",
          "text": [
            "Number of songs with lyrics containing the subword حب: \n",
            "263 \n",
            "Out of a total of:  372  songs.\n"
          ]
        }
      ]
    },
    {
      "cell_type": "code",
      "source": [
        "%%R\n",
        "cat(\"Songs with lyrics containing the subword \\u062D\\u0628: \\n\")\n",
        "print(unique(songs.2.1$Song))"
      ],
      "metadata": {
        "colab": {
          "base_uri": "https://localhost:8080/"
        },
        "id": "Q8xkjODvSx3J",
        "outputId": "607eca3e-5ad9-4289-d9ca-19ed9b2d5cd5"
      },
      "execution_count": null,
      "outputs": [
        {
          "output_type": "stream",
          "name": "stdout",
          "text": [
            "Songs with lyrics containing the subword حب: \n",
            "  [1] \"متهيا لى\"                              \n",
            "  [2] \"ضحيت بحبى\"                             \n",
            "  [3] \"كل الحبايب هنا\"                        \n",
            "  [4] \"يا حلاوه الفول\"                        \n",
            "  [5] \"حبايبى صبحوا عذالى\"                    \n",
            "  [6] \"وقعت انا\"                              \n",
            "  [7] \"اوف اوف\"                               \n",
            "  [8] \"واحده واحده يابسكليته دويتو\"           \n",
            "  [9] \"يا دى الهنا دويتو\"                     \n",
            " [10] \"وحياتى قول لى\"                         \n",
            " [11] \"جبل لبنان\"                             \n",
            " [12] \"اه من زغاليل\"                          \n",
            " [13] \"الرقص جميل\"                            \n",
            " [14] \"الصباوالجمال\"                          \n",
            " [15] \"بغير عليك\"                             \n",
            " [16] \"بحبك ليه\"                              \n",
            " [17] \"يا حسن يا خولى\"                        \n",
            " [18] \"حبينا بعض\"                             \n",
            " [19] \"سحر عنيكى العسليه\"                     \n",
            " [20] \"الحنه يا حنه\"                          \n",
            " [21] \"سهران وسايبنى ليلاتى\"                  \n",
            " [22] \"هدى يا دنيا\"                           \n",
            " [23] \"الدنيا حلوه\"                           \n",
            " [24] \"شفته بالصدفه\"                          \n",
            " [25] \"كثير علينا\"                            \n",
            " [26] \"غالى وجانى\"                            \n",
            " [27] \"انا اسفه\"                              \n",
            " [28] \"االحب د بلوه\"                          \n",
            " [29] \"على مهلك يامراكبى\"                     \n",
            " [30] \"انا مش ليماكى\"                         \n",
            " [31] \"صعبان على\"                             \n",
            " [32] \"كسفتنى ياسناره\"                        \n",
            " [33] \"ياصلاه الزين\"                          \n",
            " [34] \"الهاشا باشا\"                           \n",
            " [35] \"انا كنت فين\"                           \n",
            " [36] \"مدام بعادى\"                            \n",
            " [37] \"آدى اللى كان يا زمان\"                  \n",
            " [38] \"يا رب ما تحكم بنصيبى\"                  \n",
            " [39] \"يامفرق الارزاق\"                        \n",
            " [40] \"اغنيه الانتحار\"                        \n",
            " [41] \"هديا عيد ميلادى\"                       \n",
            " [42] \"ليله من جنه\"                           \n",
            " [43] \"حياتى انت\"                             \n",
            " [44] \"حود هنا\"                               \n",
            " [45] \"انا خايفه\"                             \n",
            " [46] \"ياقسمتى\"                               \n",
            " [47] \"الحب نصيب\"                             \n",
            " [48] \"سالونى ليه\"                            \n",
            " [49] \"مين يسمع منى\"                          \n",
            " [50] \"بكره الخميس\"                           \n",
            " [51] \"يا دبله الخطوبه\"                       \n",
            " [52] \"يا نور عنيا\"                           \n",
            " [53] \"فين السعاده\"                           \n",
            " [54] \"يا لوعتى ياشقايا\"                      \n",
            " [55] \"يا سم يا دم\"                           \n",
            " [56] \"النوم\"                                 \n",
            " [57] \"ليه قلبك قاسى\"                         \n",
            " [58] \"ايه فوق الحب\"                          \n",
            " [59] \"لسانك حصانك\"                           \n",
            " [60] \"غريبه يااهل الشام\"                     \n",
            " [61] \"فستان الفرح\"                           \n",
            " [62] \"كل احباء اثنين اثنين\"                  \n",
            " [63] \"تعالى قوام\"                            \n",
            " [64] \"خذ بالك منى\"                           \n",
            " [65] \"حبيته\"                                 \n",
            " [66] \"ان فات عليك الهوى\"                     \n",
            " [67] \"متهونش على\"                            \n",
            " [68] \"يالى انت قلبك ماهوش دارى بى\"           \n",
            " [69] \"ياهمس الحب\"                            \n",
            " [70] \"يا شاغلى وقلبك خالى\"                   \n",
            " [71] \"انا بنت حلوه\"                          \n",
            " [72] \"لقيته لقيته\"                           \n",
            " [73] \"يا سارق من عينى النوم\"                 \n",
            " [74] \"ماتهونش عليا\"                          \n",
            " [75] \"احب الوشوشه\"                           \n",
            " [76] \"عيون ماما\"                             \n",
            " [77] \"سبحانك\"                                \n",
            " [78] \"ثلاث شهور ويومين اتنين\"                \n",
            " [79] \"يا حلاوه المركب عا الميه\"              \n",
            " [80] \"قولى بحبك\"                             \n",
            " [81] \"عجبانى وحشته\"                          \n",
            " [82] \"اوصفولى الحب\"                          \n",
            " [83] \"من قلبى\"                               \n",
            " [84] \"على اخر سرعه ياعربيه\"                  \n",
            " [85] \"شهر العسل\"                             \n",
            " [86] \"تعالى ياله\"                            \n",
            " [87] \"ياشغلنى\"                               \n",
            " [88] \"حكم علينا الزمن\"                       \n",
            " [89] \"شبك حبيبى\"                             \n",
            " [90] \"شبكت قلبى\"                             \n",
            " [91] \"ابيض يا وردى\"                          \n",
            " [92] \"احب بكره\"                              \n",
            " [93] \"احبك\"                                  \n",
            " [94] \"احتار خيالى\"                           \n",
            " [95] \"لحن الوفاء\"                            \n",
            " [96] \"احنا كنا فين\"                          \n",
            " [97] \"ماتقلش بكره\"                           \n",
            " [98] \"يا مجربين الهوى اللى بيعشق ليه\"        \n",
            " [99] \"ضربه معلم\"                             \n",
            "[100] \"يا دنيا زوقوكى\"                        \n",
            "[101] \"فين هو\"                                \n",
            "[102] \"خد ياحبيبى\"                            \n",
            "[103] \"وعد ومكتوب\"                            \n",
            "[104] \"ما يكونش ده\"                           \n",
            "[105] \"ياسلام على حبى وحبك دويتو\"             \n",
            "[106] \"نعمين لما نادانى برمش العين\"           \n",
            "[107] \"حكايتى كانت وياك حكايه\"                \n",
            "[108] \"حبيبى عودنى\"                           \n",
            "[109] \"واحد اثنين\"                            \n",
            "[110] \"انا وحبيبى\"                            \n",
            "[111] \"انا لواحظ\"                             \n",
            "[112] \"شباكنا ستايره حرير\"                    \n",
            "[113] \"يا قلبى سيبك\"                          \n",
            "[114] \"ياختى عليك ربى يخليك\"                  \n",
            "[115] \"اه يا لمونى\"                           \n",
            "[116] \"يا نسر المجد\"                          \n",
            "[117] \"احنا وياك يا ريس\"                      \n",
            "[118] \"كفايه احبك انا\"                        \n",
            "[119] \"اه يانارى اه يانارى\"                   \n",
            "[120] \"وحياتك انت\"                            \n",
            "[121] \"لو اغمض عينى\"                          \n",
            "[122] \"اول لقانا\"                             \n",
            "[123] \"مكسوفه\"                                \n",
            "[124] \"خطابك كتير\"                            \n",
            "[125] \"يحبك اوى\"                              \n",
            "[126] \"ان راح منك يا عين\"                     \n",
            "[127] \"يا حنينه يا عين\"                       \n",
            "[128] \"على بالى\"                              \n",
            "[129] \"ودينى مطرح ماتودينى\"                   \n",
            "[130] \"الوطن الاكبر\"                          \n",
            "[131] \"جرالى ايه\"                             \n",
            "[132] \"مين قالك تسكن\"                         \n",
            "[133] \"حبيبى بس\"                              \n",
            "[134] \"يا مهندس\"                              \n",
            "[135] \"من الصبحيه\"                            \n",
            "[136] \"مش قلتلك يا قلبى\"                      \n",
            "[137] \"على بلدى بلد الاحرار\"                  \n",
            "[138] \"اه يا سلام لو تعرف بس\"                 \n",
            "[139] \"انا عشريه\"                             \n",
            "[140] \"يا حبيبى عود لى تانى\"                  \n",
            "[141] \"يا حبيبى ايوه انت بس انت\"              \n",
            "[142] \"يا بهيه\"                               \n",
            "[143] \"عرفنا خلاص\"                            \n",
            "[144] \"فوق يا قلبى\"                           \n",
            "[145] \"سوا سوا\"                               \n",
            "[146] \"معلش النوبه دى\"                        \n",
            "[147] \"سونه يا سنسن\"                          \n",
            "[148] \"يا معدى عالبلد دى\"                     \n",
            "[149] \"لا تذكرينى\"                            \n",
            "[150] \"فوت يا حبيبى وسلم\"                     \n",
            "[151] \"حبيبى يا حماده يا سارق السعاده\"        \n",
            "[152] \"من غير مايقولى\"                        \n",
            "[153] \"والله غلابه\"                           \n",
            "[154] \"سيد الحبايب\"                           \n",
            "[155] \"على عش الحب\"                           \n",
            "[156] \"وحياه عينيك\"                           \n",
            "[157] \"توحه\"                                  \n",
            "[158] \"نشيد فجر جديد\"                         \n",
            "[159] \"ورد يا ورد\"                            \n",
            "[160] \"انا عندى مشكله\"                        \n",
            "[161] \"بسبوسه\"                                \n",
            "[162] \"نو يا جونى نو\"                         \n",
            "[163] \"صوت الجماهير\"                          \n",
            "[164] \"واحد واحد\"                             \n",
            "[165] \"الحلو ماله\"                            \n",
            "[166] \"يا بنت خالى يا وحشانى\"                 \n",
            "[167] \"بلد السد\"                              \n",
            "[168] \"انت اول حب\"                            \n",
            "[169] \"يا وابور يا مولع\"                      \n",
            "[170] \"اسمرانى اللون\"                         \n",
            "[171] \"قولو لعين الشمس\"                       \n",
            "[172] \"يا اسمرانى اللون\"                      \n",
            "[173] \"لا يا سى احمد\"                         \n",
            "[174] \"انا يا روحى انا\"                       \n",
            "[175] \"على شط النيل\"                          \n",
            "[176] \"بسبس نو الايام عماله تحلو\"             \n",
            "[177] \"حاجه غريبه\"                            \n",
            "[178] \"يا عزيز عينى\"                          \n",
            "[179] \"خذنى معاك\"                             \n",
            "[180] \"قطر الفراق\"                            \n",
            "[181] \"فارس احلامى\"                           \n",
            "[182] \"يا رب توبه\"                            \n",
            "[183] \"قدمناله\"                               \n",
            "[184] \"هوا يا هوا\"                            \n",
            "[185] \"ادينى اهه جت لك\"                       \n",
            "[186] \"يا طيره طيرى يا حمامه\"                 \n",
            "[187] \"سكر والله الدنيا سكر\"                  \n",
            "[188] \"يا حبيبتى يا مصر\"                      \n",
            "[189] \"الدرس انتهى لموا الكراريس\"             \n",
            "[190] \"اخر ليله\"                              \n",
            "[191] \"عالى\"                                  \n",
            "[192] \"غاب القمر\"                             \n",
            "[193] \"يا ام الصابرين\"                        \n",
            "[194] \"غريبه الساعات بتمر الساعات\"            \n",
            "[195] \"قاللى الوداع\"                          \n",
            "[196] \"غاليه يا بلادى\"                        \n",
            "[197] \"الاسمر فى كل مكان\"                     \n",
            "[198] \"سيد الحلوين\"                           \n",
            "[199] \"اتعودت عليك\"                           \n",
            "[200] \"حبه بحبه\"                              \n",
            "[201] \"خلاص مسافر\"                            \n",
            "[202] \"سلامه سلامه\"                           \n",
            "[203] \"هنتقابل فى كل مكان\"                    \n",
            "[204] \"بالهداوه\"                              \n",
            "[205] \"حبه حبه\"                               \n",
            "[206] \"لو القلوب ارتاحو\"                      \n",
            "[207] \"اه منك يا طيرى\"                        \n",
            "[208] \"قسم روق لى مزاجى\"                      \n",
            "[209] \"يا روح قلبى وهمس الحب والنبى وحشتنا\"   \n",
            "[210] \"الحب الحقيقى\"                          \n",
            "[211] \"انا وقلبى\"                             \n",
            "[212] \"والنبى وحشتنا\"                         \n",
            "[213] \"فرح\"                                   \n",
            "[214] \"بلدى يابلدى\"                           \n",
            "[215] \"قدمناله الحب\"                          \n",
            "[216] \"مسيرك هتعرف\"                           \n",
            "[217] \"احلى الكلام\"                           \n",
            "[218] \"احلف ماكلمته\"                          \n",
            "[219] \"اصالحك بايه\"                           \n",
            "[220] \"اقوى من الزمان لما كنا صغيرين\"         \n",
            "[221] \"الزمان لما صالحنا\"                     \n",
            "[222] \"رساله حب\"                              \n",
            "[223] \"حبيبى\"                                 \n",
            "[224] \"الناس كلامهم غيرك\"                     \n",
            "[225] \"ليه كل مره\"                            \n",
            "[226] \"امى\"                                   \n",
            "[227] \"حبك جننا يا اسمك ايه\"                  \n",
            "[228] \"شبكنا الحكومه\"                         \n",
            "[229] \"الرحمه\"                                \n",
            "[230] \"ساره موال السهارى قالوا كتير عن شهرزاد\"\n",
            "[231] \"عالم غريب\"                             \n",
            "[232] \"اه يانا منكم\"                          \n",
            "[233] \"وحياه رب المداين\"                      \n",
            "[234] \"خد بايدى دينى\"                         \n",
            "[235] \"ياحليله يا شهر الهنا\"                  \n",
            "[236] \"انا مخصماك\"                            \n",
            "[237] \"عبرا الهزيمه\"                          \n",
            "[238] \"يا سيدى\"                               \n",
            "[239] \"عجبانى وحاشته\"                         \n",
            "[240] \"ادخلوها سالمين\"                        \n",
            "[241] \"رحله العمر\"                            \n",
            "[242] \"ليله سهر\"                              \n",
            "[243] \"هو انا لو مش بحبك\"                     \n",
            "[244] \"العين ماتعلاش ع الحاجب\"                \n",
            "[245] \"الشابه حته سكره\"                       \n",
            "[246] \"عدينا يامعاداوى\"                       \n",
            "[247] \"ياحبه عينى يابلدى\"                     \n",
            "[248] \"احسبوا النجوم\"                         \n",
            "[249] \"النيل والزيتون\"                        \n",
            "[250] \"يا ناس حبيبى بيتشاقى\"                  \n",
            "[251] \"يا ليل دق الهوا\"                       \n",
            "[252] \"يا للا يا ريس البخت اهو عال\"           \n",
            "[253] \"يا روحى انا\"                           \n",
            "[254] \"ابو عين عسليه\"                         \n",
            "[255] \"كثره الخطاب\"                           \n",
            "[256] \"شبيك لبيك\"                             \n",
            "[257] \"سوى يا اللى شغلنى\"                     \n",
            "[258] \"يا سلام على جو الدنيا\"                 \n",
            "[259] \"شجر اللب\"                              \n",
            "[260] \"ياسحرنى بنظره\"                         \n",
            "[261] \"مقدرش احب اثنين\"                       \n",
            "[262] \"عنيه تقول\"                             \n",
            "[263] \"احلفلك بايه\"                           \n"
          ]
        }
      ]
    },
    {
      "cell_type": "code",
      "source": [
        "%%R\n",
        "songs.2.1 <- songs.2.1 %>%\n",
        "  group_by(Song) %>%\n",
        "  mutate(Frequency = n()) %>%\n",
        "  ungroup()"
      ],
      "metadata": {
        "id": "O46z4pGOTKD5"
      },
      "execution_count": null,
      "outputs": []
    },
    {
      "cell_type": "markdown",
      "source": [
        "Choose n random songs that contains the subword \"حب\" (love):"
      ],
      "metadata": {
        "id": "3ZmYZq9NTPU_"
      }
    },
    {
      "cell_type": "code",
      "source": [
        "%%R\n",
        "songs.2.1 <- songs.2.1 %>%\n",
        "   distinct() %>%\n",
        "   mutate(Composer_2 = paste(Composer_first_name, Composer_last_name)) %>%\n",
        "   mutate(Lyricist_2 = paste(Lyricist_first_name, Lyricist_last_name))  %>% \n",
        "  dplyr::select(Word, Song, Year, Decade, Composer = Composer_2, Lyricist = Lyricist_2, Frequency)"
      ],
      "metadata": {
        "id": "NjaWNN6cTTrq"
      },
      "execution_count": null,
      "outputs": []
    },
    {
      "cell_type": "code",
      "source": [
        "%%R\n",
        "songs.2.1 <- songs.2.1 %>%\n",
        "  arrange(desc(Frequency))"
      ],
      "metadata": {
        "id": "ogWX5XG0TXUj"
      },
      "execution_count": null,
      "outputs": []
    },
    {
      "cell_type": "code",
      "source": [
        "%%R\n",
        "n_samples <- 20  # number of random songs that contains the word \"حب\"(love)\n",
        "\n",
        "songs.2.2 <- songs.2.1 %>%\n",
        "  #sample_n(n_samples) %>%\n",
        "  slice_head(n = n_samples) %>%\n",
        "  distinct() %>%\n",
        "  mutate(Song = color_tile(\"lightblue\", \"lightblue\")(Song)) %>%\n",
        "  mutate(Word = color_tile(\"lightgreen\", \"lightgreen\")(Word)) %>%\n",
        "  kable(\"html\", escape = FALSE, align = \"c\", caption = \"Sample of top songs with Lyrics containing the subword \n",
        "         \\u062D\\u0628\") %>%\n",
        "   kable_styling(bootstrap_options = c(\"striped\", \"condensed\", \"bordered\"),\n",
        "                 full_width = FALSE) "
      ],
      "metadata": {
        "id": "XcXpxThQTbxq"
      },
      "execution_count": null,
      "outputs": []
    },
    {
      "cell_type": "code",
      "source": [
        "%%R\n",
        "songs.2.2"
      ],
      "metadata": {
        "id": "87bevzIgTfCE"
      },
      "execution_count": null,
      "outputs": []
    },
    {
      "cell_type": "markdown",
      "source": [
        "Free up memory"
      ],
      "metadata": {
        "id": "T8Pzh3YKzLmj"
      }
    },
    {
      "cell_type": "code",
      "source": [
        "%%R\n",
        "rm(\"songs.2.1\")\n",
        "rm(\"songs.2.2\")"
      ],
      "metadata": {
        "id": "gwaLsCI8zNPl"
      },
      "execution_count": null,
      "outputs": []
    },
    {
      "cell_type": "markdown",
      "source": [
        "## Initial investigation using the keyword وطن (homeland)"
      ],
      "metadata": {
        "id": "jTJWsXJAzU1u"
      }
    },
    {
      "cell_type": "markdown",
      "source": [
        "This is particularly chosen as Shadia is also famous for the nationalistic and patriotic themes.\n",
        "\n",
        "Extract all subwords containing the word \"وطن\", including repetitions."
      ],
      "metadata": {
        "id": "XXK0ux0rzXj7"
      }
    },
    {
      "cell_type": "code",
      "source": [
        "%%R\n",
        "keyword <- as_utf8(\"\\u0648\\u0637\\u0646\")  # the keyword وطن\n",
        "\n",
        "songs.2.1 <- songs.proc %>%\n",
        "   dplyr::filter(grepl(keyword, Word))"
      ],
      "metadata": {
        "id": "JrCaMCMxzaEk"
      },
      "execution_count": null,
      "outputs": []
    },
    {
      "cell_type": "code",
      "source": [
        "%%R\n",
        "cat(\"Total number of occurences of words containing the subword \\u0648\\u0637\\u0646 (with repititions) accross all songs: \\n\")\n",
        "cat(nrow(songs.2.1), \"\\n\")\n",
        "cat(\"Out of a total number of \", nrow(songs.proc), \" words.\\n\")\n",
        "cat(\"Note that all these counts include repititions.\\n\")"
      ],
      "metadata": {
        "colab": {
          "base_uri": "https://localhost:8080/"
        },
        "id": "Qdf8lykQzhxc",
        "outputId": "8b633fb1-93a9-49b1-88c8-4bd5f7e8de65"
      },
      "execution_count": null,
      "outputs": [
        {
          "output_type": "stream",
          "name": "stdout",
          "text": [
            "Total number of occurences of words containing the subword وطن (with repititions) accross all songs: \n",
            "40 \n",
            "Out of a total number of  28814  words.\n",
            "Note that all these counts include repititions.\n"
          ]
        }
      ]
    },
    {
      "cell_type": "code",
      "source": [
        "%%R\n",
        "cat(\"Number of songs with lyrics containing the subword \\u0648\\u0637\\u0646: \\n\")\n",
        "cat(length(unique(songs.2.1$Song)), \"\\n\")\n",
        "cat(\"Out of a total of: \", length(unique(songs.proc$Song)), \" songs.\\n\")"
      ],
      "metadata": {
        "colab": {
          "base_uri": "https://localhost:8080/"
        },
        "id": "p9TuWkJSBCCe",
        "outputId": "7bc93d0e-f95b-43a1-f88d-ca6a0c548e57"
      },
      "execution_count": null,
      "outputs": [
        {
          "output_type": "stream",
          "name": "stdout",
          "text": [
            "Number of songs with lyrics containing the subword وطن: \n",
            "7 \n",
            "Out of a total of:  372  songs.\n"
          ]
        }
      ]
    },
    {
      "cell_type": "markdown",
      "source": [
        "So this would imply that Shadia has at least 7 songs with nationalistic theme."
      ],
      "metadata": {
        "id": "9T8MSVkLBHK-"
      }
    },
    {
      "cell_type": "code",
      "source": [
        "%%R\n",
        "cat(\"Songs with lyrics containing the subword \\u0648\\u0637\\u0646: \\n\")\n",
        "unique(songs.2.1$Song)"
      ],
      "metadata": {
        "colab": {
          "base_uri": "https://localhost:8080/"
        },
        "id": "lYABzGaeBJm-",
        "outputId": "5abc65bf-c340-4f74-89b1-66af00e312f1"
      },
      "execution_count": null,
      "outputs": [
        {
          "output_type": "stream",
          "name": "stdout",
          "text": [
            "Songs with lyrics containing the subword وطن: \n",
            "[1] \"مصر\"                     \"يا جاى من السودان\"      \n",
            "[3] \"الشعوب لما تريد انتفاضه\" \"الوطن الاكبر\"           \n",
            "[5] \"نشيد فجر جديد\"           \"واحد واحد\"              \n",
            "[7] \"يا وابور يا مولع\"       \n"
          ]
        }
      ]
    },
    {
      "cell_type": "code",
      "source": [
        "%%R\n",
        "songs.2.1 <- songs.2.1 %>%\n",
        "  group_by(Song) %>%\n",
        "  mutate(Frequency = n()) %>%\n",
        "  ungroup()"
      ],
      "metadata": {
        "id": "6eBrZNW8HMtg"
      },
      "execution_count": null,
      "outputs": []
    },
    {
      "cell_type": "markdown",
      "source": [
        "Choose n random songs that contains the subword \"وطن\" (homeland):"
      ],
      "metadata": {
        "id": "v1pFf7Q8HRoZ"
      }
    },
    {
      "cell_type": "code",
      "source": [
        "%%R\n",
        "songs.2.1 <- songs.2.1 %>%\n",
        "   distinct() %>%\n",
        "   mutate(Composer_2 = paste(Composer_first_name, Composer_last_name)) %>%\n",
        "   mutate(Lyricist_2 = paste(Lyricist_first_name, Lyricist_last_name))  %>%\n",
        "   dplyr::select(Word, Song, Year, Decade, Composer = Composer_2, Lyricist = Lyricist_2, Frequency) "
      ],
      "metadata": {
        "id": "uaXsOz8wHT6X"
      },
      "execution_count": null,
      "outputs": []
    },
    {
      "cell_type": "code",
      "source": [
        "%%R\n",
        "songs.2.1 <- songs.2.1 %>%\n",
        "  arrange(desc(Frequency))"
      ],
      "metadata": {
        "id": "PVJnNuvnHj6e"
      },
      "execution_count": null,
      "outputs": []
    },
    {
      "cell_type": "code",
      "source": [
        "%%R\n",
        "n_samples <- 10  # number of random songs that contains the word \"وطن\"(homeland)\n",
        "\n",
        "songs.2.2 <- songs.2.1 %>%\n",
        "  slice_head(n = n_samples) %>%\n",
        "  #sample_n(n_samples) %>%\n",
        "  distinct() %>%\n",
        "  mutate(Song = color_tile(\"lightblue\", \"lightblue\")(Song)) %>%\n",
        "  mutate(Word = color_tile(\"lightgreen\", \"lightgreen\")(Word)) %>%\n",
        "  kable(\"html\", escape = FALSE, align = \"c\", caption = \"Sample of top songs with Lyrics containing the subword\n",
        "        \\u0648\\u0637\\u0646\") %>%\n",
        "  kable_styling(bootstrap_options = c(\"striped\", \"condensed\", \"bordered\"),\n",
        "                full_width = FALSE)"
      ],
      "metadata": {
        "id": "O2UFn4owHn7m"
      },
      "execution_count": null,
      "outputs": []
    },
    {
      "cell_type": "code",
      "source": [
        "%%R\n",
        "songs.2.2"
      ],
      "metadata": {
        "id": "K_DgB7ngHxeK"
      },
      "execution_count": null,
      "outputs": []
    },
    {
      "cell_type": "markdown",
      "source": [
        "Free up memory"
      ],
      "metadata": {
        "id": "ubrtwUKtqkKz"
      }
    },
    {
      "cell_type": "code",
      "source": [
        "%%R\n",
        "rm(\"songs.2.1\")\n",
        "rm(\"songs.2.2\")"
      ],
      "metadata": {
        "id": "I28Aq-zIqmXA"
      },
      "execution_count": null,
      "outputs": []
    },
    {
      "cell_type": "markdown",
      "source": [
        "# POS Analysis"
      ],
      "metadata": {
        "id": "cWoodw8pqqUX"
      }
    },
    {
      "cell_type": "code",
      "source": [
        "!pip install camel-tools\n",
        "\n"
      ],
      "metadata": {
        "id": "bcJV6sxgBRfJ"
      },
      "execution_count": null,
      "outputs": []
    },
    {
      "cell_type": "code",
      "source": [
        "# install just the default datasets for each component\n",
        "!camel_data -i defaults"
      ],
      "metadata": {
        "colab": {
          "base_uri": "https://localhost:8080/"
        },
        "id": "bbxSa2w-D_Uf",
        "outputId": "b1065b1c-4742-4397-9029-9591ce9b939c"
      },
      "execution_count": null,
      "outputs": [
        {
          "output_type": "stream",
          "name": "stdout",
          "text": [
            "The following packages will be installed: 'disambig-ranking-cache-calima-msa-r13', 'dialectid-default', 'disambig-bert-unfactored-msa', 'disambig-mle-calima-msa-r13', 'ner-arabert', 'sentiment-analysis-arabert', 'morphology-db-msa-r13'\n",
            "Downloading package 'disambig-ranking-cache-calima-msa-r13': 100% 527M/527M [00:04<00:00, 129MB/s]\n",
            "Extracting package 'disambig-ranking-cache-calima-msa-r13': 100% 527M/527M [00:02<00:00, 209MB/s]\n",
            "Downloading package 'dialectid-default': 100% 282M/282M [00:02<00:00, 113MB/s]\n",
            "Extracting package 'dialectid-default': 100% 282M/282M [00:01<00:00, 209MB/s]\n",
            "Downloading package 'disambig-bert-unfactored-msa': 100% 445M/445M [00:03<00:00, 121MB/s]\n",
            "Extracting package 'disambig-bert-unfactored-msa': 100% 445M/445M [00:02<00:00, 211MB/s]\n",
            "Downloading package 'disambig-mle-calima-msa-r13': 100% 88.7M/88.7M [00:00<00:00, 133MB/s]\n",
            "Extracting package 'disambig-mle-calima-msa-r13': 100% 88.7M/88.7M [00:00<00:00, 348MB/s]\n",
            "Downloading package 'ner-arabert': 100% 542M/542M [00:04<00:00, 117MB/s]\n",
            "Extracting package 'ner-arabert': 100% 542M/542M [00:04<00:00, 125MB/s]\n",
            "Downloading package 'sentiment-analysis-arabert': 100% 542M/542M [00:04<00:00, 116MB/s] \n",
            "Extracting package 'sentiment-analysis-arabert': 100% 542M/542M [00:03<00:00, 147MB/s]\n",
            "Downloading package 'morphology-db-msa-r13': 100% 40.5M/40.5M [00:00<00:00, 163MB/s]\n",
            "Extracting package 'morphology-db-msa-r13': 100% 40.5M/40.5M [00:00<00:00, 270MB/s]\n"
          ]
        }
      ]
    },
    {
      "cell_type": "code",
      "source": [
        "from camel_tools.disambig.mle import MLEDisambiguator\n",
        "from camel_tools.tagger.default import DefaultTagger"
      ],
      "metadata": {
        "id": "GEVagxbHt4ex"
      },
      "execution_count": null,
      "outputs": []
    },
    {
      "cell_type": "code",
      "source": [
        "import pandas as pd"
      ],
      "metadata": {
        "id": "bpCSFleoizXy"
      },
      "execution_count": null,
      "outputs": []
    },
    {
      "cell_type": "code",
      "source": [
        "py_songs = pd.read_csv(\"/content/drive/MyDrive/Shadia/data/songs.csv\", sep=',', encoding='utf-8')"
      ],
      "metadata": {
        "id": "8ga2kkLiqyMK"
      },
      "execution_count": null,
      "outputs": []
    },
    {
      "cell_type": "code",
      "source": [
        "# Empty fields are replaced by NA.\n",
        "py_songs=py_songs.fillna(\"NA\")"
      ],
      "metadata": {
        "id": "Bq2iXXoLFMK2"
      },
      "execution_count": null,
      "outputs": []
    },
    {
      "cell_type": "code",
      "source": [
        "py_songs.head()"
      ],
      "metadata": {
        "colab": {
          "base_uri": "https://localhost:8080/",
          "height": 206
        },
        "id": "p3P2jLyQrtn4",
        "outputId": "c36b17be-ca05-4d33-f7cd-f1af8c9f4d5f"
      },
      "execution_count": null,
      "outputs": [
        {
          "output_type": "execute_result",
          "data": {
            "text/plain": [
              "     Year     Composer             Lyricist           Song  \\\n",
              "0  1972.0  خالد الامير      عبد الوهاب محمد    اتعودت عليك   \n",
              "1  1976.0  خالد الامير        محمد كمال بدر    احلى الكلام   \n",
              "2  1956.0    منير مراد           حسين السيد   احنا كنا فين   \n",
              "3  1971.0    بليغ حمدي            محمد حمزه       اخر ليلة   \n",
              "4  1966.0    بليغ حمدي  عبد الرحمن الأبنودي  اسمراني اللون   \n",
              "\n",
              "                                              Lyrics  \n",
              "0  اتعودت عليك يا حبيبي اتعودت عليك \\nوبقيت ملك ا...  \n",
              "1  اما عليك ياحبيبي كلام....أحلى كلام فالحب اتقال...  \n",
              "2  احنا كنا فين ؟\\nعمرك اطول من عمـــــــري\\nاحنا...  \n",
              "3   آخر ليله\\nوسهرنا لحد الفجر...مافات علينا...وص...  \n",
              "4  اه يا اسمراني اللون  حبيبي الاسمراني\\n\\nيا عيو...  "
            ],
            "text/html": [
              "\n",
              "  <div id=\"df-2786ce10-c142-4627-b126-ae12fa5b37fa\">\n",
              "    <div class=\"colab-df-container\">\n",
              "      <div>\n",
              "<style scoped>\n",
              "    .dataframe tbody tr th:only-of-type {\n",
              "        vertical-align: middle;\n",
              "    }\n",
              "\n",
              "    .dataframe tbody tr th {\n",
              "        vertical-align: top;\n",
              "    }\n",
              "\n",
              "    .dataframe thead th {\n",
              "        text-align: right;\n",
              "    }\n",
              "</style>\n",
              "<table border=\"1\" class=\"dataframe\">\n",
              "  <thead>\n",
              "    <tr style=\"text-align: right;\">\n",
              "      <th></th>\n",
              "      <th>Year</th>\n",
              "      <th>Composer</th>\n",
              "      <th>Lyricist</th>\n",
              "      <th>Song</th>\n",
              "      <th>Lyrics</th>\n",
              "    </tr>\n",
              "  </thead>\n",
              "  <tbody>\n",
              "    <tr>\n",
              "      <th>0</th>\n",
              "      <td>1972.0</td>\n",
              "      <td>خالد الامير</td>\n",
              "      <td>عبد الوهاب محمد</td>\n",
              "      <td>اتعودت عليك</td>\n",
              "      <td>اتعودت عليك يا حبيبي اتعودت عليك \\nوبقيت ملك ا...</td>\n",
              "    </tr>\n",
              "    <tr>\n",
              "      <th>1</th>\n",
              "      <td>1976.0</td>\n",
              "      <td>خالد الامير</td>\n",
              "      <td>محمد كمال بدر</td>\n",
              "      <td>احلى الكلام</td>\n",
              "      <td>اما عليك ياحبيبي كلام....أحلى كلام فالحب اتقال...</td>\n",
              "    </tr>\n",
              "    <tr>\n",
              "      <th>2</th>\n",
              "      <td>1956.0</td>\n",
              "      <td>منير مراد</td>\n",
              "      <td>حسين السيد</td>\n",
              "      <td>احنا كنا فين</td>\n",
              "      <td>احنا كنا فين ؟\\nعمرك اطول من عمـــــــري\\nاحنا...</td>\n",
              "    </tr>\n",
              "    <tr>\n",
              "      <th>3</th>\n",
              "      <td>1971.0</td>\n",
              "      <td>بليغ حمدي</td>\n",
              "      <td>محمد حمزه</td>\n",
              "      <td>اخر ليلة</td>\n",
              "      <td>آخر ليله\\nوسهرنا لحد الفجر...مافات علينا...وص...</td>\n",
              "    </tr>\n",
              "    <tr>\n",
              "      <th>4</th>\n",
              "      <td>1966.0</td>\n",
              "      <td>بليغ حمدي</td>\n",
              "      <td>عبد الرحمن الأبنودي</td>\n",
              "      <td>اسمراني اللون</td>\n",
              "      <td>اه يا اسمراني اللون  حبيبي الاسمراني\\n\\nيا عيو...</td>\n",
              "    </tr>\n",
              "  </tbody>\n",
              "</table>\n",
              "</div>\n",
              "      <button class=\"colab-df-convert\" onclick=\"convertToInteractive('df-2786ce10-c142-4627-b126-ae12fa5b37fa')\"\n",
              "              title=\"Convert this dataframe to an interactive table.\"\n",
              "              style=\"display:none;\">\n",
              "        \n",
              "  <svg xmlns=\"http://www.w3.org/2000/svg\" height=\"24px\"viewBox=\"0 0 24 24\"\n",
              "       width=\"24px\">\n",
              "    <path d=\"M0 0h24v24H0V0z\" fill=\"none\"/>\n",
              "    <path d=\"M18.56 5.44l.94 2.06.94-2.06 2.06-.94-2.06-.94-.94-2.06-.94 2.06-2.06.94zm-11 1L8.5 8.5l.94-2.06 2.06-.94-2.06-.94L8.5 2.5l-.94 2.06-2.06.94zm10 10l.94 2.06.94-2.06 2.06-.94-2.06-.94-.94-2.06-.94 2.06-2.06.94z\"/><path d=\"M17.41 7.96l-1.37-1.37c-.4-.4-.92-.59-1.43-.59-.52 0-1.04.2-1.43.59L10.3 9.45l-7.72 7.72c-.78.78-.78 2.05 0 2.83L4 21.41c.39.39.9.59 1.41.59.51 0 1.02-.2 1.41-.59l7.78-7.78 2.81-2.81c.8-.78.8-2.07 0-2.86zM5.41 20L4 18.59l7.72-7.72 1.47 1.35L5.41 20z\"/>\n",
              "  </svg>\n",
              "      </button>\n",
              "      \n",
              "  <style>\n",
              "    .colab-df-container {\n",
              "      display:flex;\n",
              "      flex-wrap:wrap;\n",
              "      gap: 12px;\n",
              "    }\n",
              "\n",
              "    .colab-df-convert {\n",
              "      background-color: #E8F0FE;\n",
              "      border: none;\n",
              "      border-radius: 50%;\n",
              "      cursor: pointer;\n",
              "      display: none;\n",
              "      fill: #1967D2;\n",
              "      height: 32px;\n",
              "      padding: 0 0 0 0;\n",
              "      width: 32px;\n",
              "    }\n",
              "\n",
              "    .colab-df-convert:hover {\n",
              "      background-color: #E2EBFA;\n",
              "      box-shadow: 0px 1px 2px rgba(60, 64, 67, 0.3), 0px 1px 3px 1px rgba(60, 64, 67, 0.15);\n",
              "      fill: #174EA6;\n",
              "    }\n",
              "\n",
              "    [theme=dark] .colab-df-convert {\n",
              "      background-color: #3B4455;\n",
              "      fill: #D2E3FC;\n",
              "    }\n",
              "\n",
              "    [theme=dark] .colab-df-convert:hover {\n",
              "      background-color: #434B5C;\n",
              "      box-shadow: 0px 1px 3px 1px rgba(0, 0, 0, 0.15);\n",
              "      filter: drop-shadow(0px 1px 2px rgba(0, 0, 0, 0.3));\n",
              "      fill: #FFFFFF;\n",
              "    }\n",
              "  </style>\n",
              "\n",
              "      <script>\n",
              "        const buttonEl =\n",
              "          document.querySelector('#df-2786ce10-c142-4627-b126-ae12fa5b37fa button.colab-df-convert');\n",
              "        buttonEl.style.display =\n",
              "          google.colab.kernel.accessAllowed ? 'block' : 'none';\n",
              "\n",
              "        async function convertToInteractive(key) {\n",
              "          const element = document.querySelector('#df-2786ce10-c142-4627-b126-ae12fa5b37fa');\n",
              "          const dataTable =\n",
              "            await google.colab.kernel.invokeFunction('convertToInteractive',\n",
              "                                                     [key], {});\n",
              "          if (!dataTable) return;\n",
              "\n",
              "          const docLinkHtml = 'Like what you see? Visit the ' +\n",
              "            '<a target=\"_blank\" href=https://colab.research.google.com/notebooks/data_table.ipynb>data table notebook</a>'\n",
              "            + ' to learn more about interactive tables.';\n",
              "          element.innerHTML = '';\n",
              "          dataTable['output_type'] = 'display_data';\n",
              "          await google.colab.output.renderOutput(dataTable, element);\n",
              "          const docLink = document.createElement('div');\n",
              "          docLink.innerHTML = docLinkHtml;\n",
              "          element.appendChild(docLink);\n",
              "        }\n",
              "      </script>\n",
              "    </div>\n",
              "  </div>\n",
              "  "
            ]
          },
          "metadata": {},
          "execution_count": 21
        }
      ]
    },
    {
      "cell_type": "code",
      "source": [
        "mled = MLEDisambiguator.pretrained()\n",
        "tagger = DefaultTagger(mled, 'pos')"
      ],
      "metadata": {
        "id": "5UTjteYat-Is"
      },
      "execution_count": null,
      "outputs": []
    },
    {
      "cell_type": "code",
      "source": [
        "py_songs[\"POS Tags\"] = [tagger.tag(ly.split()) for ly in py_songs[\"Lyrics\"]]"
      ],
      "metadata": {
        "id": "sUWLMzYZuBSX"
      },
      "execution_count": null,
      "outputs": []
    },
    {
      "cell_type": "code",
      "source": [
        "py_songs[\"POS Tags\"]"
      ],
      "metadata": {
        "id": "ozvxz9oHuEK8",
        "colab": {
          "base_uri": "https://localhost:8080/"
        },
        "outputId": "86ae3b5d-89a8-4fd9-cd4d-56ccc212013f"
      },
      "execution_count": null,
      "outputs": [
        {
          "output_type": "execute_result",
          "data": {
            "text/plain": [
              "0      [noun_prop, prep, part_voc, adj, noun_prop, pr...\n",
              "1      [part_focus, prep, noun_prop, noun_prop, noun,...\n",
              "2      [noun, verb, noun_prop, punc, noun, noun, prep...\n",
              "3      [adj, noun, verb, noun_prop, noun_prop, noun_p...\n",
              "4      [verb, part_voc, noun_prop, noun, adj, noun_pr...\n",
              "                             ...                        \n",
              "386    [noun, noun, prep, noun, adv, part_neg, verb, ...\n",
              "387    [prep, noun, adj, noun, noun_prop, noun_prop, ...\n",
              "388    [adj, noun, noun_prop, noun_prop, noun, noun_p...\n",
              "389    [conj, noun, noun, conj, noun, noun, noun, ver...\n",
              "390    [adj, noun_prop, verb, adv, noun_prop, noun, n...\n",
              "Name: POS Tags, Length: 391, dtype: object"
            ]
          },
          "metadata": {},
          "execution_count": 23
        }
      ]
    },
    {
      "cell_type": "code",
      "source": [
        "tags = ['noun', 'noun_prop', 'verb', 'prep', 'adj', 'part_voc', 'pron', 'noun_quant', 'conj']\n",
        "\n",
        "#py_songs[\"test\"] = [pd.Series(p).value_counts() for p in py_songs[\"POS Tags\"]] \n",
        "py_songs[\"Feature Vector\"] = [{t:p.count(t) for t in set(tags)} for p in py_songs[\"POS Tags\"]]"
      ],
      "metadata": {
        "id": "WC4IE2xUuHtt"
      },
      "execution_count": null,
      "outputs": []
    },
    {
      "cell_type": "code",
      "source": [
        "py_songs[\"Feature Vector\"][0]\n",
        "py_songs[\"Feature Vector\"][10]\n",
        "py_songs[\"Feature Vector\"][100]\n",
        "#py_songs[\"test\"][0].to_dict()"
      ],
      "metadata": {
        "id": "EhWaI8vJuLHi",
        "colab": {
          "base_uri": "https://localhost:8080/"
        },
        "outputId": "42139e73-ec3e-49e8-8e13-155a09097c30"
      },
      "execution_count": null,
      "outputs": [
        {
          "output_type": "execute_result",
          "data": {
            "text/plain": [
              "{'noun_prop': 32,\n",
              " 'noun_quant': 1,\n",
              " 'prep': 25,\n",
              " 'noun': 60,\n",
              " 'adj': 5,\n",
              " 'conj': 0,\n",
              " 'part_voc': 0,\n",
              " 'verb': 41,\n",
              " 'pron': 0}"
            ]
          },
          "metadata": {},
          "execution_count": 25
        }
      ]
    },
    {
      "cell_type": "markdown",
      "source": [
        "In the following cell we extract the feature vectors based on POS features and put them into a 2-dim array."
      ],
      "metadata": {
        "id": "AXulkKxUuP03"
      }
    },
    {
      "cell_type": "code",
      "source": [
        "import numpy as np\n",
        "\n",
        "N = len(py_songs)\n",
        "M = len(tags)\n",
        "\n",
        "feature_matrix = np.zeros((N,M))\n",
        "\n",
        "for i in range(N):\n",
        "  feature_matrix[i,:] = list(py_songs[\"Feature Vector\"][i].values())\n",
        "\n",
        "#ss[1,:] =list(py_songs[\"Feature Vector\"][100].values())\n",
        "#ss = np.array(list(py_songs[\"Feature Vector\"][100].values()))\n",
        "#ss\n",
        "#ss.shape\n",
        "\n",
        "feature_matrix"
      ],
      "metadata": {
        "id": "0MesjHwYuUN5",
        "colab": {
          "base_uri": "https://localhost:8080/"
        },
        "outputId": "f41ce8fa-e2f3-406f-8d5b-e8e2468d81e2"
      },
      "execution_count": null,
      "outputs": [
        {
          "output_type": "execute_result",
          "data": {
            "text/plain": [
              "array([[16.,  0., 12., ...,  3.,  9., 16.],\n",
              "       [50.,  0., 15., ...,  0., 17.,  6.],\n",
              "       [49.,  0., 19., ...,  5., 49.,  8.],\n",
              "       ...,\n",
              "       [32.,  0., 13., ...,  0., 25.,  5.],\n",
              "       [12.,  0.,  7., ...,  0., 17.,  1.],\n",
              "       [24.,  0.,  4., ...,  0., 16.,  1.]])"
            ]
          },
          "metadata": {},
          "execution_count": 26
        }
      ]
    },
    {
      "cell_type": "markdown",
      "source": [
        "**Standardization**: Standardization scales, or shifts, the values for each numerical feature in your dataset so that the features have a mean of 0 and standard deviation of 1:"
      ],
      "metadata": {
        "id": "O9gx9XRvuX1-"
      }
    },
    {
      "cell_type": "code",
      "source": [
        "from sklearn.cluster import KMeans\n",
        "from sklearn.preprocessing import StandardScaler\n",
        "\n",
        "scaler = StandardScaler()\n",
        "scaled_feature_matrix = scaler.fit_transform(feature_matrix)\n",
        "\n",
        "scaled_feature_matrix"
      ],
      "metadata": {
        "id": "5HCy1mvKuXIj",
        "colab": {
          "base_uri": "https://localhost:8080/"
        },
        "outputId": "84726699-b680-4b23-b7ca-8af8b4d7e810"
      },
      "execution_count": null,
      "outputs": [
        {
          "output_type": "execute_result",
          "data": {
            "text/plain": [
              "array([[-0.40028448, -0.14757033,  0.62165504, ..., -0.05609525,\n",
              "        -0.60192388,  3.86753904],\n",
              "       [ 1.46033854, -0.14757033,  1.07854812, ..., -0.53638528,\n",
              "        -0.0234852 ,  1.00079446],\n",
              "       [ 1.40561433, -0.14757033,  1.68773889, ...,  0.26409809,\n",
              "         2.29026952,  1.57414338],\n",
              "       ...,\n",
              "       [ 0.47530282, -0.14757033,  0.77395273, ..., -0.53638528,\n",
              "         0.55495348,  0.71412   ],\n",
              "       [-0.6191813 , -0.14757033, -0.13983343, ..., -0.53638528,\n",
              "        -0.0234852 , -0.43257783],\n",
              "       [ 0.03750917, -0.14757033, -0.59672651, ..., -0.53638528,\n",
              "        -0.09579004, -0.43257783]])"
            ]
          },
          "metadata": {},
          "execution_count": 27
        }
      ]
    },
    {
      "cell_type": "markdown",
      "source": [
        "Applying the kmeans cluster algorithm."
      ],
      "metadata": {
        "id": "7BsvHQbMueP9"
      }
    },
    {
      "cell_type": "code",
      "source": [
        "no_clust = 3\n",
        "\n",
        "kmeans = KMeans(init = \"random\",\n",
        "                n_clusters = no_clust,\n",
        "                n_init = 10,\n",
        "                max_iter=300,\n",
        "                random_state=42)"
      ],
      "metadata": {
        "id": "iKS7RfWAugkL"
      },
      "execution_count": null,
      "outputs": []
    },
    {
      "cell_type": "code",
      "source": [
        "kmeans.fit(scaled_feature_matrix)"
      ],
      "metadata": {
        "id": "zh9eJWs-ujAH",
        "colab": {
          "base_uri": "https://localhost:8080/"
        },
        "outputId": "ea8a4953-cd26-4d3c-c463-56a10ce37298"
      },
      "execution_count": null,
      "outputs": [
        {
          "output_type": "execute_result",
          "data": {
            "text/plain": [
              "KMeans(init='random', n_clusters=3, random_state=42)"
            ]
          },
          "metadata": {},
          "execution_count": 29
        }
      ]
    },
    {
      "cell_type": "code",
      "source": [
        "idx = [i for i in range(N) if kmeans.labels_[i] == 1]\n",
        "idx"
      ],
      "metadata": {
        "colab": {
          "base_uri": "https://localhost:8080/"
        },
        "id": "sNE3ob5jbKg6",
        "outputId": "03bf354f-dc1f-4075-a4b4-517c82125320"
      },
      "execution_count": null,
      "outputs": [
        {
          "output_type": "execute_result",
          "data": {
            "text/plain": [
              "[4,\n",
              " 8,\n",
              " 10,\n",
              " 11,\n",
              " 13,\n",
              " 14,\n",
              " 16,\n",
              " 19,\n",
              " 22,\n",
              " 23,\n",
              " 25,\n",
              " 26,\n",
              " 28,\n",
              " 30,\n",
              " 31,\n",
              " 32,\n",
              " 34,\n",
              " 35,\n",
              " 37,\n",
              " 39,\n",
              " 40,\n",
              " 41,\n",
              " 42,\n",
              " 43,\n",
              " 44,\n",
              " 45,\n",
              " 46,\n",
              " 49,\n",
              " 51,\n",
              " 52,\n",
              " 54,\n",
              " 58,\n",
              " 59,\n",
              " 60,\n",
              " 61,\n",
              " 62,\n",
              " 65,\n",
              " 67,\n",
              " 77,\n",
              " 78,\n",
              " 79,\n",
              " 80,\n",
              " 82,\n",
              " 86,\n",
              " 88,\n",
              " 91,\n",
              " 92,\n",
              " 94,\n",
              " 95,\n",
              " 97,\n",
              " 102,\n",
              " 103,\n",
              " 104,\n",
              " 105,\n",
              " 106,\n",
              " 107,\n",
              " 108,\n",
              " 109,\n",
              " 114,\n",
              " 115,\n",
              " 116,\n",
              " 117,\n",
              " 118,\n",
              " 120,\n",
              " 122,\n",
              " 123,\n",
              " 125,\n",
              " 126,\n",
              " 127,\n",
              " 130,\n",
              " 131,\n",
              " 132,\n",
              " 133,\n",
              " 137,\n",
              " 138,\n",
              " 140,\n",
              " 141,\n",
              " 142,\n",
              " 143,\n",
              " 144,\n",
              " 145,\n",
              " 149,\n",
              " 153,\n",
              " 155,\n",
              " 156,\n",
              " 159,\n",
              " 161,\n",
              " 163,\n",
              " 164,\n",
              " 167,\n",
              " 169,\n",
              " 170,\n",
              " 172,\n",
              " 173,\n",
              " 177,\n",
              " 178,\n",
              " 179,\n",
              " 180,\n",
              " 181,\n",
              " 182,\n",
              " 183,\n",
              " 186,\n",
              " 187,\n",
              " 188,\n",
              " 190,\n",
              " 191,\n",
              " 192,\n",
              " 193,\n",
              " 194,\n",
              " 197,\n",
              " 199,\n",
              " 200,\n",
              " 201,\n",
              " 202,\n",
              " 203,\n",
              " 204,\n",
              " 205,\n",
              " 206,\n",
              " 207,\n",
              " 208,\n",
              " 209,\n",
              " 210,\n",
              " 211,\n",
              " 213,\n",
              " 214,\n",
              " 217,\n",
              " 221,\n",
              " 222,\n",
              " 223,\n",
              " 224,\n",
              " 227,\n",
              " 229,\n",
              " 231,\n",
              " 234,\n",
              " 236,\n",
              " 237,\n",
              " 239,\n",
              " 240,\n",
              " 241,\n",
              " 243,\n",
              " 244,\n",
              " 245,\n",
              " 246,\n",
              " 248,\n",
              " 250,\n",
              " 251,\n",
              " 252,\n",
              " 253,\n",
              " 254,\n",
              " 259,\n",
              " 260,\n",
              " 262,\n",
              " 263,\n",
              " 264,\n",
              " 265,\n",
              " 266,\n",
              " 267,\n",
              " 268,\n",
              " 269,\n",
              " 270,\n",
              " 271,\n",
              " 272,\n",
              " 274,\n",
              " 276,\n",
              " 277,\n",
              " 278,\n",
              " 279,\n",
              " 280,\n",
              " 281,\n",
              " 283,\n",
              " 284,\n",
              " 287,\n",
              " 288,\n",
              " 289,\n",
              " 290,\n",
              " 291,\n",
              " 292,\n",
              " 293,\n",
              " 294,\n",
              " 295,\n",
              " 296,\n",
              " 297,\n",
              " 298,\n",
              " 299,\n",
              " 300,\n",
              " 301,\n",
              " 302,\n",
              " 303,\n",
              " 304,\n",
              " 305,\n",
              " 306,\n",
              " 307,\n",
              " 308,\n",
              " 309,\n",
              " 310,\n",
              " 311,\n",
              " 312,\n",
              " 313,\n",
              " 314,\n",
              " 315,\n",
              " 316,\n",
              " 317,\n",
              " 318,\n",
              " 319,\n",
              " 320,\n",
              " 321,\n",
              " 323,\n",
              " 324,\n",
              " 325,\n",
              " 326,\n",
              " 327,\n",
              " 328,\n",
              " 329,\n",
              " 330,\n",
              " 331,\n",
              " 332,\n",
              " 333,\n",
              " 334,\n",
              " 335,\n",
              " 336,\n",
              " 337,\n",
              " 339,\n",
              " 340,\n",
              " 341,\n",
              " 342,\n",
              " 344,\n",
              " 345,\n",
              " 346,\n",
              " 347,\n",
              " 348,\n",
              " 350,\n",
              " 351,\n",
              " 352,\n",
              " 353,\n",
              " 354,\n",
              " 355,\n",
              " 356,\n",
              " 357,\n",
              " 358,\n",
              " 359,\n",
              " 360,\n",
              " 361,\n",
              " 362,\n",
              " 363,\n",
              " 364,\n",
              " 365,\n",
              " 366,\n",
              " 367,\n",
              " 368,\n",
              " 369,\n",
              " 370,\n",
              " 371,\n",
              " 372,\n",
              " 373,\n",
              " 374,\n",
              " 375,\n",
              " 376,\n",
              " 380,\n",
              " 381,\n",
              " 382,\n",
              " 384,\n",
              " 386,\n",
              " 387,\n",
              " 389,\n",
              " 390]"
            ]
          },
          "metadata": {},
          "execution_count": 32
        }
      ]
    },
    {
      "cell_type": "code",
      "source": [
        "ss = [py_songs[\"Song\"][i] for i in range(N) if i in idx]\n",
        "ss"
      ],
      "metadata": {
        "colab": {
          "base_uri": "https://localhost:8080/"
        },
        "id": "OAycZDeFbNNA",
        "outputId": "e324a9ae-8496-4d24-91d7-8814801af94b"
      },
      "execution_count": null,
      "outputs": [
        {
          "output_type": "execute_result",
          "data": {
            "text/plain": [
              "['اسمراني اللون',\n",
              " 'ال ايه',\n",
              " 'الحب الحقيقي',\n",
              " 'الزمان لما صالحنا',\n",
              " 'اللهم اقبل دعايا (ديني)',\n",
              " 'الماظ وزواق وحرير',\n",
              " 'الورد ده وردهم',\n",
              " 'ان فات عليك الهوى',\n",
              " 'تعب الليالي',\n",
              " 'جرالي ايه',\n",
              " 'حبه بحبه',\n",
              " 'حكم علينا الزمن',\n",
              " 'خذني معاك',\n",
              " 'سلامه سلامه',\n",
              " 'سيد الحبايب',\n",
              " 'شباكنا ستايره حرير',\n",
              " 'شبكت قلبي',\n",
              " 'شفت القمر',\n",
              " 'عطشان يا صبايا',\n",
              " 'غاب القمر',\n",
              " 'فوق يا قلبي',\n",
              " 'قطر الفراق',\n",
              " 'قولو لعين الشمس',\n",
              " 'ما ما يا حلوه',\n",
              " 'ما يكونش ده',\n",
              " 'متهونش علي',\n",
              " 'مسيرك هتعرف',\n",
              " 'هنتقابل في كل مكان',\n",
              " 'والله يا بوصه بقيتي عروسه',\n",
              " 'والله يا زمن',\n",
              " 'وحياة رب المداين',\n",
              " 'يا حسن يا خولي',\n",
              " 'يا دبلة الخطوبه',\n",
              " 'يا دي الهنا (دويتو)',\n",
              " 'يا طيره طيري يا حمامه',\n",
              " 'يا قلبي سيبك',\n",
              " 'يالي انت قلبك ماهوش داري بي',\n",
              " 'ابو الهول',\n",
              " 'حبيبي بس',\n",
              " 'انا مخصماك',\n",
              " 'زفه البرتقال',\n",
              " 'انا بنت حلوه',\n",
              " 'احنا التلاته',\n",
              " 'يحبك اوي',\n",
              " 'يا اللي هنا',\n",
              " 'لقيته لقيته',\n",
              " 'يا رب توبه',\n",
              " 'قدمناله',\n",
              " 'عجباني وحاشته',\n",
              " 'يا سارق من عيني النوم',\n",
              " 'وحياه رب المداين',\n",
              " 'رسالة حب',\n",
              " 'يا أم الصابرين',\n",
              " 'انا جيت الوم',\n",
              " 'هلا هوب',\n",
              " 'انا كنت فين',\n",
              " 'غني ياقلبي',\n",
              " 'مدام بعادي',\n",
              " 'ان كنت ليا',\n",
              " 'الاوله مصر',\n",
              " 'ليله سهر',\n",
              " 'يا مهندس',\n",
              " 'من الصبحيه',\n",
              " 'حبك جننا يا اسمك ايه',\n",
              " 'الدور الدور',\n",
              " 'شبكنا الحكومه',\n",
              " 'احب الوشوشه',\n",
              " 'العين ماتعلاش ع الحاجب',\n",
              " 'الحنه يا حنه',\n",
              " 'فين السعاده',\n",
              " 'يا ولاد حارتنا ',\n",
              " 'قل ادعو الله إن يمسسك ضر',\n",
              " 'سكر والله الدنيا سكر ',\n",
              " 'غريبة الساعات بتمر الساعات',\n",
              " 'لا تسألني من أنا',\n",
              " 'يا بلدنا يا حياتنا',\n",
              " 'فرح',\n",
              " 'ملل',\n",
              " 'البحر الأبيض بيغني',\n",
              " 'بحر العسل',\n",
              " 'مش قلتلك يا قلبي',\n",
              " 'يا معدي عالبلد دي',\n",
              " 'يا بنتي يا ضيا عيني',\n",
              " 'سيبنا من كل اللي فات',\n",
              " ' حبيبي يا حمادة يا سارق السعادة',\n",
              " 'مايكونش ده اللى اسمه الهوى',\n",
              " 'وطبطب الهوا علينا',\n",
              " 'القدس',\n",
              " 'قاللي الوداع',\n",
              " 'ماتقلش بكره',\n",
              " 'حكايه التعلب والاسد',\n",
              " 'نعمين (لما ناداني برمش العين)',\n",
              " 'سبحانك',\n",
              " ' ثلاث شهور ويومين اتنين',\n",
              " 'الستات ما يعرفوش يكدبوا',\n",
              " 'أمانة عليك أمانة يا مسافر بورسعيد',\n",
              " 'الرحمة',\n",
              " 'آدي اللي كان يا زمان',\n",
              " 'الليلة تمت خطبتي',\n",
              " 'قسّم روّق لي مزاجي',\n",
              " 'أنا فين',\n",
              " ' عالم غريب',\n",
              " 'حكايتى كانت وياك حكاية',\n",
              " 'خدني على حصانك',\n",
              " 'يا مجربين الهوى (اللي بيعشق ليه)',\n",
              " 'أحن قلب عليا',\n",
              " ' لا لينا أهالي يابا ',\n",
              " 'اه يانا منكم',\n",
              " 'يا ولاد حارتنا دى صفارتنا ضربت امان',\n",
              " ' فليسقط الاستعمار  (يا بنات النيل)',\n",
              " 'المصري أفندي (مصر بين عهدين)',\n",
              " 'الأرض دي للملايين مش لأصحاب الملايين',\n",
              " 'يا بنت بلدي زعيمنا قال قومي وجاهدي ويّا الرجال',\n",
              " 'يا أهل الفيوم',\n",
              " ' المنصورة.. وديني يا قطر المنصورة على البلد الحرة المشهورة',\n",
              " 'نشيد قولوا لمصر تغني معايا في عيد تحريرها.',\n",
              " 'إحنا لها نحمي العروبة وأهلها',\n",
              " ' ضربة معلّم ',\n",
              " ' إحنا لها تسلم بلدنا وأهلها',\n",
              " 'يا نسر المجد',\n",
              " 'الشعوب لما تريد -انتفاضة ',\n",
              " 'عقد لولي',\n",
              " 'إحنا ويّاك يا ريّس ',\n",
              " ' أيامنا الحلوة جاية',\n",
              " 'عربي في كلامه',\n",
              " 'يا شجرة الحرية',\n",
              " 'كلنا عرب إصرار إصرار ',\n",
              " 'يا عزيز عيني',\n",
              " 'يا طريقنا يا طريق',\n",
              " 'مع ألف سلامة',\n",
              " 'الأسمر في كل مكان',\n",
              " 'عدينا يامعاداوي',\n",
              " 'ياحبة عيني يابلدي',\n",
              " 'النيل والزيتون',\n",
              " 'يا مقسم الارزاق',\n",
              " 'يا ليله بيضه',\n",
              " 'يا لولى',\n",
              " 'يا لوعتى ياشقايا',\n",
              " 'يا للا يا ريس البخت اهو عال',\n",
              " 'يا عينى عالوله',\n",
              " 'يا شعبنا',\n",
              " 'يا سم يا دم',\n",
              " 'يا روحى انا',\n",
              " 'يا رب ما تحكم بنصيبى',\n",
              " 'يا ختى عليه مش سبع افندى دا سبع بيه',\n",
              " 'يا حنينه يا عين',\n",
              " 'يا حلاوة المركب عا الميه',\n",
              " 'اه يا سلام لو تعرف بس',\n",
              " 'انا عشرية',\n",
              " 'الدمع لما يفيض',\n",
              " 'قولي بحبك',\n",
              " 'يا اللي انت عايش وحيد',\n",
              " 'حبايبي صبحوا عذّالي',\n",
              " 'سهران وسايبني ليلاتي',\n",
              " 'يا جاي من السودان',\n",
              " 'الظلم حرام',\n",
              " 'متهيأ لي',\n",
              " 'هدي يا دنيا',\n",
              " 'يا دنيا ليه كده',\n",
              " 'الدنيا حلوة',\n",
              " 'مالك يا قلبي',\n",
              " 'يا حبيبى عود لى تانى',\n",
              " 'يا ترمومتر ياما بيقاسوا العاشقين',\n",
              " 'ياللي جربته الهوي',\n",
              " 'بين ناري وجنتي',\n",
              " 'اه ياناري...اه ياناري',\n",
              " 'النوم',\n",
              " 'الحلو ماله',\n",
              " '\\nعجباني وحشته ',\n",
              " 'والله غلابة',\n",
              " '\\nقدمناله الحب',\n",
              " 'كثرة الخطاب ',\n",
              " 'زعلان ليه',\n",
              " 'سيد الحلوين',\n",
              " 'حبيبي عودني',\n",
              " 'حبة حبة',\n",
              " 'لو كنت لي',\n",
              " 'شبيك لبيك',\n",
              " 'هناني هواك',\n",
              " 'سوي يا اللي شغلني',\n",
              " 'فين ...هو',\n",
              " 'شفته بالصدفة',\n",
              " 'علي مهلك',\n",
              " 'كثير علينا',\n",
              " 'غالي وجاني',\n",
              " 'يامفرق الارزاق ',\n",
              " 'اغنية الانتحار',\n",
              " 'هديا عيد ميلادي',\n",
              " 'انا وانت',\n",
              " 'ليلة من جنة',\n",
              " 'حياتي انت',\n",
              " 'يا سلام على جو الدنيا',\n",
              " 'شجر اللب',\n",
              " 'ضحيت بحبي',\n",
              " 'كل الحبايب هنا',\n",
              " 'الحنطور',\n",
              " 'يا لي هنا',\n",
              " 'وقعت انا',\n",
              " 'اوف..اوف',\n",
              " 'واحد اثنين',\n",
              " 'غاب عني ليه',\n",
              " 'ياسحرني بنظرة',\n",
              " 'انا اسفة',\n",
              " 'االحب د بلوه',\n",
              " 'علي مهلك يامراكبي',\n",
              " 'انا مش ليماكي',\n",
              " 'هلا....اهلا',\n",
              " 'مقدرش احب اثنين',\n",
              " 'الرزق في ايدك',\n",
              " 'من بعد طقية',\n",
              " 'احنا في جنينة',\n",
              " 'اسم الله عليك',\n",
              " 'عنيه تقول',\n",
              " 'مااحلي الايام',\n",
              " 'اه من عني وقلبي',\n",
              " 'ليه قلبك قاسي',\n",
              " 'ايه فوق الحب',\n",
              " '\\nاحنا في دنيا',\n",
              " 'احلفلك بايه',\n",
              " 'لسانك حصانك',\n",
              " 'يارض وادي النيل',\n",
              " 'اوصفولي الحب',\n",
              " 'من قلبي',\n",
              " 'علي اخر سرعة ياعربية',\n",
              " 'شهر العسل',\n",
              " 'ياشغلني',\n",
              " 'اشكي لمين',\n",
              " 'حود هنا',\n",
              " 'مش عارفة',\n",
              " 'صعبان علي',\n",
              " 'كسفتني ياسنارة',\n",
              " 'ياصلاة الزين',\n",
              " 'ربينا يبسطنا',\n",
              " 'عقبالي',\n",
              " 'ياقسمتي',\n",
              " 'فستان الفرح ',\n",
              " 'الهاشا باشا',\n",
              " 'ياشمعدان',\n",
              " 'ياايها الناس',\n",
              " 'جبل لبنان',\n",
              " 'اه من زغاليل',\n",
              " 'الرقص جميل',\n",
              " 'الحب نصيب',\n",
              " 'سالوني ليه',\n",
              " 'مين يسمع مني',\n",
              " 'الدنيا مالها',\n",
              " 'الصباوالجمال',\n",
              " 'بغير عليك',\n",
              " 'بحبك ليه',\n",
              " 'كل احباء اثنين اثنين',\n",
              " 'تعالي قوام',\n",
              " 'خذ بالك مني',\n",
              " 'مصر',\n",
              " 'خلاص مسافره',\n",
              " 'حبيته',\n",
              " 'بكره الخميس',\n",
              " 'احتار خيالي',\n",
              " 'خد ياحبيبي',\n",
              " 'وعد ومكتوب',\n",
              " 'دورعليه',\n",
              " 'برجلاتك',\n",
              " 'احنا عروستين',\n",
              " 'علي بالي',\n",
              " 'لو اغمض عيني',\n",
              " 'أول لقانا']"
            ]
          },
          "metadata": {},
          "execution_count": 33
        }
      ]
    },
    {
      "cell_type": "code",
      "source": [
        "idx = [i for i in range(N) if kmeans.labels_[i] == 2]\n",
        "idx"
      ],
      "metadata": {
        "id": "Ri8gakFrumLd",
        "colab": {
          "base_uri": "https://localhost:8080/"
        },
        "outputId": "394aebdb-9c53-4f6f-99b7-5a4eb626ddeb"
      },
      "execution_count": null,
      "outputs": [
        {
          "output_type": "execute_result",
          "data": {
            "text/plain": [
              "[17, 27, 29, 175, 215, 349]"
            ]
          },
          "metadata": {},
          "execution_count": 30
        }
      ]
    },
    {
      "cell_type": "code",
      "source": [
        "ss = [py_songs[\"Song\"][i] for i in range(N) if i in idx]\n",
        "ss"
      ],
      "metadata": {
        "id": "jJMyK6RAuoEl",
        "colab": {
          "base_uri": "https://localhost:8080/"
        },
        "outputId": "3b631447-bcd2-409a-cfd7-857b1fe7d44c"
      },
      "execution_count": null,
      "outputs": [
        {
          "output_type": "execute_result",
          "data": {
            "text/plain": [
              "['الوطن الأكبر',\n",
              " 'خد بإيدي (ديني)',\n",
              " 'خلاص مسافر',\n",
              " 'صوت الجماهير',\n",
              " ' نشيد فجر جديد ',\n",
              " 'انا خايفة']"
            ]
          },
          "metadata": {},
          "execution_count": 31
        }
      ]
    },
    {
      "cell_type": "markdown",
      "source": [
        "# Text Mining"
      ],
      "metadata": {
        "id": "6vs-5KVfusFx"
      }
    },
    {
      "cell_type": "markdown",
      "source": [
        "**Text mining** can also be thought of as text analytics. The goal is to discover relevant information that is possibly unknown or hidden in the text. **Natural Language Processing** (NLP) is one methodology that can be used in mining text. It tries to decipher the ambiguities and complications in written language by tokenization, clustering, extracting entity and word relationships, and using algorithms to identify themes and quantify subjective information. We will begin by breaking down the concept of **lexical complexity**.\n",
        "\n",
        "Lexical complexity can be described by a combination of these measures: \n",
        "- Word frequency: number of words per song. \n",
        "- Word length: average length of individual words in the songs lyrics. \n",
        "- Lexical diversity: number of unique words used in the song vocabulary. \n",
        "- Lexical density: the number of unique words divided by the total number of words (word repetition)."
      ],
      "metadata": {
        "id": "jSSB9ZFvwS2-"
      }
    },
    {
      "cell_type": "markdown",
      "source": [
        "## Studying word frequency"
      ],
      "metadata": {
        "id": "rL7K6C9RwWxz"
      }
    },
    {
      "cell_type": "markdown",
      "source": [
        "In music, individual word frequencies carry a great deal of significance, whether it be repetition or rarity. \n",
        "Both cases affect **memorability** of the entire song itself. One important goal of lyrics analysis, as well as for songwriter, is to know whether there is a *correlation between word frequency and hit songs*. So we take the tidy format one step further and get a summarized count of words per song.\n",
        "\n",
        "Here we consider all words in the song's lyrics as opposed to just distinct words."
      ],
      "metadata": {
        "id": "cQUcZLPEwd1k"
      }
    },
    {
      "cell_type": "code",
      "source": [
        "%%R\n",
        "full_word_count <- songs.proc %>%\n",
        "  mutate(Composer_2 = paste(Composer_first_name, Composer_last_name)) %>%\n",
        "  mutate(Lyricist_2 = paste(Lyricist_first_name, Lyricist_last_name))  %>%\n",
        "  group_by(Song) %>%\n",
        "  mutate(num_words = n()) %>%\n",
        "  dplyr::select(Song, num_words, Year, Composer, Lyricist) %>%\n",
        "  distinct() %>%\n",
        "  arrange(desc(num_words)) "
      ],
      "metadata": {
        "id": "oweR7d31wkr6"
      },
      "execution_count": null,
      "outputs": []
    },
    {
      "cell_type": "markdown",
      "source": [
        "In the following we show a sample of topmost songs in terms of the size of the song's lyrics."
      ],
      "metadata": {
        "id": "SnqtTKCXwp9I"
      }
    },
    {
      "cell_type": "code",
      "source": [
        "%%R\n",
        "topmost <- 10\n",
        "\n",
        "test_sample <- full_word_count[1:topmost,]  %>%\n",
        "  ungroup(num_words, Song) %>%\n",
        "  mutate(num_words = color_bar(\"lightblue\")(num_words))  %>%\n",
        "  mutate(Song = color_tile(\"lightpink\",\"lightpink\")(Song)) %>%\n",
        "  kable(\"html\", escape = FALSE, align = \"c\", caption = \"Songs With Highest Word Count\") %>%\n",
        "  kable_styling(bootstrap_options = c(\"striped\", \"condensed\", \"bordered\"),\n",
        "                   full_width = FALSE)"
      ],
      "metadata": {
        "id": "K6nVcG4ywugH"
      },
      "execution_count": null,
      "outputs": []
    },
    {
      "cell_type": "code",
      "source": [
        "%%R\n",
        "test_sample"
      ],
      "metadata": {
        "id": "xK30zS4-2dV8"
      },
      "execution_count": null,
      "outputs": []
    },
    {
      "cell_type": "markdown",
      "source": [
        "Note that most of the longest songs are created in the 1960's. This can be attributed to the fact that these most were not sung in movies acted by Shadia as many of her songs. She participated in lower number of movies in 1960s (23 films) compared to 1950s (70 films). Evidently songs in the movies have to be short."
      ],
      "metadata": {
        "id": "HjxPYEMY2hw8"
      }
    },
    {
      "cell_type": "markdown",
      "source": [
        "Free up memory"
      ],
      "metadata": {
        "id": "52_ZhEQu2la3"
      }
    },
    {
      "cell_type": "code",
      "source": [
        "%%R\n",
        "rm(\"full_word_count\")\n",
        "rm(\"test_sample\")"
      ],
      "metadata": {
        "id": "D65eMdMM2oaW"
      },
      "execution_count": null,
      "outputs": []
    },
    {
      "cell_type": "markdown",
      "source": [
        "## Studying word count distribution"
      ],
      "metadata": {
        "id": "JJPnhZ5E2rya"
      }
    },
    {
      "cell_type": "markdown",
      "source": [
        "Here we study the lyrics lengths over the whole career of Shadia. We show a histogram overlaid with kernel density curve for the distribution of word counts for songs."
      ],
      "metadata": {
        "id": "zd9fHxlZ2wAL"
      }
    },
    {
      "cell_type": "code",
      "source": [
        "%%R\n",
        "lyrics_len_dist <- songs.proc %>%\n",
        "  dplyr::select(Song, Word) %>%\n",
        "  group_by(Song) %>%\n",
        "  mutate(num_words = n()) %>%\n",
        "  dplyr::select(Song, num_words) %>%\n",
        "  distinct()"
      ],
      "metadata": {
        "id": "GRHRFG2W2u7z"
      },
      "execution_count": null,
      "outputs": []
    },
    {
      "cell_type": "code",
      "source": [
        "%%R\n",
        "estimate_mode <- function(x) {\n",
        "  d <- density(x)\n",
        "  d$x[which.max(d$y)]\n",
        "}\n",
        "\n",
        "mean_count <- mean(lyrics_len_dist$num_words)\n",
        "median_count <- median(lyrics_len_dist$num_words)\n",
        "mode_count <- estimate_mode(lyrics_len_dist$num_words)"
      ],
      "metadata": {
        "id": "0g2i4vSD28q5"
      },
      "execution_count": null,
      "outputs": []
    },
    {
      "cell_type": "markdown",
      "source": [
        "Estimation using right-skewed normal distribution."
      ],
      "metadata": {
        "id": "CEHnizJR3Aj9"
      }
    },
    {
      "cell_type": "code",
      "source": [
        "%%R\n",
        "# See https://community.rstudio.com/t/how-can-we-create-right-left-skewed-normal-distribution-curve-in-r/39115\n",
        "param_dist <- snormFit(lyrics_len_dist$num_words)"
      ],
      "metadata": {
        "id": "GNxqkbfF3Cdj"
      },
      "execution_count": null,
      "outputs": []
    },
    {
      "cell_type": "code",
      "source": [
        "%%R\n",
        "lyrics_len_dist.plot <- lyrics_len_dist %>%\n",
        "  ggplot() +\n",
        "  # stat_function(aes(x = num_words),\n",
        "  #               col = \"darkblue\",\n",
        "  #               fun = dsnorm,\n",
        "  #               args = list(mean = param_dist$par[\"mean\"],\n",
        "  #                           sd = param_dist$par[\"sd\"],\n",
        "  #                           xi = param_dist$par[\"xi\"])) +\n",
        "  geom_histogram(aes(x = num_words),\n",
        "                 stat = \"density\",\n",
        "                 #boundary = 0,\n",
        "                 #binwidth = 100,\n",
        "                 color = \"black\",\n",
        "                 size = 0.15) +\n",
        "  geom_vline(xintercept = mean_count, color = \"blue\", linetype = \"dashed\") +\n",
        "  geom_text(aes(x = mean_count + 230, y = 0.002), color = \"blue\",\n",
        "            label = paste(\"Mean = \", as.character(floor(mean_count))),\n",
        "            hjust = 1, size = 3) +\n",
        "  geom_vline(xintercept = median_count, color = \"red\", linetype = \"dashed\") +\n",
        "  geom_text(aes(x = median_count + 250, y = 0.003, color = \"red\"),\n",
        "            label = paste(\"Median = \", as.character(floor(median_count))),\n",
        "            hjust = 1, size = 3) +\n",
        "  geom_vline(xintercept = mode_count, color = \"green\", linetype = \"dashed\") +\n",
        "  geom_text(aes(x = mode_count + 5, y = 0.003),\n",
        "            color = \"green\",\n",
        "            label = paste(\"Mode = \", as.character(floor(mode_count))),\n",
        "            hjust = 1, size = 3) +\n",
        "  #geom_density(aes(num_words), color = \"blue\") #+\n",
        "  theme(plot.title = element_text(hjust = 0.5),\n",
        "        legend.title = element_blank(),\n",
        "        legend.position = \"none\",\n",
        "        panel.grid.minor = element_blank(),\n",
        "        axis.text.x = element_text(angle = 45),\n",
        "        text = element_text(size = 10)) +\n",
        "  guides(fill = FALSE) +\n",
        "  ggtitle(\"Lyrics Length per Song\") +\n",
        "  #labs(x = \"density\", y = \"number of words\") +\n",
        "  labs(x = \"\", y = \"\") +\n",
        "  scale_x_continuous(breaks = seq(0, max(lyrics_len_dist$num_words), 100))\n",
        "\n",
        "\n",
        "#+\n",
        "#   scale_y_continuous(breaks = function(x) unique(floor(pretty(seq(0, (max(x) + 1) * 1.1)))))\n",
        "#   #scale_y_continuous(breaks = seq(0, max.h.count))\n",
        "# \n",
        "# \n",
        "# full_word_count_decade.plot <- ggplotly(full_word_count_decade.plot)"
      ],
      "metadata": {
        "id": "jnFszuOV3IE9"
      },
      "execution_count": null,
      "outputs": []
    },
    {
      "cell_type": "code",
      "source": [
        "%%R\n",
        "lyrics_len_dist.plot"
      ],
      "metadata": {
        "colab": {
          "base_uri": "https://localhost:8080/",
          "height": 497
        },
        "id": "5Vg4mYti3PF2",
        "outputId": "64dcf45c-45cb-4bd1-8c00-88e87b73b608"
      },
      "execution_count": null,
      "outputs": [
        {
          "output_type": "display_data",
          "data": {
            "image/png": "[encoded data removed]"
          },
          "metadata": {}
        }
      ]
    },
    {
      "cell_type": "markdown",
      "source": [
        "It is apparent from the figure that the average lyrics length per song is 77 words. The most typical lyrics length is about 51 words (the mode). \n",
        "Finally, the median is 68 words, which means that the number of songs with shorter length than the median is equal to those with length greater than the median."
      ],
      "metadata": {
        "id": "Bm7ZhIYP3ShU"
      }
    },
    {
      "cell_type": "code",
      "source": [
        "%%R\n",
        "right_skwed_normal_est <- ggplot(lyrics_len_dist) + \n",
        "  stat_function(aes(x = num_words),\n",
        "                col = \"darkblue\",\n",
        "                fun = dsnorm,\n",
        "                args = list(mean = param_dist$par[\"mean\"],\n",
        "                            sd = param_dist$par[\"sd\"],\n",
        "                            xi = param_dist$par[\"xi\"])) +\n",
        "  geom_vline(xintercept = param_dist$par[\"mean\"], color = \"blue\", linetype = \"dashed\") + \n",
        "  geom_text(aes(x = 530, y = 0.002), color = \"blue\",\n",
        "            label = paste(\"Mean = \", as.character(floor(param_dist$par[\"mean\"])), \n",
        "                           \", sd = \", as.character(floor(param_dist$par[\"sd\"])), \n",
        "                            \", xi = \", as.character(floor(param_dist$par[\"xi\"]))                                                        \n",
        "                          ),\n",
        "            hjust = 1, size = 3) + \n",
        "  xlab(\"\") + ylab(\"\") + \n",
        "  ggtitle(\"Right-skewed normal distribution to estimate the density of lyrics lengths\")"
      ],
      "metadata": {
        "id": "Z_Jxdvqu3WU6"
      },
      "execution_count": null,
      "outputs": []
    },
    {
      "cell_type": "code",
      "source": [
        "%%R\n",
        "right_skwed_normal_est"
      ],
      "metadata": {
        "colab": {
          "base_uri": "https://localhost:8080/",
          "height": 497
        },
        "id": "rEmOenQA3aMg",
        "outputId": "f30cd0f1-bd0a-41d8-e7ac-bb49e8c878a2"
      },
      "execution_count": null,
      "outputs": [
        {
          "output_type": "display_data",
          "data": {
            "image/png": "[encoded data removed]"
          },
          "metadata": {}
        }
      ]
    },
    {
      "cell_type": "code",
      "source": [
        "%%R\n",
        "#orca(lyrics_len_dist.plot, file = \"/content/drive/MyDrive/Shadia/figs/lyrics_len_dist.pdf\")\n",
        "#orca(right_skwed_normal_est, file = \"/content/drive/MyDrive/Shadia/figs/right_skwed_normal_est.pdf\")\n",
        "ggsave(\"/content/drive/MyDrive/Shadia/figs/lyrics_len_dist.pdf\", lyrics_len_dist.plot, dpi = 1000, device = \"pdf\")\n",
        "ggsave(\"/content/drive/MyDrive/Shadia/figs/right_skwed_normal_est.pdf\", right_skwed_normal_est, dpi = 1000, device = \"pdf\")"
      ],
      "metadata": {
        "colab": {
          "base_uri": "https://localhost:8080/"
        },
        "id": "7QoAWxn83eRx",
        "outputId": "b5b9de5c-0594-4bc2-a2ce-18b62a6cf51f"
      },
      "execution_count": null,
      "outputs": [
        {
          "output_type": "stream",
          "name": "stdout",
          "text": [
            "Saving 6.67 x 6.67 in image\n",
            "Saving 6.67 x 6.67 in image\n"
          ]
        }
      ]
    },
    {
      "cell_type": "markdown",
      "source": [
        "Free up memory"
      ],
      "metadata": {
        "id": "ieJELRzZ9lEw"
      }
    },
    {
      "cell_type": "code",
      "source": [
        "%%R\n",
        "rm(\"lyrics_len_dist\")\n",
        "rm(\"lyrics_len_dist.plot\")\n",
        "rm(\"right_skwed_normal_est\")"
      ],
      "metadata": {
        "id": "50GhUSkC9xOU"
      },
      "execution_count": null,
      "outputs": []
    },
    {
      "cell_type": "markdown",
      "source": [
        "## Studying word count per decade"
      ],
      "metadata": {
        "id": "GAIy4Da593xf"
      }
    },
    {
      "cell_type": "markdown",
      "source": [
        "This is done to see if the timeline of the career of Shadia has an effect on the length of her songs. For each decade we plot a histogram of the length of lyrics for songs created through that decade."
      ],
      "metadata": {
        "id": "CZhILbt996A3"
      }
    },
    {
      "cell_type": "code",
      "source": [
        "%%R\n",
        "full_word_count_decade <- songs.proc %>%\n",
        "  dplyr::select(Song, Decade, Word) %>%\n",
        "  group_by(Decade, Song) %>%\n",
        "  mutate(num_words = n()) %>%\n",
        "  dplyr::select(Song, Decade, num_words) %>%\n",
        "  distinct() "
      ],
      "metadata": {
        "id": "d51qYdfu928y"
      },
      "execution_count": null,
      "outputs": []
    },
    {
      "cell_type": "code",
      "source": [
        "%%R\n",
        "full_word_count_decade <- full_word_count_decade %>%\n",
        "  mutate(years = as.numeric(parse_number(Decade))) %>%\n",
        "  mutate(part = ifelse(grepl(\"Early\", Decade), 0, 1))"
      ],
      "metadata": {
        "id": "_coMx07C-BCh"
      },
      "execution_count": null,
      "outputs": []
    },
    {
      "cell_type": "code",
      "source": [
        "%%R\n",
        "full_word_count_decade <- full_word_count_decade %>%\n",
        "  arrange(years, part) %>%\n",
        "  mutate(Song_c = 1)"
      ],
      "metadata": {
        "id": "qzg9FIkaH3vh"
      },
      "execution_count": null,
      "outputs": []
    },
    {
      "cell_type": "code",
      "source": [
        "%%R\n",
        "full_word_count_decade <- within(full_word_count_decade, \n",
        "                                     Decade <- factor(Decade, levels = c(\"Late 1940s\" , \"Early 1950s\", \"Late 1950s\", \"Early 1960s\", \"Late 1960s\", \n",
        "                                                                         \"Early 1970s\", \"Late 1970s\", \"Early 1980s\", \"Late 1980s\")))\n",
        "\n",
        "full_word_count_decade.plot <- full_word_count_decade %>%\n",
        "  ggplot() +\n",
        "  geom_histogram(aes(x = num_words, fill = Song_c), \n",
        "                  boundary = 0, \n",
        "                  binwidth = 100, \n",
        "                  color = \"black\",\n",
        "                  size = 0.15) + \n",
        "  facet_wrap(~Decade, scales = \"free\") +\n",
        "  theme(plot.title = element_text(hjust = 0.5), \n",
        "        legend.title = element_blank(), \n",
        "        panel.grid.minor = element_blank(), \n",
        "        axis.text.x = element_text(angle = 40),\n",
        "        text = element_text(size = 6.5),\n",
        "        panel.spacing = unit(2, \"lines\")) +\n",
        "  guides(fill = FALSE) + \n",
        "  ggtitle(\"Evolution of Song Length Across Decades\") + \n",
        "  labs(x = NULL, y = \"Song Count\") +\n",
        "  scale_x_continuous(breaks = seq(0, max(full_word_count_decade$num_words), 100), \n",
        "                     limits = c(0,max(full_word_count_decade$num_words))) +\n",
        "  scale_y_continuous(breaks = function(x) unique(floor(pretty(seq(0, (max(x) + 1) * 1.1)))))\n",
        "  #scale_y_continuous(breaks = seq(0, max.h.count))\n",
        "\n",
        "  full_word_count_decade.plot <- ggplotly(full_word_count_decade.plot)"
      ],
      "metadata": {
        "id": "N4sVoHN6H-zP"
      },
      "execution_count": null,
      "outputs": []
    },
    {
      "cell_type": "code",
      "source": [
        "%%R\n",
        "full_word_count_decade.plot"
      ],
      "metadata": {
        "id": "HaX8jOoBIJSr"
      },
      "execution_count": null,
      "outputs": []
    },
    {
      "cell_type": "markdown",
      "source": [
        "As we notice from the previous figure the length of song lyrics increase as Shadia progresses in her career. At the beginning of her career that is in the early and late 1950s songs tend to be relatively short as almost all of them were sang in movies acted by her. All songs created in this period did not exceed 250 words. As she advanced in the 1970s more songs are created on theater paving the way for a little bit increase in the lyrics lengths. As we go into the 1980s, Shadia has done only two movies, so her songs were mostly either on theater or offline recorded in studio, hence, there is a shift towards long lyrics and long songs reaching more than $350$ words."
      ],
      "metadata": {
        "id": "VbcvNQ9gIOre"
      }
    },
    {
      "cell_type": "code",
      "source": [
        "%%R\n",
        "orca(full_word_count_decade.plot, file = \"/content/drive/MyDrive/Shadia/figs/full_word_count_decade.pdf\")\n",
        "# ggsave(\"/content/drive/MyDrive/Shadia/figs/full_word_count_decade.pdf\", full_word_count_decade.plot, dpi = 1000, device = \"pdf\")"
      ],
      "metadata": {
        "id": "5nC7hsWqISYf"
      },
      "execution_count": null,
      "outputs": []
    },
    {
      "cell_type": "markdown",
      "source": [
        "Free up memory"
      ],
      "metadata": {
        "id": "vywnmnyOIraU"
      }
    },
    {
      "cell_type": "code",
      "source": [
        "%%R\n",
        "rm(\"full_word_count_decade\")\n",
        "rm(\"full_word_count_decade.plot\")"
      ],
      "metadata": {
        "id": "bIqgj7AaIugq"
      },
      "execution_count": null,
      "outputs": []
    },
    {
      "cell_type": "markdown",
      "source": [
        "# Popular words"
      ],
      "metadata": {
        "id": "E0nQ6axBI0oK"
      }
    },
    {
      "cell_type": "markdown",
      "source": [
        "Here we do a simple evaluation of the most frequently used words in the full set of lyrics."
      ],
      "metadata": {
        "id": "ZYKo30N9I23H"
      }
    },
    {
      "cell_type": "code",
      "source": [
        "%%R\n",
        "top_words <- songs.proc %>%\n",
        "  dplyr::select(Word) %>%\n",
        "  group_by(Word) %>%\n",
        "  summarize(word_freq = n()) %>%\n",
        "  top_n(20) %>%\n",
        "  ungroup() %>%\n",
        "  arrange(word_freq)"
      ],
      "metadata": {
        "id": "MefZkQ49I5sA"
      },
      "execution_count": null,
      "outputs": []
    },
    {
      "cell_type": "code",
      "source": [
        "%%R\n",
        "top_words.plot <- top_words %>%\n",
        "  ggplot() +\n",
        "  geom_col(aes(x = factor(Word, levels = unique(Word)), y = word_freq), width = 0.6) +\n",
        "  theme(plot.title = element_text(hjust = 0.5),\n",
        "        legend.title = element_blank(),\n",
        "        panel.grid.minor = element_blank()) +\n",
        "  labs(x = NULL, y = \"Word Count\") +\n",
        "  scale_y_continuous(breaks = seq(0, max(top_words$word_freq), 100)) + \n",
        "  coord_flip()\n",
        "\n",
        "top_words.plot <- ggplotly(top_words.plot)"
      ],
      "metadata": {
        "id": "9nMlIFeYI-Ga"
      },
      "execution_count": null,
      "outputs": []
    },
    {
      "cell_type": "code",
      "source": [
        "%%R\n",
        "top_words.plot"
      ],
      "metadata": {
        "id": "dArlC3OcJCJ3"
      },
      "execution_count": null,
      "outputs": []
    },
    {
      "cell_type": "markdown",
      "source": [
        "\n",
        "As can be seen, the most frequent word is \"قلبي\" (my heart). This can be attributed to the fact that \"heart\" is essential in almost all genres of Egyptian culture. It caries romantic feelings, as well as nationalistic and religious emotions. Other top words that have romantic meanings include \"حبيبى\" (my love/my darling), \"الحب\" (the love), \"بحبك\" (I love you), \"الهوى\" (adoring). \n",
        "\n",
        "Some other words carry nationalistic feelings such as \"بلدنا\" (our home country); while others carry religious meanings such as \"الله\"(ALLAH/God).\n",
        "Several words are neutral and their implied meanings have to be studied within the context (more n-grams) such as \"الدنيا\" (the world), \"فين\" (where), \"بكره\" (tomorrow). \n",
        "The others are mostly stop words that are missed from the used list of the package \"arabicStemR\". \n",
        "That is why we have used a list of top 20 words instead of the intended 10 words in order to account for that kind of noise."
      ],
      "metadata": {
        "id": "HFalSwkdJHUs"
      }
    },
    {
      "cell_type": "code",
      "source": [
        "%%R\n",
        "orca(top_words.plot, file = \"/content/drive/MyDrive/Shadia/figs/top_words.pdf\")\n",
        "# ggsave(\"/content/drive/MyDrive/Shadia/figs/top_words.pdf\", top_words.plot, dpi = 1000, device = \"pdf\")"
      ],
      "metadata": {
        "id": "EYXKJtbbJlz8"
      },
      "execution_count": null,
      "outputs": []
    },
    {
      "cell_type": "code",
      "source": [
        "%%R\n",
        "rm(\"top_words\")\n",
        "rm(\"top_words.plot\")"
      ],
      "metadata": {
        "id": "TZ56vgeEJw2y"
      },
      "execution_count": null,
      "outputs": []
    },
    {
      "cell_type": "markdown",
      "source": [
        "# Word cloud"
      ],
      "metadata": {
        "id": "eV5EdT2SJ0QK"
      }
    },
    {
      "cell_type": "markdown",
      "source": [
        "Word cloud is a *graphical* representation of words frequencies, where it gives greater prominence to words that appear more frequently."
      ],
      "metadata": {
        "id": "unyE95woJ34B"
      }
    },
    {
      "cell_type": "code",
      "source": [
        "%%R\n",
        "word_cloud <- songs.proc %>%\n",
        "  dplyr::select(Word) %>%\n",
        "  group_by(Word) %>%\n",
        "  summarize(freq = n()) %>%\n",
        "  arrange(desc(freq))"
      ],
      "metadata": {
        "id": "FOWsbmE1J53W"
      },
      "execution_count": null,
      "outputs": []
    },
    {
      "cell_type": "code",
      "source": [
        "%%R\n",
        "word_cloud.plot <- word_cloud %>% \n",
        "  wordcloud2(size = 1, fontWeight = \"normal\", gridSize = 10)"
      ],
      "metadata": {
        "id": "zKsSHQdtJ88w"
      },
      "execution_count": null,
      "outputs": []
    },
    {
      "cell_type": "code",
      "source": [
        "%%R\n",
        "word_cloud.plot"
      ],
      "metadata": {
        "id": "Zn4SZovbKCnN"
      },
      "execution_count": null,
      "outputs": []
    },
    {
      "cell_type": "markdown",
      "source": [
        "\n",
        "More indicative words are apparent from the word cloud such as: \"مصر\" (Egypt), \"الجماهير\" (the masses), \"بلدنا\" (our home country), all of these carry nationalistic themes."
      ],
      "metadata": {
        "id": "U1_bODMmKJLC"
      }
    },
    {
      "cell_type": "code",
      "source": [
        "%%R\n",
        "rm(\"word_cloud\")\n",
        "rm(\"word_cloud.plot\")"
      ],
      "metadata": {
        "id": "vX1wrSKyKLTc"
      },
      "execution_count": null,
      "outputs": []
    },
    {
      "cell_type": "markdown",
      "source": [
        "# Popular words per decade"
      ],
      "metadata": {
        "id": "zTG_XPbTKOnH"
      }
    },
    {
      "cell_type": "markdown",
      "source": [
        "So far we have studied the top words across all songs. What happens if we break them up by decade? Are some words more prevalent in songs that over certain decade(s)? These may be considered popular words by society with certain moods, political atmosphere, socioeconomic context, etc."
      ],
      "metadata": {
        "id": "X9_dKMZbKRKw"
      }
    },
    {
      "cell_type": "code",
      "source": [
        "%%R\n",
        "no_of_tops <- 10\n",
        "\n",
        "top_words_per_decade <- songs.proc %>%\n",
        "  dplyr::select(Decade, Word) %>%\n",
        "  group_by(Decade, Word) %>%\n",
        "  mutate(freq = n()) %>%\n",
        "  distinct() %>%\n",
        "  ungroup() %>%\n",
        "  group_by(Decade) %>%\n",
        "  slice(seq_len(no_of_tops)) %>%\n",
        "  arrange(desc(freq), .by_group = TRUE)\n",
        "  #top_n(n = 10, wt = freq)"
      ],
      "metadata": {
        "id": "LRLtOJ8pKUVE"
      },
      "execution_count": null,
      "outputs": []
    },
    {
      "cell_type": "code",
      "source": [
        "%%R\n",
        "top_words_per_decade <- top_words_per_decade %>%\n",
        "  mutate(years = as.numeric(parse_number(Decade))) %>%\n",
        "  mutate(part = ifelse(grepl(\"Early\", Decade), 0, 1))"
      ],
      "metadata": {
        "id": "zUW8-9GLKYbc"
      },
      "execution_count": null,
      "outputs": []
    },
    {
      "cell_type": "code",
      "source": [
        "%%R\n",
        "top_words_per_decade <- top_words_per_decade %>%\n",
        "  arrange(years, part) #%>%\n",
        "  #mutate(.r = row_number())"
      ],
      "metadata": {
        "id": "2gVuVT5FKcOP"
      },
      "execution_count": null,
      "outputs": []
    },
    {
      "cell_type": "code",
      "source": [
        "%%R\n",
        "total_words_per_decade <- songs.proc %>%\n",
        "  dplyr::select(Decade, Word) %>%\n",
        "  group_by(Decade) %>%\n",
        "  mutate(freq = n()) %>%\n",
        "  dplyr::select(Decade, freq) %>%\n",
        "  distinct()"
      ],
      "metadata": {
        "id": "XRLHZKIFKe9N"
      },
      "execution_count": null,
      "outputs": []
    },
    {
      "cell_type": "code",
      "source": [
        "%%R\n",
        "\n",
        "top_words_per_decade <- within(top_words_per_decade, \n",
        "                                     Decade <- factor(Decade, levels = c(\"Late 1940s\" , \"Early 1950s\", \"Late 1950s\", \"Early 1960s\", \"Late 1960s\", \n",
        "                                                                         \"Early 1970s\", \"Late 1970s\", \"Early 1980s\", \"Late 1980s\")))\n",
        "\n",
        "top_words_per_decade.plot <- top_words_per_decade %>%\n",
        "  ggplot()  +\n",
        "  #geom_col(aes(x = factor(Word, levels = unique(Word)), y = freq), width = 0.6) + \n",
        "  #geom_col(aes(x = Word, y = freq), width = 0.6) + \n",
        "  geom_col(aes(x = reorder_within(Word, freq, Decade), y = freq), width = 0.6) + \n",
        "  #geom_col(aes(x = .r, y = freq), width = 0.6) + \n",
        "  facet_wrap(~Decade, scales = \"free\") +\n",
        "  scale_x_reordered() + \n",
        "  #scale_x_continuous(breaks = top_words_per_decade$Word, labels = top_words_per_decade$Word)\n",
        "  theme(plot.title = element_text(hjust = 0.5),\n",
        "          legend.title = element_blank(),\n",
        "        panel.grid.minor = element_blank(),\n",
        "        #axis.text.x = element_text(angle = 45),\n",
        "        text = element_text(size = 8),\n",
        "        panel.spacing = unit(2, \"lines\")) +\n",
        "  coord_flip() + \n",
        "  guides(fill = FALSE) + \n",
        "  ggtitle(\"Top Words per Decade\") + \n",
        "  labs(x = NULL, y = \"Word Count\") \n",
        "  #+ scale_y_continuous(breaks = seq(0, max(top_words_per_decade$freq), 10))\n",
        "\n",
        "top_words_per_decade.plot <- ggplotly(top_words_per_decade.plot)"
      ],
      "metadata": {
        "id": "vZ5SKKA1Kja7"
      },
      "execution_count": null,
      "outputs": []
    },
    {
      "cell_type": "markdown",
      "source": [
        "In the following we give a table of the total number of words of all songs performed in each decade."
      ],
      "metadata": {
        "id": "zgalx3GYKo42"
      }
    },
    {
      "cell_type": "code",
      "source": [
        "%%R\n",
        "tab <- data.table::transpose(total_words_per_decade)\n",
        "colnames(tab) <- tab[1,]\n",
        "#formattable(tab[2,], row.names = FALSE, align = rep(\"c\", ncol(tab)))\n",
        "print(tab[2,], row.names = FALSE)"
      ],
      "metadata": {
        "id": "Hc-JVD48KrTI"
      },
      "execution_count": null,
      "outputs": []
    },
    {
      "cell_type": "code",
      "source": [
        "%%R\n",
        "top_words_per_decade.plot"
      ],
      "metadata": {
        "id": "N3UiE-4lKuVW"
      },
      "execution_count": null,
      "outputs": []
    },
    {
      "cell_type": "markdown",
      "source": [
        "Looking at the above table and figure, some interesting observations can be obtained as follows: \n",
        "- From the table it is evident that the bulk of Shadia's performance was in the middle of her career, which is naturally expected. \n",
        "Late 1980's witnessed her retirement so she performed the least. \n",
        "In the late 1940s, the beginning of her career, also witnessed the second smallest performing activities. \n",
        "The in-between decades witnessed a tremendous increase of singing. Of course, in all that analysis we take the total number of words as indicative of the performing activities. \n",
        "As thorough analysis can be performed based on rate of songs, rate of cooperation with different composers and lyricists. \n",
        "- The frequency of popular words differ significantly over the decades. At the core year of Shadia's career, the frequency of popular words are very high, whereas at the first and last decades (late 1940's and late 1980's) the frequencies of popular words drop significantly. This observation applies even taking into account the relativeness of the frequency of popular words with respect to the cumulative total number of words per decade. \n",
        "- As expected the romantic theme is predominant over the whole set of decades. However, there are some interesting differences in the words that express this theme. Words get more complicated over the decades both syntactically and semantically. Lyrics carry simple emotions prevail in the Late 1940s such as \"متهيالك\" (Apparent to You), \"قول\" (say), \"حيرانه\" (I am confused). Emotion get deeper and more intense in the early 1950's with words such as \"قلبى\" (my heart), \"كيانى\"(my being). In the late 1960s, words get more abstract and philosophical, probably carrying pessimistic attitudes, these include \"الشوق\" (the desire), \"مخاصمنى\" (quarreled with me). Such attitudes can in part be attributed to the political and social atmosphere in Egypt and the whole of the Arab region that resulted from the 1967 war. The 1970s in general witnessed a revert to simple words, though a bit less romantic and sensitive than the early period. Words in this period include \"شراع\" (sail), \"ياريت\" (I wish), \"هتعرف\" (you will know). \n",
        "- What is striking also is that there is no single word that is timeless, that is, top popular across all the decades. This might indicate the diversity and continuous evolution of Shadia. It might as well indicate the diversity of composers and lyricists that Shadia used to work with across different stages of her career. This can be investigated more thoroughly from the dataset we are working on."
      ],
      "metadata": {
        "id": "mtvtHtbyKzQT"
      }
    },
    {
      "cell_type": "code",
      "source": [
        "%%R\n",
        "orca(top_words_per_decade.plot, file = \"/content/drive/MyDrive/Shadia/figs/top_words_per_decade.pdf\")\n",
        "# ggsave(\"/content/drive/MyDrive/Shadia/figs/top_words_per_decade.pdf\", top_words_per_decade.plot, dpi = 1000, device = \"pdf\")"
      ],
      "metadata": {
        "id": "yZ0YKURCK4L4"
      },
      "execution_count": null,
      "outputs": []
    },
    {
      "cell_type": "code",
      "source": [
        "%%R\n",
        "rm(\"top_words_per_decade\")\n",
        "rm(\"top_words_per_decade.plot\")"
      ],
      "metadata": {
        "id": "9f6T2n7xerG-"
      },
      "execution_count": null,
      "outputs": []
    },
    {
      "cell_type": "markdown",
      "source": [
        "# Word length"
      ],
      "metadata": {
        "id": "c5kkF1tOeuOA"
      }
    },
    {
      "cell_type": "markdown",
      "source": [
        "Word length is an interesting topic for lyricists. The longer the word, the harder it is to rhyme and squeeze into a pattern. Below we show a histogram of word lengths."
      ],
      "metadata": {
        "id": "qmYPyyBDexFY"
      }
    },
    {
      "cell_type": "code",
      "source": [
        "%%R\n",
        "word_length <- songs.proc %>%\n",
        "  dplyr::select(Song, Decade, Word) %>%\n",
        "  distinct() %>%\n",
        "  mutate(word_len = nchar(Word)) %>%\n",
        "  count(word_len, sort = TRUE)"
      ],
      "metadata": {
        "id": "DCc0CcYmeznP"
      },
      "execution_count": null,
      "outputs": []
    },
    {
      "cell_type": "code",
      "source": [
        "%%R\n",
        "word_length$prob <- word_length$n / sum(word_length$n)\n",
        "est_mean <- sum(word_length$prob * word_length$word_len)\n",
        "t1 <- sum(word_length$prob * (word_length$word_len)^2)\n",
        "t2 <- est_mean^2\n",
        "est_var <- t1 - t2\n",
        "est_sd <- sqrt(est_var)\n",
        "\n",
        "word_length.plot <- word_length %>%\n",
        "  ggplot(aes(x = word_len)) +\n",
        "  geom_bar(aes(y = n/sum(word_length$n)),\n",
        "           fill = \"darkblue\", \n",
        "           stat = \"identity\",\n",
        "           size = 0.1) + \n",
        "  #geom_density() + \n",
        "  stat_function(col = \"red\", \n",
        "                fun = dnorm, \n",
        "                args = list(mean = est_mean, sd = est_sd)) +\n",
        "  theme(plot.title = element_text(hjust = 0.5),\n",
        "        legend.title = element_blank(),\n",
        "        panel.grid.minor = element_blank(),\n",
        "        text = element_text(size = 10)) +\n",
        "  scale_x_continuous(breaks = seq(0, max(word_length$word_len), 1)) +\n",
        "  #scale_y_continuous(breaks = seq(0, max(word_length$n), 500)) +\n",
        "  ylab(\"Count\") +\n",
        "  xlab(\"Word Length\") +\n",
        "  ggtitle(\"Distribution of Word Length over the Whole Set of Songs\") +\n",
        "  geom_vline(xintercept = est_mean, color = \"red\", linetype = \"dashed\") + \n",
        "  geom_text(aes(x = 8, y = 0.25), color = \"red\",\n",
        "             label = paste(\"Mean = \", as.character(est_mean)),\n",
        "             hjust = 1, size = 3) +\n",
        "  geom_text(aes(x = 8, y = 0.23), color = \"red\",\n",
        "             label = paste(\"SD = \", as.character(est_sd)),\n",
        "             hjust = 1, size = 3) #+ \n",
        "\n",
        "#word_length.plot <- ggplotly(word_length.plot)"
      ],
      "metadata": {
        "id": "GFMv-F7Se4e5"
      },
      "execution_count": null,
      "outputs": []
    },
    {
      "cell_type": "code",
      "source": [
        "%%R\n",
        "word_length.plot"
      ],
      "metadata": {
        "id": "4xw0Mmfqe9gQ"
      },
      "execution_count": null,
      "outputs": []
    },
    {
      "cell_type": "markdown",
      "source": [
        "As indicated in the figure most of the words are short (between 4 to 6 characters) which indicates that Shadia was a kind of modernist in terms of short-worded lyrics and hence a kind of fast music, that can be considered new and revolutionary at the time. We look into the rather long words through the use of word cloud as follows."
      ],
      "metadata": {
        "id": "KJZIlVR4fATE"
      }
    },
    {
      "cell_type": "code",
      "source": [
        "%%R\n",
        "#orca(word_length.plot, file = \"/content/drive/MyDrive/Shadia/figs/word_length.pdf\")\n",
        "ggsave(\"/content/drive/MyDrive/Shadia/figs/word_length.png\", word_length.plot)"
      ],
      "metadata": {
        "id": "wIWJ5JZQfEnt"
      },
      "execution_count": null,
      "outputs": []
    },
    {
      "cell_type": "code",
      "source": [
        "%%R\n",
        "rm(\"word_length\")\n",
        "rm(\"word_length.plot\")"
      ],
      "metadata": {
        "id": "LHNXNg3CfNcZ"
      },
      "execution_count": null,
      "outputs": []
    },
    {
      "cell_type": "code",
      "source": [
        "%%R\n",
        "word_len_cloud <- songs.proc %>%\n",
        "  dplyr::select(Word) %>%\n",
        "  distinct() %>%\n",
        "  mutate(word_len = nchar(Word)) %>%\n",
        "  arrange(desc(word_len))"
      ],
      "metadata": {
        "id": "xkVDxNXMfRW-"
      },
      "execution_count": null,
      "outputs": []
    },
    {
      "cell_type": "code",
      "source": [
        "%%R\n",
        "cat(\"Total number of distinct words in all songs: \")\n",
        "cat(nrow(word_len_cloud), \"\\n\")"
      ],
      "metadata": {
        "id": "iXgmqDQ4fUJy"
      },
      "execution_count": null,
      "outputs": []
    },
    {
      "cell_type": "markdown",
      "source": [
        "We show the word cloud only for only a subset of the whole set of words (the largest words)."
      ],
      "metadata": {
        "id": "sjumvuHkGgc-"
      }
    },
    {
      "cell_type": "code",
      "source": [
        "%%R\n",
        "no_of_words <- 300\n",
        "\n",
        "word_len_cloud.plot <- word_len_cloud[1:no_of_words, ] %>%\n",
        "  wordcloud2(gridSize = 10,\n",
        "             size = 0.15,\n",
        "             minSize = .0005,\n",
        "             ellipticity = .3,\n",
        "             rotateRatio = 1,\n",
        "             fontWeight = \"bold\")"
      ],
      "metadata": {
        "id": "RYhCATLRGr9Q"
      },
      "execution_count": null,
      "outputs": []
    },
    {
      "cell_type": "code",
      "source": [
        "%%R\n",
        "word_len_cloud.plot"
      ],
      "metadata": {
        "id": "otxl-RNpGwkr"
      },
      "execution_count": null,
      "outputs": []
    },
    {
      "cell_type": "markdown",
      "source": [
        "\n",
        "From the word cloud it can be noticed that the big words are largely carrying nationalistic and political meanings. For example, \"والاشتراكيه\" (and the socialism), \"والانتهازيه\" (and the opportunism). Some are places like home country such as \"بالجمهوريه\" (in the Republic), \"عالبورسعيديه\" (on the port Saidia), etc. \n",
        "Still some words carry romantic and emotional tones such as \"احلامنا الورديه\" (our pink dreams), \"الصبا والجمال\" (boyhood and beauty), etc."
      ],
      "metadata": {
        "id": "xSg9rrO5G0c0"
      }
    },
    {
      "cell_type": "code",
      "source": [
        "%%R\n",
        "no_of_words <- 300\n",
        "\n",
        "word_len_cloud.plot_2 <- tail(word_len_cloud, 300) %>%\n",
        "  wordcloud2(gridSize = 10,\n",
        "             size = 0.15,\n",
        "             minSize = .0005,\n",
        "             ellipticity = .3,\n",
        "             rotateRatio = 1,\n",
        "             fontWeight = \"bold\")"
      ],
      "metadata": {
        "id": "xxyvWpWTG5Ju"
      },
      "execution_count": null,
      "outputs": []
    },
    {
      "cell_type": "code",
      "source": [
        "%%R\n",
        "word_len_cloud.plot_2"
      ],
      "metadata": {
        "id": "sU1hq4iNG-LG"
      },
      "execution_count": null,
      "outputs": []
    },
    {
      "cell_type": "code",
      "source": [
        "%%R\n",
        "no_of_words <- 300\n",
        "\n",
        "indices <- which((word_len_cloud$word_len == 4) | (word_len_cloud$word_len == 5))\n",
        "random_indices <- indices[sample.int(length(indices), size = no_of_words, replace = FALSE)]\n",
        "typical_words <- word_len_cloud[random_indices,]"
      ],
      "metadata": {
        "id": "u8Bb-3MdIG8i"
      },
      "execution_count": null,
      "outputs": []
    },
    {
      "cell_type": "code",
      "source": [
        "%%R\n",
        "word_len_cloud.plot_3 <- typical_words %>%\n",
        "  wordcloud2(gridSize = 10,\n",
        "             size = 0.15,\n",
        "             minSize = .0005,\n",
        "             ellipticity = .3,\n",
        "             rotateRatio = 1,\n",
        "             fontWeight = \"bold\")"
      ],
      "metadata": {
        "id": "KyGGT9ZIIO5a"
      },
      "execution_count": null,
      "outputs": []
    },
    {
      "cell_type": "code",
      "source": [
        "%%R\n",
        "word_len_cloud.plot_3"
      ],
      "metadata": {
        "id": "gwFvBpulIZRr"
      },
      "execution_count": null,
      "outputs": []
    },
    {
      "cell_type": "code",
      "source": [
        "%%R\n",
        "rm(\"word_len_cloud\")\n",
        "rm(\"word_len_cloud.plot\")\n",
        "rm(\"word_len_cloud.plot_2\")\n",
        "rm(\"word_len_cloud.plot_3\")"
      ],
      "metadata": {
        "id": "JrUp0gR-Idea"
      },
      "execution_count": null,
      "outputs": []
    },
    {
      "cell_type": "markdown",
      "source": [
        "Next we do a finer study of the distribution of word length per decade."
      ],
      "metadata": {
        "id": "7uMlEC-_Ih4D"
      }
    },
    {
      "cell_type": "code",
      "source": [
        "%%R\n",
        "word_length_per_decade <- songs.proc %>%\n",
        "   dplyr::select(Decade, Word) %>%\n",
        "   distinct() %>%\n",
        "   group_by(Decade) %>%\n",
        "   mutate(word_len = nchar(Word)) #%>%\n",
        "#  count(word_len, sort = TRUE)"
      ],
      "metadata": {
        "id": "q-NYo7HNIkJZ"
      },
      "execution_count": null,
      "outputs": []
    },
    {
      "cell_type": "code",
      "source": [
        "%%R\n",
        "h <- hist(word_length_per_decade$word_len, breaks = seq(0, max(word_length_per_decade$word_len), 1), plot = F)\n",
        "max.h.count <- max(h$counts)\n",
        "\n",
        "word_length_per_decade <- within(word_length_per_decade, \n",
        "                                     Decade <- factor(Decade, levels = c(\"Late 1940s\" , \"Early 1950s\", \"Late 1950s\", \"Early 1960s\", \"Late 1960s\", \n",
        "                                                                         \"Early 1970s\", \"Late 1970s\", \"Early 1980s\", \"Late 1980s\")))\n",
        "word_length_per_decade.plot <- word_length_per_decade %>%\n",
        "   ggplot() + \n",
        "   geom_histogram(aes(x = word_len, fill = ..count..), binwidth = 0.5) + \n",
        "   facet_wrap(~Decade, scales = \"free\") + \n",
        "   theme(plot.title = element_text(hjust = 0.5), \n",
        "         legend.title = element_blank(),\n",
        "         panel.grid.minor = element_blank(), \n",
        "         text = element_text(size = 9)) +\n",
        "  # scale_x_continuous(breaks = seq(0, max(word_length_per_decade$word_len), 1), \n",
        "  #                    limits = c(0, max(word_length_per_decade$word_len))) +\n",
        "  # scale_y_continuous(breaks = seq(0, max.h.count, 100)) +\n",
        "   xlab(\"Word Length\")\n",
        "  # ylab(\"Frequency\") +\n",
        "  #  +\n",
        "  # ggtitle(\"Distribution of Word Length over the Whole Set of Songs\")"
      ],
      "metadata": {
        "id": "E-d5RD0QItY7"
      },
      "execution_count": null,
      "outputs": []
    },
    {
      "cell_type": "code",
      "source": [
        "%%R\n",
        "word_length_per_decade.plot"
      ],
      "metadata": {
        "id": "HVy2PPH6IzpH"
      },
      "execution_count": null,
      "outputs": []
    },
    {
      "cell_type": "markdown",
      "source": [
        "As can be seen in the figure, the distribution of word length is almost the same across the 6 decades. Most words range from 4-5 characters in length."
      ],
      "metadata": {
        "id": "n8YZXcEeI5An"
      }
    },
    {
      "cell_type": "code",
      "source": [
        "%%R\n",
        "# orca(word_length_per_decade.plot, file = \"/content/drive/MyDrive/Shadia/figs/word_length_per_decade.pdf\")\n",
        "ggsave(\"/content/drive/MyDrive/Shadia/figs/word_length_per_deacade.pdf\", word_length_per_decade.plot, dpi = 1000, device = \"pdf\")"
      ],
      "metadata": {
        "id": "173LU08WI7uW"
      },
      "execution_count": null,
      "outputs": []
    },
    {
      "cell_type": "code",
      "source": [
        "%%R\n",
        "rm(\"word_length_per_decade\")\n",
        "rm(\"word_length_per_decade.plot\")"
      ],
      "metadata": {
        "id": "GEKZaNZ_WVWG"
      },
      "execution_count": null,
      "outputs": []
    },
    {
      "cell_type": "markdown",
      "source": [
        "# Lexical diversity"
      ],
      "metadata": {
        "id": "AjG1K4ODW7bM"
      }
    },
    {
      "cell_type": "markdown",
      "source": [
        "The more varied a vocabulary a text possesses, the higher its **lexical diversity**. Song vocabulary can be seen as a representation of how many unique words are used in a song. This can be shown with a simple graph of the average unique words per song over the decades/years."
      ],
      "metadata": {
        "id": "KEfXwCW-W_qo"
      }
    },
    {
      "cell_type": "code",
      "source": [
        "%%R\n",
        "lex_diversity_per_year <- songs.proc %>%\n",
        "  dplyr::filter(!is.na(Decade)) %>%\n",
        "  dplyr::filter(!is.na(Year)) %>%\n",
        "  group_by(Song, Year) %>%\n",
        "  summarise(lex_diversity = n_distinct(Word)) %>%\n",
        "  arrange(desc(lex_diversity))"
      ],
      "metadata": {
        "id": "MBT3SdyyW_D4"
      },
      "execution_count": null,
      "outputs": []
    },
    {
      "cell_type": "code",
      "source": [
        "%%R\n",
        "lex_diversity_per_year.plot <- lex_diversity_per_year %>%\n",
        "  ggplot(aes(x = Year, y = lex_diversity)) +\n",
        "  geom_point(alpha = 0.4, \n",
        "             color = \"darkblue\",\n",
        "             size = 2, \n",
        "             position = \"jitter\") +\n",
        "  stat_smooth(color = \"black\", se = TRUE, method = \"lm\") + \n",
        "  geom_smooth(aes(x = Year, y = lex_diversity), \n",
        "              se = TRUE,\n",
        "              color = \"red\", \n",
        "              lwd = 1) +\n",
        "  theme(plot.title = element_text(hjust = 0.5), \n",
        "         legend.title = element_blank(),\n",
        "         panel.grid.minor = element_blank(), \n",
        "         axis.text.x = element_text(angle = 45),\n",
        "         text = element_text(size = 10)) +\n",
        "  ggtitle(\"Lexical Diversity\") +\n",
        "  xlab(\"\") + \n",
        "  ylab(\"\") +\n",
        "  scale_x_continuous(breaks = seq(min(lex_diversity_per_year$Year), max(lex_diversity_per_year$Year), 1)) +\n",
        "  scale_y_continuous(breaks = seq(min(lex_diversity_per_year$lex_diversity), max(lex_diversity_per_year$lex_diversity), 20)) \n",
        "  #scale_color_manual(values = my_colors) +\n",
        "  #theme_lyrics()"
      ],
      "metadata": {
        "id": "O9Ia-QIiXJRk"
      },
      "execution_count": null,
      "outputs": []
    },
    {
      "cell_type": "code",
      "source": [
        "%%R\n",
        "lex_diversity_per_year.plot"
      ],
      "metadata": {
        "id": "oT_jVZM-XOSI"
      },
      "execution_count": null,
      "outputs": []
    },
    {
      "cell_type": "code",
      "source": [
        "%%R\n",
        "#orca(lex_diversity_per_year.plot, file = \"/content/drive/MyDrive/Shadia/figs/lex_diversity_per_year.pdf\")\n",
        "ggsave(file = \"/content/drive/MyDrive/Shadia/figs/lex_diversity_per_year.png\", lex_diversity_per_year.plot)"
      ],
      "metadata": {
        "id": "X2SKTIa8XSI7"
      },
      "execution_count": null,
      "outputs": []
    },
    {
      "cell_type": "markdown",
      "source": [
        "So, over the years there exists slight upward trend in the lyrics of Shadia. It is apparent that during the early 1960s (which can be considered the middle of Shadia's career), there is a greater diversity in lyrics. This hype of artistic activity can also be seen from the figure above showing the histogram of word length per decade, particularly, during the 1960s. In all of the above we have studied the lyrics words and lexical diversity using absolute measures. A more illuminating picture can be obtained using relativistic measures using lexical density."
      ],
      "metadata": {
        "id": "WYdupwqOXYv2"
      }
    },
    {
      "cell_type": "code",
      "source": [
        "%%R\n",
        "lex_diversity_per_year_2 <- lex_diversity_per_year %>%\n",
        "  group_by(Year) %>%\n",
        "  summarise(av_lex_diversity = mean(lex_diversity)) %>%\n",
        "  arrange(desc(av_lex_diversity))"
      ],
      "metadata": {
        "id": "3GxeWhZIXcr0"
      },
      "execution_count": null,
      "outputs": []
    },
    {
      "cell_type": "code",
      "source": [
        "%%R\n",
        "lex_diversity_per_year.plot_2 <- lex_diversity_per_year_2 %>%\n",
        "  ggplot(aes(x = Year, y = av_lex_diversity)) +\n",
        "  geom_point(alpha = 0.4, \n",
        "             color = \"darkblue\",\n",
        "             size = 2, \n",
        "             position = \"jitter\") +\n",
        "  stat_smooth(color = \"black\", se = TRUE, method = \"lm\") + \n",
        "  geom_smooth(aes(x = Year, y = av_lex_diversity), \n",
        "              se = TRUE,\n",
        "              color = \"red\", \n",
        "              lwd = 1) +\n",
        "  theme(plot.title = element_text(hjust = 0.5), \n",
        "         legend.title = element_blank(),\n",
        "         panel.grid.minor = element_blank(), \n",
        "         axis.text.x = element_text(angle = 45),\n",
        "         text = element_text(size = 10)) +\n",
        "  ggtitle(\"Average Lexical Diversity\") +\n",
        "  xlab(\"\") + \n",
        "  ylab(\"\") +\n",
        "  scale_x_continuous(breaks = seq(min(lex_diversity_per_year_2$Year), max(lex_diversity_per_year_2$Year), 1)) +\n",
        "  scale_y_continuous(breaks = scales::pretty_breaks(n = 20))\n",
        "  #scale_y_continuous(breaks = seq(min(lex_diversity_per_year_2$av_lex_diversity),\n",
        "   #                               max(lex_diversity_per_year_2$av_lex_diversity), 20)) "
      ],
      "metadata": {
        "id": "MaZeX00GXgsr"
      },
      "execution_count": null,
      "outputs": []
    },
    {
      "cell_type": "code",
      "source": [
        "%%R\n",
        "lex_diversity_per_year.plot_2"
      ],
      "metadata": {
        "id": "Rfg9PIggXnkc"
      },
      "execution_count": null,
      "outputs": []
    },
    {
      "cell_type": "code",
      "source": [
        "%%R\n",
        "ggsave(\"/content/drive/MyDrive/Shadia/figs/av_lex_diversity_per_year.png\", lex_diversity_per_year.plot_2)"
      ],
      "metadata": {
        "id": "i1cgNsTVgLRx"
      },
      "execution_count": null,
      "outputs": []
    },
    {
      "cell_type": "code",
      "source": [
        "%%R\n",
        "rm(\"lex_diversity_per_year\")\n",
        "rm(\"lex_diversity_per_year.plot\")\n",
        "rm(\"lex_diversity_per_year_2\")\n",
        "rm(\"lex_diversity_per_year.plot_2\")"
      ],
      "metadata": {
        "id": "kY3tfQPSgd2u"
      },
      "execution_count": null,
      "outputs": []
    },
    {
      "cell_type": "markdown",
      "source": [
        "# Lexical density"
      ],
      "metadata": {
        "id": "RH0NHp2sglMs"
      }
    },
    {
      "cell_type": "markdown",
      "source": [
        "**Lexical density** is defined as the number of unique words in a song divided by the total number of words in that song. \n",
        "This is an indicator of *word repetition*, which is an important tool for the lyricist songwriter's tool. \n",
        "As lexical density increases, repetition decreases.\n",
        "Note that this does not imply sequential repetition, which is yet another songwriting trick. In the following we will investigate the lexical diversity of Shadia's songs."
      ],
      "metadata": {
        "id": "nhMQjB3OgpQf"
      }
    },
    {
      "cell_type": "code",
      "source": [
        "%%R\n",
        "lex_density_per_year <- songs.proc %>%\n",
        "  dplyr::filter(!is.na(Decade)) %>%\n",
        "  dplyr::filter(!is.na(Year)) %>%\n",
        "  dplyr::select(Song, Year, Word) %>%\n",
        "  group_by(Song, Year) %>%\n",
        "  summarise(lex_density = n_distinct(Word)/n()) %>%\n",
        "  arrange(desc(lex_density))"
      ],
      "metadata": {
        "id": "7TYG-vhwgoMp"
      },
      "execution_count": null,
      "outputs": []
    },
    {
      "cell_type": "code",
      "source": [
        "%%R\n",
        "density_plot <- lex_density_per_year %>%\n",
        "  ggplot(aes(Year, lex_density)) +\n",
        "  geom_point(color = \"darkblue\", \n",
        "             alpha = .4, \n",
        "             size = 2, \n",
        "             position = \"jitter\") +\n",
        "  stat_smooth(color = \"black\", \n",
        "                se = FALSE, \n",
        "                method = \"lm\") +\n",
        "  geom_smooth(aes(x = Year, y = lex_density), \n",
        "                se = TRUE,\n",
        "                color = \"red\", \n",
        "                lwd = 1) +\n",
        "  theme(plot.title = element_text(hjust = 0.5), \n",
        "         legend.title = element_blank(),\n",
        "         panel.grid.minor = element_blank(), \n",
        "         axis.text.x = element_text(angle = 45),\n",
        "         text = element_text(size = 10)) + \n",
        "  ggtitle(\"Lexical Density\") + \n",
        "  xlab(\"\") + \n",
        "  ylab(\"\") +\n",
        "  scale_x_continuous(breaks = seq(min(lex_density_per_year$Year), max(lex_density_per_year$Year), 1)) +\n",
        "  scale_y_continuous(breaks = seq(0, max(lex_density_per_year$lex_density), 0.1)) "
      ],
      "metadata": {
        "id": "lMGLzMv7gxBl"
      },
      "execution_count": null,
      "outputs": []
    },
    {
      "cell_type": "code",
      "source": [
        "%%R\n",
        "density_plot"
      ],
      "metadata": {
        "id": "cT7ZIhbQg1xR"
      },
      "execution_count": null,
      "outputs": []
    },
    {
      "cell_type": "markdown",
      "source": [
        "It is apparent from the figure that the trend is that the lexical density is decreasing with time, maybe following the general national and international trending of having short songs or songs with many word repetitions, the latter is more probable by looking at the lexical diversity plot in the figure above where there is an increasing trend in lexical diversity. There are extreme cases regarding the lexical density as seen by very dense songs and very sparse songs. Examples of the former include: \"آه ياليله محلاكى\" in 1975, and \"انا اهواك\" in 1953.\n",
        "Examples of very sparse songs include: \"يامولعين بالسهر\" in 1969, and \"رساله من تحت الماء\" in 1975."
      ],
      "metadata": {
        "id": "uurHiPakg6La"
      }
    },
    {
      "cell_type": "code",
      "source": [
        "%%R\n",
        "lex_density_per_year_2 <- lex_density_per_year %>%\n",
        "  group_by(Year) %>%\n",
        "  summarise(av_lex_density = mean(lex_density)) %>%\n",
        "  arrange(desc(av_lex_density))"
      ],
      "metadata": {
        "id": "TFbZlc6Kg89d"
      },
      "execution_count": null,
      "outputs": []
    },
    {
      "cell_type": "code",
      "source": [
        "%%R\n",
        "density_plot_2 <- lex_density_per_year_2 %>%\n",
        "  ggplot(aes(Year, av_lex_density)) +\n",
        "  geom_point(color = \"darkblue\", \n",
        "             alpha = .4, \n",
        "             size = 2, \n",
        "             position = \"jitter\") +\n",
        "  stat_smooth(color = \"black\", \n",
        "                se = FALSE, \n",
        "                method = \"lm\") +\n",
        "  geom_smooth(aes(x = Year, y = av_lex_density), \n",
        "                se = TRUE,\n",
        "                color = \"red\", \n",
        "                lwd = 1) +\n",
        "  theme(plot.title = element_text(hjust = 0.5), \n",
        "         legend.title = element_blank(),\n",
        "         panel.grid.minor = element_blank(), \n",
        "         axis.text.x = element_text(angle = 45),\n",
        "         text = element_text(size = 10)) + \n",
        "  ggtitle(\"Average Lexical Density\") + \n",
        "  xlab(\"\") + \n",
        "  ylab(\"\") +\n",
        "  scale_x_continuous(breaks = seq(min(lex_density_per_year$Year), max(lex_density_per_year$Year), 1)) +\n",
        "  scale_y_continuous(breaks = seq(0, max(lex_density_per_year$lex_density), 0.1)) "
      ],
      "metadata": {
        "id": "HwWK69eXipUv"
      },
      "execution_count": null,
      "outputs": []
    },
    {
      "cell_type": "code",
      "source": [
        "%%R\n",
        "density_plot_2"
      ],
      "metadata": {
        "id": "5f0pp8Rqitku"
      },
      "execution_count": null,
      "outputs": []
    },
    {
      "cell_type": "code",
      "source": [
        "%%R\n",
        "rm(\"lex_density_per_year\")\n",
        "rm(\"density_plot\")\n",
        "rm(\"lex_density_per_year_2\")\n",
        "rm(\"density_plot_2\")"
      ],
      "metadata": {
        "id": "Oq8exQC_ixet"
      },
      "execution_count": null,
      "outputs": []
    },
    {
      "cell_type": "markdown",
      "source": [
        "Next we study the evolution of both lexical diversity and lexical density per decade to have a closer finer look and how they co-evolve together."
      ],
      "metadata": {
        "id": "uFuTUiQBi0c3"
      }
    },
    {
      "cell_type": "code",
      "source": [
        "%%R\n",
        "lex_diversity_over_decade <- songs.proc %>%\n",
        "  dplyr::filter(!is.na(Decade)) %>%\n",
        "  dplyr::filter(!is.na(Year)) %>%\n",
        "  dplyr::select(Decade, Song, Word) %>%\n",
        "  group_by(Decade, Song) %>%\n",
        "  summarise(lex_diversity = n_distinct(Word)) %>%\n",
        "  ungroup() %>%\n",
        "  dplyr::select(Decade, lex_diversity) %>%\n",
        "  group_by(Decade) %>%\n",
        "  summarise(\"Mean lex diversity\" = mean(lex_diversity))"
      ],
      "metadata": {
        "id": "wuGAmSVki5Bu"
      },
      "execution_count": null,
      "outputs": []
    },
    {
      "cell_type": "code",
      "source": [
        "%%R\n",
        "lex_density_over_decade <- songs.proc %>%\n",
        "  dplyr::filter(!is.na(Decade)) %>%\n",
        "  dplyr::filter(!is.na(Year)) %>%\n",
        "  dplyr::select(Decade, Song, Word) %>%\n",
        "  group_by(Decade, Song) %>%\n",
        "  mutate(lex_diversity = n_distinct(Word)) %>%\n",
        "  mutate(no_words = n()) %>%\n",
        "  ungroup() %>%\n",
        "  dplyr::select(-c(Song, Word)) %>%\n",
        "  distinct() %>%\n",
        "  mutate(lex_density = lex_diversity/no_words) %>%\n",
        "  group_by(Decade) %>%\n",
        "  summarise(\"Mean lex density\" = mean(lex_density))"
      ],
      "metadata": {
        "id": "3j63ryxpkxZt"
      },
      "execution_count": null,
      "outputs": []
    },
    {
      "cell_type": "code",
      "source": [
        "%%R\n",
        "lex_diversity_density_over_decade <- inner_join(lex_diversity_over_decade,\n",
        "                                                lex_density_over_decade,\n",
        "                                                by = \"Decade\")\n",
        "\n",
        "# lexical density values lie in the range [0,1], however, for proper plotting and comparison with lexical diversity in bar plots,\n",
        "# we multiply the values of lexical density by 100.\n",
        "lex_diversity_density_over_decade$\"Mean lex density\" <- 100 * lex_diversity_density_over_decade$\"Mean lex density\""
      ],
      "metadata": {
        "id": "Br72tjcmk6dr"
      },
      "execution_count": null,
      "outputs": []
    },
    {
      "cell_type": "markdown",
      "source": [
        "The following cell is just a trick for proper plotting of the two measures (lexical diversity and lexical density) in one bar plot."
      ],
      "metadata": {
        "id": "7cfHJBL4lFON"
      }
    },
    {
      "cell_type": "code",
      "source": [
        "%%R\n",
        "lex_diversity_density_over_decade <- lex_diversity_density_over_decade %>%\n",
        "  gather(\"lex_div_den\", \"value\", -Decade)"
      ],
      "metadata": {
        "id": "V7Ui68CPlHW6"
      },
      "execution_count": null,
      "outputs": []
    },
    {
      "cell_type": "code",
      "source": [
        "%%R\n",
        "lex_diversity_density_over_decade <- lex_diversity_density_over_decade %>%\n",
        "  mutate(years = as.numeric(parse_number(Decade))) %>%\n",
        "  mutate(part = ifelse(grepl(\"Early\", Decade), 0, 1))"
      ],
      "metadata": {
        "id": "fHukH3rdlaZ_"
      },
      "execution_count": null,
      "outputs": []
    },
    {
      "cell_type": "code",
      "source": [
        "%%R\n",
        "lex_diversity_density_over_decade <- lex_diversity_density_over_decade %>%\n",
        "  arrange(years, part) %>%\n",
        "  dplyr::select(-c(years, part))"
      ],
      "metadata": {
        "id": "paSyHGytleCX"
      },
      "execution_count": null,
      "outputs": []
    },
    {
      "cell_type": "code",
      "source": [
        "%%R\n",
        "#X <- lex_diversity_density_over_decade$value[which(lex_diversity_density_over_decade$lex_div_den == \"Mean lex density\")]\n",
        "#exp_d <- fitdist(X, \"exp\")"
      ],
      "metadata": {
        "id": "fy09sOwEm0sL"
      },
      "execution_count": null,
      "outputs": []
    },
    {
      "cell_type": "code",
      "source": [
        "%%R\n",
        "lex_diversity_density_over_decade.plot <- lex_diversity_density_over_decade %>%\n",
        "  ggplot() + \n",
        "  geom_bar(aes(x = factor(Decade, levels = unique(Decade)), y = value, fill = lex_div_den),\n",
        "           stat = \"identity\",\n",
        "           position = \"dodge\") +\n",
        "  theme(plot.title = element_text(hjust = 0.5), \n",
        "         legend.title = element_blank(),\n",
        "         panel.grid.minor = element_blank(), \n",
        "         axis.text.x = element_text(angle = 40),\n",
        "         text = element_text(size = 10)) +\n",
        "  xlab(\"\") + \n",
        "  ylab(\"\") +\n",
        "  ggtitle(\"Lexical Diversity/Density over the Decades\") + \n",
        "  scale_y_continuous(breaks = scales::pretty_breaks(n = 10))\n",
        "\n",
        "lex_diversity_density_over_decade.plot <- ggplotly(lex_diversity_density_over_decade.plot)"
      ],
      "metadata": {
        "id": "IQYeZ1num5nn"
      },
      "execution_count": null,
      "outputs": []
    },
    {
      "cell_type": "code",
      "source": [
        "%%R\n",
        "lex_diversity_density_over_decade.plot"
      ],
      "metadata": {
        "id": "Ks7lnbjJnDOh"
      },
      "execution_count": null,
      "outputs": []
    },
    {
      "cell_type": "markdown",
      "source": [
        "It is apparent from the figure that the lexical density tends to be stable over the years, though it decreases slowly with time. \n",
        "So from probabilistic perspective it seems that the lexical density follows an exponential distribution with rather low rate. \n",
        "On the other hand lexical diversity can be thought as following a Gaussian distribution with the mean in the late 1960s. \n",
        "This peak happens even though the lexical density is rather low. The latter can then be attributed to having many repetitions in the songs in this period of time. This diversity of lyrics can as well be seen from the table above showing the total number of words in all songs in late 1960s to be $14,892$ which is the largest across all decades. This indicates that Shadia had been most active in the late 1960s. One of the reasons can be attributed to the defeat in war in 1967 and the need to reinstate the nationalist feelings of the people in addition for the need to give many concerts for fund raising and donations for the war effort to rebuild the army."
      ],
      "metadata": {
        "id": "IGn83mJmnG8M"
      }
    },
    {
      "cell_type": "code",
      "source": [
        "%%R\n",
        "orca(lex_diversity_density_over_decade.plot, file = \"./figs/div_density_over_decade.pdf\")\n",
        "#ggsave(\"/content/drive/MyDrive/Shadia/figs/div_density_over_deacade.pdf\", lex_diversity_density_over_decade.plot, dpi = 1000, device = \"pdf\")"
      ],
      "metadata": {
        "id": "tgue5r3JnLbd"
      },
      "execution_count": null,
      "outputs": []
    },
    {
      "cell_type": "code",
      "source": [
        "%%R\n",
        "rm(\"lex_diversity_over_decade\")\n",
        "rm(\"lex_density_over_decade\")\n",
        "rm(\"lex_diversity_density_over_decade\")\n",
        "rm(\"lex_diversity_density_over_decade.plot\")"
      ],
      "metadata": {
        "id": "jQHafeaMoLv0"
      },
      "execution_count": null,
      "outputs": []
    },
    {
      "cell_type": "markdown",
      "source": [
        "# TF-IDF"
      ],
      "metadata": {
        "id": "cFiLU_JapyDl"
      }
    },
    {
      "cell_type": "markdown",
      "source": [
        "The method that we have been using so far looks at the entire dataset, but it has not addressed how to quantify just how important various terms are in a document with respect to an entire collection. In the analysis above we have removed stop words and looked at term frequency, but this is not be the most sophisticated approach, especially from a relativistic perspective. An advanced alternative is the use of TF-IDF, where TF stands for \"Term Frequency\" and IDF stands for \"Inverse Term Frequency\". TF-IDF assigns a lower weight to commonly used words and higher weights to words that are not used much in the given collection.\n",
        "\n",
        "When TF and IDF are combined, a term's significance is adjusted for how rarely it is used. The assumption behind TF-IDF is that **terms that appear more frequently in a document should be given a higher weight, unless it also appears in many documents**. It can be formulated as follows: \n",
        "- Term Frequency (TF): Number of times a term occurs in a document (fixing the document). \n",
        "- Document Frequency (DF): Number of documents that contain each word (fixing the word). \n",
        "- Inverse Document Frequency (IDF) = 1/DF - TF-IDF = TF \\* IDF\n",
        "\n",
        "The IDF of any term is therefore a higher number for words that occur in fewer of the documents in the collection, so it is a kind of rare words from which their importance are driven. \n",
        "We will next see this approach to examine the most important words per year/decade/and overall."
      ],
      "metadata": {
        "id": "bpKtqAG-p2qE"
      }
    },
    {
      "cell_type": "code",
      "source": [
        "%%R\n",
        "popular_tfidf_words <- songs.proc %>%\n",
        "  dplyr::select(Song, Word) %>%\n",
        "  dplyr::filter(nchar(Word) > 3) %>%\n",
        "  group_by(Song) %>%\n",
        "  count(Song, Word, sort = TRUE) %>%\n",
        "  ungroup() %>%\n",
        "  bind_tf_idf(Word, Song, n) %>%\n",
        "  arrange(desc(tf_idf))"
      ],
      "metadata": {
        "id": "YLOEvTdKp6aA"
      },
      "execution_count": null,
      "outputs": []
    },
    {
      "cell_type": "code",
      "source": [
        "%%R\n",
        "popular_tfidf_words <- popular_tfidf_words %>% \n",
        "  dplyr::select(-n)"
      ],
      "metadata": {
        "id": "zX7tM0lCqHaQ"
      },
      "execution_count": null,
      "outputs": []
    },
    {
      "cell_type": "markdown",
      "source": [
        "The following table gives the topmost words with respect to their TF-IDF values."
      ],
      "metadata": {
        "id": "OEM0SGUnqKyL"
      }
    },
    {
      "cell_type": "code",
      "source": [
        "%%R\n",
        "topmost <- 10\n",
        "\n",
        "test_sample <- popular_tfidf_words[1:topmost,]  %>%\n",
        "  ungroup() %>%\n",
        "  mutate(Word = color_bar(\"lightblue\")(Word))  %>%\n",
        "  mutate(Song = color_tile(\"lightpink\",\"lightpink\")(Song)) %>%\n",
        "  #mutate(n = color_tile(\"lightgreen\",\"lightgreen\")(n)) %>%\n",
        "  mutate(tf = color_tile(\"lightpink\",\"lightpink\")(tf)) %>%\n",
        "  mutate(idf = color_tile(\"lightblue\",\"lightblue\")(idf)) %>%\n",
        "  mutate(tf_idf = color_tile(\"lightgreen\",\"lightgreen\")(tf_idf)) %>%\n",
        "  kable(\"html\", escape = FALSE, align = \"c\", caption = \"Words with highest TF-IDF\") %>%\n",
        "  kable_styling(bootstrap_options = c(\"striped\", \"condensed\", \"bordered\"),\n",
        "                    full_width = FALSE)"
      ],
      "metadata": {
        "id": "eiKudTP4qPAv"
      },
      "execution_count": null,
      "outputs": []
    },
    {
      "cell_type": "code",
      "source": [
        "%%R\n",
        "test_sample"
      ],
      "metadata": {
        "id": "jzX_fv59rfxx"
      },
      "execution_count": null,
      "outputs": []
    },
    {
      "cell_type": "markdown",
      "source": [
        "As can be noticed from this table it is clear that the words are not that typical of songs, especially from a singer mostly known for romantic themes. \n",
        "So these words are rare across songs, however, they are very typical in few songs. The topmost words include: \"اضرب\", (hit), \"انذار\", (warning), \"تلمني\" (blame me), \"وغني\" (and sing), \"الويل\" (woe). \n",
        "The following shows the converse, namely the words with least TF-IDF values, which are words that are either very atypical in any particular song or very typical accross many songs.\n",
        "\n",
        "The following table gives the lowermost words with respect to their TF-IDF values."
      ],
      "metadata": {
        "id": "fSgG65i3rlG0"
      }
    },
    {
      "cell_type": "code",
      "source": [
        "%%R\n",
        "lowermost <- 10\n",
        "\n",
        "test_sample <- tail(popular_tfidf_words, n = lowermost)  %>%\n",
        "  map_df(rev) %>%\n",
        "  ungroup() %>%\n",
        "  mutate(Word = color_bar(\"lightblue\")(Word)) %>%\n",
        "  mutate(Song = color_tile(\"lightpink\",\"lightpink\")(Song)) %>%\n",
        "  #mutate(n = color_tile(\"lightgreen\",\"lightgreen\")(n)) %>%\n",
        "  mutate(tf = color_tile(\"lightpink\",\"lightpink\")(tf)) %>%\n",
        "  mutate(idf = color_tile(\"lightblue\",\"lightblue\")(idf)) %>%\n",
        "  mutate(tf_idf = color_tile(\"lightgreen\",\"lightgreen\")(tf_idf)) %>%\n",
        "  kable(\"html\", escape = FALSE, align = \"c\", caption = \"Words with lowest TF-IDF\") %>%\n",
        "  kable_styling(bootstrap_options = c(\"striped\", \"condensed\", \"bordered\"),\n",
        "                     full_width = FALSE)"
      ],
      "metadata": {
        "id": "XcfMOS6Drru1"
      },
      "execution_count": null,
      "outputs": []
    },
    {
      "cell_type": "code",
      "source": [
        "%%R\n",
        "test_sample"
      ],
      "metadata": {
        "id": "jfYRQA4ErymN"
      },
      "execution_count": null,
      "outputs": []
    },
    {
      "cell_type": "markdown",
      "source": [
        "As expected the terms with the lowest TF-IDF are the very common words that can appear frequently inside a given songs and appear across many songs. \n",
        "There include \"اللى\", (the one), \"الدنيا\", (the life), \"قلبي\" (my heart), \"وانا\" (and I)."
      ],
      "metadata": {
        "id": "3ONyjPm4_Ubp"
      }
    },
    {
      "cell_type": "code",
      "source": [
        "%%R\n",
        "popular_tfidf_words.plot <- popular_tfidf_words %>%\n",
        "  ggplot() + \n",
        "  geom_histogram(aes(x = tf_idf),\n",
        "                 stat = \"density\",\n",
        "                 #boundary = 0,\n",
        "                 #binwidth = 100,\n",
        "                 color = \"darkblue\",\n",
        "                 size = 0.15) + \n",
        "  theme(plot.title = element_text(hjust = 0.5),\n",
        "         legend.title = element_blank(),\n",
        "         panel.grid.minor = element_blank(),\n",
        "         #axis.text.x = element_text(angle = 45),\n",
        "         text = element_text(size = 10)) +\n",
        "  ggtitle(\"Normalized Histogram for TF-IDF Values\") + \n",
        "  xlab(\"\") + \n",
        "  ylab(\"\") +\n",
        "  scale_x_continuous(breaks = scales::pretty_breaks(n = 10))\n",
        "  # scale_x_continuous(breaks = seq(min(lex_density_per_year$Year), max(lex_density_per_year$Year), 1)) +\n",
        "  # scale_y_continuous(breaks = seq(0, max(lex_density_per_year$lex_density), 0.1)) "
      ],
      "metadata": {
        "id": "q7V7QtNf_Yxt"
      },
      "execution_count": null,
      "outputs": []
    },
    {
      "cell_type": "code",
      "source": [
        "%%R\n",
        "popular_tfidf_words.plot"
      ],
      "metadata": {
        "id": "pWs5hMH-_fO-"
      },
      "execution_count": null,
      "outputs": []
    },
    {
      "cell_type": "code",
      "source": [
        "```{r}\n",
        "#orca(popular_tfidf_words.plot, file = \"/content/drive/MyDrive/Shadia/figs/popular_tfidf_words.pdf\")\n",
        "ggsave(\"/content/drive/MyDrive/Shadia/figs/popular_tfidf_words.pdf\", popular_tfidf_words.plot, dpi = 1000, device = \"pdf\")"
      ],
      "metadata": {
        "id": "Ne5R388S_il3"
      },
      "execution_count": null,
      "outputs": []
    },
    {
      "cell_type": "markdown",
      "source": [
        "The following is a word cloud of the most popular words (according to the TF-IDF measure) across the whole artistic career of Shadia."
      ],
      "metadata": {
        "id": "KuaFGOfHDrBN"
      }
    },
    {
      "cell_type": "code",
      "source": [
        "%%R\n",
        "word_cloud_overall <- popular_tfidf_words %>%\n",
        "  arrange(desc(tf_idf)) %>%\n",
        "  dplyr::select(Word, tf_idf)"
      ],
      "metadata": {
        "id": "MR06NgwZDugF"
      },
      "execution_count": null,
      "outputs": []
    },
    {
      "cell_type": "code",
      "source": [
        "%%R\n",
        "wordcloud2(word_cloud_overall[1:300, ],\n",
        "           color = \"random-dark\", \n",
        "           minRotation = -pi / 6, \n",
        "           maxRotation = -pi / 3, \n",
        "           minSize = .002, \n",
        "           ellipticity = .3, \n",
        "           rotateRatio = 1, \n",
        "           size = .2, \n",
        "           fontWeight = \"bold\", \n",
        "           gridSize = 1.5 )"
      ],
      "metadata": {
        "id": "5skF1ByFD0IN"
      },
      "execution_count": null,
      "outputs": []
    },
    {
      "cell_type": "markdown",
      "source": [
        "As can be seen from the word cloud the most popular words, unlike common perspective of romanticism of Shadia, are words that carry nationalistic and enthusiastic themes."
      ],
      "metadata": {
        "id": "cf-hokkkD3eb"
      }
    },
    {
      "cell_type": "code",
      "source": [
        "%%R\n",
        "rm(\"popular_tfidf_words\")\n",
        "rm(\"test_sample\")\n",
        "rm(\"word_cloud_overall\")\n",
        "rm(\"popular_tfidf_words.plot\")"
      ],
      "metadata": {
        "id": "c7ylPExgD8AK"
      },
      "execution_count": null,
      "outputs": []
    },
    {
      "cell_type": "markdown",
      "source": [
        "Next we do that analysis more finer by dividing it into the decades. So here the TF-IDF values are computed with respect only to the given decade."
      ],
      "metadata": {
        "id": "ftLbF7QZD_Ct"
      }
    },
    {
      "cell_type": "code",
      "source": [
        "%%R\n",
        "popular_tfidf_words_per_decade <- songs.proc %>%\n",
        "  dplyr::select(Decade, Song, Word) %>%\n",
        "  dplyr::filter(nchar(Word) > 3) %>%\n",
        "  group_by(Decade, Song) %>%\n",
        "  count(Decade, Song, Word, sort = TRUE) %>%\n",
        "  ungroup() %>%\n",
        "  group_by(Decade) #%>%\n",
        "  #bind_tf_idf(Word, Song, n) #%>%\n",
        "  # arrange(desc(tf_idf))"
      ],
      "metadata": {
        "id": "yjKvbTBeECLS"
      },
      "execution_count": null,
      "outputs": []
    },
    {
      "cell_type": "code",
      "source": [
        "%%R\n",
        "decades <- popular_tfidf_words_per_decade %>% group_split()\n",
        "decades_after <- NULL\n",
        "decades_wordclouds <- list()\n",
        "for(i in 1:length(decades))\n",
        "{\n",
        "  dd <- decades[[i]] %>%\n",
        "    group_by(Song) %>%\n",
        "    bind_tf_idf(Word, Song, n)\n",
        "  decades_after <- rbind(decades_after, dd)\n",
        "  \n",
        "  decades_wordclouds[[i]] <- dd[1:300,] %>%\n",
        "    ungroup() %>%\n",
        "    dplyr::select(Word, tf_idf) %>%\n",
        "    arrange(desc(tf_idf))\n",
        "  decades_wordclouds[[i]] <- wordcloud2(decades_wordclouds[[i]],\n",
        "                                        color = \"random-dark\",\n",
        "                                        minRotation = -pi / 6,\n",
        "                                        maxRotation = -pi / 3,\n",
        "                                        minSize = .002,\n",
        "                                        ellipticity = .3,\n",
        "                                        rotateRatio = 1,\n",
        "                                        size = .2,\n",
        "                                        fontWeight = \"bold\",\n",
        "                                        gridSize = 1.5 )\n",
        "}"
      ],
      "metadata": {
        "id": "3_q7SY1VEKFX"
      },
      "execution_count": null,
      "outputs": []
    },
    {
      "cell_type": "code",
      "source": [
        "%%R\n",
        "no_of_top_songs <- 10\n",
        "\n",
        "popular_tfidf_words_per_decade <- decades_after %>%\n",
        "  distinct() %>%\n",
        "  group_by(Decade) %>%\n",
        "  arrange(desc(tf_idf), .by_group = TRUE) %>%\n",
        "  slice(seq_len(no_of_top_songs)) "
      ],
      "metadata": {
        "id": "U1YGyQ40ET-v"
      },
      "execution_count": null,
      "outputs": []
    },
    {
      "cell_type": "code",
      "source": [
        "%%R\n",
        "\n",
        "popular_tfidf_words_per_decade <- within(popular_tfidf_words_per_decade, \n",
        "                                     Decade <- factor(Decade, levels = c(\"Late 1940s\" , \"Early 1950s\", \"Late 1950s\", \"Early 1960s\", \"Late 1960s\", \n",
        "                                                                         \"Early 1970s\", \"Late 1970s\", \"Early 1980s\", \"Late 1980s\")))\n",
        "\n",
        "top_tf_idf_words_per_decade.plot <- popular_tfidf_words_per_decade %>%\n",
        "  ggplot()  +\n",
        "  #geom_col(aes(x = Word, y = tf_idf), width = 0.6) +\n",
        "  ##geom_col(aes(x = factor(Word, levels = unique(Word)), y = freq), width = 0.6) + \n",
        "  ##geom_col(aes(x = Word, y = freq), width = 0.6) + \n",
        "  geom_col(aes(x = reorder_within(Word, tf_idf, Decade), y = tf_idf), \n",
        "           width = 0.6) + \n",
        "  ##geom_col(aes(x = .r, y = freq), width = 0.6) + \n",
        "  facet_wrap(~Decade, scales = \"free\") +\n",
        "  scale_x_reordered() + \n",
        "  ##scale_x_continuous(breaks = top_words_per_decade$Word, labels = top_words_per_decade$Word)\n",
        "  theme(plot.title = element_text(hjust = 0.5),\n",
        "         legend.title = element_blank(),\n",
        "       panel.grid.minor = element_blank(),\n",
        "       axis.text.x = element_text(angle = 40),\n",
        "       text = element_text(size = 8),\n",
        "       panel.spacing = unit(2, \"lines\")) +\n",
        "  coord_flip() + \n",
        "  guides(fill = FALSE) + \n",
        "  ggtitle(\"Important Words Using TF-IDF per Decade\") + \n",
        "  labs(x = \"Word\", y = \"TF-IDF\") #+\n",
        "  #scale_y_continuous(breaks = seq(0, max(top_words_per_decade$freq), 10))\n",
        "\n",
        "top_tf_idf_words_per_decade.plot <- ggplotly(top_tf_idf_words_per_decade.plot)"
      ],
      "metadata": {
        "id": "cZy8dzRREbDR"
      },
      "execution_count": null,
      "outputs": []
    },
    {
      "cell_type": "code",
      "source": [
        "%%R\n",
        "top_tf_idf_words_per_decade.plot"
      ],
      "metadata": {
        "id": "lRxN5SqSE9T1"
      },
      "execution_count": null,
      "outputs": []
    },
    {
      "cell_type": "markdown",
      "source": [
        "Relativizing the computation of the TF-IDF to a decade gives a glimpse over the general themes and genres that distinguish every such decade.\n",
        "As can be seen the popular words (with respect to the TF-IDF measure) are quite different across different decades and even quite different from the popular words (with respect to the TF-IDF measure) computed over the whole career life of Shadia. It is evident that the nationalist theme dominates the 1960s, especially the latter part. \n",
        "\n",
        "The nationalist focus in the late 1960s can be attributed to the ongoing war between Israel from one side and Egypt (with several other Arab nations) on the other side. \n",
        "The nationalist theme appear, however, on the surface, in other decades. \n",
        "The early 1950s themes seemed to come around romanticism and optimistic perspectives over life. \n",
        "The later 1950s is mostly about romanticism and a bit of nationalism. \n",
        "The nationalistic tone in the late 1950s and early 1960s are mild and carry optimism about the future perspectives of the revolution (that occurred in 1950s). \n",
        "\n",
        "However, the nationalistic themes in the late 1960s are strong and carry fighting and sacrifice tones which can be naturally understood given the political situation and the ongoing hot wars between Israel and Egypt at the time. The 1970s in general carry a sense of wisdom and pessimism that can be attributed to several factors: \n",
        "\n",
        "(1) the first is the huge political and soco-economic changes that had been occurring in Egypt that came on extreme contrast to the previous period and \n",
        "(2) the particular state of affairs concerning Shadia himself as he was becoming very sick and approaching the end of his life."
      ],
      "metadata": {
        "id": "QXaAhVifFBx9"
      }
    },
    {
      "cell_type": "code",
      "source": [
        "%%R\n",
        "orca(top_tf_idf_words_per_decade.plot, file = \"/content/drive/MyDrive/Shadia/figs/top_tf_idf_words_per_decade.pdf\")\n",
        "# ggsave(\"/content/drive/MyDrive/Shadia/figs/top_tf_idf_words_per_decade.pdf\", top_tf_idf_words_per_decade.plot, dpi = 1000, device = \"pdf\")"
      ],
      "metadata": {
        "id": "CD8nTN8AFFFr"
      },
      "execution_count": null,
      "outputs": []
    },
    {
      "cell_type": "code",
      "source": [
        "%%R\n",
        "par(mfrow = c(3,2))\n",
        "decades_wordclouds[[1]]\n",
        "decades_wordclouds[[2]]\n",
        "decades_wordclouds[[3]]\n",
        "decades_wordclouds[[4]]\n",
        "decades_wordclouds[[5]]\n",
        "decades_wordclouds[[6]]"
      ],
      "metadata": {
        "id": "85EuFOgDMW4S"
      },
      "execution_count": null,
      "outputs": []
    },
    {
      "cell_type": "code",
      "source": [
        "%%R\n",
        "rm(\"popular_tfidf_words_per_decade\")\n",
        "rm(\"decades\")\n",
        "rm(\"decades_after\")\n",
        "rm(\"decades_wordclouds\")"
      ],
      "metadata": {
        "id": "KIkgNDIqMbyV"
      },
      "execution_count": null,
      "outputs": []
    },
    {
      "cell_type": "markdown",
      "source": [
        "# Conclusion"
      ],
      "metadata": {
        "id": "8t9Y4VNpMg2Z"
      }
    },
    {
      "cell_type": "markdown",
      "source": [
        "In this case study, we have taken a quick glance into the actual data.\n",
        "After performing some conditioning such as data cleansing and removing uninformative words, we began an exploratory analysis at the song level.\n",
        "Next, we delved deeper into text mining by unnesting lyrics into tokenized words so that we could look at lyrical complexity."
      ],
      "metadata": {
        "id": "2LavU-ffMjeQ"
      }
    }
  ]
}