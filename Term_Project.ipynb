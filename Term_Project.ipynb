{
 "cells": [
  {
   "cell_type": "code",
   "execution_count": 63,
   "metadata": {},
   "outputs": [
    {
     "name": "stdout",
     "output_type": "stream",
     "text": [
      "Requirement already satisfied: pandas in c:\\users\\admin\\appdata\\local\\programs\\python\\python312\\lib\\site-packages (2.2.3)\n",
      "Requirement already satisfied: numpy>=1.26.0 in c:\\users\\admin\\appdata\\local\\programs\\python\\python312\\lib\\site-packages (from pandas) (1.26.4)\n",
      "Requirement already satisfied: python-dateutil>=2.8.2 in c:\\users\\admin\\appdata\\local\\programs\\python\\python312\\lib\\site-packages (from pandas) (2.9.0.post0)\n",
      "Requirement already satisfied: pytz>=2020.1 in c:\\users\\admin\\appdata\\local\\programs\\python\\python312\\lib\\site-packages (from pandas) (2024.2)\n",
      "Requirement already satisfied: tzdata>=2022.7 in c:\\users\\admin\\appdata\\local\\programs\\python\\python312\\lib\\site-packages (from pandas) (2024.2)\n",
      "Requirement already satisfied: six>=1.5 in c:\\users\\admin\\appdata\\local\\programs\\python\\python312\\lib\\site-packages (from python-dateutil>=2.8.2->pandas) (1.16.0)\n"
     ]
    }
   ],
   "source": [
    "!pip install pandas"
   ]
  },
  {
   "cell_type": "code",
   "execution_count": 64,
   "metadata": {},
   "outputs": [
    {
     "name": "stdout",
     "output_type": "stream",
     "text": [
      "Requirement already satisfied: nltk in c:\\users\\admin\\appdata\\local\\programs\\python\\python312\\lib\\site-packages (3.9.1)\n",
      "Requirement already satisfied: click in c:\\users\\admin\\appdata\\local\\programs\\python\\python312\\lib\\site-packages (from nltk) (8.1.8)\n",
      "Requirement already satisfied: joblib in c:\\users\\admin\\appdata\\local\\programs\\python\\python312\\lib\\site-packages (from nltk) (1.4.2)\n",
      "Requirement already satisfied: regex>=2021.8.3 in c:\\users\\admin\\appdata\\local\\programs\\python\\python312\\lib\\site-packages (from nltk) (2024.11.6)\n",
      "Requirement already satisfied: tqdm in c:\\users\\admin\\appdata\\local\\programs\\python\\python312\\lib\\site-packages (from nltk) (4.67.1)\n",
      "Requirement already satisfied: colorama in c:\\users\\admin\\appdata\\roaming\\python\\python312\\site-packages (from click->nltk) (0.4.6)\n",
      "Note: you may need to restart the kernel to use updated packages.\n"
     ]
    }
   ],
   "source": [
    "%pip install nltk"
   ]
  },
  {
   "cell_type": "code",
   "execution_count": 65,
   "metadata": {},
   "outputs": [
    {
     "name": "stdout",
     "output_type": "stream",
     "text": [
      "Requirement already satisfied: scikit-learn in c:\\users\\admin\\appdata\\local\\programs\\python\\python312\\lib\\site-packages (1.5.2)\n",
      "Requirement already satisfied: numpy>=1.19.5 in c:\\users\\admin\\appdata\\local\\programs\\python\\python312\\lib\\site-packages (from scikit-learn) (1.26.4)\n",
      "Requirement already satisfied: scipy>=1.6.0 in c:\\users\\admin\\appdata\\local\\programs\\python\\python312\\lib\\site-packages (from scikit-learn) (1.13.1)\n",
      "Requirement already satisfied: joblib>=1.2.0 in c:\\users\\admin\\appdata\\local\\programs\\python\\python312\\lib\\site-packages (from scikit-learn) (1.4.2)\n",
      "Requirement already satisfied: threadpoolctl>=3.1.0 in c:\\users\\admin\\appdata\\local\\programs\\python\\python312\\lib\\site-packages (from scikit-learn) (3.5.0)\n",
      "Note: you may need to restart the kernel to use updated packages.\n"
     ]
    }
   ],
   "source": [
    "%pip install scikit-learn"
   ]
  },
  {
   "cell_type": "code",
   "execution_count": 66,
   "metadata": {},
   "outputs": [],
   "source": [
    "\n",
    "import pandas as pd\n",
    "import numpy as np\n",
    "import re\n",
    "from nltk.corpus import stopwords\n",
    "from nltk.stem import WordNetLemmatizer\n",
    "from sklearn.feature_extraction.text import CountVectorizer, TfidfVectorizer\n",
    "from sklearn.preprocessing import OneHotEncoder\n"
   ]
  },
  {
   "cell_type": "code",
   "execution_count": 67,
   "metadata": {},
   "outputs": [
    {
     "data": {
      "text/html": [
       "<div>\n",
       "<style scoped>\n",
       "    .dataframe tbody tr th:only-of-type {\n",
       "        vertical-align: middle;\n",
       "    }\n",
       "\n",
       "    .dataframe tbody tr th {\n",
       "        vertical-align: top;\n",
       "    }\n",
       "\n",
       "    .dataframe thead th {\n",
       "        text-align: right;\n",
       "    }\n",
       "</style>\n",
       "<table border=\"1\" class=\"dataframe\">\n",
       "  <thead>\n",
       "    <tr style=\"text-align: right;\">\n",
       "      <th></th>\n",
       "      <th>Track Title</th>\n",
       "      <th>Track Lyrics</th>\n",
       "      <th>Release year</th>\n",
       "      <th>Composer</th>\n",
       "      <th>Lyricist</th>\n",
       "    </tr>\n",
       "  </thead>\n",
       "  <tbody>\n",
       "    <tr>\n",
       "      <th>0</th>\n",
       "      <td>Aah Habaieb - آه حبايب</td>\n",
       "      <td>اه حبايب بس فين الحب غايب\\r\\nوليه يا قلبي ما ...</td>\n",
       "      <td>1995</td>\n",
       "      <td>صلاح الشرنوبي</td>\n",
       "      <td>وليد رزيقه</td>\n",
       "    </tr>\n",
       "    <tr>\n",
       "      <th>1</th>\n",
       "      <td>Aalem Albi El Shok - علم قلبي الشوق</td>\n",
       "      <td>\\r\\nيا ليلي يا ليلي يا ليل\\r\\n\\r\\nعلم قلبي الش...</td>\n",
       "      <td>2008</td>\n",
       "      <td>صلاح الشرنوبي</td>\n",
       "      <td>احمد شتا</td>\n",
       "    </tr>\n",
       "    <tr>\n",
       "      <th>2</th>\n",
       "      <td>Addi Eli Kanou - أدي اللي كانوا</td>\n",
       "      <td>أدي اللي كانوا يا هوا أقرب ما لينا\\r\\nواللي م...</td>\n",
       "      <td>2008</td>\n",
       "      <td>امجد العاطفي</td>\n",
       "      <td>احمد سامي</td>\n",
       "    </tr>\n",
       "    <tr>\n",
       "      <th>3</th>\n",
       "      <td>Alb Al Asheq Daleiloh - قلب العاشق دليله</td>\n",
       "      <td>قلب العاشق دليله\\r\\nقلب العاشق دليله\\r\\n\\r\\nقل...</td>\n",
       "      <td>2002</td>\n",
       "      <td>امجد العاطفي</td>\n",
       "      <td>عوض بدوي</td>\n",
       "    </tr>\n",
       "    <tr>\n",
       "      <th>4</th>\n",
       "      <td>Al Forqah Saabah - الفرقة صعبة</td>\n",
       "      <td>مش قادر اصبرعغيابا\\r\\nكل ليله بجمع دموعي\\r\\nو ...</td>\n",
       "      <td>2009</td>\n",
       "      <td>جورج يزبك</td>\n",
       "      <td>توفيق بركات</td>\n",
       "    </tr>\n",
       "  </tbody>\n",
       "</table>\n",
       "</div>"
      ],
      "text/plain": [
       "                                Track Title  \\\n",
       "0                    Aah Habaieb - آه حبايب   \n",
       "1       Aalem Albi El Shok - علم قلبي الشوق   \n",
       "2           Addi Eli Kanou - أدي اللي كانوا   \n",
       "3  Alb Al Asheq Daleiloh - قلب العاشق دليله   \n",
       "4            Al Forqah Saabah - الفرقة صعبة   \n",
       "\n",
       "                                        Track Lyrics  Release year  \\\n",
       "0   اه حبايب بس فين الحب غايب\\r\\nوليه يا قلبي ما ...          1995   \n",
       "1  \\r\\nيا ليلي يا ليلي يا ليل\\r\\n\\r\\nعلم قلبي الش...          2008   \n",
       "2   أدي اللي كانوا يا هوا أقرب ما لينا\\r\\nواللي م...          2008   \n",
       "3  قلب العاشق دليله\\r\\nقلب العاشق دليله\\r\\n\\r\\nقل...          2002   \n",
       "4  مش قادر اصبرعغيابا\\r\\nكل ليله بجمع دموعي\\r\\nو ...          2009   \n",
       "\n",
       "        Composer     Lyricist  \n",
       "0  صلاح الشرنوبي   وليد رزيقه  \n",
       "1  صلاح الشرنوبي     احمد شتا  \n",
       "2   امجد العاطفي    احمد سامي  \n",
       "3   امجد العاطفي     عوض بدوي  \n",
       "4      جورج يزبك  توفيق بركات  "
      ]
     },
     "execution_count": 67,
     "metadata": {},
     "output_type": "execute_result"
    }
   ],
   "source": [
    "data = pd.read_csv('george_wassouf_lyrics_dataset.csv')\n",
    "data.head()"
   ]
  },
  {
   "cell_type": "code",
   "execution_count": 68,
   "metadata": {
    "vscode": {
     "languageId": "ruby"
    }
   },
   "outputs": [
    {
     "name": "stdout",
     "output_type": "stream",
     "text": [
      "78\n",
      "5\n",
      "['Track Title', 'Track Lyrics', 'Release year', 'Composer', 'Lyricist']\n"
     ]
    }
   ],
   "source": [
    "# Number of songs\n",
    "no_of_songs = data.shape[0]\n",
    "print(no_of_songs)\n",
    "# Number of attributes\n",
    "no_of_attributes = data.shape[1]\n",
    "print(no_of_attributes)\n",
    "# Attribute names\n",
    "attrs = data.columns.tolist()\n",
    "print(attrs)"
   ]
  },
  {
   "cell_type": "code",
   "execution_count": 69,
   "metadata": {},
   "outputs": [
    {
     "name": "stdout",
     "output_type": "stream",
     "text": [
      "                                        Track Lyrics\n",
      "0   اه حبايب بس فين الحب غايب\\r\\nوليه يا قلبي ما ...\n",
      "1  \\r\\nيا ليلي يا ليلي يا ليل\\r\\n\\r\\nعلم قلبي الش...\n",
      "2   أدي اللي كانوا يا هوا أقرب ما لينا\\r\\nواللي م...\n",
      "3  قلب العاشق دليله\\r\\nقلب العاشق دليله\\r\\n\\r\\nقل...\n",
      "4  مش قادر اصبرعغيابا\\r\\nكل ليله بجمع دموعي\\r\\nو ...\n"
     ]
    }
   ],
   "source": [
    "track_lyrics_df = data['Track Lyrics'].to_frame()\n",
    "print(track_lyrics_df.head())"
   ]
  },
  {
   "cell_type": "code",
   "execution_count": 70,
   "metadata": {
    "vscode": {
     "languageId": "ruby"
    }
   },
   "outputs": [
    {
     "data": {
      "text/html": [
       "<div>\n",
       "<style scoped>\n",
       "    .dataframe tbody tr th:only-of-type {\n",
       "        vertical-align: middle;\n",
       "    }\n",
       "\n",
       "    .dataframe tbody tr th {\n",
       "        vertical-align: top;\n",
       "    }\n",
       "\n",
       "    .dataframe thead th {\n",
       "        text-align: right;\n",
       "    }\n",
       "</style>\n",
       "<table border=\"1\" class=\"dataframe\">\n",
       "  <thead>\n",
       "    <tr style=\"text-align: right;\">\n",
       "      <th></th>\n",
       "      <th>Track Title</th>\n",
       "      <th>Track Lyrics</th>\n",
       "      <th>Release year</th>\n",
       "      <th>Composer</th>\n",
       "      <th>Lyricist</th>\n",
       "    </tr>\n",
       "  </thead>\n",
       "  <tbody>\n",
       "    <tr>\n",
       "      <th>0</th>\n",
       "      <td>Aah Habaieb - آه حبايب</td>\n",
       "      <td>اه حبايب بس فين الحب غايب\\r\\nوليه يا قلبي ما ...</td>\n",
       "      <td>1995</td>\n",
       "      <td>صلاح الشرنوبي</td>\n",
       "      <td>وليد رزيقه</td>\n",
       "    </tr>\n",
       "    <tr>\n",
       "      <th>1</th>\n",
       "      <td>Aalem Albi El Shok - علم قلبي الشوق</td>\n",
       "      <td>\\r\\nيا ليلي يا ليلي يا ليل\\r\\n\\r\\nعلم قلبي الش...</td>\n",
       "      <td>2008</td>\n",
       "      <td>صلاح الشرنوبي</td>\n",
       "      <td>احمد شتا</td>\n",
       "    </tr>\n",
       "    <tr>\n",
       "      <th>2</th>\n",
       "      <td>Addi Eli Kanou - أدي اللي كانوا</td>\n",
       "      <td>أدي اللي كانوا يا هوا أقرب ما لينا\\r\\nواللي م...</td>\n",
       "      <td>2008</td>\n",
       "      <td>امجد العاطفي</td>\n",
       "      <td>احمد سامي</td>\n",
       "    </tr>\n",
       "    <tr>\n",
       "      <th>3</th>\n",
       "      <td>Alb Al Asheq Daleiloh - قلب العاشق دليله</td>\n",
       "      <td>قلب العاشق دليله\\r\\nقلب العاشق دليله\\r\\n\\r\\nقل...</td>\n",
       "      <td>2002</td>\n",
       "      <td>امجد العاطفي</td>\n",
       "      <td>عوض بدوي</td>\n",
       "    </tr>\n",
       "    <tr>\n",
       "      <th>4</th>\n",
       "      <td>Al Forqah Saabah - الفرقة صعبة</td>\n",
       "      <td>مش قادر اصبرعغيابا\\r\\nكل ليله بجمع دموعي\\r\\nو ...</td>\n",
       "      <td>2009</td>\n",
       "      <td>جورج يزبك</td>\n",
       "      <td>توفيق بركات</td>\n",
       "    </tr>\n",
       "  </tbody>\n",
       "</table>\n",
       "</div>"
      ],
      "text/plain": [
       "                                Track Title  \\\n",
       "0                    Aah Habaieb - آه حبايب   \n",
       "1       Aalem Albi El Shok - علم قلبي الشوق   \n",
       "2           Addi Eli Kanou - أدي اللي كانوا   \n",
       "3  Alb Al Asheq Daleiloh - قلب العاشق دليله   \n",
       "4            Al Forqah Saabah - الفرقة صعبة   \n",
       "\n",
       "                                        Track Lyrics  Release year  \\\n",
       "0   اه حبايب بس فين الحب غايب\\r\\nوليه يا قلبي ما ...          1995   \n",
       "1  \\r\\nيا ليلي يا ليلي يا ليل\\r\\n\\r\\nعلم قلبي الش...          2008   \n",
       "2   أدي اللي كانوا يا هوا أقرب ما لينا\\r\\nواللي م...          2008   \n",
       "3  قلب العاشق دليله\\r\\nقلب العاشق دليله\\r\\n\\r\\nقل...          2002   \n",
       "4  مش قادر اصبرعغيابا\\r\\nكل ليله بجمع دموعي\\r\\nو ...          2009   \n",
       "\n",
       "        Composer     Lyricist  \n",
       "0  صلاح الشرنوبي   وليد رزيقه  \n",
       "1  صلاح الشرنوبي     احمد شتا  \n",
       "2   امجد العاطفي    احمد سامي  \n",
       "3   امجد العاطفي     عوض بدوي  \n",
       "4      جورج يزبك  توفيق بركات  "
      ]
     },
     "execution_count": 70,
     "metadata": {},
     "output_type": "execute_result"
    }
   ],
   "source": [
    "data['Track Lyrics'] = data['Track Lyrics'].apply(lambda x: re.sub(r'[^\\w\\s]', '', x))\n",
    "data.head()"
   ]
  },
  {
   "cell_type": "code",
   "execution_count": 71,
   "metadata": {
    "vscode": {
     "languageId": "ruby"
    }
   },
   "outputs": [
    {
     "data": {
      "text/html": [
       "<div>\n",
       "<style scoped>\n",
       "    .dataframe tbody tr th:only-of-type {\n",
       "        vertical-align: middle;\n",
       "    }\n",
       "\n",
       "    .dataframe tbody tr th {\n",
       "        vertical-align: top;\n",
       "    }\n",
       "\n",
       "    .dataframe thead th {\n",
       "        text-align: right;\n",
       "    }\n",
       "</style>\n",
       "<table border=\"1\" class=\"dataframe\">\n",
       "  <thead>\n",
       "    <tr style=\"text-align: right;\">\n",
       "      <th></th>\n",
       "      <th>Track Title</th>\n",
       "      <th>Track Lyrics</th>\n",
       "      <th>Release year</th>\n",
       "      <th>Composer</th>\n",
       "      <th>Lyricist</th>\n",
       "    </tr>\n",
       "  </thead>\n",
       "  <tbody>\n",
       "    <tr>\n",
       "      <th>0</th>\n",
       "      <td>آه حبايب</td>\n",
       "      <td>اه حبايب بس فين الحب غايب\\r\\nوليه يا قلبي ما ...</td>\n",
       "      <td>1995</td>\n",
       "      <td>صلاح الشرنوبي</td>\n",
       "      <td>وليد رزيقه</td>\n",
       "    </tr>\n",
       "    <tr>\n",
       "      <th>1</th>\n",
       "      <td>علم قلبي الشوق</td>\n",
       "      <td>\\r\\nيا ليلي يا ليلي يا ليل\\r\\n\\r\\nعلم قلبي الش...</td>\n",
       "      <td>2008</td>\n",
       "      <td>صلاح الشرنوبي</td>\n",
       "      <td>احمد شتا</td>\n",
       "    </tr>\n",
       "    <tr>\n",
       "      <th>2</th>\n",
       "      <td>أدي اللي كانوا</td>\n",
       "      <td>أدي اللي كانوا يا هوا أقرب ما لينا\\r\\nواللي م...</td>\n",
       "      <td>2008</td>\n",
       "      <td>امجد العاطفي</td>\n",
       "      <td>احمد سامي</td>\n",
       "    </tr>\n",
       "    <tr>\n",
       "      <th>3</th>\n",
       "      <td>قلب العاشق دليله</td>\n",
       "      <td>قلب العاشق دليله\\r\\nقلب العاشق دليله\\r\\n\\r\\nقل...</td>\n",
       "      <td>2002</td>\n",
       "      <td>امجد العاطفي</td>\n",
       "      <td>عوض بدوي</td>\n",
       "    </tr>\n",
       "    <tr>\n",
       "      <th>4</th>\n",
       "      <td>الفرقة صعبة</td>\n",
       "      <td>مش قادر اصبرعغيابا\\r\\nكل ليله بجمع دموعي\\r\\nو ...</td>\n",
       "      <td>2009</td>\n",
       "      <td>جورج يزبك</td>\n",
       "      <td>توفيق بركات</td>\n",
       "    </tr>\n",
       "  </tbody>\n",
       "</table>\n",
       "</div>"
      ],
      "text/plain": [
       "             Track Title                                       Track Lyrics  \\\n",
       "0               آه حبايب   اه حبايب بس فين الحب غايب\\r\\nوليه يا قلبي ما ...   \n",
       "1         علم قلبي الشوق  \\r\\nيا ليلي يا ليلي يا ليل\\r\\n\\r\\nعلم قلبي الش...   \n",
       "2         أدي اللي كانوا   أدي اللي كانوا يا هوا أقرب ما لينا\\r\\nواللي م...   \n",
       "3       قلب العاشق دليله  قلب العاشق دليله\\r\\nقلب العاشق دليله\\r\\n\\r\\nقل...   \n",
       "4            الفرقة صعبة  مش قادر اصبرعغيابا\\r\\nكل ليله بجمع دموعي\\r\\nو ...   \n",
       "\n",
       "   Release year       Composer     Lyricist  \n",
       "0          1995  صلاح الشرنوبي   وليد رزيقه  \n",
       "1          2008  صلاح الشرنوبي     احمد شتا  \n",
       "2          2008   امجد العاطفي    احمد سامي  \n",
       "3          2002   امجد العاطفي     عوض بدوي  \n",
       "4          2009      جورج يزبك  توفيق بركات  "
      ]
     },
     "execution_count": 71,
     "metadata": {},
     "output_type": "execute_result"
    }
   ],
   "source": [
    "data['Track Title'] = data['Track Title'].apply(lambda x: re.sub(r'[-A-Za-z]', '', x))\n",
    "data.head()"
   ]
  },
  {
   "cell_type": "code",
   "execution_count": 72,
   "metadata": {},
   "outputs": [
    {
     "data": {
      "text/html": [
       "<div>\n",
       "<style scoped>\n",
       "    .dataframe tbody tr th:only-of-type {\n",
       "        vertical-align: middle;\n",
       "    }\n",
       "\n",
       "    .dataframe tbody tr th {\n",
       "        vertical-align: top;\n",
       "    }\n",
       "\n",
       "    .dataframe thead th {\n",
       "        text-align: right;\n",
       "    }\n",
       "</style>\n",
       "<table border=\"1\" class=\"dataframe\">\n",
       "  <thead>\n",
       "    <tr style=\"text-align: right;\">\n",
       "      <th></th>\n",
       "      <th>Track Title</th>\n",
       "      <th>Track Lyrics</th>\n",
       "      <th>Release year</th>\n",
       "      <th>Composer</th>\n",
       "      <th>Lyricist</th>\n",
       "    </tr>\n",
       "  </thead>\n",
       "  <tbody>\n",
       "    <tr>\n",
       "      <th>0</th>\n",
       "      <td>آه حبايب</td>\n",
       "      <td>اه حبايب بس فين الحب غايب وليه يا قلبي ما لكش...</td>\n",
       "      <td>1995</td>\n",
       "      <td>صلاح الشرنوبي</td>\n",
       "      <td>وليد رزيقه</td>\n",
       "    </tr>\n",
       "    <tr>\n",
       "      <th>1</th>\n",
       "      <td>علم قلبي الشوق</td>\n",
       "      <td>يا ليلي يا ليلي يا ليل  علم قلبي الشوق الشوق ...</td>\n",
       "      <td>2008</td>\n",
       "      <td>صلاح الشرنوبي</td>\n",
       "      <td>احمد شتا</td>\n",
       "    </tr>\n",
       "    <tr>\n",
       "      <th>2</th>\n",
       "      <td>أدي اللي كانوا</td>\n",
       "      <td>أدي اللي كانوا يا هوا أقرب ما لينا واللي ما ه...</td>\n",
       "      <td>2008</td>\n",
       "      <td>امجد العاطفي</td>\n",
       "      <td>احمد سامي</td>\n",
       "    </tr>\n",
       "    <tr>\n",
       "      <th>3</th>\n",
       "      <td>قلب العاشق دليله</td>\n",
       "      <td>قلب العاشق دليله قلب العاشق دليله  قلب العاشق ...</td>\n",
       "      <td>2002</td>\n",
       "      <td>امجد العاطفي</td>\n",
       "      <td>عوض بدوي</td>\n",
       "    </tr>\n",
       "    <tr>\n",
       "      <th>4</th>\n",
       "      <td>الفرقة صعبة</td>\n",
       "      <td>مش قادر اصبرعغيابا كل ليله بجمع دموعي و بسهر م...</td>\n",
       "      <td>2009</td>\n",
       "      <td>جورج يزبك</td>\n",
       "      <td>توفيق بركات</td>\n",
       "    </tr>\n",
       "  </tbody>\n",
       "</table>\n",
       "</div>"
      ],
      "text/plain": [
       "             Track Title                                       Track Lyrics  \\\n",
       "0               آه حبايب   اه حبايب بس فين الحب غايب وليه يا قلبي ما لكش...   \n",
       "1         علم قلبي الشوق   يا ليلي يا ليلي يا ليل  علم قلبي الشوق الشوق ...   \n",
       "2         أدي اللي كانوا   أدي اللي كانوا يا هوا أقرب ما لينا واللي ما ه...   \n",
       "3       قلب العاشق دليله  قلب العاشق دليله قلب العاشق دليله  قلب العاشق ...   \n",
       "4            الفرقة صعبة  مش قادر اصبرعغيابا كل ليله بجمع دموعي و بسهر م...   \n",
       "\n",
       "   Release year       Composer     Lyricist  \n",
       "0          1995  صلاح الشرنوبي   وليد رزيقه  \n",
       "1          2008  صلاح الشرنوبي     احمد شتا  \n",
       "2          2008   امجد العاطفي    احمد سامي  \n",
       "3          2002   امجد العاطفي     عوض بدوي  \n",
       "4          2009      جورج يزبك  توفيق بركات  "
      ]
     },
     "execution_count": 72,
     "metadata": {},
     "output_type": "execute_result"
    }
   ],
   "source": [
    "def remove_punctuation(text):\n",
    "    return re.sub(r'[^\\w\\s]', '', text)\n",
    "\n",
    "def remove_newline_chars(text):\n",
    "    return text.replace('\\n', ' ').replace('\\r', '')\n",
    "\n",
    "def remove_diacritics(text):\n",
    "    arabic_diacritics = re.compile(\"\"\"\n",
    "                                ّ    | # Tashdid\n",
    "                               ~    | # Shada \n",
    "                                َ    | # Fatha\n",
    "                                ً    | # Tanwin Fath\n",
    "                                ُ    | # Damma\n",
    "                                ٌ    | # Tanwin Damm\n",
    "                                ِ    | # Kasra\n",
    "                                ٍ    | # Tanwin Kasr\n",
    "                                ْ    | # Sukun\n",
    "                                ـ     # Tatwil/Kashida\n",
    "                            \"\"\", re.VERBOSE)\n",
    "    return re.sub(arabic_diacritics, '', text)\n",
    "\n",
    "data['Track Lyrics'] = data['Track Lyrics'].apply(remove_punctuation)\n",
    "data['Track Lyrics'] = data['Track Lyrics'].apply(remove_newline_chars)\n",
    "data['Track Lyrics'] = data['Track Lyrics'].apply(remove_diacritics)\n",
    "data['Track Title'] = data['Track Title'].apply(remove_punctuation)\n",
    "data['Track Title'] = data['Track Title'].apply(remove_newline_chars)\n",
    "data['Track Title'] = data['Track Title'].apply(remove_diacritics)\n",
    "\n",
    "data.head()"
   ]
  },
  {
   "cell_type": "code",
   "execution_count": 73,
   "metadata": {},
   "outputs": [
    {
     "data": {
      "text/html": [
       "<div>\n",
       "<style scoped>\n",
       "    .dataframe tbody tr th:only-of-type {\n",
       "        vertical-align: middle;\n",
       "    }\n",
       "\n",
       "    .dataframe tbody tr th {\n",
       "        vertical-align: top;\n",
       "    }\n",
       "\n",
       "    .dataframe thead th {\n",
       "        text-align: right;\n",
       "    }\n",
       "</style>\n",
       "<table border=\"1\" class=\"dataframe\">\n",
       "  <thead>\n",
       "    <tr style=\"text-align: right;\">\n",
       "      <th></th>\n",
       "      <th>Track Title</th>\n",
       "      <th>Track Lyrics</th>\n",
       "      <th>Release year</th>\n",
       "      <th>Composer</th>\n",
       "      <th>Lyricist</th>\n",
       "    </tr>\n",
       "  </thead>\n",
       "  <tbody>\n",
       "    <tr>\n",
       "      <th>0</th>\n",
       "      <td>اه حبايب</td>\n",
       "      <td>اه حبايب بس فين الحب غايب وليه يا قلبى ما لكش...</td>\n",
       "      <td>1995</td>\n",
       "      <td>صلاح الشرنوبي</td>\n",
       "      <td>وليد رزيقه</td>\n",
       "    </tr>\n",
       "    <tr>\n",
       "      <th>1</th>\n",
       "      <td>علم قلبى الشوق</td>\n",
       "      <td>يا ليلى يا ليلى يا ليل  علم قلبى الشوق الشوق ...</td>\n",
       "      <td>2008</td>\n",
       "      <td>صلاح الشرنوبي</td>\n",
       "      <td>احمد شتا</td>\n",
       "    </tr>\n",
       "    <tr>\n",
       "      <th>2</th>\n",
       "      <td>ادى اللى كانوا</td>\n",
       "      <td>ادى اللى كانوا يا هوا اقرب ما لينا واللى ما ه...</td>\n",
       "      <td>2008</td>\n",
       "      <td>امجد العاطفي</td>\n",
       "      <td>احمد سامي</td>\n",
       "    </tr>\n",
       "    <tr>\n",
       "      <th>3</th>\n",
       "      <td>قلب العاشق دليله</td>\n",
       "      <td>قلب العاشق دليله قلب العاشق دليله  قلب العاشق ...</td>\n",
       "      <td>2002</td>\n",
       "      <td>امجد العاطفي</td>\n",
       "      <td>عوض بدوي</td>\n",
       "    </tr>\n",
       "    <tr>\n",
       "      <th>4</th>\n",
       "      <td>الفرقه صعبه</td>\n",
       "      <td>مش قادر اصبرعغيابا كل ليله بجمع دموعى و بسهر م...</td>\n",
       "      <td>2009</td>\n",
       "      <td>جورج يزبك</td>\n",
       "      <td>توفيق بركات</td>\n",
       "    </tr>\n",
       "  </tbody>\n",
       "</table>\n",
       "</div>"
      ],
      "text/plain": [
       "             Track Title                                       Track Lyrics  \\\n",
       "0               اه حبايب   اه حبايب بس فين الحب غايب وليه يا قلبى ما لكش...   \n",
       "1         علم قلبى الشوق   يا ليلى يا ليلى يا ليل  علم قلبى الشوق الشوق ...   \n",
       "2         ادى اللى كانوا   ادى اللى كانوا يا هوا اقرب ما لينا واللى ما ه...   \n",
       "3       قلب العاشق دليله  قلب العاشق دليله قلب العاشق دليله  قلب العاشق ...   \n",
       "4            الفرقه صعبه  مش قادر اصبرعغيابا كل ليله بجمع دموعى و بسهر م...   \n",
       "\n",
       "   Release year       Composer     Lyricist  \n",
       "0          1995  صلاح الشرنوبي   وليد رزيقه  \n",
       "1          2008  صلاح الشرنوبي     احمد شتا  \n",
       "2          2008   امجد العاطفي    احمد سامي  \n",
       "3          2002   امجد العاطفي     عوض بدوي  \n",
       "4          2009      جورج يزبك  توفيق بركات  "
      ]
     },
     "execution_count": 73,
     "metadata": {},
     "output_type": "execute_result"
    }
   ],
   "source": [
    "def standardizing_arabic_text(text):\n",
    "    text = re.sub(r'ي\\b', 'ى', text)\n",
    "    text = text.replace('أ', 'ا')\n",
    "    text = text.replace('آ', 'ا')\n",
    "    text = re.sub(r'\\bإ', 'ا', text)\n",
    "    text = re.sub(r'ة\\b', 'ه', text)\n",
    "    return text\n",
    "\n",
    "data['Track Lyrics'] = data['Track Lyrics'].apply(standardizing_arabic_text)\n",
    "data['Track Title'] = data['Track Title'].apply(standardizing_arabic_text)\n",
    "data.head()"
   ]
  },
  {
   "cell_type": "code",
   "execution_count": 74,
   "metadata": {},
   "outputs": [
    {
     "name": "stdout",
     "output_type": "stream",
     "text": [
      "Total number of words before removing stopwords: 31921\n"
     ]
    }
   ],
   "source": [
    "total_words_before = data['Track Lyrics'].apply(lambda x: len(x.split())).sum()\n",
    "print(f'Total number of words before removing stopwords: {total_words_before}')"
   ]
  },
  {
   "cell_type": "code",
   "execution_count": 75,
   "metadata": {},
   "outputs": [],
   "source": [
    "words_before = data['Track Lyrics'].apply(lambda x: x.split()).explode()"
   ]
  },
  {
   "cell_type": "code",
   "execution_count": 76,
   "metadata": {},
   "outputs": [
    {
     "name": "stderr",
     "output_type": "stream",
     "text": [
      "[nltk_data] Downloading package stopwords to\n",
      "[nltk_data]     C:\\Users\\ADMIN\\AppData\\Roaming\\nltk_data...\n",
      "[nltk_data]   Package stopwords is already up-to-date!\n"
     ]
    },
    {
     "data": {
      "text/plain": [
       "True"
      ]
     },
     "execution_count": 76,
     "metadata": {},
     "output_type": "execute_result"
    }
   ],
   "source": [
    "import nltk\n",
    "nltk.download('stopwords')"
   ]
  },
  {
   "cell_type": "code",
   "execution_count": 77,
   "metadata": {},
   "outputs": [
    {
     "data": {
      "text/html": [
       "<div>\n",
       "<style scoped>\n",
       "    .dataframe tbody tr th:only-of-type {\n",
       "        vertical-align: middle;\n",
       "    }\n",
       "\n",
       "    .dataframe tbody tr th {\n",
       "        vertical-align: top;\n",
       "    }\n",
       "\n",
       "    .dataframe thead th {\n",
       "        text-align: right;\n",
       "    }\n",
       "</style>\n",
       "<table border=\"1\" class=\"dataframe\">\n",
       "  <thead>\n",
       "    <tr style=\"text-align: right;\">\n",
       "      <th></th>\n",
       "      <th>Track Title</th>\n",
       "      <th>Track Lyrics</th>\n",
       "      <th>Release year</th>\n",
       "      <th>Composer</th>\n",
       "      <th>Lyricist</th>\n",
       "    </tr>\n",
       "  </thead>\n",
       "  <tbody>\n",
       "    <tr>\n",
       "      <th>0</th>\n",
       "      <td>اه حبايب</td>\n",
       "      <td>اه حبايب فين الحب غايب وليه قلبى لكش نايب شافو...</td>\n",
       "      <td>1995</td>\n",
       "      <td>صلاح الشرنوبي</td>\n",
       "      <td>وليد رزيقه</td>\n",
       "    </tr>\n",
       "    <tr>\n",
       "      <th>1</th>\n",
       "      <td>قلبى الشوق</td>\n",
       "      <td>ليلى ليلى ليل قلبى الشوق الشوق عينى السهر خدنى...</td>\n",
       "      <td>2008</td>\n",
       "      <td>صلاح الشرنوبي</td>\n",
       "      <td>احمد شتا</td>\n",
       "    </tr>\n",
       "    <tr>\n",
       "      <th>2</th>\n",
       "      <td>ادى اللى كانوا</td>\n",
       "      <td>ادى اللى كانوا هوا اقرب لينا واللى هانوا هوا ف...</td>\n",
       "      <td>2008</td>\n",
       "      <td>امجد العاطفي</td>\n",
       "      <td>احمد سامي</td>\n",
       "    </tr>\n",
       "    <tr>\n",
       "      <th>3</th>\n",
       "      <td>قلب العاشق دليله</td>\n",
       "      <td>قلب العاشق دليله قلب العاشق دليله قلب العاشق د...</td>\n",
       "      <td>2002</td>\n",
       "      <td>امجد العاطفي</td>\n",
       "      <td>عوض بدوي</td>\n",
       "    </tr>\n",
       "    <tr>\n",
       "      <th>4</th>\n",
       "      <td>الفرقه صعبه</td>\n",
       "      <td>مش قادر اصبرعغيابا ليله بجمع دموعى بسهر دمعات ...</td>\n",
       "      <td>2009</td>\n",
       "      <td>جورج يزبك</td>\n",
       "      <td>توفيق بركات</td>\n",
       "    </tr>\n",
       "  </tbody>\n",
       "</table>\n",
       "</div>"
      ],
      "text/plain": [
       "        Track Title                                       Track Lyrics  \\\n",
       "0          اه حبايب  اه حبايب فين الحب غايب وليه قلبى لكش نايب شافو...   \n",
       "1        قلبى الشوق  ليلى ليلى ليل قلبى الشوق الشوق عينى السهر خدنى...   \n",
       "2    ادى اللى كانوا  ادى اللى كانوا هوا اقرب لينا واللى هانوا هوا ف...   \n",
       "3  قلب العاشق دليله  قلب العاشق دليله قلب العاشق دليله قلب العاشق د...   \n",
       "4       الفرقه صعبه  مش قادر اصبرعغيابا ليله بجمع دموعى بسهر دمعات ...   \n",
       "\n",
       "   Release year       Composer     Lyricist  \n",
       "0          1995  صلاح الشرنوبي   وليد رزيقه  \n",
       "1          2008  صلاح الشرنوبي     احمد شتا  \n",
       "2          2008   امجد العاطفي    احمد سامي  \n",
       "3          2002   امجد العاطفي     عوض بدوي  \n",
       "4          2009      جورج يزبك  توفيق بركات  "
      ]
     },
     "execution_count": 77,
     "metadata": {},
     "output_type": "execute_result"
    }
   ],
   "source": [
    "stop_words = set(stopwords.words('arabic'))\n",
    "def remove_stopwords(text):\n",
    "    return ' '.join([word for word in text.split() if word not in stop_words])\n",
    "\n",
    "data['Track Lyrics'] = data['Track Lyrics'].apply(remove_stopwords)\n",
    "data['Track Title'] = data['Track Title'].apply(remove_stopwords)\n",
    "data.head()"
   ]
  },
  {
   "cell_type": "code",
   "execution_count": 78,
   "metadata": {},
   "outputs": [
    {
     "name": "stdout",
     "output_type": "stream",
     "text": [
      "Total number of words after removing stopwords: 26588\n"
     ]
    }
   ],
   "source": [
    "total_words_after = data['Track Lyrics'].apply(lambda x: len(x.split())).sum()\n",
    "print(f'Total number of words after removing stopwords: {total_words_after}')"
   ]
  },
  {
   "cell_type": "code",
   "execution_count": 79,
   "metadata": {},
   "outputs": [],
   "source": [
    "words_after = data['Track Lyrics'].apply(lambda x: x.split()).explode()"
   ]
  },
  {
   "cell_type": "code",
   "execution_count": 80,
   "metadata": {},
   "outputs": [
    {
     "name": "stdout",
     "output_type": "stream",
     "text": [
      "Total number of eliminated words: 5333\n",
      "Eliminated words: ['بس', 'يا', 'ما', 'بس', 'يا', 'يا', 'ما', 'ما', 'ما', 'بس', 'يا', 'يا', 'يا', 'كان', 'حبيب', 'بس', 'بس', 'يا', 'ما', 'بس', 'يا', 'يا', 'ما', 'ما', 'ما', 'بس', 'يا', 'يا', 'يا', 'كان', 'حبيب', 'بس', 'يا', 'يا', 'يا', 'علم', 'علم', 'ع', 'علم', 'علم', 'ع', 'ما', 'علم', 'علم', 'ع', 'يا', 'يا', 'يا', 'يا', 'ما', 'علم', 'علم', 'ع', 'يا', 'قد', 'فوق', 'ما', 'ما', 'قد', 'فوق', 'ما', 'ما', 'ما', 'علم', 'علم', 'ع', 'يا', 'يا', 'يا', 'علم', 'علم', 'ع', 'علم', 'علم', 'ع', 'ما', 'علم', 'علم', 'ع', 'يا', 'يا', 'يا', 'يا', 'ما', 'علم', 'علم', 'ع', 'يا', 'قد', 'فوق', 'ما', 'ما', 'قد', 'فوق', 'ما', 'ما', 'ما', 'علم', 'علم', 'ع', 'يا', 'ما', 'ما', 'يا', 'يا', 'ما', 'ما', 'يا', 'يا', 'يا', 'يا', 'ما', 'ما', 'يا', 'قبل', 'ما', 'على', 'كل', 'قبل', 'ما', 'على', 'كل', 'يا', 'ما', 'ما', 'ما', 'يا', 'يا', 'من', 'غير', 'كان', 'على', 'يا', 'من', 'غير', 'كان', 'على', 'يا', 'يا', 'ما', 'ما', 'ما', 'يا', 'يا', 'ما', 'ما', 'يا', 'يا', 'يا', 'ما', 'ما', 'يا', 'يا', 'ما', 'ما', 'يا', 'يا', 'يا', 'يا', 'ما', 'ما', 'يا', 'قبل', 'ما', 'على', 'كل', 'قبل', 'ما', 'على', 'كل', 'يا', 'ما', 'ما', 'ما', 'يا', 'يا', 'من', 'غير', 'كان', 'على', 'يا', 'من', 'غير', 'كان', 'على', 'يا', 'يا', 'ما', 'ما', 'ما', 'يا', 'يا', 'ما', 'ما', 'يا', 'يا', 'ولا', 'لو', 'عليه', 'ولا', 'لو', 'عليه', 'عليه', 'عليه', 'عليه', 'عليه', 'يا', 'ولا', 'يا', 'ولا', 'كل', 'يا', 'ع', 'عليه', 'عليه', 'عليه', 'عليه', 'كل', 'يا', 'يا', 'ع', 'عليه', 'عليه', 'عليه', 'عليه', 'ولا', 'لو', 'عليه', 'ولا', 'لو', 'عليه', 'ولا', 'لو', 'عليه', 'عليه', 'عليه', 'عليه', 'عليه', 'يا', 'ولا', 'يا', 'ولا', 'كل', 'يا', 'ع', 'عليه', 'عليه', 'عليه', 'عليه', 'كل', 'يا', 'يا', 'ع', 'عليه', 'عليه', 'عليه', 'عليه', 'ولا', 'لو', 'عليه', 'كل', 'و', 'مع', 'و', 'و', 'و', 'من', 'كل', 'و', 'مع', 'و', 'و', 'يا', 'بس', 'ولو', 'يا', 'بس', 'و', 'كل', 'و', 'مع', 'و', 'و', 'كل', 'و', 'مع', 'و', 'و', 'و', 'من', 'كل', 'و', 'مع', 'و', 'و', 'يا', 'بس', 'ولو', 'يا', 'بس', 'و', 'كل', 'و', 'مع', 'و', 'و', 'يا', 'ع', 'يا', 'هو', 'يا', 'له', 'يا', 'ع', 'يا', 'كان', 'من', 'ع', 'ع', 'يا', 'على', 'كل', 'عين', 'على', 'كل', 'عين', 'هو', 'يا', 'له', 'يا', 'ع', 'يا', 'لو', 'له', 'على', 'هو', 'يا', 'له', 'يا', 'ع', 'يا', 'يا', 'ع', 'يا', 'يا', 'ع', 'يا', 'ع', 'يا', 'هو', 'يا', 'له', 'يا', 'ع', 'يا', 'كان', 'من', 'ع', 'ع', 'يا', 'على', 'كل', 'عين', 'على', 'كل', 'عين', 'هو', 'يا', 'له', 'يا', 'ع', 'يا', 'لو', 'له', 'على', 'هو', 'يا', 'له', 'يا', 'ع', 'يا', 'يا', 'ع', 'يا', 'ما', 'ما', 'بين', 'بين', 'ما', 'بين', 'بين', 'عن', 'عن', 'عن', 'ما', 'ما', 'ما', 'ما', 'ما', 'بين', 'بين', 'ع', 'ع', 'ع', 'ولا', 'كان', 'ولا', 'كان', 'بين', 'بين', 'بين', 'بين', 'عن', 'عن', 'عن', 'ما', 'ما', 'ما', 'ما', 'ما', 'بين', 'بين', 'لكن', 'لكن', 'مهما', 'لكن', 'مهما', 'غير', 'بين', 'بين', 'بين', 'عن', 'عن', 'عن', 'ما', 'ما', 'ما', 'ما', 'ما', 'بين', 'بين', 'ما', 'ما', 'بين', 'بين', 'ما', 'بين', 'بين', 'عن', 'عن', 'عن', 'ما', 'ما', 'ما', 'ما', 'ما', 'بين', 'بين', 'ع', 'ع', 'ع', 'ولا', 'كان', 'ولا', 'كان', 'بين', 'بين', 'بين', 'بين', 'عن', 'عن', 'عن', 'ما', 'ما', 'ما', 'ما', 'ما', 'بين', 'بين', 'لكن', 'لكن', 'مهما', 'لكن', 'مهما', 'غير', 'بين', 'بين', 'بين', 'عن', 'عن', 'عن', 'ما', 'ما', 'ما', 'ما', 'ما', 'بين', 'بين', 'يا', 'لو', 'كان', 'يا', 'على', 'لو', 'ما', 'عين', 'يا', 'يا', 'يا', 'على', 'يا', 'حبيب', 'يا', 'يا', 'ما', 'يا', 'على', 'لو', 'يا', 'لو', 'كان', 'يا', 'على', 'لو', 'ما', 'عين', 'يا', 'يا', 'يا', 'على', 'يا', 'حبيب', 'يا', 'يا', 'ما', 'يا', 'على', 'يا', 'ما', 'يا', 'يا', 'من', 'لو', 'يا', 'من', 'لو', 'يا', 'حبيب', 'يا', 'يا', 'ولا', 'لو', 'ولا', 'لو', 'يا', 'يا', 'يا', 'ما', 'يا', 'يا', 'من', 'لو', 'يا', 'من', 'لو', 'يا', 'حبيب', 'يا', 'يا', 'ولا', 'لو', 'ولا', 'لو', 'يا', 'يا', 'يا', 'من', 'لو', 'يا', 'لكن', 'يا', 'بس', 'لما', 'من', 'بس', 'و', 'يا', 'يا', 'من', 'لو', 'يا', 'من', 'لو', 'يا', 'لكن', 'يا', 'بس', 'لما', 'من', 'بس', 'و', 'يا', 'يا', 'من', 'ولا', 'على', 'و', 'ولا', 'على', 'و', 'يا', 'يا', 'من', 'يا', 'يا', 'من', 'حتى', 'و', 'حتى', 'يا', 'ولا', 'على', 'و', 'عليك', 'يا', 'على', 'عليك', 'يا', 'على', 'يا', 'عليك', 'يا', 'و', 'عليك', 'يا', 'عليك', 'يا', 'على', 'و', 'عليك', 'يا', 'يا', 'عليك', 'يا', 'حتى', 'و', 'حتى', 'يا', 'ولا', 'على', 'و', 'كان', 'كان', 'يا', 'عليك', 'يا', 'يا', 'عليك', 'يا', 'كان', 'عليك', 'يا', 'يا', 'عليك', 'يا', 'حتى', 'و', 'حتى', 'يا', 'ولا', 'على', 'و', 'ولا', 'على', 'و', 'ولا', 'على', 'و', 'يا', 'يا', 'من', 'يا', 'يا', 'من', 'حتى', 'و', 'حتى', 'يا', 'ولا', 'على', 'و', 'عليك', 'يا', 'على', 'عليك', 'يا', 'على', 'يا', 'عليك', 'يا', 'و', 'عليك', 'يا', 'عليك', 'يا', 'على', 'و', 'عليك', 'يا', 'يا', 'عليك', 'يا', 'حتى', 'و', 'حتى', 'يا', 'ولا', 'على', 'و', 'كان', 'كان', 'يا', 'عليك', 'يا', 'يا', 'عليك', 'يا', 'كان', 'عليك', 'يا', 'يا', 'عليك', 'يا', 'حتى', 'و', 'حتى', 'يا', 'ولا', 'على', 'و', 'و', 'ما', 'و', 'و', 'ولا', 'كان', 'و', 'لا', 'ما', 'و', 'يا', 'لو', 'و', 'و', 'و', 'و', 'ولا', 'كان', 'و', 'لا', 'ما', 'ما', 'سوى', 'ما', 'و', 'و', 'ولا', 'كان', 'و', 'لا', 'ما', 'و', 'و', 'ما', 'و', 'و', 'ولا', 'كان', 'و', 'لا', 'ما', 'و', 'يا', 'لو', 'و', 'و', 'و', 'و', 'ولا', 'كان', 'و', 'لا', 'ما', 'ما', 'سوى', 'ما', 'و', 'و', 'ولا', 'كان', 'و', 'لا', 'ما', 'لما', 'يا', 'من', 'من', 'غير', 'ما', 'حتى', 'لما', 'لما', 'لما', 'يا', 'يا', 'من', 'لا', 'ولو', 'ولا', 'من', 'من', 'غير', 'ما', 'حتى', 'لما', 'لما', 'لما', 'يا', 'يا', 'حتى', 'ع', 'من', 'من', 'غير', 'ما', 'حتى', 'لما', 'لما', 'لما', 'يا', 'يا', 'لما', 'يا', 'من', 'من', 'غير', 'ما', 'حتى', 'لما', 'لما', 'لما', 'يا', 'يا', 'من', 'لا', 'ولو', 'ولا', 'من', 'من', 'غير', 'ما', 'حتى', 'لما', 'لما', 'لما', 'يا', 'يا', 'حتى', 'ع', 'من', 'من', 'غير', 'ما', 'حتى', 'لما', 'لما', 'لما', 'يا', 'يا', 'ما', 'غير', 'ما', 'مع', 'ما', 'غير', 'ما', 'مع', 'ما', 'كل', 'يا', 'ما', 'ما', 'ع', 'على', 'كان', 'ما', 'لو', 'ما', 'هو', 'يا', 'ما', 'يا', 'لو', 'ما', 'لا', 'لا', 'لا', 'لا', 'لا', 'لا', 'لا', 'لا', 'لا', 'لا', 'لا', 'لا', 'لا', 'لا', 'حتى', 'لا', 'لا', 'لا', 'لا', 'لا', 'لا', 'لا', 'ما', 'هو', 'يا', 'ما', 'يا', 'لو', 'ما', 'ما', 'هو', 'يا', 'ما', 'يا', 'لو', 'ما', 'ما', 'غير', 'ما', 'مع', 'ما', 'غير', 'ما', 'مع', 'ما', 'كل', 'يا', 'ما', 'ما', 'ع', 'على', 'كان', 'ما', 'لو', 'ما', 'هو', 'يا', 'ما', 'يا', 'لو', 'ما', 'لا', 'لا', 'لا', 'لا', 'لا', 'لا', 'لا', 'لا', 'لا', 'لا', 'لا', 'لا', 'لا', 'لا', 'حتى', 'لا', 'لا', 'لا', 'لا', 'لا', 'لا', 'لا', 'ما', 'هو', 'يا', 'ما', 'يا', 'لو', 'ما', 'ما', 'هو', 'يا', 'ما', 'يا', 'لو', 'ما', 'يا', 'يا', 'يا', 'يا', 'ع', 'لا', 'لا', 'لا', 'لا', 'ولا', 'ع', 'لا', 'لا', 'لا', 'لا', 'لا', 'لا', 'ولا', 'فيه', 'يا', 'يا', 'يا', 'ع', 'يا', 'ع', 'ولا', 'ولا', 'ع', 'لا', 'لا', 'لا', 'لا', 'ولا', 'ع', 'لا', 'لا', 'لا', 'لا', 'لا', 'لا', 'ولا', 'فيه', 'يا', 'يا', 'ع', 'من', 'من', 'ما', 'ع', 'من', 'من', 'ما', 'ولا', 'ولا', 'ع', 'لا', 'لا', 'لا', 'لا', 'ولا', 'يا', 'يا', 'يا', 'يا', 'لا', 'لا', 'لا', 'لا', 'لا', 'لا', 'ولا', 'يا', 'يا', 'فيه', 'يا', 'يا', 'يا', 'يا', 'ع', 'لا', 'لا', 'لا', 'لا', 'ولا', 'ع', 'لا', 'لا', 'لا', 'لا', 'لا', 'لا', 'ولا', 'فيه', 'يا', 'يا', 'يا', 'ع', 'يا', 'ع', 'ولا', 'ولا', 'ع', 'لا', 'لا', 'لا', 'لا', 'ولا', 'ع', 'لا', 'لا', 'لا', 'لا', 'لا', 'لا', 'ولا', 'فيه', 'يا', 'يا', 'ع', 'من', 'من', 'ما', 'ع', 'من', 'من', 'ما', 'ولا', 'ولا', 'ع', 'لا', 'لا', 'لا', 'لا', 'ولا', 'يا', 'يا', 'يا', 'يا', 'لا', 'لا', 'لا', 'لا', 'لا', 'لا', 'ولا', 'يا', 'يا', 'فيه', 'لما', 'يا', 'يا', 'يا', 'يا', 'يا', 'من', 'غير', 'من', 'غير', 'يا', 'يا', 'يا', 'يا', 'يا', 'من', 'غير', 'من', 'يا', 'يا', 'يا', 'يا', 'يا', 'من', 'غير', 'لما', 'يا', 'يا', 'يا', 'يا', 'يا', 'من', 'غير', 'من', 'غير', 'يا', 'يا', 'يا', 'يا', 'يا', 'من', 'غير', 'من', 'يا', 'يا', 'يا', 'يا', 'يا', 'من', 'غير', 'يا', 'يا', 'بس', 'ع', 'بس', 'ع', 'يا', 'يا', 'يا', 'فيها', 'لا', 'فيها', 'لا', 'مع', 'لكن', 'مع', 'لكن', 'بس', 'ع', 'بس', 'ع', 'يا', 'يا', 'يا', 'يا', 'يا', 'يا', 'بس', 'ع', 'بس', 'ع', 'يا', 'يا', 'يا', 'فيها', 'لا', 'فيها', 'لا', 'مع', 'لكن', 'مع', 'لكن', 'بس', 'ع', 'بس', 'ع', 'يا', 'يا', 'يا', 'يا', 'يا', 'يا', 'مهما', 'انقلب', 'يا', 'ع', 'قد', 'مع', 'ما', 'يا', 'ذهب', 'يا', 'مهما', 'انقلب', 'يا', 'ع', 'قد', 'مع', 'ما', 'يا', 'ع', 'ع', 'هن', 'هن', 'على', 'يا', 'ع', 'قد', 'مع', 'ما', 'يا', 'يا', 'مهما', 'انقلب', 'يا', 'ع', 'قد', 'مع', 'ما', 'يا', 'يا', 'منه', 'يا', 'يا', 'منه', 'يا', 'ما', 'غير', 'يا', 'ع', 'قد', 'مع', 'ما', 'يا', 'يا', 'مهما', 'انقلب', 'يا', 'ع', 'قد', 'مع', 'ما', 'يا', 'يا', 'يا', 'مهما', 'انقلب', 'يا', 'ع', 'قد', 'مع', 'ما', 'يا', 'ذهب', 'يا', 'مهما', 'انقلب', 'يا', 'ع', 'قد', 'مع', 'ما', 'يا', 'ع', 'ع', 'هن', 'هن', 'على', 'يا', 'ع', 'قد', 'مع', 'ما', 'يا', 'يا', 'مهما', 'انقلب', 'يا', 'ع', 'قد', 'مع', 'ما', 'يا', 'يا', 'منه', 'يا', 'يا', 'منه', 'يا', 'ما', 'غير', 'يا', 'ع', 'قد', 'مع', 'ما', 'يا', 'يا', 'مهما', 'انقلب', 'يا', 'ع', 'قد', 'مع', 'ما', 'يا', 'يا', 'يا', 'على', 'على', 'على', 'يا', 'يا', 'على', 'على', 'على', 'يا', 'حبيب', 'يا', 'من', 'يا', 'حبيب', 'يا', 'من', 'على', 'يا', 'يا', 'على', 'على', 'يا', 'يا', 'لو', 'لو', 'على', 'يا', 'يا', 'على', 'على', 'يا', 'يا', 'يا', 'يا', 'على', 'على', 'على', 'يا', 'يا', 'على', 'على', 'على', 'يا', 'حبيب', 'يا', 'من', 'يا', 'حبيب', 'يا', 'من', 'على', 'يا', 'يا', 'على', 'على', 'يا', 'يا', 'لو', 'لو', 'على', 'يا', 'يا', 'على', 'على', 'يا', 'يا', 'على', 'من', 'يا', 'يا', 'يا', 'ما', 'ولا', 'ولا', 'عن', 'م', 'يا', 'يا', 'ما', 'يا', 'من', 'وما', 'من', 'ما', 'م', 'يا', 'يا', 'ما', 'بين', 'على', 'من', 'يا', 'يا', 'يا', 'ما', 'ولا', 'ولا', 'عن', 'م', 'يا', 'يا', 'ما', 'يا', 'من', 'وما', 'من', 'ما', 'م', 'يا', 'يا', 'ما', 'ما', 'على', 'على', 'يا', 'يا', 'يا', 'يا', 'ما', 'لا', 'ولا', 'ما', 'ما', 'فيها', 'ما', 'فيها', 'يا', 'ولا', 'فيها', 'ما', 'فيها', 'فيها', 'يا', 'ولا', 'ما', 'لا', 'ولا', 'ما', 'ما', 'على', 'على', 'يا', 'يا', 'يا', 'يا', 'ما', 'لا', 'ولا', 'ما', 'ما', 'فيها', 'ما', 'فيها', 'يا', 'ولا', 'فيها', 'ما', 'فيها', 'فيها', 'يا', 'ولا', 'ما', 'لا', 'ولا', 'غير', 'على', 'ومن', 'كان', 'حبيب', 'لما', 'ومن', 'كان', 'يا', 'بس', 'ما', 'يا', 'ولا', 'ومن', 'كان', 'غير', 'على', 'ومن', 'كان', 'حبيب', 'لما', 'ومن', 'كان', 'يا', 'بس', 'ما', 'يا', 'ولا', 'ومن', 'كان', 'هو', 'ما', 'يا', 'وما', 'كل', 'مهما', 'لو', 'ما', 'يا', 'وما', 'يا', 'فيه', 'مهما', 'ما', 'يا', 'وما', 'هو', 'ما', 'يا', 'وما', 'كل', 'مهما', 'لو', 'ما', 'يا', 'وما', 'يا', 'فيه', 'مهما', 'ما', 'يا', 'وما', 'يا', 'يا', 'وما', 'وما', 'ولا', 'ولا', 'يا', 'من', 'من', 'ولا', 'ولا', 'يا', 'من', 'من', 'من', 'من', 'كل', 'كل', 'كل', 'راح', 'ولا', 'ولا', 'يا', 'يا', 'يا', 'وما', 'وما', 'ولا', 'ولا', 'يا', 'من', 'من', 'ولا', 'ولا', 'يا', 'من', 'من', 'من', 'من', 'كل', 'كل', 'كل', 'راح', 'ولا', 'ولا', 'يا', 'من', 'و', 'ما', 'غير', 'يا', 'صبر', 'على', 'من', 'من', 'من', 'يا', 'من', 'من', 'عليه', 'لما', 'كان', 'منه', 'عليه', 'يا', 'صبر', 'على', 'من', 'من', 'من', 'يا', 'من', 'من', 'يا', 'من', 'من', 'و', 'ما', 'غير', 'يا', 'صبر', 'على', 'من', 'من', 'من', 'يا', 'من', 'من', 'عليه', 'لما', 'كان', 'منه', 'عليه', 'يا', 'صبر', 'على', 'من', 'من', 'من', 'يا', 'من', 'من', 'ما', 'من', 'غير', 'ما', 'و', 'يا', 'عند', 'ما', 'و', 'و', 'و', 'و', 'و', 'على', 'و', 'و', 'لا', 'على', 'و', 'و', 'و', 'يا', 'يا', 'لا', 'و', 'سوى', 'و', 'و', 'و', 'ما', 'من', 'غير', 'ما', 'و', 'يا', 'عند', 'ما', 'و', 'و', 'و', 'و', 'و', 'على', 'و', 'و', 'لا', 'على', 'و', 'و', 'و', 'يا', 'يا', 'لا', 'و', 'سوى', 'و', 'و', 'و', 'ولا', 'لكن', 'لكن', 'لا', 'ولا', 'على', 'راح', 'ما', 'كان', 'من', 'غير', 'لكن', 'لكن', 'لا', 'ولا', 'عليه', 'حتى', 'لو', 'ما', 'عليه', 'ما', 'لكن', 'لكن', 'يا', 'ولا', 'لكن', 'لكن', 'لا', 'ولا', 'على', 'راح', 'ما', 'كان', 'من', 'غير', 'لكن', 'لكن', 'لا', 'ولا', 'عليه', 'حتى', 'لو', 'ما', 'عليه', 'ما', 'لكن', 'لكن', 'تحت', 'ما', 'ما', 'حتى', 'ما', 'مهما', 'ما', 'ما', 'تحت', 'ما', 'ما', 'حتى', 'ما', 'مهما', 'ما', 'ما', 'يا', 'ما', 'يا', 'يا', 'ما', 'يا', 'يا', 'ما', 'لو', 'ما', 'عليك', 'ما', 'عليك', 'ما', 'لو', 'ما', 'لو', 'يا', 'ما', 'يا', 'يا', 'ما', 'يا', 'يا', 'ما', 'لو', 'ما', 'عليك', 'ما', 'عليك', 'ما', 'لو', 'ما', 'لو', 'يا', 'يا', 'يا', 'يا', 'لا', 'على', 'لو', 'يا', 'يا', 'يا', 'يا', 'يا', 'يا', 'لا', 'على', 'لو', 'يا', 'يا', 'يا', 'يا', 'يا', 'يا', 'لا', 'على', 'لو', 'يا', 'يا', 'يا', 'يا', 'يا', 'يا', 'لا', 'على', 'لو', 'يا', 'يا', 'يمين', 'يا', 'ما', 'يا', 'يا', 'يمين', 'يا', 'ما', 'لا', 'ولا', 'يا', 'يا', 'يا', 'يا', 'يمين', 'يا', 'ما', 'يا', 'يا', 'يمين', 'يا', 'ما', 'لا', 'ولا', 'يا', 'يا', 'يا', 'يا', 'فوق', 'فوق', 'يا', 'فوق', 'فوق', 'يا', 'لا', 'ولا', 'يا', 'يا', 'يا', 'يا', 'بين', 'بين', 'ع', 'ع', 'ع', 'ع', 'بين', 'بين', 'ع', 'ع', 'لا', 'ولا', 'يا', 'يا', 'يا', 'يا', 'يمين', 'يا', 'ما', 'يا', 'يا', 'يمين', 'يا', 'ما', 'لا', 'ولا', 'يا', 'يا', 'يا', 'يا', 'يمين', 'يا', 'ما', 'يا', 'يا', 'يمين', 'يا', 'ما', 'لا', 'ولا', 'يا', 'يا', 'يا', 'يا', 'يمين', 'يا', 'ما', 'يا', 'يا', 'يمين', 'يا', 'ما', 'لا', 'ولا', 'يا', 'يا', 'يا', 'يا', 'فوق', 'فوق', 'يا', 'فوق', 'فوق', 'يا', 'لا', 'ولا', 'يا', 'يا', 'يا', 'يا', 'بين', 'بين', 'ع', 'ع', 'ع', 'ع', 'بين', 'بين', 'ع', 'ع', 'لا', 'ولا', 'يا', 'يا', 'يا', 'يا', 'يمين', 'يا', 'ما', 'يا', 'يا', 'يمين', 'يا', 'ما', 'لا', 'ولا', 'يا', 'يا', 'يا', 'يا', 'يا', 'منها', 'من', 'ما', 'على', 'لا', 'يا', 'يا', 'غير', 'يا', 'غير', 'ولا', 'يا', 'يا', 'يا', 'من', 'يا', 'ما', 'يا', 'يا', 'منها', 'من', 'ما', 'على', 'لا', 'يا', 'يا', 'غير', 'يا', 'غير', 'ولا', 'يا', 'يا', 'يا', 'من', 'يا', 'ما', 'يا', 'يا', 'يا', 'على', 'ما', 'قبل', 'ما', 'قبل', 'يا', 'هما', 'هما', 'يا', 'هما', 'هما', 'يا', 'يا', 'يا', 'كل', 'يا', 'يا', 'كل', 'ما', 'قبل', 'ما', 'قبل', 'يا', 'لو', 'لو', 'لو', 'ما', 'ما', 'يا', 'لو', 'ما', 'ما', 'يا', 'ما', 'قبل', 'ما', 'قبل', 'يا', 'يا', 'على', 'ما', 'قبل', 'ما', 'قبل', 'يا', 'هما', 'هما', 'يا', 'هما', 'هما', 'يا', 'يا', 'يا', 'كل', 'يا', 'يا', 'كل', 'ما', 'قبل', 'ما', 'قبل', 'يا', 'لو', 'لو', 'لو', 'ما', 'ما', 'يا', 'لو', 'ما', 'ما', 'يا', 'ما', 'قبل', 'ما', 'قبل', 'من', 'غير', 'ما', 'لو', 'من', 'غير', 'ما', 'يا', 'يا', 'كم', 'من', 'من', 'تحت', 'ما', 'ما', 'ما', 'ما', 'ما', 'من', 'كم', 'من', 'من', 'تحت', 'كل', 'ما', 'كل', 'ما', 'ما', 'من', 'ما', 'من', 'كم', 'من', 'من', 'تحت', 'لو', 'من', 'غير', 'ما', 'لو', 'من', 'غير', 'ما', 'يا', 'يا', 'كم', 'من', 'من', 'تحت', 'لو', 'من', 'غير', 'ما', 'لو', 'من', 'غير', 'ما', 'يا', 'يا', 'كم', 'من', 'من', 'تحت', 'ما', 'ما', 'ما', 'ما', 'ما', 'من', 'كم', 'من', 'من', 'تحت', 'كل', 'ما', 'كل', 'ما', 'ما', 'من', 'ما', 'من', 'كم', 'من', 'من', 'تحت', 'لو', 'من', 'غير', 'ما', 'لو', 'من', 'غير', 'ما', 'يا', 'يا', 'كم', 'من', 'من', 'تحت', 'من', 'من', 'من', 'ما', 'من', 'من', 'ما', 'لو', 'مهما', 'من', 'غير', 'لو', 'مهما', 'من', 'غير', 'من', 'من', 'من', 'ما', 'لو', 'غير', 'مهما', 'لو', 'غير', 'مهما', 'ما', 'من', 'من', 'ما', 'من', 'من', 'من', 'ما', 'من', 'من', 'ما', 'لو', 'مهما', 'من', 'غير', 'لو', 'مهما', 'من', 'غير', 'من', 'من', 'من', 'ما', 'لو', 'غير', 'مهما', 'لو', 'غير', 'مهما', 'ما', 'من', 'من', 'ما', 'يا', 'غير', 'يا', 'غير', 'كل', 'لما', 'على', 'كل', 'لما', 'على', 'يا', 'غير', 'لو', 'يا', 'ما', 'لو', 'يا', 'ما', 'كل', 'لما', 'على', 'كل', 'لما', 'على', 'يا', 'غير', 'ما', 'يا', 'ما', 'يا', 'كل', 'لما', 'على', 'كل', 'لما', 'على', 'يا', 'غير', 'يا', 'غير', 'يا', 'غير', 'كل', 'لما', 'على', 'كل', 'لما', 'على', 'يا', 'غير', 'لو', 'يا', 'ما', 'لو', 'يا', 'ما', 'كل', 'لما', 'على', 'كل', 'لما', 'على', 'يا', 'غير', 'ما', 'يا', 'ما', 'يا', 'كل', 'لما', 'على', 'كل', 'لما', 'على', 'يا', 'غير', 'لا', 'ولا', 'لا', 'ولا', 'يا', 'يا', 'ما', 'ولا', 'يا', 'يا', 'ما', 'ولا', 'لا', 'لا', 'لا', 'لا', 'لا', 'لا', 'ولا', 'مهما', 'مهما', 'يا', 'يا', 'يا', 'يا', 'ما', 'يا', 'يا', 'ما', 'ولا', 'لا', 'لا', 'لا', 'لا', 'لا', 'لا', 'ولا', 'ما', 'مهما', 'ما', 'مهما', 'يا', 'يا', 'يا', 'يا', 'ما', 'يا', 'يا', 'ما', 'ولا', 'لا', 'لا', 'لا', 'لا', 'لا', 'لا', 'ولا', 'لا', 'ولا', 'لا', 'ولا', 'يا', 'يا', 'ما', 'ولا', 'يا', 'يا', 'ما', 'ولا', 'لا', 'لا', 'لا', 'لا', 'لا', 'لا', 'ولا', 'مهما', 'مهما', 'يا', 'يا', 'يا', 'يا', 'ما', 'يا', 'يا', 'ما', 'ولا', 'لا', 'لا', 'لا', 'لا', 'لا', 'لا', 'ولا', 'ما', 'مهما', 'ما', 'مهما', 'يا', 'يا', 'يا', 'يا', 'ما', 'يا', 'يا', 'ما', 'ولا', 'لا', 'لا', 'لا', 'لا', 'لا', 'لا', 'ولا', 'وما', 'وما', 'لو', 'كل', 'ما', 'ولا', 'ما', 'ما', 'وما', 'وما', 'كان', 'ما', 'كان', 'ما', 'على', 'ولا', 'من', 'ولا', 'مع', 'مع', 'ما', 'وما', 'وما', 'وما', 'لو', 'كل', 'ما', 'ولا', 'ما', 'ما', 'وما', 'وما', 'كان', 'ما', 'كان', 'ما', 'على', 'ولا', 'من', 'ولا', 'مع', 'مع', 'ما', 'وما', 'كل', 'بعد', 'ما', 'كل', 'بعد', 'ما', 'وهو', 'وهو', 'ما', 'يا', 'يا', 'بات', 'كل', 'بعد', 'ما', 'من', 'يا', 'ما', 'من', 'يا', 'ما', 'وهو', 'وهو', 'ما', 'يا', 'يا', 'بات', 'كل', 'بعد', 'ما', 'ع', 'بس', 'ع', 'ع', 'بس', 'ع', 'ما', 'من', 'وهو', 'وهو', 'ما', 'يا', 'يا', 'بات', 'كل', 'بعد', 'ما', 'كل', 'بعد', 'ما', 'كل', 'بعد', 'ما', 'وهو', 'وهو', 'ما', 'يا', 'يا', 'بات', 'كل', 'بعد', 'ما', 'من', 'يا', 'ما', 'من', 'يا', 'ما', 'وهو', 'وهو', 'ما', 'يا', 'يا', 'بات', 'كل', 'بعد', 'ما', 'ع', 'بس', 'ع', 'ع', 'بس', 'ع', 'ما', 'من', 'وهو', 'وهو', 'ما', 'يا', 'يا', 'بات', 'كل', 'بعد', 'ما', 'على', 'بس', 'لما', 'قد', 'على', 'من', 'ما', 'لما', 'لما', 'بس', 'لما', 'قد', 'على', 'من', 'لو', 'بعد', 'بس', 'لما', 'قد', 'على', 'من', 'كل', 'على', 'بس', 'لما', 'قد', 'على', 'من', 'ما', 'لما', 'لما', 'بس', 'لما', 'قد', 'على', 'من', 'لو', 'بعد', 'بس', 'لما', 'قد', 'على', 'من', 'على', 'حسب', 'من', 'لا', 'ما', 'من', 'ما', 'ولا', 'من', 'على', 'حسب', 'من', 'لا', 'ما', 'من', 'ما', 'ولا', 'من', 'يا', 'على', 'ما', 'يا', 'عن', 'يا', 'ما', 'عن', 'ما', 'يا', 'يا', 'هو', 'يا', 'ما', 'يا', 'يا', 'على', 'ما', 'يا', 'عن', 'يا', 'ما', 'عن', 'ما', 'يا', 'يا', 'هو', 'يا', 'ما', 'يا', 'يا', 'يا', 'يا', 'يا', 'كان', 'لما', 'لما', 'عليك', 'عليك', 'من', 'غير', 'لما', 'من', 'غير', 'لما', 'من', 'من', 'من', 'عليه', 'عليك', 'يا', 'يا', 'من', 'من', 'من', 'عليك', 'عليك', 'يا', 'يا', 'يا', 'يا', 'كان', 'لما', 'لما', 'عليك', 'عليك', 'من', 'غير', 'لما', 'من', 'غير', 'لما', 'من', 'من', 'من', 'عليه', 'عليك', 'يا', 'يا', 'من', 'من', 'من', 'عليك', 'عليك', 'لا', 'لا', 'عليك', 'هنا', 'على', 'من', 'يا', 'عن', 'على', 'و', 'يا', 'من', 'يا', 'يا', 'على', 'حين', 'و', 'مهما', 'حتى', 'لو', 'لا', 'هنا', 'هنا', 'لا', 'لا', 'عليك', 'هنا', 'على', 'من', 'يا', 'عن', 'على', 'و', 'يا', 'من', 'يا', 'يا', 'على', 'حين', 'و', 'مهما', 'حتى', 'لو', 'لا', 'هنا', 'ما', 'يا', 'ما', 'يا', 'ما', 'ما', 'يا', 'هو', 'ما', 'لكن', 'كل', 'واحد', 'يا', 'بعد', 'يا', 'بعد', 'يا', 'يا', 'لو', 'كل', 'ما', 'يا', 'ما', 'يا', 'ما', 'ما', 'يا', 'هو', 'ما', 'لكن', 'كل', 'واحد', 'يا', 'بعد', 'يا', 'بعد', 'يا', 'يا', 'هو', 'مهما', 'ولا', 'كل', 'لكن', 'على', 'لو', 'لو', 'هو', 'مهما', 'ولا', 'كل', 'لكن', 'على', 'لو', 'لو', 'ما', 'من', 'غير', 'ولا', 'ولا', 'لما', 'عليك', 'مهما', 'كان', 'بين', 'ولا', 'لما', 'ولا', 'عليك', 'لو', 'عليه', 'من', 'ولا', 'ما', 'من', 'غير', 'ولا', 'ولا', 'لما', 'عليك', 'مهما', 'كان', 'بين', 'ولا', 'لما', 'ولا', 'عليك', 'لو', 'عليه', 'من', 'ولا', 'بعد', 'من', 'لو', 'من', 'غير', 'بين', 'من', 'بعد', 'من', 'لو', 'من', 'غير', 'بين', 'يا', 'يا', 'يا', 'على', 'يا', 'ولا', 'من', 'بعد', 'ما', 'ولا', 'من', 'يا', 'يا', 'على', 'ولا', 'على', 'من', 'بعد', 'ما', 'يا', 'يا', 'عليك', 'بس', 'ولا', 'من', 'بعد', 'ما', 'ولا', 'من', 'يا', 'يا', 'كان', 'من', 'ولا', 'يا', 'عليك', 'بس', 'ولا', 'من', 'بعد', 'ما', 'ولا', 'من', 'يا', 'يا', 'يا', 'يا', 'يا', 'يا', 'على', 'يا', 'ولا', 'من', 'بعد', 'ما', 'ولا', 'من', 'يا', 'يا', 'على', 'ولا', 'على', 'من', 'بعد', 'ما', 'يا', 'يا', 'عليك', 'بس', 'ولا', 'من', 'بعد', 'ما', 'ولا', 'من', 'يا', 'يا', 'كان', 'من', 'ولا', 'يا', 'عليك', 'بس', 'ولا', 'من', 'بعد', 'ما', 'ولا', 'من', 'يا', 'يا', 'يا', 'يا', 'من', 'يا', 'من', 'يا', 'يا', 'لكن', 'ما', 'لكن', 'ما', 'قد', 'ما', 'لكن', 'ما', 'لكن', 'ما', 'قد', 'ما', 'ما', 'ما', 'من', 'من', 'يا', 'يا', 'من', 'يا', 'من', 'يا', 'من', 'يا', 'من', 'من', 'يا', 'من', 'يا', 'يا', 'يا', 'من', 'يا', 'من', 'يا', 'يا', 'لكن', 'ما', 'لكن', 'ما', 'قد', 'ما', 'لكن', 'ما', 'لكن', 'ما', 'قد', 'ما', 'ما', 'ما', 'من', 'من', 'يا', 'يا', 'من', 'يا', 'من', 'يا', 'من', 'يا', 'من', 'من', 'يا', 'من', 'يا', 'ولا', 'ولا', 'ما', 'غير', 'يا', 'ما', 'من', 'يا', 'كل', 'من', 'من', 'من', 'من', 'غير', 'يا', 'غير', 'يا', 'ولا', 'ولا', 'ما', 'غير', 'يا', 'ما', 'من', 'يا', 'كل', 'من', 'من', 'من', 'من', 'غير', 'يا', 'لو', 'من', 'كل', 'يا', 'يا', 'يا', 'ما', 'ولا', 'ما', 'ما', 'ولا', 'ما', 'لو', 'من', 'كل', 'يا', 'يا', 'يا', 'يا', 'يا', 'لو', 'من', 'كل', 'يا', 'يا', 'يا', 'ما', 'ولا', 'ما', 'ما', 'ولا', 'ما', 'لو', 'من', 'كل', 'يا', 'يا', 'يا', 'يا', 'يا', 'ما', 'ما', 'على', 'عليه', 'وإن', 'له', 'ما', 'هو', 'ولا', 'بس', 'لا', 'يا', 'ما', 'لو', 'عليه', 'ما', 'هو', 'ولا', 'من', 'على', 'عليه', 'بس', 'بس', 'يا', 'ما', 'هو', 'ولا', 'ما', 'ما', 'ما', 'على', 'عليه', 'وإن', 'له', 'ما', 'هو', 'ولا', 'بس', 'لا', 'يا', 'ما', 'لو', 'عليه', 'ما', 'هو', 'ولا', 'من', 'على', 'عليه', 'بس', 'بس', 'يا', 'ما', 'هو', 'ولا', 'كل', 'لو', 'عليك', 'بين', 'يا', 'كان', 'بس', 'بين', 'يا', 'كل', 'لو', 'عليك', 'بين', 'يا', 'كان', 'بس', 'بين', 'يا', 'يا', 'لو', 'عليه', 'قبل', 'ما', 'عليك', 'ولا', 'لو', 'كان', 'ما', 'ما', 'على', 'ما', 'كان', 'من', 'ما', 'مادام', 'عليك', 'قبل', 'ما', 'عليك', 'ولا', 'لو', 'كان', 'ما', 'ما', 'على', 'يا', 'لو', 'عليه', 'يا', 'لو', 'عليه', 'قبل', 'ما', 'عليك', 'ولا', 'لو', 'كان', 'ما', 'ما', 'على', 'ما', 'كان', 'من', 'ما', 'مادام', 'عليك', 'قبل', 'ما', 'عليك', 'ولا', 'لو', 'كان', 'ما', 'ما', 'على', 'يا', 'لو', 'عليه', 'من', 'هنا', 'و', 'ما', 'ولو', 'كل', 'و', 'فيه', 'ولو', 'كل', 'و', 'ولو', 'كل', 'و', 'من', 'هنا', 'و', 'ما', 'ولو', 'كل', 'و', 'فيه', 'ولو', 'كل', 'و', 'ولو', 'كل', 'و', 'ما', 'ما', 'هو', 'مع', 'غير', 'ولا', 'مع', 'غير', 'هو', 'مع', 'غير', 'ولا', 'مع', 'غير', 'يا', 'منها', 'ما', 'فيها', 'ما', 'ولا', 'من', 'ع', 'هو', 'مع', 'غير', 'ولا', 'مع', 'غير', 'هو', 'مع', 'غير', 'ولا', 'يا', 'مع', 'غير', 'يا', 'منها', 'ما', 'ما', 'هو', 'مع', 'غير', 'ولا', 'مع', 'غير', 'هو', 'مع', 'غير', 'ولا', 'مع', 'غير', 'يا', 'منها', 'ما', 'فيها', 'ما', 'ولا', 'من', 'ع', 'هو', 'مع', 'غير', 'ولا', 'مع', 'غير', 'هو', 'مع', 'غير', 'ولا', 'يا', 'مع', 'غير', 'يا', 'منها', 'بس', 'ما', 'يا', 'عليك', 'وإن', 'ما', 'راح', 'بس', 'ما', 'يا', 'عليك', 'وإن', 'ما', 'راح', 'يا', 'ما', 'كان', 'من', 'لما', 'ما', 'مع', 'بعض', 'فيها', 'من', 'راح', 'ما', 'ع', 'لو', 'لو', 'ما', 'يا', 'ما', 'كان', 'من', 'لما', 'ما', 'مع', 'بعض', 'مع', 'بعض', 'يا', 'بس', 'ما', 'يا', 'عليك', 'وإن', 'ما', 'راح', 'بس', 'ما', 'يا', 'عليك', 'وإن', 'ما', 'راح', 'يا', 'ما', 'كان', 'من', 'لما', 'ما', 'مع', 'بعض', 'فيها', 'من', 'راح', 'ما', 'ع', 'لو', 'لو', 'ما', 'يا', 'ما', 'كان', 'من', 'لما', 'ما', 'مع', 'بعض', 'مع', 'بعض', 'يا', 'لما', 'ولا', 'يا', 'ولا', 'يا', 'يا', 'يا', 'يا', 'غير', 'من', 'ولا', 'يا', 'ولا', 'يا', 'يا', 'ولا', 'يا', 'ولا', 'يا', 'ولا', 'يا', 'على', 'لما', 'ولا', 'يا', 'ولا', 'يا', 'يا', 'يا', 'يا', 'غير', 'من', 'ولا', 'يا', 'ولا', 'يا', 'يا', 'ولا', 'يا', 'ولا', 'يا', 'ولا', 'يا', 'يا', 'عين', 'ولا', 'يا', 'عين', 'ولا', 'يا', 'يا', 'ع', 'يا', 'يا', 'بس', 'يا', 'بس', 'يا', 'يا', 'يا', 'يا', 'يا', 'يا', 'يا', 'يا', 'يا', 'على', 'يا', 'عين', 'ولا', 'يا', 'عين', 'ولا', 'يا', 'يا', 'ع', 'يا', 'يا', 'بس', 'يا', 'بس', 'يا', 'يا', 'يا', 'يا', 'يا', 'يا', 'يا', 'يا', 'يا', 'على', 'يا', 'لو', 'و', 'صبر', 'من', 'و', 'من', 'و', 'و', 'و', 'و', 'عليه', 'و', 'و', 'و', 'فيه', 'و', 'لا', 'من', 'و', 'صبر', 'من', 'و', 'من', 'و', 'و', 'و', 'و', 'من', 'غير', 'ما', 'و', 'و', 'و', 'و', 'لا', 'و', 'صبر', 'من', 'و', 'من', 'و', 'و', 'و', 'و', 'و', 'يا', 'لو', 'و', 'صبر', 'من', 'و', 'من', 'و', 'و', 'و', 'و', 'عليه', 'و', 'و', 'و', 'فيه', 'و', 'لا', 'من', 'و', 'صبر', 'من', 'و', 'من', 'و', 'و', 'و', 'و', 'من', 'غير', 'ما', 'و', 'و', 'و', 'و', 'لا', 'و', 'صبر', 'من', 'و', 'من', 'و', 'و', 'و', 'يا', 'عند', 'عند', 'لهم', 'ع', 'يا', 'عند', 'عند', 'لهم', 'ع', 'لكن', 'يا', 'يا', 'لكن', 'يا', 'يا', 'لكن', 'يا', 'يا', 'لكن', 'يا', 'يا', 'يا', 'ما', 'ومن', 'من', 'من', 'لكن', 'يا', 'يا', 'لكن', 'يا', 'يا', 'لكن', 'يا', 'يا', 'لكن', 'يا', 'يا', 'يا', 'لكن', 'يا', 'من', 'من', 'لكن', 'يا', 'يا', 'لكن', 'يا', 'يا', 'لكن', 'يا', 'يا', 'لكن', 'يا', 'يا', 'يا', 'يا', 'عند', 'عند', 'لهم', 'ع', 'لكن', 'يا', 'يا', 'لكن', 'يا', 'يا', 'لكن', 'يا', 'يا', 'لكن', 'يا', 'يا', 'يا', 'يا', 'عند', 'عند', 'لهم', 'ع', 'يا', 'عند', 'عند', 'لهم', 'ع', 'لكن', 'يا', 'يا', 'لكن', 'يا', 'يا', 'لكن', 'يا', 'يا', 'لكن', 'يا', 'يا', 'يا', 'ما', 'ومن', 'من', 'من', 'لكن', 'يا', 'يا', 'لكن', 'يا', 'يا', 'لكن', 'يا', 'يا', 'لكن', 'يا', 'يا', 'يا', 'لكن', 'يا', 'من', 'من', 'لكن', 'يا', 'يا', 'لكن', 'يا', 'يا', 'لكن', 'يا', 'يا', 'لكن', 'يا', 'يا', 'يا', 'يا', 'عند', 'عند', 'لهم', 'ع', 'لكن', 'يا', 'يا', 'لكن', 'يا', 'يا', 'لكن', 'يا', 'يا', 'لكن', 'يا', 'يا', 'يا', 'يا', 'يا', 'ما', 'كان', 'وهو', 'مع', 'على', 'ما', 'يا', 'يا', 'ما', 'كان', 'وهو', 'مع', 'على', 'ما', 'صباح', 'ع', 'صباح', 'ع', 'يا', 'يا', 'عين', 'صباح', 'ع', 'صباح', 'ع', 'يا', 'يا', 'عين', 'يا', 'عليه', 'ما', 'لو', 'وما', 'وما', 'ولو', 'صباح', 'ع', 'صباح', 'ع', 'يا', 'يا', 'عين', 'صباح', 'ع', 'صباح', 'ع', 'يا', 'يا', 'عين', 'يا', 'يا', 'يا', 'يا', 'يا', 'صباح', 'ع', 'صباح', 'ع', 'يا', 'يا', 'عين', 'يا', 'يا', 'ما', 'كان', 'وهو', 'مع', 'على', 'ما', 'يا', 'يا', 'ما', 'كان', 'وهو', 'مع', 'على', 'ما', 'صباح', 'ع', 'صباح', 'ع', 'يا', 'يا', 'عين', 'صباح', 'ع', 'صباح', 'ع', 'يا', 'يا', 'عين', 'يا', 'عليه', 'ما', 'لو', 'وما', 'وما', 'ولو', 'صباح', 'ع', 'صباح', 'ع', 'يا', 'يا', 'عين', 'صباح', 'ع', 'صباح', 'ع', 'يا', 'يا', 'عين', 'يا', 'يا', 'يا', 'يا', 'يا', 'صباح', 'ع', 'صباح', 'ع', 'يا', 'يا', 'عين', 'ع', 'فيه', 'ع', 'فيه', 'مهما', 'عليه', 'مهما', 'عليه', 'ع', 'فيه', 'ع', 'فيه', 'مهما', 'عليه', 'مهما', 'عليه', 'مهما', 'لو', 'مهما', 'ما', 'ع', 'فيه', 'ع', 'فيه', 'مهما', 'عليه', 'مهما', 'عليه', 'مهما', 'عليه', 'حبيب', 'لو', 'بس', 'لو', 'بس', 'لو', 'لو', 'لا', 'لا', 'لا', 'لا', 'ع', 'فيه', 'ع', 'فيه', 'مهما', 'عليه', 'مهما', 'عليه', 'عليه', 'من', 'من', 'لو', 'لو', 'ولا', 'من', 'لا', 'ولا', 'من', 'لا', 'لا', 'لا', 'ع', 'فيه', 'ع', 'فيه', 'مهما', 'عليه', 'مهما', 'عليه', 'مهما', 'لو', 'مهما', 'ما', 'ع', 'فيه', 'ع', 'فيه', 'مهما', 'عليه', 'مهما', 'عليه', 'ع', 'فيه', 'ع', 'فيه', 'مهما', 'عليه', 'مهما', 'عليه', 'مهما', 'لو', 'مهما', 'ما', 'ع', 'فيه', 'ع', 'فيه', 'مهما', 'عليه', 'مهما', 'عليه', 'مهما', 'عليه', 'حبيب', 'لو', 'بس', 'لو', 'بس', 'لو', 'لو', 'لا', 'لا', 'لا', 'لا', 'ع', 'فيه', 'ع', 'فيه', 'مهما', 'عليه', 'مهما', 'عليه', 'عليه', 'من', 'من', 'لو', 'لو', 'ولا', 'من', 'لا', 'ولا', 'من', 'لا', 'لا', 'لا', 'ع', 'فيه', 'ع', 'فيه', 'مهما', 'عليه', 'مهما', 'عليه', 'مهما', 'لو', 'مهما', 'ما', 'حتى', 'حتى', 'يا', 'حتى', 'حتى', 'حتى', 'حتى', 'يا', 'يا', 'لما', 'ما', 'لما', 'ما', 'حتى', 'حتى', 'لو', 'لو', 'حتى', 'حتى', 'حتى', 'حتى', 'يا', 'حتى', 'حتى', 'حتى', 'حتى', 'يا', 'يا', 'لما', 'ما', 'لما', 'ما', 'حتى', 'حتى', 'لو', 'لو', 'حتى', 'حتى', 'عن', 'ولا', 'على', 'على', 'على', 'على', 'على', 'على', 'يا', 'يا', 'يا', 'لا', 'ولا', 'ولا', 'ولا', 'لا', 'ولا', 'ولا', 'ولا', 'ولا', 'مع', 'ولا', 'من', 'ولا', 'مع', 'ولا', 'من', 'على', 'على', 'يا', 'يا', 'يا', 'لكن', 'لا', 'هم', 'ولا', 'ولا', 'لكن', 'لا', 'هم', 'ولا', 'ولا', 'لكن', 'لا', 'هم', 'ولا', 'ولا', 'لكن', 'لا', 'هم', 'ولا', 'ولا', 'من', 'من', 'على', 'على', 'يا', 'يا', 'يا', 'يا', 'على', 'ما', 'يا', 'على', 'ما', 'لو', 'على', 'يا', 'على', 'ما', 'يا', 'على', 'ما', 'لو', 'على', 'من', 'لا', 'ولا', 'على', 'على', 'يا', 'يا', 'يا', 'يا', 'يا', 'عن', 'ولا', 'على', 'على', 'على', 'على', 'على', 'على', 'يا', 'يا', 'يا', 'لا', 'ولا', 'ولا', 'ولا', 'لا', 'ولا', 'ولا', 'ولا', 'ولا', 'مع', 'ولا', 'من', 'ولا', 'مع', 'ولا', 'من', 'على', 'على', 'يا', 'يا', 'يا', 'لكن', 'لا', 'هم', 'ولا', 'ولا', 'لكن', 'لا', 'هم', 'ولا', 'ولا', 'لكن', 'لا', 'هم', 'ولا', 'ولا', 'لكن', 'لا', 'هم', 'ولا', 'ولا', 'من', 'من', 'على', 'على', 'يا', 'يا', 'يا', 'يا', 'على', 'ما', 'يا', 'على', 'ما', 'لو', 'على', 'يا', 'على', 'ما', 'يا', 'على', 'ما', 'لو', 'على', 'من', 'لا', 'ولا', 'على', 'على', 'يا', 'يا', 'يا', 'لو', 'يا', 'على', 'لا', 'ولا', 'لو', 'يا', 'كان', 'من', 'لا', 'ولا', 'لو', 'يا', 'ولا', 'لا', 'يا', 'لا', 'ولا', 'لو', 'يا', 'على', 'لا', 'ولا', 'يا', 'لا', 'ولا', 'لو', 'يا', 'على', 'لا', 'ولا', 'لو', 'يا', 'كان', 'من', 'لا', 'ولا', 'لو', 'يا', 'ولا', 'لا', 'يا', 'لا', 'ولا', 'لو', 'يا', 'على', 'لا', 'ولا', 'يا', 'يا', 'يا', 'يا', 'يا', 'يا', 'يا', 'يا', 'يا', 'يا', 'يا', 'يا', 'يا', 'ما', 'ما', 'ما', 'ما', 'يا', 'يا', 'يا', 'يا', 'يا', 'يا', 'يا', 'يا', 'يا', 'يا', 'يا', 'يا', 'يا', 'يا', 'يا', 'يا', 'يا', 'يا', 'يا', 'يا', 'يا', 'يا', 'يا', 'يا', 'يا', 'يا', 'يا', 'يا', 'يا', 'يا', 'يا', 'يا', 'يا', 'يا', 'يا', 'يا', 'يا', 'يا', 'يا', 'يا', 'يا', 'يا', 'يا', 'يا', 'يا', 'يا', 'يا', 'يا', 'يا', 'يا', 'يا', 'يا', 'يا', 'يا', 'يا', 'يا', 'يا', 'يا', 'يا', 'يا', 'يا', 'يا', 'يا', 'يا', 'يا', 'ما', 'ما', 'ما', 'ما', 'يا', 'يا', 'يا', 'يا', 'يا', 'يا', 'يا', 'يا', 'يا', 'يا', 'يا', 'يا', 'يا', 'يا', 'كل', 'ما', 'كل', 'ما', 'كل', 'ما', 'كل', 'ما', 'كل', 'ما', 'كل', 'ما', 'ولا', 'ولا', 'ولا', 'ولا', 'ما', 'ما', 'ما', 'ما', 'يا', 'يا', 'يا', 'يا', 'يا', 'يا', 'يا', 'يا', 'يا', 'يا', 'يا', 'يا', 'يا', 'يا', 'يا', 'يا', 'يا', 'يا', 'يا', 'يا', 'يا', 'يا', 'يا', 'يا', 'يا', 'يا', 'يا', 'يا', 'يا', 'ما', 'ما', 'ما', 'ما', 'يا', 'يا', 'يا', 'يا', 'يا', 'يا', 'يا', 'يا', 'يا', 'يا', 'يا', 'يا', 'يا', 'يا', 'يا', 'يا', 'يا', 'يا', 'يا', 'يا', 'يا', 'يا', 'يا', 'يا', 'يا', 'ما', 'ما', 'ما', 'ما', 'يا', 'يا', 'يا', 'يا', 'يا', 'يا', 'يا', 'يا', 'يا', 'يا', 'يا', 'يا', 'يا', 'يا', 'يا', 'يا', 'يا', 'يا', 'يا', 'يا', 'يا', 'يا', 'يا', 'يا', 'يا', 'يا', 'يا', 'يا', 'يا', 'يا', 'يا', 'يا', 'يا', 'يا', 'يا', 'يا', 'يا', 'يا', 'يا', 'يا', 'يا', 'يا', 'يا', 'يا', 'يا', 'يا', 'يا', 'يا', 'يا', 'يا', 'يا', 'يا', 'يا', 'يا', 'يا', 'يا', 'يا', 'يا', 'يا', 'يا', 'يا', 'يا', 'يا', 'يا', 'يا', 'ما', 'ما', 'ما', 'ما', 'يا', 'يا', 'يا', 'يا', 'يا', 'يا', 'يا', 'يا', 'يا', 'يا', 'يا', 'يا', 'يا', 'يا', 'كل', 'ما', 'كل', 'ما', 'كل', 'ما', 'كل', 'ما', 'كل', 'ما', 'كل', 'ما', 'ولا', 'ولا', 'ولا', 'ولا', 'ما', 'ما', 'ما', 'ما', 'يا', 'يا', 'يا', 'يا', 'يا', 'يا', 'يا', 'يا', 'يا', 'يا', 'يا', 'يا', 'يا', 'يا', 'يا', 'يا', 'يا', 'يا', 'يا', 'يا', 'يا', 'يا', 'يا', 'يا', 'يا', 'يا', 'يا', 'يا', 'يا', 'ما', 'ما', 'ما', 'ما', 'يا', 'يا', 'يا', 'يا', 'يا', 'يا', 'يا', 'يا', 'يا', 'يا', 'يا', 'يا', 'يا', 'ما', 'غير', 'يا', 'من', 'ما', 'غير', 'يا', 'من', 'يا', 'ما', 'يا', 'ما', 'راح', 'ما', 'بعد', 'ما', 'كان', 'ما', 'من', 'غير', 'يا', 'من', 'ما', 'غير', 'يا', 'من', 'يا', 'يا', 'يا', 'يا', 'ما', 'يا', 'ما', 'راح', 'ما', 'ما', 'غير', 'يا', 'من', 'ما', 'غير', 'يا', 'من', 'يا', 'ما', 'يا', 'ما', 'راح', 'ما', 'بعد', 'ما', 'كان', 'ما', 'من', 'غير', 'يا', 'من', 'ما', 'غير', 'يا', 'من', 'يا', 'يا', 'يا', 'يا', 'ما', 'يا', 'ما', 'راح', 'ما', 'ولا', 'من', 'لو', 'عليك', 'من', 'ولا', 'من', 'من', 'لو', 'عليك', 'من', 'على', 'كل', 'يا', 'على', 'كل', 'يا', 'كان', 'لما', 'ما', 'على', 'كل', 'يا', 'لما', 'ما', 'ولا', 'من', 'من', 'لو', 'عليك', 'من', 'من', 'على', 'كان', 'من', 'لو', 'على', 'كان', 'من', 'ولو', 'لو', 'لا', 'ولا', 'حتى', 'على', 'كل', 'يا', 'لما', 'ما', 'ولا', 'من', 'لو', 'عليك', 'من', 'ولا', 'من', 'من', 'لو', 'عليك', 'من', 'ولا', 'من', 'لو', 'عليك', 'من', 'ولا', 'من', 'من', 'لو', 'عليك', 'من', 'على', 'كل', 'يا', 'على', 'كل', 'يا', 'كان', 'لما', 'ما', 'على', 'كل', 'يا', 'لما', 'ما', 'ولا', 'من', 'من', 'لو', 'عليك', 'من', 'من', 'على', 'كان', 'من', 'لو', 'على', 'كان', 'من', 'ولو', 'لو', 'لا', 'ولا', 'حتى', 'على', 'كل', 'يا', 'لما', 'ما', 'ولا', 'من', 'لو', 'عليك', 'من', 'ولا', 'من', 'من', 'لو', 'عليك', 'من', 'سبت', 'عن', 'بس', 'من', 'لا', 'ولا', 'سبت', 'عن', 'بس', 'حتى', 'يا', 'حتى', 'يا', 'من', 'لا', 'ولا', 'سبت', 'عن', 'بس', 'مهما', 'يا', 'ما', 'ما', 'مهما', 'يا', 'ما', 'ما', 'من', 'لا', 'ولا', 'سبت', 'عن', 'بس', 'سبت', 'عن', 'بس', 'من', 'لا', 'ولا', 'سبت', 'عن', 'بس', 'حتى', 'يا', 'حتى', 'يا', 'من', 'لا', 'ولا', 'سبت', 'عن', 'بس', 'مهما', 'يا', 'ما', 'ما', 'مهما', 'يا', 'ما', 'ما', 'من', 'لا', 'ولا', 'سبت', 'عن', 'بس', 'من', 'من', 'ما', 'يا', 'يا', 'كان', 'يا', 'يا', 'كان', 'يا', 'يا', 'كان', 'من', 'من', 'ما', 'ومن', 'ومن', 'ومن', 'من', 'من', 'ما', 'من', 'من', 'ما', 'يا', 'يا', 'كان', 'يا', 'يا', 'كان', 'يا', 'يا', 'كان', 'من', 'من', 'ما', 'ومن', 'ومن', 'ومن', 'من', 'من', 'ما', 'عليه', 'لا', 'كل', 'ما', 'ما', 'عليه', 'لا', 'بس', 'ما', 'بعد', 'ما', 'ما', 'عليه', 'لا', 'عليه', 'عليه', 'لا', 'كل', 'ما', 'ما', 'عليه', 'لا', 'بس', 'ما', 'بعد', 'ما', 'ما', 'عليه', 'لا', 'ع', 'كان', 'حتى', 'ف', 'ولا', 'غير', 'كان', 'غير', 'ف', 'لما', 'قد', 'راح', 'لو', 'ف', 'ع', 'ع', 'كان', 'حتى', 'ف', 'ولا', 'غير', 'كان', 'غير', 'ف', 'لما', 'قد', 'راح', 'لو', 'ف', 'يا', 'يا', 'على', 'يا', 'يا', 'على', 'كل', 'ولا', 'كل', 'ولا', 'يا', 'يا', 'يا', 'على', 'يا', 'من', 'يا', 'من', 'على', 'من', 'ولا', 'كان', 'ولا', 'على', 'من', 'ولا', 'كان', 'ولا', 'كل', 'ولا', 'كل', 'يا', 'يا', 'يا', 'على', 'يا', 'ع', 'يا', 'ع', 'ما', 'على', 'يا', 'ولا', 'كان', 'ولا', 'ما', 'على', 'يا', 'ولا', 'كان', 'ولا', 'كل', 'ولا', 'كل', 'ولا', 'يا', 'يا', 'يا', 'على', 'يا', 'يا', 'على', 'كل', 'ولا', 'كل', 'ولا', 'يا', 'يا', 'يا', 'على', 'يا', 'من', 'يا', 'من', 'على', 'من', 'ولا', 'كان', 'ولا', 'على', 'من', 'ولا', 'كان', 'ولا', 'كل', 'ولا', 'كل', 'يا', 'يا', 'يا', 'على', 'يا', 'ع', 'يا', 'ع', 'ما', 'على', 'يا', 'ولا', 'كان', 'ولا', 'ما', 'على', 'يا', 'ولا', 'كان', 'ولا', 'كل', 'ولا', 'كل', 'ولا', 'يا', 'بس', 'بس', 'ما', 'ما', 'عليه', 'فيه', 'عليه', 'فيه', 'يا', 'يا', 'عليه', 'فيه', 'فيه', 'يا', 'يا', 'بس', 'ما', 'ما', 'يا', 'يا', 'منه', 'عليه', 'عليه', 'منه', 'عليه', 'يا', 'منه', 'عليه', 'عليه', 'منه', 'عليه', 'بس', 'ما', 'ما', 'من', 'بس', 'بس', 'ما', 'ما', 'عليه', 'فيه', 'عليه', 'فيه', 'يا', 'يا', 'عليه', 'فيه', 'فيه', 'يا', 'يا', 'بس', 'ما', 'ما', 'يا', 'يا', 'منه', 'عليه', 'عليه', 'منه', 'عليه', 'يا', 'منه', 'عليه', 'عليه', 'منه', 'عليه', 'بس', 'ما', 'ما', 'من', 'لا', 'ولا', 'لا', 'ولا', 'على', 'يا', 'على', 'على', 'هو', 'ع', 'فيها', 'فيها', 'كل', 'ولا', 'حتى', 'يا', 'ما', 'ما', 'يا', 'ما', 'ما', 'قام', 'لما', 'قام', 'لما', 'من', 'من', 'لا', 'لا', 'لا', 'ولا', 'فيها', 'فيها', 'كل', 'ولا', 'حتى', 'ع', 'يا', 'ع', 'يا', 'ما', 'ع', 'يا', 'ع', 'يا', 'ما', 'لكن', 'ما', 'لا', 'فيها', 'فيها', 'كل', 'ولا', 'حتى', 'لا', 'ولا', 'لا', 'ولا', 'على', 'يا', 'على', 'على', 'هو', 'ع', 'فيها', 'فيها', 'كل', 'ولا', 'حتى', 'يا', 'ما', 'ما', 'يا', 'ما', 'ما', 'قام', 'لما', 'قام', 'لما', 'من', 'من', 'لا', 'لا', 'لا', 'ولا', 'فيها', 'فيها', 'كل', 'ولا', 'حتى', 'ع', 'يا', 'ع', 'يا', 'ما', 'ع', 'يا', 'ع', 'يا', 'ما', 'لكن', 'ما', 'لا', 'فيها', 'فيها', 'كل', 'ولا', 'حتى', 'ولا', 'ولا', 'بعد', 'ما', 'بعد', 'ما', 'ولا', 'ولا', 'ولا', 'بعد', 'ما', 'بعد', 'ما', 'ولا']\n"
     ]
    }
   ],
   "source": [
    "eliminated_words = words_before[~words_before.isin(words_after)]\n",
    "print(f'Total number of eliminated words: {len(eliminated_words)}')\n",
    "print(f'Eliminated words: {eliminated_words.tolist()}')"
   ]
  },
  {
   "cell_type": "code",
   "execution_count": 81,
   "metadata": {},
   "outputs": [
    {
     "name": "stdout",
     "output_type": "stream",
     "text": [
      "        Track Title                                       Track Lyrics  \\\n",
      "0          اه حبايب  اه حبايب فين الحب غايب وليه قلبى لكش نايب شافو...   \n",
      "1        قلبى الشوق  ليلى ليلى ليل قلبى الشوق الشوق عينى السهر خدنى...   \n",
      "2    ادى اللى كانوا  ادى اللى كانوا هوا اقرب لينا واللى هانوا هوا ف...   \n",
      "3  قلب العاشق دليله  قلب العاشق دليله قلب العاشق دليله قلب العاشق د...   \n",
      "4       الفرقه صعبه  مش قادر اصبرعغيابا ليله بجمع دموعى بسهر دمعات ...   \n",
      "\n",
      "                     Tokenized & Preprocessed Lyrics  \n",
      "0  اه\\nحبايب\\nفين\\nالحب\\nغايب\\nوليه\\nقلبى\\nلكش\\nن...  \n",
      "1  ليلى\\nليلى\\nليل\\nقلبى\\nالشوق\\nالشوق\\nعينى\\nالس...  \n",
      "2  ادى\\nاللى\\nكانوا\\nهوا\\nاقرب\\nلينا\\nواللى\\nهانو...  \n",
      "3  قلب\\nالعاشق\\nدليله\\nقلب\\nالعاشق\\nدليله\\nقلب\\nا...  \n",
      "4  مش\\nقادر\\nاصبرعغيابا\\nليله\\nبجمع\\nدموعى\\nبسهر\\...  \n"
     ]
    }
   ],
   "source": [
    "# Tokenize and join with newline characters\n",
    "data['Tokenized & Preprocessed Lyrics'] = data['Track Lyrics'].apply(lambda x: x.split())\n",
    "data['Tokenized & Preprocessed Lyrics'] = data['Tokenized & Preprocessed Lyrics'].apply(lambda x: '\\n'.join(x))\n",
    "\n",
    "# Display the result\n",
    "print(data[['Track Title', 'Track Lyrics', 'Tokenized & Preprocessed Lyrics']].head())\n",
    "\n",
    "# Save with UTF-8-SIG encoding\n",
    "data.to_csv('george_wassouf_lyrics_tokenized.csv', index=False, encoding='utf-8-sig')"
   ]
  },
  {
   "cell_type": "code",
   "execution_count": 82,
   "metadata": {},
   "outputs": [
    {
     "name": "stdout",
     "output_type": "stream",
     "text": [
      "Total number of songs in the dataset: 78\n",
      "Total number of composers: 17\n",
      "Total number of lyricists: 34\n"
     ]
    }
   ],
   "source": [
    "print(\"Total number of songs in the dataset:\", no_of_songs)\n",
    "print(\"Total number of composers:\", data['Composer'].nunique())\n",
    "print(\"Total number of lyricists:\", data['Lyricist'].nunique())"
   ]
  },
  {
   "cell_type": "markdown",
   "metadata": {},
   "source": [
    "Initial invistigation for keywords"
   ]
  },
  {
   "cell_type": "code",
   "execution_count": 83,
   "metadata": {},
   "outputs": [
    {
     "name": "stdout",
     "output_type": "stream",
     "text": [
      "21    الزمن دوار\n",
      "44          عاشق\n",
      "71     طبيب جراح\n",
      "Name: Track Title, dtype: object\n"
     ]
    }
   ],
   "source": [
    "\n",
    "# Define the keyword\n",
    "keyword = \"طبيب\"\n",
    "filtered_songs = data[data['Tokenized & Preprocessed Lyrics'].str.contains(keyword, na=False, regex=True)]\n",
    "\n",
    "# Display the result\n",
    "print(filtered_songs['Track Title'])\n"
   ]
  },
  {
   "cell_type": "code",
   "execution_count": 84,
   "metadata": {},
   "outputs": [
    {
     "name": "stdout",
     "output_type": "stream",
     "text": [
      "         Track Title  Keyword Occurrences\n",
      "0           اه حبايب                   24\n",
      "1         قلبى الشوق                    8\n",
      "2     ادى اللى كانوا                   12\n",
      "3   قلب العاشق دليله                   10\n",
      "4        الفرقه صعبه                   12\n",
      "..               ...                  ...\n",
      "73        ياه عالزمن                    8\n",
      "74        نجوم الليل                   16\n",
      "75        يوم الوادع                   24\n",
      "76       زمن العجايب                   18\n",
      "77            ذكريات                   12\n",
      "\n",
      "[66 rows x 2 columns]\n"
     ]
    }
   ],
   "source": [
    "# Define the keyword\n",
    "keyword = \"حب\"\n",
    "\n",
    "# Filter songs containing the keyword\n",
    "filtered_songs = data[data['Tokenized & Preprocessed Lyrics'].str.contains(keyword, na=False, regex=True)].copy()\n",
    "\n",
    "# Add a column to count occurrences of the keyword in each song\n",
    "filtered_songs.loc[:, 'Keyword Occurrences'] = filtered_songs['Tokenized & Preprocessed Lyrics'].str.count(keyword)\n",
    "\n",
    "# Display the result\n",
    "print(filtered_songs[['Track Title', 'Keyword Occurrences']])"
   ]
  },
  {
   "cell_type": "markdown",
   "metadata": {},
   "source": [
    "# Studying word frequency\n"
   ]
  },
  {
   "cell_type": "code",
   "execution_count": 85,
   "metadata": {},
   "outputs": [],
   "source": [
    "\n",
    "# Group by 'Song' and calculate the number of words\n",
    "data['num_words'] = data.groupby('Track Title')['Track Lyrics'].transform(lambda x: x.str.split().str.len().sum())\n",
    "\n",
    "# Select relevant columns, drop duplicates, and sort by 'num_words' in descending order\n",
    "full_word_count = (\n",
    "    data[['Track Title', 'num_words', 'Release year', 'Composer', 'Lyricist']]\n",
    "    .drop_duplicates()\n",
    "    .sort_values(by='num_words', ascending=False)\n",
    ")"
   ]
  },
  {
   "cell_type": "code",
   "execution_count": 86,
   "metadata": {},
   "outputs": [
    {
     "name": "stdout",
     "output_type": "stream",
     "text": [
      "Requirement already satisfied: tabulate in c:\\users\\admin\\appdata\\local\\programs\\python\\python312\\lib\\site-packages (0.9.0)\n",
      "Note: you may need to restart the kernel to use updated packages.\n"
     ]
    },
    {
     "name": "stderr",
     "output_type": "stream",
     "text": [
      "C:\\Users\\ADMIN\\AppData\\Local\\Temp\\ipykernel_3000\\3969226881.py:24: DeprecationWarning:\n",
      "\n",
      "Importing display from IPython.core.display is deprecated since IPython 7.14, please import from IPython.display\n",
      "\n"
     ]
    },
    {
     "data": {
      "text/html": [
       "<table>\n",
       "<thead>\n",
       "<tr><th>Track Title    </th><th>num_words                                        </th><th style=\"text-align: right;\">  Release year</th><th>Composer     </th><th>Lyricist       </th><th>Song                                                         </th></tr>\n",
       "</thead>\n",
       "<tbody>\n",
       "<tr><td>سهرت الليل     </td><td>&lt;div style=&#x27;background-color:lightblue&#x27;&gt;992&lt;/div&gt;</td><td style=\"text-align: right;\">          2004</td><td>رياض البندك  </td><td>رياض البندك    </td><td>&lt;div style=&#x27;background-color:lightpink&#x27;&gt;سهرت الليل&lt;/div&gt;     </td></tr>\n",
       "<tr><td>صياد الطيور    </td><td>&lt;div style=&#x27;background-color:lightblue&#x27;&gt;755&lt;/div&gt;</td><td style=\"text-align: right;\">          1993</td><td>شاكر الموجي  </td><td>احمد فواد نجم  </td><td>&lt;div style=&#x27;background-color:lightpink&#x27;&gt;صياد الطيور&lt;/div&gt;    </td></tr>\n",
       "<tr><td>كده كفايه      </td><td>&lt;div style=&#x27;background-color:lightblue&#x27;&gt;696&lt;/div&gt;</td><td style=\"text-align: right;\">          2000</td><td>امجد العاطفي </td><td>بهاء الدين محمد</td><td>&lt;div style=&#x27;background-color:lightpink&#x27;&gt;كده كفايه&lt;/div&gt;      </td></tr>\n",
       "<tr><td>سلف ودين       </td><td>&lt;div style=&#x27;background-color:lightblue&#x27;&gt;672&lt;/div&gt;</td><td style=\"text-align: right;\">          2003</td><td>امجد العاطفي </td><td>عبير الرزاز    </td><td>&lt;div style=&#x27;background-color:lightpink&#x27;&gt;سلف ودين&lt;/div&gt;       </td></tr>\n",
       "<tr><td>لسه الدنيا بخير</td><td>&lt;div style=&#x27;background-color:lightblue&#x27;&gt;640&lt;/div&gt;</td><td style=\"text-align: right;\">          1996</td><td>صلاح الشرنوبي</td><td>احمد شتا       </td><td>&lt;div style=&#x27;background-color:lightpink&#x27;&gt;لسه الدنيا بخير&lt;/div&gt;</td></tr>\n",
       "<tr><td>يوم الوادع     </td><td>&lt;div style=&#x27;background-color:lightblue&#x27;&gt;612&lt;/div&gt;</td><td style=\"text-align: right;\">          2001</td><td>امجد العاطفي </td><td>عوض بدوي       </td><td>&lt;div style=&#x27;background-color:lightpink&#x27;&gt;يوم الوادع&lt;/div&gt;     </td></tr>\n",
       "<tr><td>انا اسف        </td><td>&lt;div style=&#x27;background-color:lightblue&#x27;&gt;600&lt;/div&gt;</td><td style=\"text-align: right;\">          1999</td><td>امجد العاطفي </td><td>عوض بدوي       </td><td>&lt;div style=&#x27;background-color:lightpink&#x27;&gt;انا اسف&lt;/div&gt;        </td></tr>\n",
       "<tr><td>بنفكر بالناس   </td><td>&lt;div style=&#x27;background-color:lightblue&#x27;&gt;582&lt;/div&gt;</td><td style=\"text-align: right;\">          2003</td><td>امجد العاطفي </td><td>فوزي ابراهيم   </td><td>&lt;div style=&#x27;background-color:lightpink&#x27;&gt;بنفكر بالناس&lt;/div&gt;   </td></tr>\n",
       "<tr><td>اسكت           </td><td>&lt;div style=&#x27;background-color:lightblue&#x27;&gt;575&lt;/div&gt;</td><td style=\"text-align: right;\">          2003</td><td>شاكر الموجي  </td><td>نبيل افيوني    </td><td>&lt;div style=&#x27;background-color:lightpink&#x27;&gt;اسكت&lt;/div&gt;           </td></tr>\n",
       "<tr><td>طبيب جراح      </td><td>&lt;div style=&#x27;background-color:lightblue&#x27;&gt;574&lt;/div&gt;</td><td style=\"text-align: right;\">          1999</td><td>شاكر الموجي  </td><td>صفوح شغاله     </td><td>&lt;div style=&#x27;background-color:lightpink&#x27;&gt;طبيب جراح&lt;/div&gt;      </td></tr>\n",
       "</tbody>\n",
       "</table>"
      ],
      "text/plain": [
       "<IPython.core.display.HTML object>"
      ]
     },
     "metadata": {},
     "output_type": "display_data"
    }
   ],
   "source": [
    "# Select the topmost songs with the highest word count\n",
    "topmost = 10\n",
    "test_sample = (\n",
    "    full_word_count.head(topmost)\n",
    "    .assign(\n",
    "        num_words=lambda df: df['num_words'].apply(lambda x: f\"<div style='background-color:lightblue'>{x}</div>\"),\n",
    "        Song=lambda df: df['Track Title'].apply(lambda x: f\"<div style='background-color:lightpink'>{x}</div>\")\n",
    "    )\n",
    ")\n",
    "\n",
    "# Install the tabulate package if not already installed\n",
    "%pip install tabulate\n",
    "\n",
    "# Convert the DataFrame to an HTML table\n",
    "from tabulate import tabulate\n",
    "html_table = tabulate(\n",
    "    test_sample,\n",
    "    headers=\"keys\",\n",
    "    tablefmt=\"html\",\n",
    "    showindex=False\n",
    ")\n",
    "\n",
    "# Display the HTML table\n",
    "from IPython.core.display import display, HTML\n",
    "display(HTML(html_table))"
   ]
  },
  {
   "cell_type": "markdown",
   "metadata": {},
   "source": [
    "Studying word count distribution"
   ]
  },
  {
   "cell_type": "code",
   "execution_count": 87,
   "metadata": {},
   "outputs": [
    {
     "name": "stdout",
     "output_type": "stream",
     "text": [
      "      Track Title  num_words\n",
      "0    7 صاحى الليل        392\n",
      "1     اتاخرت كتير        332\n",
      "2  ادى اللى كانوا        414\n",
      "3    ارضى بالنصيب        160\n",
      "4            اسكت        575\n"
     ]
    }
   ],
   "source": [
    "# Calculate lyrics length distribution\n",
    "lyrics_len_dist = (\n",
    "    data[['Track Title', 'Tokenized & Preprocessed Lyrics']]\n",
    "    .assign(Word=lambda df: df['Tokenized & Preprocessed Lyrics'].str.split())\n",
    "    .explode('Word')\n",
    "    .groupby('Track Title')\n",
    "    .size()\n",
    "    .reset_index(name='num_words')\n",
    "    .drop_duplicates()\n",
    ")\n",
    "\n",
    "# Display the result\n",
    "print(lyrics_len_dist.head())"
   ]
  },
  {
   "cell_type": "code",
   "execution_count": 88,
   "metadata": {},
   "outputs": [
    {
     "name": "stdout",
     "output_type": "stream",
     "text": [
      "Mean: 340.87179487179486, Median: 294.0, Mode: 231.73373373373374\n"
     ]
    }
   ],
   "source": [
    "import numpy as np\n",
    "from scipy.stats import gaussian_kde\n",
    "\n",
    "# Function to estimate the mode\n",
    "def estimate_mode(x):\n",
    "    density = gaussian_kde(x)\n",
    "    xs = np.linspace(min(x), max(x), 1000)\n",
    "    mode = xs[np.argmax(density(xs))]\n",
    "    return mode\n",
    "\n",
    "# Calculate mean, median, and mode\n",
    "mean_count = lyrics_len_dist['num_words'].mean()\n",
    "median_count = lyrics_len_dist['num_words'].median()\n",
    "mode_count = estimate_mode(lyrics_len_dist['num_words'])\n",
    "\n",
    "# Display the results\n",
    "print(f\"Mean: {mean_count}, Median: {median_count}, Mode: {mode_count}\")"
   ]
  },
  {
   "cell_type": "markdown",
   "metadata": {},
   "source": [
    "Estimation using right skewed normal dist"
   ]
  },
  {
   "cell_type": "code",
   "execution_count": 89,
   "metadata": {},
   "outputs": [
    {
     "name": "stdout",
     "output_type": "stream",
     "text": [
      "Fitted parameters: (204208556.7265914, 122.99999310416382, 276.72732580892557)\n"
     ]
    }
   ],
   "source": [
    "from scipy.stats import skewnorm\n",
    "\n",
    "# Fit a skewed normal distribution to the data\n",
    "param_dist = skewnorm.fit(lyrics_len_dist['num_words'])\n",
    "\n",
    "# Display the fitted parameters\n",
    "print(f\"Fitted parameters: {param_dist}\")"
   ]
  },
  {
   "cell_type": "code",
   "execution_count": 90,
   "metadata": {},
   "outputs": [
    {
     "name": "stdout",
     "output_type": "stream",
     "text": [
      "Requirement already satisfied: seaborn in c:\\users\\admin\\appdata\\local\\programs\\python\\python312\\lib\\site-packages (0.13.2)\n",
      "Requirement already satisfied: numpy!=1.24.0,>=1.20 in c:\\users\\admin\\appdata\\local\\programs\\python\\python312\\lib\\site-packages (from seaborn) (1.26.4)\n",
      "Requirement already satisfied: pandas>=1.2 in c:\\users\\admin\\appdata\\local\\programs\\python\\python312\\lib\\site-packages (from seaborn) (2.2.3)\n",
      "Requirement already satisfied: matplotlib!=3.6.1,>=3.4 in c:\\users\\admin\\appdata\\local\\programs\\python\\python312\\lib\\site-packages (from seaborn) (3.9.2)\n",
      "Requirement already satisfied: contourpy>=1.0.1 in c:\\users\\admin\\appdata\\local\\programs\\python\\python312\\lib\\site-packages (from matplotlib!=3.6.1,>=3.4->seaborn) (1.3.1)\n",
      "Requirement already satisfied: cycler>=0.10 in c:\\users\\admin\\appdata\\local\\programs\\python\\python312\\lib\\site-packages (from matplotlib!=3.6.1,>=3.4->seaborn) (0.12.1)\n",
      "Requirement already satisfied: fonttools>=4.22.0 in c:\\users\\admin\\appdata\\local\\programs\\python\\python312\\lib\\site-packages (from matplotlib!=3.6.1,>=3.4->seaborn) (4.55.0)\n",
      "Requirement already satisfied: kiwisolver>=1.3.1 in c:\\users\\admin\\appdata\\local\\programs\\python\\python312\\lib\\site-packages (from matplotlib!=3.6.1,>=3.4->seaborn) (1.4.7)\n",
      "Requirement already satisfied: packaging>=20.0 in c:\\users\\admin\\appdata\\local\\programs\\python\\python312\\lib\\site-packages (from matplotlib!=3.6.1,>=3.4->seaborn) (24.1)\n",
      "Requirement already satisfied: pillow>=8 in c:\\users\\admin\\appdata\\local\\programs\\python\\python312\\lib\\site-packages (from matplotlib!=3.6.1,>=3.4->seaborn) (11.0.0)\n",
      "Requirement already satisfied: pyparsing>=2.3.1 in c:\\users\\admin\\appdata\\local\\programs\\python\\python312\\lib\\site-packages (from matplotlib!=3.6.1,>=3.4->seaborn) (3.2.0)\n",
      "Requirement already satisfied: python-dateutil>=2.7 in c:\\users\\admin\\appdata\\local\\programs\\python\\python312\\lib\\site-packages (from matplotlib!=3.6.1,>=3.4->seaborn) (2.9.0.post0)\n",
      "Requirement already satisfied: pytz>=2020.1 in c:\\users\\admin\\appdata\\local\\programs\\python\\python312\\lib\\site-packages (from pandas>=1.2->seaborn) (2024.2)\n",
      "Requirement already satisfied: tzdata>=2022.7 in c:\\users\\admin\\appdata\\local\\programs\\python\\python312\\lib\\site-packages (from pandas>=1.2->seaborn) (2024.2)\n",
      "Requirement already satisfied: six>=1.5 in c:\\users\\admin\\appdata\\local\\programs\\python\\python312\\lib\\site-packages (from python-dateutil>=2.7->matplotlib!=3.6.1,>=3.4->seaborn) (1.16.0)\n",
      "Note: you may need to restart the kernel to use updated packages.\n"
     ]
    },
    {
     "data": {
      "image/png": "[encoded data removed]",
      "text/plain": [
       "<Figure size 1000x600 with 1 Axes>"
      ]
     },
     "metadata": {},
     "output_type": "display_data"
    }
   ],
   "source": [
    "\n",
    "%pip install seaborn --user\n",
    "import matplotlib.pyplot as plt\n",
    "import seaborn as sns\n",
    "import numpy as np\n",
    "\n",
    "# Create the plot\n",
    "plt.figure(figsize=(10, 6))\n",
    "\n",
    "# Histogram for num_words\n",
    "sns.histplot(\n",
    "    lyrics_len_dist['num_words'], \n",
    "    stat=\"density\", \n",
    "    bins=30, \n",
    "    color=\"black\", \n",
    "    edgecolor=\"black\", \n",
    "    linewidth=0.15\n",
    ")\n",
    "\n",
    "# Add vertical lines for mean, median, and mode\n",
    "plt.axvline(mean_count, color=\"blue\", linestyle=\"dashed\", label=f\"Mean = {int(mean_count)}\")\n",
    "plt.axvline(median_count, color=\"red\", linestyle=\"dashed\", label=f\"Median = {int(median_count)}\")\n",
    "plt.axvline(mode_count, color=\"green\", linestyle=\"dashed\", label=f\"Mode = {int(mode_count)}\")\n",
    "\n",
    "# Add text annotations for mean, median, and mode\n",
    "plt.text(mean_count + 230, 0.002, f\"Mean = {int(mean_count)}\", color=\"blue\", fontsize=10, ha=\"right\")\n",
    "plt.text(median_count + 250, 0.003, f\"Median = {int(median_count)}\", color=\"red\", fontsize=10, ha=\"right\")\n",
    "plt.text(mode_count + 5, 0.003, f\"Mode = {int(mode_count)}\", color=\"green\", fontsize=10, ha=\"right\")\n",
    "\n",
    "# Customize the plot\n",
    "plt.title(\"Lyrics Length per Song\", fontsize=14, ha=\"center\")\n",
    "plt.xlabel(\"\")\n",
    "plt.ylabel(\"\")\n",
    "plt.xticks(np.arange(0, lyrics_len_dist['num_words'].max() + 100, 100), rotation=45)\n",
    "plt.grid(False)\n",
    "plt.legend()\n",
    "plt.tight_layout()\n",
    "\n",
    "# Show the plot\n",
    "plt.show()"
   ]
  },
  {
   "cell_type": "markdown",
   "metadata": {},
   "source": [
    "This shows that the average lyrics length per song is:  340"
   ]
  },
  {
   "cell_type": "code",
   "execution_count": 91,
   "metadata": {},
   "outputs": [
    {
     "data": {
      "image/png": "[encoded data removed]",
      "text/plain": [
       "<Figure size 1000x600 with 1 Axes>"
      ]
     },
     "metadata": {},
     "output_type": "display_data"
    }
   ],
   "source": [
    "import matplotlib.pyplot as plt\n",
    "import numpy as np\n",
    "from scipy.stats import skewnorm\n",
    "\n",
    "# Generate x values for the distribution\n",
    "x = np.linspace(lyrics_len_dist['num_words'].min(), lyrics_len_dist['num_words'].max(), 1000)\n",
    "\n",
    "# Extract parameters from the fitted distribution\n",
    "shape, loc, scale = param_dist\n",
    "\n",
    "# Calculate the skewed normal density\n",
    "y = skewnorm.pdf(x, shape, loc, scale)\n",
    "\n",
    "# Create the plot\n",
    "plt.figure(figsize=(10, 6))\n",
    "plt.plot(x, y, color=\"darkblue\", label=\"Skewed Normal Distribution\")\n",
    "\n",
    "# Add a vertical line for the mean\n",
    "mean_value = loc\n",
    "plt.axvline(mean_value, color=\"blue\", linestyle=\"dashed\", label=f\"Mean = {int(mean_value)}\")\n",
    "\n",
    "# Add text annotation for the parameters\n",
    "plt.text(\n",
    "    530, 0.002, \n",
    "    f\"Mean = {int(mean_value)}, sd = {int(scale)}, xi = {int(shape)}\", \n",
    "    color=\"blue\", fontsize=10, ha=\"right\"\n",
    ")\n",
    "\n",
    "# Customize the plot\n",
    "plt.title(\"Right-skewed normal distribution to estimate the density of lyrics lengths\", fontsize=14)\n",
    "plt.xlabel(\"\")\n",
    "plt.ylabel(\"\")\n",
    "plt.legend()\n",
    "plt.tight_layout()\n",
    "\n",
    "# Show the plot\n",
    "plt.show()"
   ]
  },
  {
   "cell_type": "markdown",
   "metadata": {},
   "source": [
    "Studying word count per decade"
   ]
  },
  {
   "cell_type": "code",
   "execution_count": 92,
   "metadata": {},
   "outputs": [
    {
     "name": "stdout",
     "output_type": "stream",
     "text": [
      "   Decade    Track Title  num_words\n",
      "0    1980    الهوى سلطان        460\n",
      "1    1980      حلف القمر        378\n",
      "2    1980      روحى نسمه        574\n",
      "3    1990   ارضى بالنصيب        160\n",
      "4    1990  الكلمه الطيبه        211\n"
     ]
    }
   ],
   "source": [
    "# Add a 'Decade' column based on the release year\n",
    "data['Decade'] = (data['Release year'] // 10) * 10\n",
    "\n",
    "# Calculate word count per song grouped by decade\n",
    "full_word_count_decade = (\n",
    "    data[['Track Title', 'Decade', 'Track Lyrics']]\n",
    "    .assign(Word=lambda df: df['Track Lyrics'].str.split())\n",
    "    .explode('Word')\n",
    "    .groupby(['Decade', 'Track Title'])\n",
    "    .size()\n",
    "    .reset_index(name='num_words')\n",
    "    .drop_duplicates()\n",
    ")\n",
    "\n",
    "# Display the result\n",
    "print(full_word_count_decade.head())"
   ]
  },
  {
   "cell_type": "code",
   "execution_count": 93,
   "metadata": {},
   "outputs": [],
   "source": [
    "# Ensure 'Decade' column is of string type\n",
    "full_word_count_decade['Decade'] = full_word_count_decade['Decade'].astype(str)\n",
    "\n",
    "# Convert 'Decade' to numeric and create a 'years' column\n",
    "full_word_count_decade['years'] = full_word_count_decade['Decade'].str.extract(r'(\\d+)').astype(int)\n",
    "\n",
    "# Create a 'part' column based on whether 'Decade' contains \"Early\"\n",
    "full_word_count_decade['part'] = full_word_count_decade['Decade'].str.contains(\"Early\").astype(int)"
   ]
  },
  {
   "cell_type": "code",
   "execution_count": 94,
   "metadata": {},
   "outputs": [],
   "source": [
    "# Sort by 'years' and 'part'\n",
    "full_word_count_decade = full_word_count_decade.sort_values(by=['years', 'part'])\n",
    "\n",
    "# Add a new column 'Song_c' with a constant value of 1\n",
    "full_word_count_decade['Song_c'] = 1"
   ]
  },
  {
   "cell_type": "code",
   "execution_count": 95,
   "metadata": {},
   "outputs": [
    {
     "name": "stdout",
     "output_type": "stream",
     "text": [
      "Requirement already satisfied: plotly in c:\\users\\admin\\appdata\\local\\programs\\python\\python312\\lib\\site-packages (5.24.1)\n",
      "Requirement already satisfied: tenacity>=6.2.0 in c:\\users\\admin\\appdata\\local\\programs\\python\\python312\\lib\\site-packages (from plotly) (9.0.0)\n",
      "Requirement already satisfied: packaging in c:\\users\\admin\\appdata\\local\\programs\\python\\python312\\lib\\site-packages (from plotly) (24.1)\n",
      "Note: you may need to restart the kernel to use updated packages.\n"
     ]
    }
   ],
   "source": [
    "%pip install plotly --user"
   ]
  },
  {
   "cell_type": "code",
   "execution_count": 96,
   "metadata": {},
   "outputs": [
    {
     "name": "stdout",
     "output_type": "stream",
     "text": [
      "Requirement already satisfied: plotly in c:\\users\\admin\\appdata\\local\\programs\\python\\python312\\lib\\site-packages (5.24.1)\n",
      "Requirement already satisfied: tenacity>=6.2.0 in c:\\users\\admin\\appdata\\local\\programs\\python\\python312\\lib\\site-packages (from plotly) (9.0.0)\n",
      "Requirement already satisfied: packaging in c:\\users\\admin\\appdata\\local\\programs\\python\\python312\\lib\\site-packages (from plotly) (24.1)\n",
      "Note: you may need to restart the kernel to use updated packages.\n"
     ]
    },
    {
     "data": {
      "application/vnd.plotly.v1+json": {
       "config": {
        "plotlyServerURL": "https://plot.ly"
       },
       "data": [
        {
         "alignmentgroup": "True",
         "bingroup": "x",
         "hovertemplate": "Song_c=1<br>Decade=nan<br>num_words=%{x}<br>count=%{y}<extra></extra>",
         "legendgroup": "1",
         "marker": {
          "color": "#636efa",
          "pattern": {
           "shape": ""
          }
         },
         "name": "1",
         "nbinsx": 30,
         "offsetgroup": "1",
         "orientation": "v",
         "showlegend": true,
         "type": "histogram",
         "x": [
          460,
          378,
          574,
          160,
          211,
          600,
          212,
          212,
          255,
          152,
          755,
          574,
          127,
          420,
          640,
          172,
          192,
          208,
          332,
          414,
          575,
          452,
          402,
          288,
          448,
          246,
          402,
          290,
          138,
          315,
          169,
          514,
          237,
          123,
          582,
          217,
          204,
          213,
          206,
          482,
          442,
          462,
          214,
          538,
          672,
          992,
          227,
          374,
          347,
          217,
          226,
          488,
          320,
          280,
          696,
          334,
          192,
          192,
          258,
          358,
          164,
          283,
          191,
          468,
          225,
          124,
          612,
          310,
          226,
          370,
          298,
          366,
          392,
          310,
          230,
          246,
          262,
          131
         ],
         "xaxis": "x",
         "yaxis": "y"
        }
       ],
       "layout": {
        "annotations": [
         {
          "font": {},
          "showarrow": false,
          "text": "Decade=nan",
          "x": 0.5,
          "xanchor": "center",
          "xref": "paper",
          "y": 1,
          "yanchor": "bottom",
          "yref": "paper"
         }
        ],
        "barmode": "relative",
        "legend": {
         "title": {
          "text": "Song_c"
         },
         "tracegroupgap": 0
        },
        "showlegend": false,
        "template": {
         "data": {
          "bar": [
           {
            "error_x": {
             "color": "#2a3f5f"
            },
            "error_y": {
             "color": "#2a3f5f"
            },
            "marker": {
             "line": {
              "color": "#E5ECF6",
              "width": 0.5
             },
             "pattern": {
              "fillmode": "overlay",
              "size": 10,
              "solidity": 0.2
             }
            },
            "type": "bar"
           }
          ],
          "barpolar": [
           {
            "marker": {
             "line": {
              "color": "#E5ECF6",
              "width": 0.5
             },
             "pattern": {
              "fillmode": "overlay",
              "size": 10,
              "solidity": 0.2
             }
            },
            "type": "barpolar"
           }
          ],
          "carpet": [
           {
            "aaxis": {
             "endlinecolor": "#2a3f5f",
             "gridcolor": "white",
             "linecolor": "white",
             "minorgridcolor": "white",
             "startlinecolor": "#2a3f5f"
            },
            "baxis": {
             "endlinecolor": "#2a3f5f",
             "gridcolor": "white",
             "linecolor": "white",
             "minorgridcolor": "white",
             "startlinecolor": "#2a3f5f"
            },
            "type": "carpet"
           }
          ],
          "choropleth": [
           {
            "colorbar": {
             "outlinewidth": 0,
             "ticks": ""
            },
            "type": "choropleth"
           }
          ],
          "contour": [
           {
            "colorbar": {
             "outlinewidth": 0,
             "ticks": ""
            },
            "colorscale": [
             [
              0,
              "#0d0887"
             ],
             [
              0.1111111111111111,
              "#46039f"
             ],
             [
              0.2222222222222222,
              "#7201a8"
             ],
             [
              0.3333333333333333,
              "#9c179e"
             ],
             [
              0.4444444444444444,
              "#bd3786"
             ],
             [
              0.5555555555555556,
              "#d8576b"
             ],
             [
              0.6666666666666666,
              "#ed7953"
             ],
             [
              0.7777777777777778,
              "#fb9f3a"
             ],
             [
              0.8888888888888888,
              "#fdca26"
             ],
             [
              1,
              "#f0f921"
             ]
            ],
            "type": "contour"
           }
          ],
          "contourcarpet": [
           {
            "colorbar": {
             "outlinewidth": 0,
             "ticks": ""
            },
            "type": "contourcarpet"
           }
          ],
          "heatmap": [
           {
            "colorbar": {
             "outlinewidth": 0,
             "ticks": ""
            },
            "colorscale": [
             [
              0,
              "#0d0887"
             ],
             [
              0.1111111111111111,
              "#46039f"
             ],
             [
              0.2222222222222222,
              "#7201a8"
             ],
             [
              0.3333333333333333,
              "#9c179e"
             ],
             [
              0.4444444444444444,
              "#bd3786"
             ],
             [
              0.5555555555555556,
              "#d8576b"
             ],
             [
              0.6666666666666666,
              "#ed7953"
             ],
             [
              0.7777777777777778,
              "#fb9f3a"
             ],
             [
              0.8888888888888888,
              "#fdca26"
             ],
             [
              1,
              "#f0f921"
             ]
            ],
            "type": "heatmap"
           }
          ],
          "heatmapgl": [
           {
            "colorbar": {
             "outlinewidth": 0,
             "ticks": ""
            },
            "colorscale": [
             [
              0,
              "#0d0887"
             ],
             [
              0.1111111111111111,
              "#46039f"
             ],
             [
              0.2222222222222222,
              "#7201a8"
             ],
             [
              0.3333333333333333,
              "#9c179e"
             ],
             [
              0.4444444444444444,
              "#bd3786"
             ],
             [
              0.5555555555555556,
              "#d8576b"
             ],
             [
              0.6666666666666666,
              "#ed7953"
             ],
             [
              0.7777777777777778,
              "#fb9f3a"
             ],
             [
              0.8888888888888888,
              "#fdca26"
             ],
             [
              1,
              "#f0f921"
             ]
            ],
            "type": "heatmapgl"
           }
          ],
          "histogram": [
           {
            "marker": {
             "pattern": {
              "fillmode": "overlay",
              "size": 10,
              "solidity": 0.2
             }
            },
            "type": "histogram"
           }
          ],
          "histogram2d": [
           {
            "colorbar": {
             "outlinewidth": 0,
             "ticks": ""
            },
            "colorscale": [
             [
              0,
              "#0d0887"
             ],
             [
              0.1111111111111111,
              "#46039f"
             ],
             [
              0.2222222222222222,
              "#7201a8"
             ],
             [
              0.3333333333333333,
              "#9c179e"
             ],
             [
              0.4444444444444444,
              "#bd3786"
             ],
             [
              0.5555555555555556,
              "#d8576b"
             ],
             [
              0.6666666666666666,
              "#ed7953"
             ],
             [
              0.7777777777777778,
              "#fb9f3a"
             ],
             [
              0.8888888888888888,
              "#fdca26"
             ],
             [
              1,
              "#f0f921"
             ]
            ],
            "type": "histogram2d"
           }
          ],
          "histogram2dcontour": [
           {
            "colorbar": {
             "outlinewidth": 0,
             "ticks": ""
            },
            "colorscale": [
             [
              0,
              "#0d0887"
             ],
             [
              0.1111111111111111,
              "#46039f"
             ],
             [
              0.2222222222222222,
              "#7201a8"
             ],
             [
              0.3333333333333333,
              "#9c179e"
             ],
             [
              0.4444444444444444,
              "#bd3786"
             ],
             [
              0.5555555555555556,
              "#d8576b"
             ],
             [
              0.6666666666666666,
              "#ed7953"
             ],
             [
              0.7777777777777778,
              "#fb9f3a"
             ],
             [
              0.8888888888888888,
              "#fdca26"
             ],
             [
              1,
              "#f0f921"
             ]
            ],
            "type": "histogram2dcontour"
           }
          ],
          "mesh3d": [
           {
            "colorbar": {
             "outlinewidth": 0,
             "ticks": ""
            },
            "type": "mesh3d"
           }
          ],
          "parcoords": [
           {
            "line": {
             "colorbar": {
              "outlinewidth": 0,
              "ticks": ""
             }
            },
            "type": "parcoords"
           }
          ],
          "pie": [
           {
            "automargin": true,
            "type": "pie"
           }
          ],
          "scatter": [
           {
            "fillpattern": {
             "fillmode": "overlay",
             "size": 10,
             "solidity": 0.2
            },
            "type": "scatter"
           }
          ],
          "scatter3d": [
           {
            "line": {
             "colorbar": {
              "outlinewidth": 0,
              "ticks": ""
             }
            },
            "marker": {
             "colorbar": {
              "outlinewidth": 0,
              "ticks": ""
             }
            },
            "type": "scatter3d"
           }
          ],
          "scattercarpet": [
           {
            "marker": {
             "colorbar": {
              "outlinewidth": 0,
              "ticks": ""
             }
            },
            "type": "scattercarpet"
           }
          ],
          "scattergeo": [
           {
            "marker": {
             "colorbar": {
              "outlinewidth": 0,
              "ticks": ""
             }
            },
            "type": "scattergeo"
           }
          ],
          "scattergl": [
           {
            "marker": {
             "colorbar": {
              "outlinewidth": 0,
              "ticks": ""
             }
            },
            "type": "scattergl"
           }
          ],
          "scattermapbox": [
           {
            "marker": {
             "colorbar": {
              "outlinewidth": 0,
              "ticks": ""
             }
            },
            "type": "scattermapbox"
           }
          ],
          "scatterpolar": [
           {
            "marker": {
             "colorbar": {
              "outlinewidth": 0,
              "ticks": ""
             }
            },
            "type": "scatterpolar"
           }
          ],
          "scatterpolargl": [
           {
            "marker": {
             "colorbar": {
              "outlinewidth": 0,
              "ticks": ""
             }
            },
            "type": "scatterpolargl"
           }
          ],
          "scatterternary": [
           {
            "marker": {
             "colorbar": {
              "outlinewidth": 0,
              "ticks": ""
             }
            },
            "type": "scatterternary"
           }
          ],
          "surface": [
           {
            "colorbar": {
             "outlinewidth": 0,
             "ticks": ""
            },
            "colorscale": [
             [
              0,
              "#0d0887"
             ],
             [
              0.1111111111111111,
              "#46039f"
             ],
             [
              0.2222222222222222,
              "#7201a8"
             ],
             [
              0.3333333333333333,
              "#9c179e"
             ],
             [
              0.4444444444444444,
              "#bd3786"
             ],
             [
              0.5555555555555556,
              "#d8576b"
             ],
             [
              0.6666666666666666,
              "#ed7953"
             ],
             [
              0.7777777777777778,
              "#fb9f3a"
             ],
             [
              0.8888888888888888,
              "#fdca26"
             ],
             [
              1,
              "#f0f921"
             ]
            ],
            "type": "surface"
           }
          ],
          "table": [
           {
            "cells": {
             "fill": {
              "color": "#EBF0F8"
             },
             "line": {
              "color": "white"
             }
            },
            "header": {
             "fill": {
              "color": "#C8D4E3"
             },
             "line": {
              "color": "white"
             }
            },
            "type": "table"
           }
          ]
         },
         "layout": {
          "annotationdefaults": {
           "arrowcolor": "#2a3f5f",
           "arrowhead": 0,
           "arrowwidth": 1
          },
          "autotypenumbers": "strict",
          "coloraxis": {
           "colorbar": {
            "outlinewidth": 0,
            "ticks": ""
           }
          },
          "colorscale": {
           "diverging": [
            [
             0,
             "#8e0152"
            ],
            [
             0.1,
             "#c51b7d"
            ],
            [
             0.2,
             "#de77ae"
            ],
            [
             0.3,
             "#f1b6da"
            ],
            [
             0.4,
             "#fde0ef"
            ],
            [
             0.5,
             "#f7f7f7"
            ],
            [
             0.6,
             "#e6f5d0"
            ],
            [
             0.7,
             "#b8e186"
            ],
            [
             0.8,
             "#7fbc41"
            ],
            [
             0.9,
             "#4d9221"
            ],
            [
             1,
             "#276419"
            ]
           ],
           "sequential": [
            [
             0,
             "#0d0887"
            ],
            [
             0.1111111111111111,
             "#46039f"
            ],
            [
             0.2222222222222222,
             "#7201a8"
            ],
            [
             0.3333333333333333,
             "#9c179e"
            ],
            [
             0.4444444444444444,
             "#bd3786"
            ],
            [
             0.5555555555555556,
             "#d8576b"
            ],
            [
             0.6666666666666666,
             "#ed7953"
            ],
            [
             0.7777777777777778,
             "#fb9f3a"
            ],
            [
             0.8888888888888888,
             "#fdca26"
            ],
            [
             1,
             "#f0f921"
            ]
           ],
           "sequentialminus": [
            [
             0,
             "#0d0887"
            ],
            [
             0.1111111111111111,
             "#46039f"
            ],
            [
             0.2222222222222222,
             "#7201a8"
            ],
            [
             0.3333333333333333,
             "#9c179e"
            ],
            [
             0.4444444444444444,
             "#bd3786"
            ],
            [
             0.5555555555555556,
             "#d8576b"
            ],
            [
             0.6666666666666666,
             "#ed7953"
            ],
            [
             0.7777777777777778,
             "#fb9f3a"
            ],
            [
             0.8888888888888888,
             "#fdca26"
            ],
            [
             1,
             "#f0f921"
            ]
           ]
          },
          "colorway": [
           "#636efa",
           "#EF553B",
           "#00cc96",
           "#ab63fa",
           "#FFA15A",
           "#19d3f3",
           "#FF6692",
           "#B6E880",
           "#FF97FF",
           "#FECB52"
          ],
          "font": {
           "color": "#2a3f5f"
          },
          "geo": {
           "bgcolor": "white",
           "lakecolor": "white",
           "landcolor": "#E5ECF6",
           "showlakes": true,
           "showland": true,
           "subunitcolor": "white"
          },
          "hoverlabel": {
           "align": "left"
          },
          "hovermode": "closest",
          "mapbox": {
           "style": "light"
          },
          "paper_bgcolor": "white",
          "plot_bgcolor": "#E5ECF6",
          "polar": {
           "angularaxis": {
            "gridcolor": "white",
            "linecolor": "white",
            "ticks": ""
           },
           "bgcolor": "#E5ECF6",
           "radialaxis": {
            "gridcolor": "white",
            "linecolor": "white",
            "ticks": ""
           }
          },
          "scene": {
           "xaxis": {
            "backgroundcolor": "#E5ECF6",
            "gridcolor": "white",
            "gridwidth": 2,
            "linecolor": "white",
            "showbackground": true,
            "ticks": "",
            "zerolinecolor": "white"
           },
           "yaxis": {
            "backgroundcolor": "#E5ECF6",
            "gridcolor": "white",
            "gridwidth": 2,
            "linecolor": "white",
            "showbackground": true,
            "ticks": "",
            "zerolinecolor": "white"
           },
           "zaxis": {
            "backgroundcolor": "#E5ECF6",
            "gridcolor": "white",
            "gridwidth": 2,
            "linecolor": "white",
            "showbackground": true,
            "ticks": "",
            "zerolinecolor": "white"
           }
          },
          "shapedefaults": {
           "line": {
            "color": "#2a3f5f"
           }
          },
          "ternary": {
           "aaxis": {
            "gridcolor": "white",
            "linecolor": "white",
            "ticks": ""
           },
           "baxis": {
            "gridcolor": "white",
            "linecolor": "white",
            "ticks": ""
           },
           "bgcolor": "#E5ECF6",
           "caxis": {
            "gridcolor": "white",
            "linecolor": "white",
            "ticks": ""
           }
          },
          "title": {
           "x": 0.05
          },
          "xaxis": {
           "automargin": true,
           "gridcolor": "white",
           "linecolor": "white",
           "ticks": "",
           "title": {
            "standoff": 15
           },
           "zerolinecolor": "white",
           "zerolinewidth": 2
          },
          "yaxis": {
           "automargin": true,
           "gridcolor": "white",
           "linecolor": "white",
           "ticks": "",
           "title": {
            "standoff": 15
           },
           "zerolinecolor": "white",
           "zerolinewidth": 2
          }
         }
        },
        "title": {
         "text": "Evolution of Song Length Across Decades",
         "x": 0.5
        },
        "xaxis": {
         "anchor": "y",
         "domain": [
          0,
          1
         ],
         "title": {}
        },
        "yaxis": {
         "anchor": "x",
         "domain": [
          0,
          1
         ],
         "title": {
          "text": "Song Count"
         }
        }
       }
      }
     },
     "metadata": {},
     "output_type": "display_data"
    }
   ],
   "source": [
    "\n",
    "\n",
    "%pip install plotly\n",
    "import matplotlib.pyplot as plt\n",
    "import seaborn as sns\n",
    "import pandas as pd\n",
    "import numpy as np\n",
    "import plotly.express as px\n",
    "\n",
    "# Convert 'Decade' to a categorical type with specific order\n",
    "decade_order = [\n",
    "    \"Late 1940s\", \"Early 1950s\", \"Late 1950s\", \"Early 1960s\", \"Late 1960s\",\n",
    "    \"Early 1970s\", \"Late 1970s\", \"Early 1980s\", \"Late 1980s\"\n",
    "]\n",
    "full_word_count_decade['Decade'] = pd.Categorical(full_word_count_decade['Decade'], categories=decade_order, ordered=True)\n",
    "\n",
    "# Convert to an interactive plot using Plotly\n",
    "fig = px.histogram(\n",
    "    full_word_count_decade, \n",
    "    x=\"num_words\", \n",
    "    facet_col=\"Decade\", \n",
    "    facet_col_wrap=3, \n",
    "    color=\"Song_c\", \n",
    "    nbins=30, \n",
    "    title=\"Evolution of Song Length Across Decades\"\n",
    ")\n",
    "fig.update_layout(\n",
    "    xaxis_title=None, \n",
    "    yaxis_title=\"Song Count\", \n",
    "    title_x=0.5, \n",
    "    showlegend=False\n",
    ")\n",
    "fig.show()"
   ]
  },
  {
   "cell_type": "markdown",
   "metadata": {},
   "source": [
    "## POS"
   ]
  },
  {
   "cell_type": "code",
   "execution_count": 97,
   "metadata": {},
   "outputs": [
    {
     "name": "stdout",
     "output_type": "stream",
     "text": [
      "Requirement already satisfied: camel-tools in c:\\users\\admin\\appdata\\local\\programs\\python\\python312\\lib\\site-packages (1.5.5)\n",
      "Requirement already satisfied: future in c:\\users\\admin\\appdata\\local\\programs\\python\\python312\\lib\\site-packages (from camel-tools) (1.0.0)\n",
      "Requirement already satisfied: six in c:\\users\\admin\\appdata\\local\\programs\\python\\python312\\lib\\site-packages (from camel-tools) (1.16.0)\n",
      "Requirement already satisfied: docopt in c:\\users\\admin\\appdata\\local\\programs\\python\\python312\\lib\\site-packages (from camel-tools) (0.6.2)\n",
      "Requirement already satisfied: cachetools in c:\\users\\admin\\appdata\\local\\programs\\python\\python312\\lib\\site-packages (from camel-tools) (5.5.2)\n",
      "Requirement already satisfied: numpy<2 in c:\\users\\admin\\appdata\\local\\programs\\python\\python312\\lib\\site-packages (from camel-tools) (1.26.4)\n",
      "Requirement already satisfied: scipy in c:\\users\\admin\\appdata\\local\\programs\\python\\python312\\lib\\site-packages (from camel-tools) (1.13.1)\n",
      "Requirement already satisfied: pandas in c:\\users\\admin\\appdata\\local\\programs\\python\\python312\\lib\\site-packages (from camel-tools) (2.2.3)\n",
      "Requirement already satisfied: scikit-learn in c:\\users\\admin\\appdata\\local\\programs\\python\\python312\\lib\\site-packages (from camel-tools) (1.5.2)\n",
      "Requirement already satisfied: dill in c:\\users\\admin\\appdata\\local\\programs\\python\\python312\\lib\\site-packages (from camel-tools) (0.3.8)\n",
      "Requirement already satisfied: torch>=2.0 in c:\\users\\admin\\appdata\\local\\programs\\python\\python312\\lib\\site-packages (from camel-tools) (2.7.0)\n",
      "Requirement already satisfied: transformers<4.44.0,>=4.0 in c:\\users\\admin\\appdata\\local\\programs\\python\\python312\\lib\\site-packages (from camel-tools) (4.43.4)\n",
      "Requirement already satisfied: editdistance in c:\\users\\admin\\appdata\\local\\programs\\python\\python312\\lib\\site-packages (from camel-tools) (0.8.1)\n",
      "Requirement already satisfied: requests in c:\\users\\admin\\appdata\\local\\programs\\python\\python312\\lib\\site-packages (from camel-tools) (2.32.3)\n",
      "Requirement already satisfied: emoji in c:\\users\\admin\\appdata\\local\\programs\\python\\python312\\lib\\site-packages (from camel-tools) (2.14.1)\n",
      "Requirement already satisfied: pyrsistent in c:\\users\\admin\\appdata\\local\\programs\\python\\python312\\lib\\site-packages (from camel-tools) (0.20.0)\n",
      "Requirement already satisfied: tabulate in c:\\users\\admin\\appdata\\local\\programs\\python\\python312\\lib\\site-packages (from camel-tools) (0.9.0)\n",
      "Requirement already satisfied: tqdm in c:\\users\\admin\\appdata\\local\\programs\\python\\python312\\lib\\site-packages (from camel-tools) (4.67.1)\n",
      "Requirement already satisfied: muddler in c:\\users\\admin\\appdata\\local\\programs\\python\\python312\\lib\\site-packages (from camel-tools) (0.1.3)\n",
      "Requirement already satisfied: filelock in c:\\users\\admin\\appdata\\local\\programs\\python\\python312\\lib\\site-packages (from transformers<4.44.0,>=4.0->camel-tools) (3.16.1)\n",
      "Requirement already satisfied: huggingface-hub<1.0,>=0.23.2 in c:\\users\\admin\\appdata\\local\\programs\\python\\python312\\lib\\site-packages (from transformers<4.44.0,>=4.0->camel-tools) (0.29.2)\n",
      "Requirement already satisfied: packaging>=20.0 in c:\\users\\admin\\appdata\\local\\programs\\python\\python312\\lib\\site-packages (from transformers<4.44.0,>=4.0->camel-tools) (24.1)\n",
      "Requirement already satisfied: pyyaml>=5.1 in c:\\users\\admin\\appdata\\local\\programs\\python\\python312\\lib\\site-packages (from transformers<4.44.0,>=4.0->camel-tools) (6.0.2)\n",
      "Requirement already satisfied: regex!=2019.12.17 in c:\\users\\admin\\appdata\\local\\programs\\python\\python312\\lib\\site-packages (from transformers<4.44.0,>=4.0->camel-tools) (2024.11.6)\n",
      "Requirement already satisfied: safetensors>=0.4.1 in c:\\users\\admin\\appdata\\local\\programs\\python\\python312\\lib\\site-packages (from transformers<4.44.0,>=4.0->camel-tools) (0.5.3)\n",
      "Requirement already satisfied: tokenizers<0.20,>=0.19 in c:\\users\\admin\\appdata\\local\\programs\\python\\python312\\lib\\site-packages (from transformers<4.44.0,>=4.0->camel-tools) (0.19.1)\n",
      "Requirement already satisfied: fsspec>=2023.5.0 in c:\\users\\admin\\appdata\\local\\programs\\python\\python312\\lib\\site-packages (from huggingface-hub<1.0,>=0.23.2->transformers<4.44.0,>=4.0->camel-tools) (2024.10.0)\n",
      "Requirement already satisfied: typing-extensions>=3.7.4.3 in c:\\users\\admin\\appdata\\local\\programs\\python\\python312\\lib\\site-packages (from huggingface-hub<1.0,>=0.23.2->transformers<4.44.0,>=4.0->camel-tools) (4.12.2)\n",
      "Requirement already satisfied: sympy>=1.13.3 in c:\\users\\admin\\appdata\\local\\programs\\python\\python312\\lib\\site-packages (from torch>=2.0->camel-tools) (1.14.0)\n",
      "Requirement already satisfied: networkx in c:\\users\\admin\\appdata\\local\\programs\\python\\python312\\lib\\site-packages (from torch>=2.0->camel-tools) (3.4.2)\n",
      "Requirement already satisfied: jinja2 in c:\\users\\admin\\appdata\\local\\programs\\python\\python312\\lib\\site-packages (from torch>=2.0->camel-tools) (3.1.4)\n",
      "Requirement already satisfied: setuptools in c:\\users\\admin\\appdata\\local\\programs\\python\\python312\\lib\\site-packages (from torch>=2.0->camel-tools) (75.6.0)\n",
      "Requirement already satisfied: mpmath<1.4,>=1.1.0 in c:\\users\\admin\\appdata\\local\\programs\\python\\python312\\lib\\site-packages (from sympy>=1.13.3->torch>=2.0->camel-tools) (1.3.0)\n",
      "Requirement already satisfied: colorama in c:\\users\\admin\\appdata\\roaming\\python\\python312\\site-packages (from tqdm->camel-tools) (0.4.6)\n",
      "Requirement already satisfied: MarkupSafe>=2.0 in c:\\users\\admin\\appdata\\local\\programs\\python\\python312\\lib\\site-packages (from jinja2->torch>=2.0->camel-tools) (3.0.2)\n",
      "Requirement already satisfied: python-dateutil>=2.8.2 in c:\\users\\admin\\appdata\\local\\programs\\python\\python312\\lib\\site-packages (from pandas->camel-tools) (2.9.0.post0)\n",
      "Requirement already satisfied: pytz>=2020.1 in c:\\users\\admin\\appdata\\local\\programs\\python\\python312\\lib\\site-packages (from pandas->camel-tools) (2024.2)\n",
      "Requirement already satisfied: tzdata>=2022.7 in c:\\users\\admin\\appdata\\local\\programs\\python\\python312\\lib\\site-packages (from pandas->camel-tools) (2024.2)\n",
      "Requirement already satisfied: charset-normalizer<4,>=2 in c:\\users\\admin\\appdata\\local\\programs\\python\\python312\\lib\\site-packages (from requests->camel-tools) (3.4.1)\n",
      "Requirement already satisfied: idna<4,>=2.5 in c:\\users\\admin\\appdata\\local\\programs\\python\\python312\\lib\\site-packages (from requests->camel-tools) (3.10)\n",
      "Requirement already satisfied: urllib3<3,>=1.21.1 in c:\\users\\admin\\appdata\\local\\programs\\python\\python312\\lib\\site-packages (from requests->camel-tools) (2.3.0)\n",
      "Requirement already satisfied: certifi>=2017.4.17 in c:\\users\\admin\\appdata\\local\\programs\\python\\python312\\lib\\site-packages (from requests->camel-tools) (2025.1.31)\n",
      "Requirement already satisfied: joblib>=1.2.0 in c:\\users\\admin\\appdata\\local\\programs\\python\\python312\\lib\\site-packages (from scikit-learn->camel-tools) (1.4.2)\n",
      "Requirement already satisfied: threadpoolctl>=3.1.0 in c:\\users\\admin\\appdata\\local\\programs\\python\\python312\\lib\\site-packages (from scikit-learn->camel-tools) (3.5.0)\n",
      "Note: you may need to restart the kernel to use updated packages.\n"
     ]
    }
   ],
   "source": [
    "%pip install camel-tools\n",
    "import camel_tools"
   ]
  },
  {
   "cell_type": "code",
   "execution_count": 98,
   "metadata": {},
   "outputs": [],
   "source": [
    "\n",
    "from camel_tools.disambig.mle import MLEDisambiguator\n",
    "from camel_tools.tagger.default import DefaultTagger"
   ]
  },
  {
   "cell_type": "code",
   "execution_count": 99,
   "metadata": {},
   "outputs": [
    {
     "data": {
      "text/html": [
       "<div>\n",
       "<style scoped>\n",
       "    .dataframe tbody tr th:only-of-type {\n",
       "        vertical-align: middle;\n",
       "    }\n",
       "\n",
       "    .dataframe tbody tr th {\n",
       "        vertical-align: top;\n",
       "    }\n",
       "\n",
       "    .dataframe thead th {\n",
       "        text-align: right;\n",
       "    }\n",
       "</style>\n",
       "<table border=\"1\" class=\"dataframe\">\n",
       "  <thead>\n",
       "    <tr style=\"text-align: right;\">\n",
       "      <th></th>\n",
       "      <th>Track Title</th>\n",
       "      <th>Track Lyrics</th>\n",
       "      <th>Release year</th>\n",
       "      <th>Composer</th>\n",
       "      <th>Lyricist</th>\n",
       "      <th>Tokenized &amp; Preprocessed Lyrics</th>\n",
       "    </tr>\n",
       "  </thead>\n",
       "  <tbody>\n",
       "    <tr>\n",
       "      <th>0</th>\n",
       "      <td>اه حبايب</td>\n",
       "      <td>اه حبايب فين الحب غايب وليه قلبى لكش نايب شافو...</td>\n",
       "      <td>1995</td>\n",
       "      <td>صلاح الشرنوبي</td>\n",
       "      <td>وليد رزيقه</td>\n",
       "      <td>اه\\nحبايب\\nفين\\nالحب\\nغايب\\nوليه\\nقلبى\\nلكش\\nن...</td>\n",
       "    </tr>\n",
       "    <tr>\n",
       "      <th>1</th>\n",
       "      <td>قلبى الشوق</td>\n",
       "      <td>ليلى ليلى ليل قلبى الشوق الشوق عينى السهر خدنى...</td>\n",
       "      <td>2008</td>\n",
       "      <td>صلاح الشرنوبي</td>\n",
       "      <td>احمد شتا</td>\n",
       "      <td>ليلى\\nليلى\\nليل\\nقلبى\\nالشوق\\nالشوق\\nعينى\\nالس...</td>\n",
       "    </tr>\n",
       "    <tr>\n",
       "      <th>2</th>\n",
       "      <td>ادى اللى كانوا</td>\n",
       "      <td>ادى اللى كانوا هوا اقرب لينا واللى هانوا هوا ف...</td>\n",
       "      <td>2008</td>\n",
       "      <td>امجد العاطفي</td>\n",
       "      <td>احمد سامي</td>\n",
       "      <td>ادى\\nاللى\\nكانوا\\nهوا\\nاقرب\\nلينا\\nواللى\\nهانو...</td>\n",
       "    </tr>\n",
       "    <tr>\n",
       "      <th>3</th>\n",
       "      <td>قلب العاشق دليله</td>\n",
       "      <td>قلب العاشق دليله قلب العاشق دليله قلب العاشق د...</td>\n",
       "      <td>2002</td>\n",
       "      <td>امجد العاطفي</td>\n",
       "      <td>عوض بدوي</td>\n",
       "      <td>قلب\\nالعاشق\\nدليله\\nقلب\\nالعاشق\\nدليله\\nقلب\\nا...</td>\n",
       "    </tr>\n",
       "    <tr>\n",
       "      <th>4</th>\n",
       "      <td>الفرقه صعبه</td>\n",
       "      <td>مش قادر اصبرعغيابا ليله بجمع دموعى بسهر دمعات ...</td>\n",
       "      <td>2009</td>\n",
       "      <td>جورج يزبك</td>\n",
       "      <td>توفيق بركات</td>\n",
       "      <td>مش\\nقادر\\nاصبرعغيابا\\nليله\\nبجمع\\nدموعى\\nبسهر\\...</td>\n",
       "    </tr>\n",
       "  </tbody>\n",
       "</table>\n",
       "</div>"
      ],
      "text/plain": [
       "        Track Title                                       Track Lyrics  \\\n",
       "0          اه حبايب  اه حبايب فين الحب غايب وليه قلبى لكش نايب شافو...   \n",
       "1        قلبى الشوق  ليلى ليلى ليل قلبى الشوق الشوق عينى السهر خدنى...   \n",
       "2    ادى اللى كانوا  ادى اللى كانوا هوا اقرب لينا واللى هانوا هوا ف...   \n",
       "3  قلب العاشق دليله  قلب العاشق دليله قلب العاشق دليله قلب العاشق د...   \n",
       "4       الفرقه صعبه  مش قادر اصبرعغيابا ليله بجمع دموعى بسهر دمعات ...   \n",
       "\n",
       "   Release year       Composer     Lyricist  \\\n",
       "0          1995  صلاح الشرنوبي   وليد رزيقه   \n",
       "1          2008  صلاح الشرنوبي     احمد شتا   \n",
       "2          2008   امجد العاطفي    احمد سامي   \n",
       "3          2002   امجد العاطفي     عوض بدوي   \n",
       "4          2009      جورج يزبك  توفيق بركات   \n",
       "\n",
       "                     Tokenized & Preprocessed Lyrics  \n",
       "0  اه\\nحبايب\\nفين\\nالحب\\nغايب\\nوليه\\nقلبى\\nلكش\\nن...  \n",
       "1  ليلى\\nليلى\\nليل\\nقلبى\\nالشوق\\nالشوق\\nعينى\\nالس...  \n",
       "2  ادى\\nاللى\\nكانوا\\nهوا\\nاقرب\\nلينا\\nواللى\\nهانو...  \n",
       "3  قلب\\nالعاشق\\nدليله\\nقلب\\nالعاشق\\nدليله\\nقلب\\nا...  \n",
       "4  مش\\nقادر\\nاصبرعغيابا\\nليله\\nبجمع\\nدموعى\\nبسهر\\...  "
      ]
     },
     "execution_count": 99,
     "metadata": {},
     "output_type": "execute_result"
    }
   ],
   "source": [
    "py_songs = pd.read_csv(\"george_wassouf_lyrics_tokenized.csv\", sep=',', encoding='utf-8')\n",
    "# Empty fields are replaced by NA.\n",
    "py_songs=py_songs.fillna(\"NA\")\n",
    "py_songs.head()"
   ]
  },
  {
   "cell_type": "code",
   "execution_count": 100,
   "metadata": {},
   "outputs": [],
   "source": [
    "\n",
    "# Initialize the MLEDisambiguator and DefaultTagger\n",
    "#mled = MLEDisambiguator.pretrained()\n",
    "#tagger = DefaultTagger(mled, 'pos')\n",
    "\n",
    "# Apply POS tagging\n",
    "#py_songs[\"POS Tags\"] = [tagger.tag(ly.split()) for ly in py_songs[\"Track Lyrics\"]]\n",
    "#py_songs[\"POS Tags\"] = py_songs[\"POS Tags\"].apply(lambda x: [tag[1] for tag in x])"
   ]
  },
  {
   "cell_type": "markdown",
   "metadata": {},
   "source": [
    "# LLMs"
   ]
  },
  {
   "cell_type": "markdown",
   "metadata": {},
   "source": [
    "## Imports"
   ]
  },
  {
   "cell_type": "code",
   "execution_count": 101,
   "metadata": {},
   "outputs": [],
   "source": [
    "import pandas as pd\n",
    "import numpy as np\n",
    "import seaborn as sns\n",
    "import matplotlib.pyplot as plt\n",
    "from transformers import pipeline, AutoTokenizer, AutoModelForSequenceClassification\n",
    "from tqdm import tqdm"
   ]
  },
  {
   "cell_type": "markdown",
   "metadata": {},
   "source": [
    "## Load the dataset\n"
   ]
  },
  {
   "cell_type": "code",
   "execution_count": 102,
   "metadata": {},
   "outputs": [
    {
     "name": "stdout",
     "output_type": "stream",
     "text": [
      "Loading dataset: george_wassouf_lyrics_tokenized.csv\n",
      "Dataset loaded successfully. Total songs: 78\n"
     ]
    }
   ],
   "source": [
    "print(\"Loading dataset: george_wassouf_lyrics_tokenized.csv\")\n",
    "try:\n",
    "    data = pd.read_csv('george_wassouf_lyrics_tokenized.csv')\n",
    "    print(f\"Dataset loaded successfully. Total songs: {len(data)}\")\n",
    "except FileNotFoundError:\n",
    "    print(\"Error: Dataset file 'george_wassouf_lyrics_tokenized.csv' not found.\")\n",
    "    raise"
   ]
  },
  {
   "cell_type": "markdown",
   "metadata": {},
   "source": [
    "## Initialize the Hugging Face sentiment analysis pipeline\n"
   ]
  },
  {
   "cell_type": "code",
   "execution_count": 103,
   "metadata": {},
   "outputs": [
    {
     "name": "stdout",
     "output_type": "stream",
     "text": [
      "Loading model: CAMeL-Lab/bert-base-arabic-camelbert-da-sentiment\n"
     ]
    },
    {
     "name": "stderr",
     "output_type": "stream",
     "text": [
      "c:\\Users\\ADMIN\\AppData\\Local\\Programs\\Python\\Python312\\Lib\\site-packages\\transformers\\tokenization_utils_base.py:1601: FutureWarning:\n",
      "\n",
      "`clean_up_tokenization_spaces` was not set. It will be set to `True` by default. This behavior will be depracted in transformers v4.45, and will be then set to `False` by default. For more details check this issue: https://github.com/huggingface/transformers/issues/31884\n",
      "\n"
     ]
    },
    {
     "name": "stdout",
     "output_type": "stream",
     "text": [
      "Model and pipeline initialized successfully for CAMeL-Lab/bert-base-arabic-camelbert-da-sentiment\n"
     ]
    }
   ],
   "source": [
    "model_name = \"CAMeL-Lab/bert-base-arabic-camelbert-da-sentiment\"\n",
    "print(f\"Loading model: {model_name}\")\n",
    "try:\n",
    "    tokenizer = AutoTokenizer.from_pretrained(model_name)\n",
    "    model = AutoModelForSequenceClassification.from_pretrained(model_name)\n",
    "    sentiment_pipeline = pipeline(\"sentiment-analysis\", model=model, tokenizer=tokenizer)\n",
    "    print(f\"Model and pipeline initialized successfully for {model_name}\")\n",
    "except Exception as e:\n",
    "    print(f\"Error loading model: {e}\")\n",
    "    print(\"Try installing transformers==4.44.2 or using 'aubmindlab/bert-base-arabertv2'.\")\n",
    "    raise"
   ]
  },
  {
   "cell_type": "markdown",
   "metadata": {},
   "source": [
    "## Function to analyze sentiment & to infer dominant emotion"
   ]
  },
  {
   "cell_type": "code",
   "execution_count": 104,
   "metadata": {},
   "outputs": [],
   "source": [
    "def analyze_sentiment(lyrics):\n",
    "    try:\n",
    "        # Validate input\n",
    "        if not isinstance(lyrics, str) or not lyrics.strip():\n",
    "            print(f\"Warning: Empty or invalid lyrics detected. Returning neutral.\")\n",
    "            return \"neutral\", 0.0\n",
    "        # Use pipeline with truncation\n",
    "        result = sentiment_pipeline(lyrics, truncation=True, max_length=512)\n",
    "        sentiment = result[0]['label']  # e.g., 'positive', 'negative', 'neutral'\n",
    "        score = result[0]['score']\n",
    "        print(f\"Processed lyrics for sentiment: {sentiment} (score: {score:.2f})\")\n",
    "        return sentiment, score\n",
    "    except Exception as e:\n",
    "        print(f\"Error processing lyrics: {e}\")\n",
    "        return \"neutral\", 0.0\n",
    "\n",
    "def infer_emotion(lyrics, sentiment):\n",
    "    emotion_keywords = {\n",
    "        'love': ['حب', 'عشق', 'قلب', 'حبايب'],\n",
    "        'sadness': ['دموع', 'فرقة', 'غياب', 'حزن'],\n",
    "        'longing': ['شوق', 'ليل', 'حنين'],\n",
    "        'joy': ['فرح', 'سعادة', 'نور']\n",
    "    }\n",
    "    \n",
    "    lyrics_lower = lyrics.lower() if isinstance(lyrics, str) else \"\"\n",
    "    for emotion, keywords in emotion_keywords.items():\n",
    "        if any(keyword in lyrics_lower for keyword in keywords):\n",
    "            print(f\"Detected emotion: {emotion} (keywords matched)\")\n",
    "            return emotion\n",
    "    # Default based on sentiment\n",
    "    default_emotion = 'joy' if sentiment == 'positive' else 'sadness' if sentiment == 'negative' else 'neutral'\n",
    "    print(f\"No keyword match. Defaulting to emotion: {default_emotion}\")\n",
    "    return default_emotion"
   ]
  },
  {
   "cell_type": "code",
   "execution_count": 105,
   "metadata": {},
   "outputs": [
    {
     "name": "stdout",
     "output_type": "stream",
     "text": [
      "Starting sentiment and emotion analysis...\n"
     ]
    },
    {
     "name": "stderr",
     "output_type": "stream",
     "text": [
      "  3%|▎         | 2/78 [00:00<00:23,  3.21it/s]"
     ]
    },
    {
     "name": "stdout",
     "output_type": "stream",
     "text": [
      "Processed lyrics for sentiment: negative (score: 0.95)\n"
     ]
    },
    {
     "name": "stderr",
     "output_type": "stream",
     "text": [
      "  4%|▍         | 3/78 [00:01<00:43,  1.71it/s]"
     ]
    },
    {
     "name": "stdout",
     "output_type": "stream",
     "text": [
      "Processed lyrics for sentiment: positive (score: 0.96)\n"
     ]
    },
    {
     "name": "stderr",
     "output_type": "stream",
     "text": [
      "  5%|▌         | 4/78 [00:02<00:57,  1.28it/s]"
     ]
    },
    {
     "name": "stdout",
     "output_type": "stream",
     "text": [
      "Processed lyrics for sentiment: negative (score: 0.79)\n"
     ]
    },
    {
     "name": "stderr",
     "output_type": "stream",
     "text": [
      "  6%|▋         | 5/78 [00:03<01:00,  1.21it/s]"
     ]
    },
    {
     "name": "stdout",
     "output_type": "stream",
     "text": [
      "Processed lyrics for sentiment: positive (score: 0.87)\n"
     ]
    },
    {
     "name": "stderr",
     "output_type": "stream",
     "text": [
      "  8%|▊         | 6/78 [00:03<00:48,  1.48it/s]"
     ]
    },
    {
     "name": "stdout",
     "output_type": "stream",
     "text": [
      "Processed lyrics for sentiment: negative (score: 0.94)\n"
     ]
    },
    {
     "name": "stderr",
     "output_type": "stream",
     "text": [
      "  9%|▉         | 7/78 [00:04<00:53,  1.33it/s]"
     ]
    },
    {
     "name": "stdout",
     "output_type": "stream",
     "text": [
      "Processed lyrics for sentiment: neutral (score: 0.48)\n"
     ]
    },
    {
     "name": "stderr",
     "output_type": "stream",
     "text": [
      " 10%|█         | 8/78 [00:05<00:56,  1.25it/s]"
     ]
    },
    {
     "name": "stdout",
     "output_type": "stream",
     "text": [
      "Processed lyrics for sentiment: neutral (score: 0.70)\n"
     ]
    },
    {
     "name": "stderr",
     "output_type": "stream",
     "text": [
      " 12%|█▏        | 9/78 [00:06<00:49,  1.41it/s]"
     ]
    },
    {
     "name": "stdout",
     "output_type": "stream",
     "text": [
      "Processed lyrics for sentiment: positive (score: 0.93)\n"
     ]
    },
    {
     "name": "stderr",
     "output_type": "stream",
     "text": [
      " 13%|█▎        | 10/78 [00:07<00:51,  1.31it/s]"
     ]
    },
    {
     "name": "stdout",
     "output_type": "stream",
     "text": [
      "Processed lyrics for sentiment: negative (score: 0.92)\n"
     ]
    },
    {
     "name": "stderr",
     "output_type": "stream",
     "text": [
      " 14%|█▍        | 11/78 [00:07<00:50,  1.32it/s]"
     ]
    },
    {
     "name": "stdout",
     "output_type": "stream",
     "text": [
      "Processed lyrics for sentiment: negative (score: 0.54)\n"
     ]
    },
    {
     "name": "stderr",
     "output_type": "stream",
     "text": [
      " 15%|█▌        | 12/78 [00:08<00:51,  1.28it/s]"
     ]
    },
    {
     "name": "stdout",
     "output_type": "stream",
     "text": [
      "Processed lyrics for sentiment: negative (score: 0.41)\n"
     ]
    },
    {
     "name": "stderr",
     "output_type": "stream",
     "text": [
      " 17%|█▋        | 13/78 [00:09<00:44,  1.45it/s]"
     ]
    },
    {
     "name": "stdout",
     "output_type": "stream",
     "text": [
      "Processed lyrics for sentiment: negative (score: 0.63)\n"
     ]
    },
    {
     "name": "stderr",
     "output_type": "stream",
     "text": [
      " 18%|█▊        | 14/78 [00:10<00:47,  1.36it/s]"
     ]
    },
    {
     "name": "stdout",
     "output_type": "stream",
     "text": [
      "Processed lyrics for sentiment: negative (score: 0.49)\n"
     ]
    },
    {
     "name": "stderr",
     "output_type": "stream",
     "text": [
      " 19%|█▉        | 15/78 [00:10<00:45,  1.37it/s]"
     ]
    },
    {
     "name": "stdout",
     "output_type": "stream",
     "text": [
      "Processed lyrics for sentiment: negative (score: 0.90)\n"
     ]
    },
    {
     "name": "stderr",
     "output_type": "stream",
     "text": [
      " 21%|██        | 16/78 [00:11<00:46,  1.35it/s]"
     ]
    },
    {
     "name": "stdout",
     "output_type": "stream",
     "text": [
      "Processed lyrics for sentiment: negative (score: 0.91)\n"
     ]
    },
    {
     "name": "stderr",
     "output_type": "stream",
     "text": [
      " 22%|██▏       | 17/78 [00:12<00:47,  1.29it/s]"
     ]
    },
    {
     "name": "stdout",
     "output_type": "stream",
     "text": [
      "Processed lyrics for sentiment: negative (score: 0.80)\n"
     ]
    },
    {
     "name": "stderr",
     "output_type": "stream",
     "text": [
      " 23%|██▎       | 18/78 [00:13<00:49,  1.21it/s]"
     ]
    },
    {
     "name": "stdout",
     "output_type": "stream",
     "text": [
      "Processed lyrics for sentiment: negative (score: 0.76)\n"
     ]
    },
    {
     "name": "stderr",
     "output_type": "stream",
     "text": [
      " 24%|██▍       | 19/78 [00:14<00:51,  1.15it/s]"
     ]
    },
    {
     "name": "stdout",
     "output_type": "stream",
     "text": [
      "Processed lyrics for sentiment: negative (score: 0.83)\n"
     ]
    },
    {
     "name": "stderr",
     "output_type": "stream",
     "text": [
      " 26%|██▌       | 20/78 [00:15<00:49,  1.17it/s]"
     ]
    },
    {
     "name": "stdout",
     "output_type": "stream",
     "text": [
      "Processed lyrics for sentiment: negative (score: 0.44)\n"
     ]
    },
    {
     "name": "stderr",
     "output_type": "stream",
     "text": [
      " 27%|██▋       | 21/78 [00:15<00:41,  1.36it/s]"
     ]
    },
    {
     "name": "stdout",
     "output_type": "stream",
     "text": [
      "Processed lyrics for sentiment: positive (score: 0.96)\n"
     ]
    },
    {
     "name": "stderr",
     "output_type": "stream",
     "text": [
      " 28%|██▊       | 22/78 [00:16<00:41,  1.34it/s]"
     ]
    },
    {
     "name": "stdout",
     "output_type": "stream",
     "text": [
      "Processed lyrics for sentiment: negative (score: 0.94)\n"
     ]
    },
    {
     "name": "stderr",
     "output_type": "stream",
     "text": [
      " 29%|██▉       | 23/78 [00:16<00:38,  1.44it/s]"
     ]
    },
    {
     "name": "stdout",
     "output_type": "stream",
     "text": [
      "Processed lyrics for sentiment: negative (score: 0.94)\n"
     ]
    },
    {
     "name": "stderr",
     "output_type": "stream",
     "text": [
      " 31%|███       | 24/78 [00:17<00:32,  1.65it/s]"
     ]
    },
    {
     "name": "stdout",
     "output_type": "stream",
     "text": [
      "Processed lyrics for sentiment: negative (score: 0.62)\n"
     ]
    },
    {
     "name": "stderr",
     "output_type": "stream",
     "text": [
      " 32%|███▏      | 25/78 [00:18<00:34,  1.53it/s]"
     ]
    },
    {
     "name": "stdout",
     "output_type": "stream",
     "text": [
      "Processed lyrics for sentiment: negative (score: 0.44)\n"
     ]
    },
    {
     "name": "stderr",
     "output_type": "stream",
     "text": [
      " 33%|███▎      | 26/78 [00:18<00:31,  1.67it/s]"
     ]
    },
    {
     "name": "stdout",
     "output_type": "stream",
     "text": [
      "Processed lyrics for sentiment: negative (score: 0.97)\n"
     ]
    },
    {
     "name": "stderr",
     "output_type": "stream",
     "text": [
      " 35%|███▍      | 27/78 [00:19<00:28,  1.79it/s]"
     ]
    },
    {
     "name": "stdout",
     "output_type": "stream",
     "text": [
      "Processed lyrics for sentiment: neutral (score: 0.66)\n"
     ]
    },
    {
     "name": "stderr",
     "output_type": "stream",
     "text": [
      " 36%|███▌      | 28/78 [00:19<00:27,  1.79it/s]"
     ]
    },
    {
     "name": "stdout",
     "output_type": "stream",
     "text": [
      "Processed lyrics for sentiment: negative (score: 0.84)\n"
     ]
    },
    {
     "name": "stderr",
     "output_type": "stream",
     "text": [
      " 37%|███▋      | 29/78 [00:20<00:25,  1.94it/s]"
     ]
    },
    {
     "name": "stdout",
     "output_type": "stream",
     "text": [
      "Processed lyrics for sentiment: neutral (score: 0.36)\n"
     ]
    },
    {
     "name": "stderr",
     "output_type": "stream",
     "text": [
      " 38%|███▊      | 30/78 [00:20<00:24,  1.96it/s]"
     ]
    },
    {
     "name": "stdout",
     "output_type": "stream",
     "text": [
      "Processed lyrics for sentiment: neutral (score: 0.55)\n"
     ]
    },
    {
     "name": "stderr",
     "output_type": "stream",
     "text": [
      " 40%|███▉      | 31/78 [00:21<00:23,  1.97it/s]"
     ]
    },
    {
     "name": "stdout",
     "output_type": "stream",
     "text": [
      "Processed lyrics for sentiment: positive (score: 0.94)\n"
     ]
    },
    {
     "name": "stderr",
     "output_type": "stream",
     "text": [
      " 41%|████      | 32/78 [00:21<00:27,  1.69it/s]"
     ]
    },
    {
     "name": "stdout",
     "output_type": "stream",
     "text": [
      "Processed lyrics for sentiment: positive (score: 0.96)\n"
     ]
    },
    {
     "name": "stderr",
     "output_type": "stream",
     "text": [
      " 42%|████▏     | 33/78 [00:22<00:26,  1.68it/s]"
     ]
    },
    {
     "name": "stdout",
     "output_type": "stream",
     "text": [
      "Processed lyrics for sentiment: negative (score: 0.96)\n"
     ]
    },
    {
     "name": "stderr",
     "output_type": "stream",
     "text": [
      " 44%|████▎     | 34/78 [00:23<00:29,  1.48it/s]"
     ]
    },
    {
     "name": "stdout",
     "output_type": "stream",
     "text": [
      "Processed lyrics for sentiment: positive (score: 0.54)\n"
     ]
    },
    {
     "name": "stderr",
     "output_type": "stream",
     "text": [
      " 45%|████▍     | 35/78 [00:24<00:30,  1.43it/s]"
     ]
    },
    {
     "name": "stdout",
     "output_type": "stream",
     "text": [
      "Processed lyrics for sentiment: negative (score: 0.88)\n"
     ]
    },
    {
     "name": "stderr",
     "output_type": "stream",
     "text": [
      " 46%|████▌     | 36/78 [00:24<00:31,  1.34it/s]"
     ]
    },
    {
     "name": "stdout",
     "output_type": "stream",
     "text": [
      "Processed lyrics for sentiment: positive (score: 0.59)\n"
     ]
    },
    {
     "name": "stderr",
     "output_type": "stream",
     "text": [
      " 47%|████▋     | 37/78 [00:25<00:31,  1.31it/s]"
     ]
    },
    {
     "name": "stdout",
     "output_type": "stream",
     "text": [
      "Processed lyrics for sentiment: positive (score: 0.85)\n"
     ]
    },
    {
     "name": "stderr",
     "output_type": "stream",
     "text": [
      " 49%|████▊     | 38/78 [00:26<00:30,  1.31it/s]"
     ]
    },
    {
     "name": "stdout",
     "output_type": "stream",
     "text": [
      "Processed lyrics for sentiment: neutral (score: 0.55)\n"
     ]
    },
    {
     "name": "stderr",
     "output_type": "stream",
     "text": [
      " 50%|█████     | 39/78 [00:27<00:30,  1.27it/s]"
     ]
    },
    {
     "name": "stdout",
     "output_type": "stream",
     "text": [
      "Processed lyrics for sentiment: negative (score: 0.65)\n"
     ]
    },
    {
     "name": "stderr",
     "output_type": "stream",
     "text": [
      " 51%|█████▏    | 40/78 [00:28<00:29,  1.27it/s]"
     ]
    },
    {
     "name": "stdout",
     "output_type": "stream",
     "text": [
      "Processed lyrics for sentiment: negative (score: 0.98)\n"
     ]
    },
    {
     "name": "stderr",
     "output_type": "stream",
     "text": [
      " 53%|█████▎    | 41/78 [00:28<00:25,  1.46it/s]"
     ]
    },
    {
     "name": "stdout",
     "output_type": "stream",
     "text": [
      "Processed lyrics for sentiment: negative (score: 0.71)\n"
     ]
    },
    {
     "name": "stderr",
     "output_type": "stream",
     "text": [
      " 54%|█████▍    | 42/78 [00:29<00:22,  1.63it/s]"
     ]
    },
    {
     "name": "stdout",
     "output_type": "stream",
     "text": [
      "Processed lyrics for sentiment: negative (score: 0.92)\n"
     ]
    },
    {
     "name": "stderr",
     "output_type": "stream",
     "text": [
      " 55%|█████▌    | 43/78 [00:29<00:19,  1.78it/s]"
     ]
    },
    {
     "name": "stdout",
     "output_type": "stream",
     "text": [
      "Processed lyrics for sentiment: negative (score: 0.92)\n"
     ]
    },
    {
     "name": "stderr",
     "output_type": "stream",
     "text": [
      " 56%|█████▋    | 44/78 [00:30<00:20,  1.62it/s]"
     ]
    },
    {
     "name": "stdout",
     "output_type": "stream",
     "text": [
      "Processed lyrics for sentiment: positive (score: 0.58)\n"
     ]
    },
    {
     "name": "stderr",
     "output_type": "stream",
     "text": [
      " 58%|█████▊    | 45/78 [00:30<00:20,  1.61it/s]"
     ]
    },
    {
     "name": "stdout",
     "output_type": "stream",
     "text": [
      "Processed lyrics for sentiment: positive (score: 0.81)\n"
     ]
    },
    {
     "name": "stderr",
     "output_type": "stream",
     "text": [
      " 59%|█████▉    | 46/78 [00:31<00:17,  1.88it/s]"
     ]
    },
    {
     "name": "stdout",
     "output_type": "stream",
     "text": [
      "Processed lyrics for sentiment: negative (score: 0.59)\n"
     ]
    },
    {
     "name": "stderr",
     "output_type": "stream",
     "text": [
      " 60%|██████    | 47/78 [00:31<00:15,  1.97it/s]"
     ]
    },
    {
     "name": "stdout",
     "output_type": "stream",
     "text": [
      "Processed lyrics for sentiment: negative (score: 0.60)\n"
     ]
    },
    {
     "name": "stderr",
     "output_type": "stream",
     "text": [
      " 62%|██████▏   | 48/78 [00:31<00:14,  2.11it/s]"
     ]
    },
    {
     "name": "stdout",
     "output_type": "stream",
     "text": [
      "Processed lyrics for sentiment: negative (score: 0.87)\n"
     ]
    },
    {
     "name": "stderr",
     "output_type": "stream",
     "text": [
      " 63%|██████▎   | 49/78 [00:32<00:13,  2.17it/s]"
     ]
    },
    {
     "name": "stdout",
     "output_type": "stream",
     "text": [
      "Processed lyrics for sentiment: negative (score: 0.86)\n"
     ]
    },
    {
     "name": "stderr",
     "output_type": "stream",
     "text": [
      " 64%|██████▍   | 50/78 [00:33<00:14,  1.99it/s]"
     ]
    },
    {
     "name": "stdout",
     "output_type": "stream",
     "text": [
      "Processed lyrics for sentiment: neutral (score: 0.47)\n"
     ]
    },
    {
     "name": "stderr",
     "output_type": "stream",
     "text": [
      " 65%|██████▌   | 51/78 [00:33<00:15,  1.74it/s]"
     ]
    },
    {
     "name": "stdout",
     "output_type": "stream",
     "text": [
      "Processed lyrics for sentiment: positive (score: 0.92)\n"
     ]
    },
    {
     "name": "stderr",
     "output_type": "stream",
     "text": [
      " 67%|██████▋   | 52/78 [00:34<00:14,  1.79it/s]"
     ]
    },
    {
     "name": "stdout",
     "output_type": "stream",
     "text": [
      "Processed lyrics for sentiment: positive (score: 0.99)\n"
     ]
    },
    {
     "name": "stderr",
     "output_type": "stream",
     "text": [
      " 68%|██████▊   | 53/78 [00:35<00:15,  1.64it/s]"
     ]
    },
    {
     "name": "stdout",
     "output_type": "stream",
     "text": [
      "Processed lyrics for sentiment: positive (score: 0.94)\n"
     ]
    },
    {
     "name": "stderr",
     "output_type": "stream",
     "text": [
      " 69%|██████▉   | 54/78 [00:35<00:13,  1.81it/s]"
     ]
    },
    {
     "name": "stdout",
     "output_type": "stream",
     "text": [
      "Processed lyrics for sentiment: negative (score: 0.56)\n"
     ]
    },
    {
     "name": "stderr",
     "output_type": "stream",
     "text": [
      " 71%|███████   | 55/78 [00:35<00:11,  2.07it/s]"
     ]
    },
    {
     "name": "stdout",
     "output_type": "stream",
     "text": [
      "Processed lyrics for sentiment: neutral (score: 0.44)\n"
     ]
    },
    {
     "name": "stderr",
     "output_type": "stream",
     "text": [
      " 72%|███████▏  | 56/78 [00:36<00:10,  2.16it/s]"
     ]
    },
    {
     "name": "stdout",
     "output_type": "stream",
     "text": [
      "Processed lyrics for sentiment: negative (score: 0.80)\n"
     ]
    },
    {
     "name": "stderr",
     "output_type": "stream",
     "text": [
      " 73%|███████▎  | 57/78 [00:36<00:08,  2.39it/s]"
     ]
    },
    {
     "name": "stdout",
     "output_type": "stream",
     "text": [
      "Processed lyrics for sentiment: negative (score: 0.96)\n"
     ]
    },
    {
     "name": "stderr",
     "output_type": "stream",
     "text": [
      " 74%|███████▍  | 58/78 [00:37<00:09,  2.14it/s]"
     ]
    },
    {
     "name": "stdout",
     "output_type": "stream",
     "text": [
      "Processed lyrics for sentiment: negative (score: 0.94)\n"
     ]
    },
    {
     "name": "stderr",
     "output_type": "stream",
     "text": [
      " 76%|███████▌  | 59/78 [00:37<00:09,  2.07it/s]"
     ]
    },
    {
     "name": "stdout",
     "output_type": "stream",
     "text": [
      "Processed lyrics for sentiment: positive (score: 0.85)\n"
     ]
    },
    {
     "name": "stderr",
     "output_type": "stream",
     "text": [
      " 77%|███████▋  | 60/78 [00:38<00:08,  2.02it/s]"
     ]
    },
    {
     "name": "stdout",
     "output_type": "stream",
     "text": [
      "Processed lyrics for sentiment: negative (score: 0.93)\n"
     ]
    },
    {
     "name": "stderr",
     "output_type": "stream",
     "text": [
      " 78%|███████▊  | 61/78 [00:38<00:08,  1.91it/s]"
     ]
    },
    {
     "name": "stdout",
     "output_type": "stream",
     "text": [
      "Processed lyrics for sentiment: neutral (score: 0.61)\n"
     ]
    },
    {
     "name": "stderr",
     "output_type": "stream",
     "text": [
      " 79%|███████▉  | 62/78 [00:39<00:08,  1.95it/s]"
     ]
    },
    {
     "name": "stdout",
     "output_type": "stream",
     "text": [
      "Processed lyrics for sentiment: negative (score: 0.83)\n"
     ]
    },
    {
     "name": "stderr",
     "output_type": "stream",
     "text": [
      " 81%|████████  | 63/78 [00:39<00:08,  1.75it/s]"
     ]
    },
    {
     "name": "stdout",
     "output_type": "stream",
     "text": [
      "Processed lyrics for sentiment: positive (score: 0.92)\n"
     ]
    },
    {
     "name": "stderr",
     "output_type": "stream",
     "text": [
      " 82%|████████▏ | 64/78 [00:40<00:08,  1.61it/s]"
     ]
    },
    {
     "name": "stdout",
     "output_type": "stream",
     "text": [
      "Processed lyrics for sentiment: negative (score: 0.66)\n"
     ]
    },
    {
     "name": "stderr",
     "output_type": "stream",
     "text": [
      " 83%|████████▎ | 65/78 [00:41<00:08,  1.51it/s]"
     ]
    },
    {
     "name": "stdout",
     "output_type": "stream",
     "text": [
      "Processed lyrics for sentiment: neutral (score: 0.44)\n"
     ]
    },
    {
     "name": "stderr",
     "output_type": "stream",
     "text": [
      " 85%|████████▍ | 66/78 [00:42<00:08,  1.46it/s]"
     ]
    },
    {
     "name": "stdout",
     "output_type": "stream",
     "text": [
      "Processed lyrics for sentiment: negative (score: 0.96)\n"
     ]
    },
    {
     "name": "stderr",
     "output_type": "stream",
     "text": [
      " 86%|████████▌ | 67/78 [00:42<00:07,  1.43it/s]"
     ]
    },
    {
     "name": "stdout",
     "output_type": "stream",
     "text": [
      "Processed lyrics for sentiment: negative (score: 0.73)\n"
     ]
    },
    {
     "name": "stderr",
     "output_type": "stream",
     "text": [
      " 87%|████████▋ | 68/78 [00:43<00:06,  1.52it/s]"
     ]
    },
    {
     "name": "stdout",
     "output_type": "stream",
     "text": [
      "Processed lyrics for sentiment: negative (score: 0.78)\n"
     ]
    },
    {
     "name": "stderr",
     "output_type": "stream",
     "text": [
      " 88%|████████▊ | 69/78 [00:44<00:06,  1.46it/s]"
     ]
    },
    {
     "name": "stdout",
     "output_type": "stream",
     "text": [
      "Processed lyrics for sentiment: negative (score: 0.84)\n"
     ]
    },
    {
     "name": "stderr",
     "output_type": "stream",
     "text": [
      " 90%|████████▉ | 70/78 [00:44<00:05,  1.53it/s]"
     ]
    },
    {
     "name": "stdout",
     "output_type": "stream",
     "text": [
      "Processed lyrics for sentiment: negative (score: 0.99)\n"
     ]
    },
    {
     "name": "stderr",
     "output_type": "stream",
     "text": [
      " 91%|█████████ | 71/78 [00:45<00:04,  1.47it/s]"
     ]
    },
    {
     "name": "stdout",
     "output_type": "stream",
     "text": [
      "Processed lyrics for sentiment: negative (score: 0.84)\n"
     ]
    },
    {
     "name": "stderr",
     "output_type": "stream",
     "text": [
      " 92%|█████████▏| 72/78 [00:46<00:03,  1.51it/s]"
     ]
    },
    {
     "name": "stdout",
     "output_type": "stream",
     "text": [
      "Processed lyrics for sentiment: neutral (score: 0.43)\n"
     ]
    },
    {
     "name": "stderr",
     "output_type": "stream",
     "text": [
      " 94%|█████████▎| 73/78 [00:46<00:03,  1.45it/s]"
     ]
    },
    {
     "name": "stdout",
     "output_type": "stream",
     "text": [
      "Processed lyrics for sentiment: negative (score: 0.77)\n"
     ]
    },
    {
     "name": "stderr",
     "output_type": "stream",
     "text": [
      " 95%|█████████▍| 74/78 [00:47<00:02,  1.61it/s]"
     ]
    },
    {
     "name": "stdout",
     "output_type": "stream",
     "text": [
      "Processed lyrics for sentiment: negative (score: 0.93)\n"
     ]
    },
    {
     "name": "stderr",
     "output_type": "stream",
     "text": [
      " 96%|█████████▌| 75/78 [00:47<00:01,  1.89it/s]"
     ]
    },
    {
     "name": "stdout",
     "output_type": "stream",
     "text": [
      "Processed lyrics for sentiment: negative (score: 0.98)\n"
     ]
    },
    {
     "name": "stderr",
     "output_type": "stream",
     "text": [
      " 97%|█████████▋| 76/78 [00:48<00:01,  1.70it/s]"
     ]
    },
    {
     "name": "stdout",
     "output_type": "stream",
     "text": [
      "Processed lyrics for sentiment: negative (score: 0.95)\n"
     ]
    },
    {
     "name": "stderr",
     "output_type": "stream",
     "text": [
      " 99%|█████████▊| 77/78 [00:49<00:00,  1.58it/s]"
     ]
    },
    {
     "name": "stdout",
     "output_type": "stream",
     "text": [
      "Processed lyrics for sentiment: negative (score: 0.96)\n"
     ]
    },
    {
     "name": "stderr",
     "output_type": "stream",
     "text": [
      "100%|██████████| 78/78 [00:49<00:00,  1.51it/s]"
     ]
    },
    {
     "name": "stdout",
     "output_type": "stream",
     "text": [
      "Processed lyrics for sentiment: negative (score: 0.83)\n"
     ]
    },
    {
     "name": "stderr",
     "output_type": "stream",
     "text": [
      "100%|██████████| 78/78 [00:50<00:00,  1.54it/s]"
     ]
    },
    {
     "name": "stdout",
     "output_type": "stream",
     "text": [
      "Processed lyrics for sentiment: negative (score: 0.72)\n",
      "Detected emotion: love (keywords matched)\n",
      "Detected emotion: love (keywords matched)\n",
      "Detected emotion: love (keywords matched)\n",
      "Detected emotion: love (keywords matched)\n",
      "Detected emotion: love (keywords matched)\n",
      "Detected emotion: love (keywords matched)\n",
      "Detected emotion: love (keywords matched)\n",
      "Detected emotion: love (keywords matched)\n",
      "Detected emotion: love (keywords matched)\n",
      "Detected emotion: love (keywords matched)\n",
      "Detected emotion: love (keywords matched)\n",
      "Detected emotion: love (keywords matched)\n",
      "Detected emotion: love (keywords matched)\n",
      "Detected emotion: love (keywords matched)\n",
      "Detected emotion: love (keywords matched)\n",
      "Detected emotion: love (keywords matched)\n",
      "Detected emotion: love (keywords matched)\n",
      "Detected emotion: love (keywords matched)\n",
      "Detected emotion: love (keywords matched)\n",
      "Detected emotion: love (keywords matched)\n",
      "Detected emotion: love (keywords matched)\n",
      "Detected emotion: joy (keywords matched)\n",
      "Detected emotion: love (keywords matched)\n",
      "Detected emotion: love (keywords matched)\n",
      "Detected emotion: love (keywords matched)\n",
      "Detected emotion: love (keywords matched)\n",
      "Detected emotion: love (keywords matched)\n",
      "Detected emotion: love (keywords matched)\n",
      "No keyword match. Defaulting to emotion: neutral\n",
      "Detected emotion: love (keywords matched)\n",
      "No keyword match. Defaulting to emotion: joy\n",
      "Detected emotion: love (keywords matched)\n",
      "Detected emotion: love (keywords matched)\n",
      "Detected emotion: love (keywords matched)\n",
      "Detected emotion: love (keywords matched)\n",
      "Detected emotion: love (keywords matched)\n",
      "Detected emotion: love (keywords matched)\n",
      "Detected emotion: love (keywords matched)\n",
      "Detected emotion: love (keywords matched)\n",
      "Detected emotion: love (keywords matched)\n",
      "Detected emotion: love (keywords matched)\n",
      "Detected emotion: love (keywords matched)\n",
      "Detected emotion: love (keywords matched)\n",
      "Detected emotion: love (keywords matched)\n",
      "Detected emotion: love (keywords matched)\n",
      "Detected emotion: love (keywords matched)\n",
      "Detected emotion: love (keywords matched)\n",
      "Detected emotion: love (keywords matched)\n",
      "Detected emotion: love (keywords matched)\n",
      "Detected emotion: love (keywords matched)\n",
      "Detected emotion: love (keywords matched)\n",
      "Detected emotion: love (keywords matched)\n",
      "Detected emotion: love (keywords matched)\n",
      "Detected emotion: love (keywords matched)\n",
      "Detected emotion: love (keywords matched)\n",
      "Detected emotion: love (keywords matched)\n",
      "Detected emotion: love (keywords matched)\n",
      "Detected emotion: love (keywords matched)\n",
      "Detected emotion: love (keywords matched)\n",
      "Detected emotion: longing (keywords matched)\n",
      "Detected emotion: love (keywords matched)\n",
      "Detected emotion: love (keywords matched)\n",
      "Detected emotion: love (keywords matched)\n",
      "Detected emotion: love (keywords matched)\n",
      "Detected emotion: love (keywords matched)\n",
      "Detected emotion: love (keywords matched)\n",
      "Detected emotion: love (keywords matched)\n",
      "Detected emotion: love (keywords matched)\n",
      "Detected emotion: love (keywords matched)\n",
      "Detected emotion: love (keywords matched)\n",
      "No keyword match. Defaulting to emotion: neutral\n",
      "Detected emotion: love (keywords matched)\n",
      "Detected emotion: love (keywords matched)\n",
      "Detected emotion: love (keywords matched)\n",
      "Detected emotion: love (keywords matched)\n",
      "Detected emotion: love (keywords matched)\n",
      "Detected emotion: love (keywords matched)\n",
      "Detected emotion: love (keywords matched)\n",
      "Sentiment and emotion analysis completed.\n"
     ]
    },
    {
     "name": "stderr",
     "output_type": "stream",
     "text": [
      "\n"
     ]
    },
    {
     "name": "stdout",
     "output_type": "stream",
     "text": [
      "Updated dataset saved as 'george_wassouf_lyrics_with_sentiment.csv'.\n"
     ]
    }
   ],
   "source": [
    "# Apply sentiment and emotion analysis with progress bar\n",
    "print(\"Starting sentiment and emotion analysis...\")\n",
    "tqdm.pandas()\n",
    "data['Sentiment'], data['Sentiment_Score'] = zip(*data['Tokenized & Preprocessed Lyrics'].progress_apply(analyze_sentiment))\n",
    "data['Emotion'] = data.apply(lambda x: infer_emotion(x['Tokenized & Preprocessed Lyrics'], x['Sentiment']), axis=1)\n",
    "print(\"Sentiment and emotion analysis completed.\")\n",
    "# Save the updated dataset\n",
    "data.to_csv('george_wassouf_lyrics_with_sentiment.csv', index=False, encoding='utf-8-sig')\n",
    "print(\"Updated dataset saved as 'george_wassouf_lyrics_with_sentiment.csv'.\")"
   ]
  },
  {
   "cell_type": "markdown",
   "metadata": {},
   "source": [
    "## Visualization"
   ]
  },
  {
   "cell_type": "code",
   "execution_count": 106,
   "metadata": {},
   "outputs": [
    {
     "name": "stdout",
     "output_type": "stream",
     "text": [
      "Generating sentiment distribution plot...\n",
      "Sentiment plot saved as 'sentiment_by_year.png'.\n",
      "Generating emotion distribution plot...\n",
      "Emotion plot saved as 'emotion_distribution.png'.\n",
      "Sample Results:\n",
      "        Track Title Sentiment  Sentiment_Score Emotion\n",
      "0          اه حبايب  negative         0.951673    love\n",
      "1        قلبى الشوق  positive         0.959222    love\n",
      "2    ادى اللى كانوا  negative         0.789937    love\n",
      "3  قلب العاشق دليله  positive         0.874578    love\n",
      "4       الفرقه صعبه  negative         0.942141    love\n"
     ]
    }
   ],
   "source": [
    "print(\"Generating sentiment distribution plot...\")\n",
    "data['Release year'] = data['Release year'].astype(str)  # Avoid seaborn warning\n",
    "plt.figure(figsize=(12, 6))\n",
    "sns.countplot(data=data, x='Release year', hue='Sentiment')\n",
    "plt.title('Sentiment Distribution of George Wassouf Songs by Release Year')\n",
    "plt.xlabel('Release Year')\n",
    "plt.ylabel('Song Count')\n",
    "plt.xticks(rotation=45)\n",
    "plt.tight_layout()\n",
    "plt.savefig('sentiment_by_year.png')\n",
    "plt.close()\n",
    "print(\"Sentiment plot saved as 'sentiment_by_year.png'.\")\n",
    "###############\n",
    "print(\"Generating emotion distribution plot...\")\n",
    "plt.figure(figsize=(10, 5))\n",
    "sns.countplot(data=data, x='Emotion')\n",
    "plt.title('Emotion Distribution in George Wassouf Songs')\n",
    "plt.xlabel('Emotion')\n",
    "plt.ylabel('Song Count')\n",
    "plt.tight_layout()\n",
    "plt.savefig('emotion_distribution.png')\n",
    "plt.close()\n",
    "print(\"Emotion plot saved as 'emotion_distribution.png'.\")\n",
    "\n",
    "# Print sample results\n",
    "print(\"Sample Results:\")\n",
    "print(data[['Track Title', 'Sentiment', 'Sentiment_Score', 'Emotion']].head())"
   ]
  },
  {
   "cell_type": "markdown",
   "metadata": {},
   "source": [
    "## Imports2"
   ]
  },
  {
   "cell_type": "code",
   "execution_count": 107,
   "metadata": {},
   "outputs": [
    {
     "name": "stdout",
     "output_type": "stream",
     "text": [
      "Requirement already satisfied: umap-learn in c:\\users\\admin\\appdata\\local\\programs\\python\\python312\\lib\\site-packages (0.5.7)\n",
      "Requirement already satisfied: numpy>=1.17 in c:\\users\\admin\\appdata\\local\\programs\\python\\python312\\lib\\site-packages (from umap-learn) (1.26.4)\n",
      "Requirement already satisfied: scipy>=1.3.1 in c:\\users\\admin\\appdata\\local\\programs\\python\\python312\\lib\\site-packages (from umap-learn) (1.13.1)\n",
      "Requirement already satisfied: scikit-learn>=0.22 in c:\\users\\admin\\appdata\\local\\programs\\python\\python312\\lib\\site-packages (from umap-learn) (1.5.2)\n",
      "Requirement already satisfied: numba>=0.51.2 in c:\\users\\admin\\appdata\\local\\programs\\python\\python312\\lib\\site-packages (from umap-learn) (0.61.2)\n",
      "Requirement already satisfied: pynndescent>=0.5 in c:\\users\\admin\\appdata\\local\\programs\\python\\python312\\lib\\site-packages (from umap-learn) (0.5.13)\n",
      "Requirement already satisfied: tqdm in c:\\users\\admin\\appdata\\local\\programs\\python\\python312\\lib\\site-packages (from umap-learn) (4.67.1)\n",
      "Requirement already satisfied: llvmlite<0.45,>=0.44.0dev0 in c:\\users\\admin\\appdata\\local\\programs\\python\\python312\\lib\\site-packages (from numba>=0.51.2->umap-learn) (0.44.0)\n",
      "Requirement already satisfied: joblib>=0.11 in c:\\users\\admin\\appdata\\local\\programs\\python\\python312\\lib\\site-packages (from pynndescent>=0.5->umap-learn) (1.4.2)\n",
      "Requirement already satisfied: threadpoolctl>=3.1.0 in c:\\users\\admin\\appdata\\local\\programs\\python\\python312\\lib\\site-packages (from scikit-learn>=0.22->umap-learn) (3.5.0)\n",
      "Requirement already satisfied: colorama in c:\\users\\admin\\appdata\\roaming\\python\\python312\\site-packages (from tqdm->umap-learn) (0.4.6)\n",
      "Note: you may need to restart the kernel to use updated packages.\n"
     ]
    }
   ],
   "source": [
    "import pandas as pd\n",
    "import numpy as np\n",
    "from transformers import AutoTokenizer, AutoModel\n",
    "import torch\n",
    "from sklearn.cluster import KMeans\n",
    "from sklearn.metrics.pairwise import cosine_similarity\n",
    "%pip install umap-learn\n",
    "import umap\n",
    "import seaborn as sns\n",
    "import matplotlib.pyplot as plt\n",
    "from tqdm import tqdm"
   ]
  },
  {
   "cell_type": "markdown",
   "metadata": {},
   "source": [
    "## Load the dataset"
   ]
  },
  {
   "cell_type": "code",
   "execution_count": 108,
   "metadata": {},
   "outputs": [
    {
     "name": "stdout",
     "output_type": "stream",
     "text": [
      "Loading dataset: george_wassouf_lyrics_tokenized.csv\n",
      "Dataset loaded successfully. Total songs: 78\n"
     ]
    }
   ],
   "source": [
    "print(\"Loading dataset: george_wassouf_lyrics_tokenized.csv\")\n",
    "try:\n",
    "    data = pd.read_csv('george_wassouf_lyrics_tokenized.csv')\n",
    "    print(f\"Dataset loaded successfully. Total songs: {len(data)}\")\n",
    "except FileNotFoundError:\n",
    "    print(\"Error: Dataset file 'george_wassouf_lyrics_tokenized.csv' not found.\")\n",
    "    raise"
   ]
  },
  {
   "cell_type": "markdown",
   "metadata": {},
   "source": [
    "## Initialize AraBERT model and tokenizer"
   ]
  },
  {
   "cell_type": "code",
   "execution_count": 109,
   "metadata": {},
   "outputs": [
    {
     "name": "stdout",
     "output_type": "stream",
     "text": [
      "Loading model: aubmindlab/bert-base-arabertv2\n"
     ]
    },
    {
     "name": "stderr",
     "output_type": "stream",
     "text": [
      "c:\\Users\\ADMIN\\AppData\\Local\\Programs\\Python\\Python312\\Lib\\site-packages\\transformers\\tokenization_utils_base.py:1601: FutureWarning:\n",
      "\n",
      "`clean_up_tokenization_spaces` was not set. It will be set to `True` by default. This behavior will be depracted in transformers v4.45, and will be then set to `False` by default. For more details check this issue: https://github.com/huggingface/transformers/issues/31884\n",
      "\n"
     ]
    },
    {
     "name": "stdout",
     "output_type": "stream",
     "text": [
      "Error loading model: Failed to import transformers.models.mamba2.configuration_mamba2 because of the following error (look up to see its traceback):\n",
      "No module named 'transformers.models.mamba2.configuration_mamba2'\n"
     ]
    },
    {
     "ename": "RuntimeError",
     "evalue": "Failed to import transformers.models.mamba2.configuration_mamba2 because of the following error (look up to see its traceback):\nNo module named 'transformers.models.mamba2.configuration_mamba2'",
     "output_type": "error",
     "traceback": [
      "\u001b[1;31m---------------------------------------------------------------------------\u001b[0m",
      "\u001b[1;31mModuleNotFoundError\u001b[0m                       Traceback (most recent call last)",
      "File \u001b[1;32mc:\\Users\\ADMIN\\AppData\\Local\\Programs\\Python\\Python312\\Lib\\site-packages\\transformers\\utils\\import_utils.py:1603\u001b[0m, in \u001b[0;36m_get_module\u001b[1;34m(self, module_name)\u001b[0m\n\u001b[0;32m   1601\u001b[0m \u001b[38;5;28;01mdef\u001b[39;00m \u001b[38;5;21mdirect_transformers_import\u001b[39m(path: \u001b[38;5;28mstr\u001b[39m, file\u001b[38;5;241m=\u001b[39m\u001b[38;5;124m\"\u001b[39m\u001b[38;5;124m__init__.py\u001b[39m\u001b[38;5;124m\"\u001b[39m) \u001b[38;5;241m-\u001b[39m\u001b[38;5;241m>\u001b[39m ModuleType:\n\u001b[0;32m   1602\u001b[0m \u001b[38;5;250m    \u001b[39m\u001b[38;5;124;03m\"\"\"Imports transformers directly\u001b[39;00m\n\u001b[1;32m-> 1603\u001b[0m \n\u001b[0;32m   1604\u001b[0m \u001b[38;5;124;03m    Args:\u001b[39;00m\n\u001b[0;32m   1605\u001b[0m \u001b[38;5;124;03m        path (`str`): The path to the source file\u001b[39;00m\n\u001b[0;32m   1606\u001b[0m \u001b[38;5;124;03m        file (`str`, optional): The file to join with the path. Defaults to \"__init__.py\".\u001b[39;00m\n\u001b[0;32m   1607\u001b[0m \n\u001b[0;32m   1608\u001b[0m \u001b[38;5;124;03m    Returns:\u001b[39;00m\n\u001b[0;32m   1609\u001b[0m \u001b[38;5;124;03m        `ModuleType`: The resulting imported module\u001b[39;00m\n\u001b[0;32m   1610\u001b[0m \u001b[38;5;124;03m    \"\"\"\u001b[39;00m\n\u001b[0;32m   1611\u001b[0m     name \u001b[38;5;241m=\u001b[39m \u001b[38;5;124m\"\u001b[39m\u001b[38;5;124mtransformers\u001b[39m\u001b[38;5;124m\"\u001b[39m\n",
      "File \u001b[1;32mc:\\Users\\ADMIN\\AppData\\Local\\Programs\\Python\\Python312\\Lib\\importlib\\__init__.py:90\u001b[0m, in \u001b[0;36mimport_module\u001b[1;34m(name, package)\u001b[0m\n\u001b[0;32m     89\u001b[0m         level \u001b[38;5;241m+\u001b[39m\u001b[38;5;241m=\u001b[39m \u001b[38;5;241m1\u001b[39m\n\u001b[1;32m---> 90\u001b[0m \u001b[38;5;28;01mreturn\u001b[39;00m \u001b[43m_bootstrap\u001b[49m\u001b[38;5;241;43m.\u001b[39;49m\u001b[43m_gcd_import\u001b[49m\u001b[43m(\u001b[49m\u001b[43mname\u001b[49m\u001b[43m[\u001b[49m\u001b[43mlevel\u001b[49m\u001b[43m:\u001b[49m\u001b[43m]\u001b[49m\u001b[43m,\u001b[49m\u001b[43m \u001b[49m\u001b[43mpackage\u001b[49m\u001b[43m,\u001b[49m\u001b[43m \u001b[49m\u001b[43mlevel\u001b[49m\u001b[43m)\u001b[49m\n",
      "File \u001b[1;32m<frozen importlib._bootstrap>:1387\u001b[0m, in \u001b[0;36m_gcd_import\u001b[1;34m(name, package, level)\u001b[0m\n",
      "File \u001b[1;32m<frozen importlib._bootstrap>:1360\u001b[0m, in \u001b[0;36m_find_and_load\u001b[1;34m(name, import_)\u001b[0m\n",
      "File \u001b[1;32m<frozen importlib._bootstrap>:1324\u001b[0m, in \u001b[0;36m_find_and_load_unlocked\u001b[1;34m(name, import_)\u001b[0m\n",
      "\u001b[1;31mModuleNotFoundError\u001b[0m: No module named 'transformers.models.mamba2.configuration_mamba2'",
      "\nThe above exception was the direct cause of the following exception:\n",
      "\u001b[1;31mRuntimeError\u001b[0m                              Traceback (most recent call last)",
      "Cell \u001b[1;32mIn[109], line 5\u001b[0m\n\u001b[0;32m      3\u001b[0m \u001b[38;5;28;01mtry\u001b[39;00m:\n\u001b[0;32m      4\u001b[0m     tokenizer \u001b[38;5;241m=\u001b[39m AutoTokenizer\u001b[38;5;241m.\u001b[39mfrom_pretrained(model_name)\n\u001b[1;32m----> 5\u001b[0m     model \u001b[38;5;241m=\u001b[39m \u001b[43mAutoModel\u001b[49m\u001b[38;5;241;43m.\u001b[39;49m\u001b[43mfrom_pretrained\u001b[49m\u001b[43m(\u001b[49m\u001b[43mmodel_name\u001b[49m\u001b[43m)\u001b[49m\n\u001b[0;32m      6\u001b[0m     model\u001b[38;5;241m.\u001b[39meval()  \u001b[38;5;66;03m# Set to evaluation mode\u001b[39;00m\n\u001b[0;32m      7\u001b[0m     \u001b[38;5;28mprint\u001b[39m(\u001b[38;5;124mf\u001b[39m\u001b[38;5;124m\"\u001b[39m\u001b[38;5;124mModel and tokenizer initialized successfully for \u001b[39m\u001b[38;5;132;01m{\u001b[39;00mmodel_name\u001b[38;5;132;01m}\u001b[39;00m\u001b[38;5;124m\"\u001b[39m)\n",
      "File \u001b[1;32mc:\\Users\\ADMIN\\AppData\\Local\\Programs\\Python\\Python312\\Lib\\site-packages\\transformers\\models\\auto\\auto_factory.py:541\u001b[0m, in \u001b[0;36m_BaseAutoModelClass.from_pretrained\u001b[1;34m(cls, pretrained_model_name_or_path, *model_args, **kwargs)\u001b[0m\n\u001b[0;32m    538\u001b[0m         kwargs[\u001b[38;5;124m\"\u001b[39m\u001b[38;5;124mquantization_config\u001b[39m\u001b[38;5;124m\"\u001b[39m] \u001b[38;5;241m=\u001b[39m kwargs_orig[\u001b[38;5;124m\"\u001b[39m\u001b[38;5;124mquantization_config\u001b[39m\u001b[38;5;124m\"\u001b[39m]\n\u001b[0;32m    540\u001b[0m has_remote_code \u001b[38;5;241m=\u001b[39m \u001b[38;5;28mhasattr\u001b[39m(config, \u001b[38;5;124m\"\u001b[39m\u001b[38;5;124mauto_map\u001b[39m\u001b[38;5;124m\"\u001b[39m) \u001b[38;5;129;01mand\u001b[39;00m \u001b[38;5;28mcls\u001b[39m\u001b[38;5;241m.\u001b[39m\u001b[38;5;18m__name__\u001b[39m \u001b[38;5;129;01min\u001b[39;00m config\u001b[38;5;241m.\u001b[39mauto_map\n\u001b[1;32m--> 541\u001b[0m has_local_code \u001b[38;5;241m=\u001b[39m \u001b[38;5;28mtype\u001b[39m(config) \u001b[38;5;129;01min\u001b[39;00m \u001b[38;5;28;43mcls\u001b[39;49m\u001b[38;5;241;43m.\u001b[39;49m\u001b[43m_model_mapping\u001b[49m\u001b[38;5;241;43m.\u001b[39;49m\u001b[43mkeys\u001b[49m\u001b[43m(\u001b[49m\u001b[43m)\u001b[49m\n\u001b[0;32m    542\u001b[0m trust_remote_code \u001b[38;5;241m=\u001b[39m resolve_trust_remote_code(\n\u001b[0;32m    543\u001b[0m     trust_remote_code, pretrained_model_name_or_path, has_local_code, has_remote_code\n\u001b[0;32m    544\u001b[0m )\n\u001b[0;32m    546\u001b[0m \u001b[38;5;66;03m# Set the adapter kwargs\u001b[39;00m\n",
      "File \u001b[1;32mc:\\Users\\ADMIN\\AppData\\Local\\Programs\\Python\\Python312\\Lib\\site-packages\\transformers\\models\\auto\\auto_factory.py:753\u001b[0m, in \u001b[0;36m_LazyAutoMapping.keys\u001b[1;34m(self)\u001b[0m\n\u001b[0;32m    751\u001b[0m \u001b[38;5;28;01mdef\u001b[39;00m \u001b[38;5;21mkeys\u001b[39m(\u001b[38;5;28mself\u001b[39m):\n\u001b[0;32m    752\u001b[0m     mapping_keys \u001b[38;5;241m=\u001b[39m [\n\u001b[1;32m--> 753\u001b[0m         \u001b[38;5;28;43mself\u001b[39;49m\u001b[38;5;241;43m.\u001b[39;49m\u001b[43m_load_attr_from_module\u001b[49m\u001b[43m(\u001b[49m\u001b[43mkey\u001b[49m\u001b[43m,\u001b[49m\u001b[43m \u001b[49m\u001b[43mname\u001b[49m\u001b[43m)\u001b[49m\n\u001b[0;32m    754\u001b[0m         \u001b[38;5;28;01mfor\u001b[39;00m key, name \u001b[38;5;129;01min\u001b[39;00m \u001b[38;5;28mself\u001b[39m\u001b[38;5;241m.\u001b[39m_config_mapping\u001b[38;5;241m.\u001b[39mitems()\n\u001b[0;32m    755\u001b[0m         \u001b[38;5;28;01mif\u001b[39;00m key \u001b[38;5;129;01min\u001b[39;00m \u001b[38;5;28mself\u001b[39m\u001b[38;5;241m.\u001b[39m_model_mapping\u001b[38;5;241m.\u001b[39mkeys()\n\u001b[0;32m    756\u001b[0m     ]\n\u001b[0;32m    757\u001b[0m     \u001b[38;5;28;01mreturn\u001b[39;00m mapping_keys \u001b[38;5;241m+\u001b[39m \u001b[38;5;28mlist\u001b[39m(\u001b[38;5;28mself\u001b[39m\u001b[38;5;241m.\u001b[39m_extra_content\u001b[38;5;241m.\u001b[39mkeys())\n",
      "File \u001b[1;32mc:\\Users\\ADMIN\\AppData\\Local\\Programs\\Python\\Python312\\Lib\\site-packages\\transformers\\models\\auto\\auto_factory.py:749\u001b[0m, in \u001b[0;36m_LazyAutoMapping._load_attr_from_module\u001b[1;34m(self, model_type, attr)\u001b[0m\n\u001b[0;32m    747\u001b[0m \u001b[38;5;28;01mif\u001b[39;00m module_name \u001b[38;5;129;01mnot\u001b[39;00m \u001b[38;5;129;01min\u001b[39;00m \u001b[38;5;28mself\u001b[39m\u001b[38;5;241m.\u001b[39m_modules:\n\u001b[0;32m    748\u001b[0m     \u001b[38;5;28mself\u001b[39m\u001b[38;5;241m.\u001b[39m_modules[module_name] \u001b[38;5;241m=\u001b[39m importlib\u001b[38;5;241m.\u001b[39mimport_module(\u001b[38;5;124mf\u001b[39m\u001b[38;5;124m\"\u001b[39m\u001b[38;5;124m.\u001b[39m\u001b[38;5;132;01m{\u001b[39;00mmodule_name\u001b[38;5;132;01m}\u001b[39;00m\u001b[38;5;124m\"\u001b[39m, \u001b[38;5;124m\"\u001b[39m\u001b[38;5;124mtransformers.models\u001b[39m\u001b[38;5;124m\"\u001b[39m)\n\u001b[1;32m--> 749\u001b[0m \u001b[38;5;28;01mreturn\u001b[39;00m \u001b[43mgetattribute_from_module\u001b[49m\u001b[43m(\u001b[49m\u001b[38;5;28;43mself\u001b[39;49m\u001b[38;5;241;43m.\u001b[39;49m\u001b[43m_modules\u001b[49m\u001b[43m[\u001b[49m\u001b[43mmodule_name\u001b[49m\u001b[43m]\u001b[49m\u001b[43m,\u001b[49m\u001b[43m \u001b[49m\u001b[43mattr\u001b[49m\u001b[43m)\u001b[49m\n",
      "File \u001b[1;32mc:\\Users\\ADMIN\\AppData\\Local\\Programs\\Python\\Python312\\Lib\\site-packages\\transformers\\models\\auto\\auto_factory.py:693\u001b[0m, in \u001b[0;36mgetattribute_from_module\u001b[1;34m(module, attr)\u001b[0m\n\u001b[0;32m    691\u001b[0m \u001b[38;5;28;01mif\u001b[39;00m \u001b[38;5;28misinstance\u001b[39m(attr, \u001b[38;5;28mtuple\u001b[39m):\n\u001b[0;32m    692\u001b[0m     \u001b[38;5;28;01mreturn\u001b[39;00m \u001b[38;5;28mtuple\u001b[39m(getattribute_from_module(module, a) \u001b[38;5;28;01mfor\u001b[39;00m a \u001b[38;5;129;01min\u001b[39;00m attr)\n\u001b[1;32m--> 693\u001b[0m \u001b[38;5;28;01mif\u001b[39;00m \u001b[38;5;28;43mhasattr\u001b[39;49m\u001b[43m(\u001b[49m\u001b[43mmodule\u001b[49m\u001b[43m,\u001b[49m\u001b[43m \u001b[49m\u001b[43mattr\u001b[49m\u001b[43m)\u001b[49m:\n\u001b[0;32m    694\u001b[0m     \u001b[38;5;28;01mreturn\u001b[39;00m \u001b[38;5;28mgetattr\u001b[39m(module, attr)\n\u001b[0;32m    695\u001b[0m \u001b[38;5;66;03m# Some of the mappings have entries model_type -> object of another model type. In that case we try to grab the\u001b[39;00m\n\u001b[0;32m    696\u001b[0m \u001b[38;5;66;03m# object at the top level.\u001b[39;00m\n",
      "File \u001b[1;32mc:\\Users\\ADMIN\\AppData\\Local\\Programs\\Python\\Python312\\Lib\\site-packages\\transformers\\utils\\import_utils.py:1593\u001b[0m, in \u001b[0;36m__getattr__\u001b[1;34m(self, name)\u001b[0m\n\u001b[0;32m   1587\u001b[0m     \u001b[38;5;28;01mexcept\u001b[39;00m \u001b[38;5;167;01mException\u001b[39;00m \u001b[38;5;28;01mas\u001b[39;00m e:\n\u001b[0;32m   1588\u001b[0m         \u001b[38;5;28;01mraise\u001b[39;00m \u001b[38;5;167;01mRuntimeError\u001b[39;00m(\n\u001b[0;32m   1589\u001b[0m             \u001b[38;5;124mf\u001b[39m\u001b[38;5;124m\"\u001b[39m\u001b[38;5;124mFailed to import \u001b[39m\u001b[38;5;132;01m{\u001b[39;00m\u001b[38;5;28mself\u001b[39m\u001b[38;5;241m.\u001b[39m\u001b[38;5;18m__name__\u001b[39m\u001b[38;5;132;01m}\u001b[39;00m\u001b[38;5;124m.\u001b[39m\u001b[38;5;132;01m{\u001b[39;00mmodule_name\u001b[38;5;132;01m}\u001b[39;00m\u001b[38;5;124m because of the following error (look up to see its\u001b[39m\u001b[38;5;124m\"\u001b[39m\n\u001b[0;32m   1590\u001b[0m             \u001b[38;5;124mf\u001b[39m\u001b[38;5;124m\"\u001b[39m\u001b[38;5;124m traceback):\u001b[39m\u001b[38;5;130;01m\\n\u001b[39;00m\u001b[38;5;132;01m{\u001b[39;00me\u001b[38;5;132;01m}\u001b[39;00m\u001b[38;5;124m\"\u001b[39m\n\u001b[0;32m   1591\u001b[0m         ) \u001b[38;5;28;01mfrom\u001b[39;00m \u001b[38;5;21;01me\u001b[39;00m\n\u001b[1;32m-> 1593\u001b[0m \u001b[38;5;28;01mdef\u001b[39;00m \u001b[38;5;21m__reduce__\u001b[39m(\u001b[38;5;28mself\u001b[39m):\n\u001b[0;32m   1594\u001b[0m     \u001b[38;5;28;01mreturn\u001b[39;00m (\u001b[38;5;28mself\u001b[39m\u001b[38;5;241m.\u001b[39m\u001b[38;5;18m__class__\u001b[39m, (\u001b[38;5;28mself\u001b[39m\u001b[38;5;241m.\u001b[39m_name, \u001b[38;5;28mself\u001b[39m\u001b[38;5;241m.\u001b[39m\u001b[38;5;18m__file__\u001b[39m, \u001b[38;5;28mself\u001b[39m\u001b[38;5;241m.\u001b[39m_import_structure))\n",
      "File \u001b[1;32mc:\\Users\\ADMIN\\AppData\\Local\\Programs\\Python\\Python312\\Lib\\site-packages\\transformers\\utils\\import_utils.py:1605\u001b[0m, in \u001b[0;36m_get_module\u001b[1;34m(self, module_name)\u001b[0m\n\u001b[0;32m   1601\u001b[0m \u001b[38;5;28;01mdef\u001b[39;00m \u001b[38;5;21mdirect_transformers_import\u001b[39m(path: \u001b[38;5;28mstr\u001b[39m, file\u001b[38;5;241m=\u001b[39m\u001b[38;5;124m\"\u001b[39m\u001b[38;5;124m__init__.py\u001b[39m\u001b[38;5;124m\"\u001b[39m) \u001b[38;5;241m-\u001b[39m\u001b[38;5;241m>\u001b[39m ModuleType:\n\u001b[0;32m   1602\u001b[0m \u001b[38;5;250m    \u001b[39m\u001b[38;5;124;03m\"\"\"Imports transformers directly\u001b[39;00m\n\u001b[0;32m   1603\u001b[0m \n\u001b[0;32m   1604\u001b[0m \u001b[38;5;124;03m    Args:\u001b[39;00m\n\u001b[1;32m-> 1605\u001b[0m \u001b[38;5;124;03m        path (`str`): The path to the source file\u001b[39;00m\n\u001b[0;32m   1606\u001b[0m \u001b[38;5;124;03m        file (`str`, optional): The file to join with the path. Defaults to \"__init__.py\".\u001b[39;00m\n\u001b[0;32m   1607\u001b[0m \n\u001b[0;32m   1608\u001b[0m \u001b[38;5;124;03m    Returns:\u001b[39;00m\n\u001b[0;32m   1609\u001b[0m \u001b[38;5;124;03m        `ModuleType`: The resulting imported module\u001b[39;00m\n\u001b[0;32m   1610\u001b[0m \u001b[38;5;124;03m    \"\"\"\u001b[39;00m\n\u001b[0;32m   1611\u001b[0m     name \u001b[38;5;241m=\u001b[39m \u001b[38;5;124m\"\u001b[39m\u001b[38;5;124mtransformers\u001b[39m\u001b[38;5;124m\"\u001b[39m\n\u001b[0;32m   1612\u001b[0m     location \u001b[38;5;241m=\u001b[39m os\u001b[38;5;241m.\u001b[39mpath\u001b[38;5;241m.\u001b[39mjoin(path, file)\n",
      "\u001b[1;31mRuntimeError\u001b[0m: Failed to import transformers.models.mamba2.configuration_mamba2 because of the following error (look up to see its traceback):\nNo module named 'transformers.models.mamba2.configuration_mamba2'"
     ]
    }
   ],
   "source": [
    "model_name = \"aubmindlab/bert-base-arabertv2\"\n",
    "print(f\"Loading model: {model_name}\")\n",
    "try:\n",
    "    tokenizer = AutoTokenizer.from_pretrained(model_name)\n",
    "    model = AutoModel.from_pretrained(model_name)\n",
    "    model.eval()  # Set to evaluation mode\n",
    "    print(f\"Model and tokenizer initialized successfully for {model_name}\")\n",
    "except Exception as e:\n",
    "    print(f\"Error loading model: {e}\")\n",
    "    raise"
   ]
  },
  {
   "cell_type": "markdown",
   "metadata": {},
   "source": [
    "## Function to generate sentence-level embeddings"
   ]
  },
  {
   "cell_type": "code",
   "execution_count": null,
   "metadata": {},
   "outputs": [],
   "source": [
    "def get_song_embedding(lyrics, max_length=512):\n",
    "    try:\n",
    "        if not isinstance(lyrics, str) or not lyrics.strip():\n",
    "            print(f\"Warning: Empty or invalid lyrics detected. Returning zero embedding.\")\n",
    "            return np.zeros(768)  # AraBERT's hidden size\n",
    "        \n",
    "        # Tokenize and encode lyrics\n",
    "        inputs = tokenizer(lyrics, return_tensors=\"pt\", truncation=True, padding=True, max_length=max_length)\n",
    "        with torch.no_grad():\n",
    "            outputs = model(**inputs)\n",
    "            embeddings = outputs.last_hidden_state  # Shape: (1, seq_len, hidden_size)\n",
    "        \n",
    "        # Average token embeddings (exclude [CLS] and [SEP])\n",
    "        embeddings = embeddings[0, 1:-1, :].mean(dim=0).numpy()  # Shape: (hidden_size,)\n",
    "        return embeddings\n",
    "    except Exception as e:\n",
    "        print(f\"Error generating embedding: {e}\")\n",
    "        return np.zeros(768)"
   ]
  },
  {
   "cell_type": "markdown",
   "metadata": {},
   "source": [
    "## Generate embeddings for all songs"
   ]
  },
  {
   "cell_type": "code",
   "execution_count": null,
   "metadata": {},
   "outputs": [
    {
     "name": "stdout",
     "output_type": "stream",
     "text": [
      "Generating embeddings for songs...\n"
     ]
    },
    {
     "name": "stderr",
     "output_type": "stream",
     "text": [
      "100%|██████████| 78/78 [00:33<00:00,  2.32it/s]\n"
     ]
    },
    {
     "name": "stdout",
     "output_type": "stream",
     "text": [
      "Embeddings generated successfully.\n",
      "Embeddings saved as 'song_embeddings.csv'.\n"
     ]
    }
   ],
   "source": [
    "print(\"Generating embeddings for songs...\")\n",
    "tqdm.pandas()\n",
    "data['Embedding'] = data['Tokenized & Preprocessed Lyrics'].progress_apply(get_song_embedding)\n",
    "embeddings = np.stack(data['Embedding'].values)  # Shape: (n_songs, hidden_size)\n",
    "print(\"Embeddings generated successfully.\")\n",
    "\n",
    "# Save embeddings to CSV\n",
    "embedding_df = pd.DataFrame({\n",
    "    'Track Title': data['Track Title'],\n",
    "    'Embedding': [emb.tolist() for emb in embeddings]\n",
    "})\n",
    "\n",
    "embedding_df.to_csv('song_embeddings.csv', index=False, encoding='utf-8-sig')\n",
    "print(\"Embeddings saved as 'song_embeddings.csv'.\")"
   ]
  },
  {
   "cell_type": "code",
   "execution_count": null,
   "metadata": {},
   "outputs": [
    {
     "name": "stdout",
     "output_type": "stream",
     "text": [
      "Performing K-means clustering with 4 clusters...\n",
      "Clustering completed.\n",
      "Cluster assignments saved as 'song_clusters.csv'.\n"
     ]
    }
   ],
   "source": [
    "# Perform K-means clustering\n",
    "n_clusters = 4  # Love, heartbreak, longing, joy\n",
    "print(f\"Performing K-means clustering with {n_clusters} clusters...\")\n",
    "kmeans = KMeans(n_clusters=n_clusters, random_state=42)\n",
    "data['Cluster'] = kmeans.fit_predict(embeddings)\n",
    "print(\"Clustering completed.\")\n",
    "\n",
    "# Save cluster assignments to CSV\n",
    "cluster_df = pd.DataFrame({\n",
    "    'Track Title': data['Track Title'],\n",
    "    'Cluster': data['Cluster']\n",
    "})\n",
    "cluster_df.to_csv('song_clusters.csv', index=False, encoding='utf-8-sig')\n",
    "print(\"Cluster assignments saved as 'song_clusters.csv'.\")"
   ]
  },
  {
   "cell_type": "code",
   "execution_count": null,
   "metadata": {},
   "outputs": [
    {
     "name": "stdout",
     "output_type": "stream",
     "text": [
      "Computing cosine similarities...\n",
      "Similarity results saved as 'song_similarities.csv'.\n"
     ]
    }
   ],
   "source": [
    "# Compute cosine similarity and find similar songs\n",
    "print(\"Computing cosine similarities...\")\n",
    "similarity_matrix = cosine_similarity(embeddings)\n",
    "np.fill_diagonal(similarity_matrix, 0)  # Ignore self-similarity\n",
    "\n",
    "# Find top 5 most similar songs for each song\n",
    "similarity_data = []\n",
    "for i, title in enumerate(data['Track Title']):\n",
    "    similar_indices = np.argsort(similarity_matrix[i])[::-1][:5]  # Top 5\n",
    "    similar_titles = data['Track Title'].iloc[similar_indices].tolist()\n",
    "    similar_scores = similarity_matrix[i, similar_indices].tolist()\n",
    "    similarity_data.append({\n",
    "        'Track Title': title,\n",
    "        'Similar Songs': \"; \".join(similar_titles),\n",
    "        'Similarity Scores': \"; \".join([f\"{score:.4f}\" for score in similar_scores])\n",
    "    })\n",
    "\n",
    "# Save similarity results to CSV\n",
    "similarity_df = pd.DataFrame(similarity_data)\n",
    "similarity_df.to_csv('song_similarities.csv', index=False, encoding='utf-8-sig')\n",
    "print(\"Similarity results saved as 'song_similarities.csv'.\")"
   ]
  },
  {
   "cell_type": "code",
   "execution_count": null,
   "metadata": {},
   "outputs": [
    {
     "name": "stdout",
     "output_type": "stream",
     "text": [
      "Generating UMAP visualization...\n"
     ]
    },
    {
     "name": "stderr",
     "output_type": "stream",
     "text": [
      "c:\\Users\\ADMIN\\AppData\\Local\\Programs\\Python\\Python312\\Lib\\site-packages\\umap\\umap_.py:1952: UserWarning:\n",
      "\n",
      "n_jobs value 1 overridden to 1 by setting random_state. Use no seed for parallelism.\n",
      "\n"
     ]
    },
    {
     "name": "stdout",
     "output_type": "stream",
     "text": [
      "Requirement already satisfied: arabic-reshaper in c:\\users\\admin\\appdata\\local\\programs\\python\\python312\\lib\\site-packages (3.0.0)Note: you may need to restart the kernel to use updated packages.\n",
      "\n",
      "Requirement already satisfied: python-bidi in c:\\users\\admin\\appdata\\local\\programs\\python\\python312\\lib\\site-packages (0.6.6)\n"
     ]
    },
    {
     "name": "stderr",
     "output_type": "stream",
     "text": [
      "\n",
      "[notice] A new release of pip is available: 24.3.1 -> 25.0.1\n",
      "[notice] To update, run: python.exe -m pip install --upgrade pip\n"
     ]
    },
    {
     "data": {
      "image/png": "[encoded data removed]",
      "text/plain": [
       "<Figure size 1200x800 with 1 Axes>"
      ]
     },
     "metadata": {},
     "output_type": "display_data"
    }
   ],
   "source": [
    "# Visualize clusters with UMAP\n",
    "print(\"Generating UMAP visualization...\")\n",
    "reducer = umap.UMAP(n_components=2, random_state=42)\n",
    "umap_embeddings = reducer.fit_transform(embeddings)\n",
    "\n",
    "# Import necessary tools for Arabic text handling\n",
    "%pip install arabic-reshaper python-bidi\n",
    "# Update the annotation code in your UMAP visualization\n",
    "import arabic_reshaper\n",
    "from bidi.algorithm import get_display\n",
    "import matplotlib.font_manager as fm\n",
    "# Set up font that supports Arabic\n",
    "plt.rcParams['font.family'] = 'Arial'  # Or another font that supports Arabic\n",
    "\n",
    "# Create scatter plot\n",
    "plt.figure(figsize=(12, 8))\n",
    "sns.scatterplot(\n",
    "    x=umap_embeddings[:, 0],\n",
    "    y=umap_embeddings[:, 1],\n",
    "    hue=data['Cluster'].astype(str),\n",
    "    palette='deep',\n",
    "    s=100\n",
    ")\n",
    "\n",
    "# Improved annotation handling for Arabic text\n",
    "for i, title in enumerate(data['Track Title']):\n",
    "    # Properly process Arabic text for display\n",
    "    if len(title) > 20:\n",
    "        display_title = title[:20] + '...'\n",
    "    else:\n",
    "        display_title = title    \n",
    "    # Reshape and reorder for proper Arabic display\n",
    "    display_title = arabic_reshaper.reshape(display_title)\n",
    "    display_title = get_display(display_title)\n",
    "    \n",
    "    plt.annotate(\n",
    "        display_title, \n",
    "        (umap_embeddings[i, 0], umap_embeddings[i, 1]), \n",
    "        fontsize=8,\n",
    "        fontweight='bold',  # Make text more readable\n",
    "        ha='right'  # Right alignment can work better for Arabic\n",
    "    )\n",
    "\n",
    "plt.title('UMAP Visualization of George Wassouf Song Clusters')\n",
    "plt.savefig('umap_clusters.png', dpi=300, bbox_inches='tight')"
   ]
  },
  {
   "cell_type": "markdown",
   "metadata": {},
   "source": [
    "# Week11"
   ]
  },
  {
   "cell_type": "markdown",
   "metadata": {},
   "source": [
    "## More emotion analysis"
   ]
  },
  {
   "cell_type": "code",
   "execution_count": 116,
   "metadata": {},
   "outputs": [
    {
     "name": "stdout",
     "output_type": "stream",
     "text": [
      "Requirement already satisfied: deep-translator in c:\\users\\admin\\appdata\\local\\programs\\python\\python312\\lib\\site-packages (1.11.4)\n",
      "Requirement already satisfied: beautifulsoup4<5.0.0,>=4.9.1 in c:\\users\\admin\\appdata\\local\\programs\\python\\python312\\lib\\site-packages (from deep-translator) (4.12.3)\n",
      "Requirement already satisfied: requests<3.0.0,>=2.23.0 in c:\\users\\admin\\appdata\\local\\programs\\python\\python312\\lib\\site-packages (from deep-translator) (2.32.3)\n",
      "Requirement already satisfied: soupsieve>1.2 in c:\\users\\admin\\appdata\\local\\programs\\python\\python312\\lib\\site-packages (from beautifulsoup4<5.0.0,>=4.9.1->deep-translator) (2.6)\n",
      "Requirement already satisfied: charset-normalizer<4,>=2 in c:\\users\\admin\\appdata\\local\\programs\\python\\python312\\lib\\site-packages (from requests<3.0.0,>=2.23.0->deep-translator) (3.4.1)\n",
      "Requirement already satisfied: idna<4,>=2.5 in c:\\users\\admin\\appdata\\local\\programs\\python\\python312\\lib\\site-packages (from requests<3.0.0,>=2.23.0->deep-translator) (3.10)\n",
      "Requirement already satisfied: urllib3<3,>=1.21.1 in c:\\users\\admin\\appdata\\local\\programs\\python\\python312\\lib\\site-packages (from requests<3.0.0,>=2.23.0->deep-translator) (2.3.0)\n",
      "Requirement already satisfied: certifi>=2017.4.17 in c:\\users\\admin\\appdata\\local\\programs\\python\\python312\\lib\\site-packages (from requests<3.0.0,>=2.23.0->deep-translator) (2025.1.31)\n",
      "Note: you may need to restart the kernel to use updated packages.\n"
     ]
    },
    {
     "name": "stderr",
     "output_type": "stream",
     "text": [
      "c:\\Users\\ADMIN\\AppData\\Local\\Programs\\Python\\Python312\\Lib\\site-packages\\transformers\\tokenization_utils_base.py:1601: FutureWarning:\n",
      "\n",
      "`clean_up_tokenization_spaces` was not set. It will be set to `True` by default. This behavior will be depracted in transformers v4.45, and will be then set to `False` by default. For more details check this issue: https://github.com/huggingface/transformers/issues/31884\n",
      "\n",
      "Token indices sequence length is longer than the specified maximum sequence length for this model (554 > 512). Running this sequence through the model will result in indexing errors\n"
     ]
    },
    {
     "name": "stdout",
     "output_type": "stream",
     "text": [
      "Translation error: The expanded size of the tensor (554) must match the existing size (514) at non-singleton dimension 1.  Target sizes: [1, 554].  Tensor sizes: [1, 514]\n",
      "Translation error: The expanded size of the tensor (630) must match the existing size (514) at non-singleton dimension 1.  Target sizes: [1, 630].  Tensor sizes: [1, 514]\n",
      "Translation error: The expanded size of the tensor (560) must match the existing size (514) at non-singleton dimension 1.  Target sizes: [1, 560].  Tensor sizes: [1, 514]\n",
      "Translation error: The expanded size of the tensor (539) must match the existing size (514) at non-singleton dimension 1.  Target sizes: [1, 539].  Tensor sizes: [1, 514]\n",
      "Translation error: Request exception can happen due to an api connection error. Please check your connection and try again\n",
      "Translation error: The expanded size of the tensor (594) must match the existing size (514) at non-singleton dimension 1.  Target sizes: [1, 594].  Tensor sizes: [1, 514]\n",
      "Translation error: Request exception can happen due to an api connection error. Please check your connection and try again\n",
      "Translation error: The expanded size of the tensor (528) must match the existing size (514) at non-singleton dimension 1.  Target sizes: [1, 528].  Tensor sizes: [1, 514]\n",
      "Translation error: The expanded size of the tensor (581) must match the existing size (514) at non-singleton dimension 1.  Target sizes: [1, 581].  Tensor sizes: [1, 514]\n",
      "Translation error: The expanded size of the tensor (640) must match the existing size (514) at non-singleton dimension 1.  Target sizes: [1, 640].  Tensor sizes: [1, 514]\n",
      "Translation error: The expanded size of the tensor (560) must match the existing size (514) at non-singleton dimension 1.  Target sizes: [1, 560].  Tensor sizes: [1, 514]\n",
      "Translation error: The expanded size of the tensor (644) must match the existing size (514) at non-singleton dimension 1.  Target sizes: [1, 644].  Tensor sizes: [1, 514]\n",
      "Translation error: The expanded size of the tensor (656) must match the existing size (514) at non-singleton dimension 1.  Target sizes: [1, 656].  Tensor sizes: [1, 514]\n",
      "Translation error: The expanded size of the tensor (551) must match the existing size (514) at non-singleton dimension 1.  Target sizes: [1, 551].  Tensor sizes: [1, 514]\n",
      "Translation error: The expanded size of the tensor (566) must match the existing size (514) at non-singleton dimension 1.  Target sizes: [1, 566].  Tensor sizes: [1, 514]\n",
      "Translation error: The expanded size of the tensor (554) must match the existing size (514) at non-singleton dimension 1.  Target sizes: [1, 554].  Tensor sizes: [1, 514]\n",
      "Translation error: The expanded size of the tensor (598) must match the existing size (514) at non-singleton dimension 1.  Target sizes: [1, 598].  Tensor sizes: [1, 514]\n",
      "Translation error: The expanded size of the tensor (570) must match the existing size (514) at non-singleton dimension 1.  Target sizes: [1, 570].  Tensor sizes: [1, 514]\n",
      "Translation error: The expanded size of the tensor (575) must match the existing size (514) at non-singleton dimension 1.  Target sizes: [1, 575].  Tensor sizes: [1, 514]\n",
      "Translation error: The expanded size of the tensor (586) must match the existing size (514) at non-singleton dimension 1.  Target sizes: [1, 586].  Tensor sizes: [1, 514]\n",
      "Translation error: The expanded size of the tensor (568) must match the existing size (514) at non-singleton dimension 1.  Target sizes: [1, 568].  Tensor sizes: [1, 514]\n",
      "Translation error: The expanded size of the tensor (553) must match the existing size (514) at non-singleton dimension 1.  Target sizes: [1, 553].  Tensor sizes: [1, 514]\n",
      "Translation error: Request exception can happen due to an api connection error. Please check your connection and try again\n",
      "Translation error: The expanded size of the tensor (593) must match the existing size (514) at non-singleton dimension 1.  Target sizes: [1, 593].  Tensor sizes: [1, 514]\n",
      "Translation error: The expanded size of the tensor (566) must match the existing size (514) at non-singleton dimension 1.  Target sizes: [1, 566].  Tensor sizes: [1, 514]\n",
      "Translation error: Request exception can happen due to an api connection error. Please check your connection and try again\n",
      "Translation error: The expanded size of the tensor (573) must match the existing size (514) at non-singleton dimension 1.  Target sizes: [1, 573].  Tensor sizes: [1, 514]\n",
      "Translation error: Request exception can happen due to an api connection error. Please check your connection and try again\n",
      "Translation error: The expanded size of the tensor (611) must match the existing size (514) at non-singleton dimension 1.  Target sizes: [1, 611].  Tensor sizes: [1, 514]\n",
      "Translation error: The expanded size of the tensor (620) must match the existing size (514) at non-singleton dimension 1.  Target sizes: [1, 620].  Tensor sizes: [1, 514]\n",
      "Translation error: Request exception can happen due to an api connection error. Please check your connection and try again\n",
      "Translation error: Request exception can happen due to an api connection error. Please check your connection and try again\n",
      "Translation error: سهرت\n",
      "الليل\n",
      "ليل\n",
      "ليل\n",
      "ليل\n",
      "اناجى\n",
      "طيفك\n",
      "وانا\n",
      "حزين\n",
      "ليل\n",
      "ليل\n",
      "ليل\n",
      "سهرت\n",
      "الليل\n",
      "ليل\n",
      "ليل\n",
      "ليل\n",
      "اناجى\n",
      "طيفك\n",
      "وانا\n",
      "حزين\n",
      "ليل\n",
      "ليل\n",
      "ليل\n",
      "ومهما\n",
      "الدنيا\n",
      "تتغير\n",
      "انا\n",
      "اتغير\n",
      "انا\n",
      "اتغير\n",
      "ومهما\n",
      "الدنيا\n",
      "تتغير\n",
      "انا\n",
      "اتغير\n",
      "انا\n",
      "اتغير\n",
      "وحيد\n",
      "ليل\n",
      "حيران\n",
      "ليل\n",
      "سهران\n",
      "ليل\n",
      "ليل\n",
      "ليل\n",
      "ليل\n",
      "ليل\n",
      "ليل\n",
      "ليل\n",
      "ليل\n",
      "ليل\n",
      "ليل\n",
      "نسيت\n",
      "الليل\n",
      "ليل\n",
      "ليل\n",
      "ليل\n",
      "ليل\n",
      "ودقت\n",
      "الويل\n",
      "ليل\n",
      "ليل\n",
      "ليل\n",
      "ليل\n",
      "ليل\n",
      "ليل\n",
      "ليل\n",
      "ليل\n",
      "ليل\n",
      "ليل\n",
      "ليل\n",
      "ليل\n",
      "نسيت\n",
      "الليل\n",
      "ليل\n",
      "ليل\n",
      "ليل\n",
      "ليل\n",
      "ودقت\n",
      "الويل\n",
      "ليل\n",
      "ليل\n",
      "ليل\n",
      "ليل\n",
      "ليل\n",
      "ليل\n",
      "ليل\n",
      "ليل\n",
      "ليل\n",
      "ليل\n",
      "ليل\n",
      "ليل\n",
      "ليل\n",
      "ومهما\n",
      "طال\n",
      "طال\n",
      "طال\n",
      "طال\n",
      "طال\n",
      "الهجر\n",
      "علينا\n",
      "شفنا\n",
      "ليالى\n",
      "الضنا\n",
      "فى\n",
      "عينينا\n",
      "اه\n",
      "عينينا\n",
      "ومهما\n",
      "طال\n",
      "طال\n",
      "طال\n",
      "الهجر\n",
      "علينا\n",
      "شفنا\n",
      "ليالى\n",
      "الضنا\n",
      "فى\n",
      "عينينا\n",
      "اه\n",
      "عينينا\n",
      "اهل\n",
      "السماح\n",
      "ملاح\n",
      "ملاح\n",
      "ناس\n",
      "ومهما\n",
      "يجرى\n",
      "برضه\n",
      "رضينا\n",
      "برضه\n",
      "رضينا\n",
      "اهل\n",
      "السماح\n",
      "ملاح\n",
      "ملاح\n",
      "ناس\n",
      "ومهما\n",
      "يجرى\n",
      "برضه\n",
      "رضينا\n",
      "برضه\n",
      "رضينا\n",
      "برضه\n",
      "رضينا\n",
      "ده\n",
      "العمر\n",
      "لحظه\n",
      "نزعل\n",
      "ليه\n",
      "ليل\n",
      "ليل\n",
      "ليل\n",
      "ليل\n",
      "ليل\n",
      "ليل\n",
      "اه\n",
      "ده\n",
      "العمر\n",
      "لحظه\n",
      "نزعل\n",
      "ليه\n",
      "ليل\n",
      "ليل\n",
      "ليل\n",
      "ليل\n",
      "ليل\n",
      "ليل\n",
      "ليل\n",
      "ومهما\n",
      "الدنيا\n",
      "تتغير\n",
      "انا\n",
      "اتغير\n",
      "انا\n",
      "اتغير\n",
      "ومهما\n",
      "الدنيا\n",
      "تتغير\n",
      "انا\n",
      "اتغير\n",
      "انا\n",
      "اتغير\n",
      "وحيد\n",
      "ليل\n",
      "حيران\n",
      "ليل\n",
      "سهران\n",
      "ليل\n",
      "ليل\n",
      "ليل\n",
      "ليل\n",
      "ليل\n",
      "ليل\n",
      "ليل\n",
      "ليل\n",
      "ليل\n",
      "ليل\n",
      "قضيت\n",
      "حياتى\n",
      "حزين\n",
      "حزين\n",
      "حزين\n",
      "حزين\n",
      "اتحمل\n",
      "بعدك\n",
      "وقساوتك\n",
      "وقلت\n",
      "مصير\n",
      "الزمن\n",
      "هيغيرك\n",
      "هيغيرك\n",
      "وارجع\n",
      "لقسوتك\n",
      "تانى\n",
      "لقيتنى\n",
      "بعيش\n",
      "فى\n",
      "خيال\n",
      "ده\n",
      "احبك\n",
      "تكرهنى\n",
      "ده\n",
      "احبك\n",
      "تكرهنى\n",
      "ده\n",
      "احبك\n",
      "تكرهنى\n",
      "قضيت\n",
      "حياتى\n",
      "حزين\n",
      "حزين\n",
      "حزين\n",
      "اتحمل\n",
      "بعدك\n",
      "وقساوتك\n",
      "وقلت\n",
      "مصير\n",
      "الزمن\n",
      "هيغيرك\n",
      "هيغيرك\n",
      "وارجع\n",
      "لقسوتك\n",
      "تانى\n",
      "لقيتنى\n",
      "بعيش\n",
      "فى\n",
      "خيال\n",
      "ده\n",
      "احبك\n",
      "تكرهنى\n",
      "ده\n",
      "احبك\n",
      "تكرهنى\n",
      "ده\n",
      "احبك\n",
      "تكرهنى\n",
      "مش\n",
      "هرجعلك\n",
      "هفتكرك\n",
      "مش\n",
      "هرجعلك\n",
      "هفتكرك\n",
      "انت\n",
      "اللى\n",
      "ضيعت\n",
      "حياتى\n",
      "انت\n",
      "اللى\n",
      "ضيعت\n",
      "حياتى\n",
      "مش\n",
      "هرجعلك\n",
      "هفتكرك\n",
      "مش\n",
      "هرجعلك\n",
      "هفتكرك\n",
      "انت\n",
      "اللى\n",
      "ضيعت\n",
      "حياتى\n",
      "انت\n",
      "اللى\n",
      "ضيعت\n",
      "حياتى\n",
      "ومهما\n",
      "الدنيا\n",
      "تتغير\n",
      "انا\n",
      "اتغير\n",
      "انا\n",
      "اتغير\n",
      "ومهما\n",
      "الدنيا\n",
      "تتغير\n",
      "انا\n",
      "اتغير\n",
      "انا\n",
      "اتغير\n",
      "وحيد\n",
      "ليل\n",
      "حيران\n",
      "ليل\n",
      "سهران\n",
      "ليل\n",
      "ليل\n",
      "ليل\n",
      "ليل\n",
      "ليل\n",
      "اه\n",
      "ليل\n",
      "ليل\n",
      "ليل\n",
      "ليل\n",
      "ليل\n",
      "ليل\n",
      "ايام\n",
      "الحب\n",
      "بتجمعنا\n",
      "ايام\n",
      "الهجر\n",
      "بتضنينا\n",
      "خلينا\n",
      "نحقق\n",
      "احلامنا\n",
      "خلينا\n",
      "نجدد\n",
      "امانينا\n",
      "خلينا\n",
      "نحقق\n",
      "احلامنا\n",
      "خلينا\n",
      "نجدد\n",
      "امانينا\n",
      "خلينا\n",
      "نجدد\n",
      "امانينا\n",
      "ايام\n",
      "الحب\n",
      "بتجمعنا\n",
      "ايام\n",
      "الهجر\n",
      "بتضنينا\n",
      "خلينا\n",
      "نحقق\n",
      "احلامنا\n",
      "خلينا\n",
      "نجدد\n",
      "امانينا\n",
      "خلينا\n",
      "نحقق\n",
      "احلامنا\n",
      "خلينا\n",
      "نجدد\n",
      "امانينا\n",
      "خلينا\n",
      "نجدد\n",
      "امانينا\n",
      "ده\n",
      "العمر\n",
      "قصير\n",
      "والبخت\n",
      "مصير\n",
      "واللى\n",
      "يفكر\n",
      "فى\n",
      "همومه\n",
      "كتير\n",
      "بيعيش\n",
      "حياته\n",
      "وعمره\n",
      "حزين\n",
      "ده\n",
      "العمر\n",
      "قصير\n",
      "والبخت\n",
      "مصير\n",
      "واللى\n",
      "يفكر\n",
      "فى\n",
      "همومه\n",
      "كتير\n",
      "بيعيش\n",
      "حياته\n",
      "وعمره\n",
      "حزين\n",
      "ده\n",
      "العمر\n",
      "قصير\n",
      "والبخت\n",
      "مصير\n",
      "واللى\n",
      "يفكر\n",
      "فى\n",
      "همومه\n",
      "كتير\n",
      "بيعيش\n",
      "حياته\n",
      "وعمره\n",
      "حزين\n",
      "ده\n",
      "العمر\n",
      "قصير\n",
      "والبخت\n",
      "مصير\n",
      "واللى\n",
      "يفكر\n",
      "فى\n",
      "همومه\n",
      "كتير\n",
      "بيعيش\n",
      "حياته\n",
      "وعمره\n",
      "حزين\n",
      "ده\n",
      "العمر\n",
      "قصير\n",
      "والبخت\n",
      "مصير\n",
      "واللى\n",
      "يفكر\n",
      "فى\n",
      "همومه\n",
      "كتير\n",
      "بيعيش\n",
      "حياته\n",
      "وعمره\n",
      "حزين\n",
      "ده\n",
      "العمر\n",
      "قصير\n",
      "والبخت\n",
      "مصير\n",
      "واللى\n",
      "يفكر\n",
      "فى\n",
      "همومه\n",
      "كتير\n",
      "بيعيش\n",
      "حياته\n",
      "وعمره\n",
      "حزين\n",
      "العمر\n",
      "لحظه\n",
      "ونزعل\n",
      "ليه\n",
      "ليل\n",
      "ليل\n",
      "ليل\n",
      "ليل\n",
      "ليل\n",
      "ليل\n",
      "ليل\n",
      "ليل\n",
      "العمر\n",
      "لحظه\n",
      "ونزعل\n",
      "ليه\n",
      "ليل\n",
      "ليل\n",
      "ليل\n",
      "ليل\n",
      "ليل\n",
      "ليل\n",
      "ليل\n",
      "ومهما\n",
      "الدنيا\n",
      "تتغير\n",
      "انا\n",
      "اتغير\n",
      "والله\n",
      "اتغير\n",
      "ومهما\n",
      "الدنيا\n",
      "تتغير\n",
      "انا\n",
      "اتغير\n",
      "انا\n",
      "اتغير\n",
      "وحيد\n",
      "ليل\n",
      "حيران\n",
      "ليل\n",
      "سهران\n",
      "ليل\n",
      "ليل\n",
      "ليل\n",
      "ليل\n",
      "ليل\n",
      "ليل\n",
      "ليل\n",
      "ليل\n",
      "ليل\n",
      "ليل\n",
      "ليل\n",
      "سهرت\n",
      "الليل\n",
      "ليل\n",
      "ليل\n",
      "ليل\n",
      "اناجى\n",
      "طيفك\n",
      "وانا\n",
      "حزين\n",
      "ليل\n",
      "ليل\n",
      "ليل\n",
      "سهرت\n",
      "الليل\n",
      "ليل\n",
      "ليل\n",
      "ليل\n",
      "اناجى\n",
      "طيفك\n",
      "وانا\n",
      "حزين\n",
      "ليل\n",
      "ليل\n",
      "ليل\n",
      "ومهما\n",
      "الدنيا\n",
      "تتغير\n",
      "انا\n",
      "اتغير\n",
      "انا\n",
      "اتغير\n",
      "ومهما\n",
      "الدنيا\n",
      "تتغير\n",
      "انا\n",
      "اتغير\n",
      "انا\n",
      "اتغير\n",
      "وحيد\n",
      "ليل\n",
      "حيران\n",
      "ليل\n",
      "سهران\n",
      "ليل\n",
      "ليل\n",
      "ليل\n",
      "ليل\n",
      "ليل\n",
      "ليل\n",
      "ليل\n",
      "ليل\n",
      "ليل\n",
      "ليل\n",
      "نسيت\n",
      "الليل\n",
      "ليل\n",
      "ليل\n",
      "ليل\n",
      "ليل\n",
      "ودقت\n",
      "الويل\n",
      "ليل\n",
      "ليل\n",
      "ليل\n",
      "ليل\n",
      "ليل\n",
      "ليل\n",
      "ليل\n",
      "ليل\n",
      "ليل\n",
      "ليل\n",
      "ليل\n",
      "ليل\n",
      "نسيت\n",
      "الليل\n",
      "ليل\n",
      "ليل\n",
      "ليل\n",
      "ليل\n",
      "ودقت\n",
      "الويل\n",
      "ليل\n",
      "ليل\n",
      "ليل\n",
      "ليل\n",
      "ليل\n",
      "ليل\n",
      "ليل\n",
      "ليل\n",
      "ليل\n",
      "ليل\n",
      "ليل\n",
      "ليل\n",
      "ليل\n",
      "ومهما\n",
      "طال\n",
      "طال\n",
      "طال\n",
      "طال\n",
      "طال\n",
      "الهجر\n",
      "علينا\n",
      "شفنا\n",
      "ليالى\n",
      "الضنا\n",
      "فى\n",
      "عينينا\n",
      "اه\n",
      "عينينا\n",
      "ومهما\n",
      "طال\n",
      "طال\n",
      "طال\n",
      "الهجر\n",
      "علينا\n",
      "شفنا\n",
      "ليالى\n",
      "الضنا\n",
      "فى\n",
      "عينينا\n",
      "اه\n",
      "عينينا\n",
      "اهل\n",
      "السماح\n",
      "ملاح\n",
      "ملاح\n",
      "ناس\n",
      "ومهما\n",
      "يجرى\n",
      "برضه\n",
      "رضينا\n",
      "برضه\n",
      "رضينا\n",
      "اهل\n",
      "السماح\n",
      "ملاح\n",
      "ملاح\n",
      "ناس\n",
      "ومهما\n",
      "يجرى\n",
      "برضه\n",
      "رضينا\n",
      "برضه\n",
      "رضينا\n",
      "برضه\n",
      "رضينا\n",
      "ده\n",
      "العمر\n",
      "لحظه\n",
      "نزعل\n",
      "ليه\n",
      "ليل\n",
      "ليل\n",
      "ليل\n",
      "ليل\n",
      "ليل\n",
      "ليل\n",
      "اه\n",
      "ده\n",
      "العمر\n",
      "لحظه\n",
      "نزعل\n",
      "ليه\n",
      "ليل\n",
      "ليل\n",
      "ليل\n",
      "ليل\n",
      "ليل\n",
      "ليل\n",
      "ليل\n",
      "ومهما\n",
      "الدنيا\n",
      "تتغير\n",
      "انا\n",
      "اتغير\n",
      "انا\n",
      "اتغير\n",
      "ومهما\n",
      "الدنيا\n",
      "تتغير\n",
      "انا\n",
      "اتغير\n",
      "انا\n",
      "اتغير\n",
      "وحيد\n",
      "ليل\n",
      "حيران\n",
      "ليل\n",
      "سهران\n",
      "ليل\n",
      "ليل\n",
      "ليل\n",
      "ليل\n",
      "ليل\n",
      "ليل\n",
      "ليل\n",
      "ليل\n",
      "ليل\n",
      "ليل\n",
      "قضيت\n",
      "حياتى\n",
      "حزين\n",
      "حزين\n",
      "حزين\n",
      "حزين\n",
      "اتحمل\n",
      "بعدك\n",
      "وقساوتك\n",
      "وقلت\n",
      "مصير\n",
      "الزمن\n",
      "هيغيرك\n",
      "هيغيرك\n",
      "وارجع\n",
      "لقسوتك\n",
      "تانى\n",
      "لقيتنى\n",
      "بعيش\n",
      "فى\n",
      "خيال\n",
      "ده\n",
      "احبك\n",
      "تكرهنى\n",
      "ده\n",
      "احبك\n",
      "تكرهنى\n",
      "ده\n",
      "احبك\n",
      "تكرهنى\n",
      "قضيت\n",
      "حياتى\n",
      "حزين\n",
      "حزين\n",
      "حزين\n",
      "اتحمل\n",
      "بعدك\n",
      "وقساوتك\n",
      "وقلت\n",
      "مصير\n",
      "الزمن\n",
      "هيغيرك\n",
      "هيغيرك\n",
      "وارجع\n",
      "لقسوتك\n",
      "تانى\n",
      "لقيتنى\n",
      "بعيش\n",
      "فى\n",
      "خيال\n",
      "ده\n",
      "احبك\n",
      "تكرهنى\n",
      "ده\n",
      "احبك\n",
      "تكرهنى\n",
      "ده\n",
      "احبك\n",
      "تكرهنى\n",
      "مش\n",
      "هرجعلك\n",
      "هفتكرك\n",
      "مش\n",
      "هرجعلك\n",
      "هفتكرك\n",
      "انت\n",
      "اللى\n",
      "ضيعت\n",
      "حياتى\n",
      "انت\n",
      "اللى\n",
      "ضيعت\n",
      "حياتى\n",
      "مش\n",
      "هرجعلك\n",
      "هفتكرك\n",
      "مش\n",
      "هرجعلك\n",
      "هفتكرك\n",
      "انت\n",
      "اللى\n",
      "ضيعت\n",
      "حياتى\n",
      "انت\n",
      "اللى\n",
      "ضيعت\n",
      "حياتى\n",
      "ومهما\n",
      "الدنيا\n",
      "تتغير\n",
      "انا\n",
      "اتغير\n",
      "انا\n",
      "اتغير\n",
      "ومهما\n",
      "الدنيا\n",
      "تتغير\n",
      "انا\n",
      "اتغير\n",
      "انا\n",
      "اتغير\n",
      "وحيد\n",
      "ليل\n",
      "حيران\n",
      "ليل\n",
      "سهران\n",
      "ليل\n",
      "ليل\n",
      "ليل\n",
      "ليل\n",
      "ليل\n",
      "اه\n",
      "ليل\n",
      "ليل\n",
      "ليل\n",
      "ليل\n",
      "ليل\n",
      "ليل\n",
      "ايام\n",
      "الحب\n",
      "بتجمعنا\n",
      "ايام\n",
      "الهجر\n",
      "بتضنينا\n",
      "خلينا\n",
      "نحقق\n",
      "احلامنا\n",
      "خلينا\n",
      "نجدد\n",
      "امانينا\n",
      "خلينا\n",
      "نحقق\n",
      "احلامنا\n",
      "خلينا\n",
      "نجدد\n",
      "امانينا\n",
      "خلينا\n",
      "نجدد\n",
      "امانينا\n",
      "ايام\n",
      "الحب\n",
      "بتجمعنا\n",
      "ايام\n",
      "الهجر\n",
      "بتضنينا\n",
      "خلينا\n",
      "نحقق\n",
      "احلامنا\n",
      "خلينا\n",
      "نجدد\n",
      "امانينا\n",
      "خلينا\n",
      "نحقق\n",
      "احلامنا\n",
      "خلينا\n",
      "نجدد\n",
      "امانينا\n",
      "خلينا\n",
      "نجدد\n",
      "امانينا\n",
      "ده\n",
      "العمر\n",
      "قصير\n",
      "والبخت\n",
      "مصير\n",
      "واللى\n",
      "يفكر\n",
      "فى\n",
      "همومه\n",
      "كتير\n",
      "بيعيش\n",
      "حياته\n",
      "وعمره\n",
      "حزين\n",
      "ده\n",
      "العمر\n",
      "قصير\n",
      "والبخت\n",
      "مصير\n",
      "واللى\n",
      "يفكر\n",
      "فى\n",
      "همومه\n",
      "كتير\n",
      "بيعيش\n",
      "حياته\n",
      "وعمره\n",
      "حزين\n",
      "ده\n",
      "العمر\n",
      "قصير\n",
      "والبخت\n",
      "مصير\n",
      "واللى\n",
      "يفكر\n",
      "فى\n",
      "همومه\n",
      "كتير\n",
      "بيعيش\n",
      "حياته\n",
      "وعمره\n",
      "حزين\n",
      "ده\n",
      "العمر\n",
      "قصير\n",
      "والبخت\n",
      "مصير\n",
      "واللى\n",
      "يفكر\n",
      "فى\n",
      "همومه\n",
      "كتير\n",
      "بيعيش\n",
      "حياته\n",
      "وعمره\n",
      "حزين\n",
      "ده\n",
      "العمر\n",
      "قصير\n",
      "والبخت\n",
      "مصير\n",
      "واللى\n",
      "يفكر\n",
      "فى\n",
      "همومه\n",
      "كتير\n",
      "بيعيش\n",
      "حياته\n",
      "وعمره\n",
      "حزين\n",
      "ده\n",
      "العمر\n",
      "قصير\n",
      "والبخت\n",
      "مصير\n",
      "واللى\n",
      "يفكر\n",
      "فى\n",
      "همومه\n",
      "كتير\n",
      "بيعيش\n",
      "حياته\n",
      "وعمره\n",
      "حزين\n",
      "العمر\n",
      "لحظه\n",
      "ونزعل\n",
      "ليه\n",
      "ليل\n",
      "ليل\n",
      "ليل\n",
      "ليل\n",
      "ليل\n",
      "ليل\n",
      "ليل\n",
      "ليل\n",
      "العمر\n",
      "لحظه\n",
      "ونزعل\n",
      "ليه\n",
      "ليل\n",
      "ليل\n",
      "ليل\n",
      "ليل\n",
      "ليل\n",
      "ليل\n",
      "ليل\n",
      "ومهما\n",
      "الدنيا\n",
      "تتغير\n",
      "انا\n",
      "اتغير\n",
      "والله\n",
      "اتغير\n",
      "ومهما\n",
      "الدنيا\n",
      "تتغير\n",
      "انا\n",
      "اتغير\n",
      "انا\n",
      "اتغير\n",
      "وحيد\n",
      "ليل\n",
      "حيران\n",
      "ليل\n",
      "سهران\n",
      "ليل\n",
      "ليل\n",
      "ليل\n",
      "ليل\n",
      "ليل\n",
      "ليل\n",
      "ليل\n",
      "ليل\n",
      "ليل\n",
      "ليل\n",
      "ليل --> Text length need to be between 0 and 5000 characters\n",
      "Translation error: The expanded size of the tensor (516) must match the existing size (514) at non-singleton dimension 1.  Target sizes: [1, 516].  Tensor sizes: [1, 514]\n",
      "Translation error: The expanded size of the tensor (578) must match the existing size (514) at non-singleton dimension 1.  Target sizes: [1, 578].  Tensor sizes: [1, 514]\n",
      "Translation error: Request exception can happen due to an api connection error. Please check your connection and try again\n",
      "Translation error: The expanded size of the tensor (562) must match the existing size (514) at non-singleton dimension 1.  Target sizes: [1, 562].  Tensor sizes: [1, 514]\n",
      "Translation error: Request exception can happen due to an api connection error. Please check your connection and try again\n",
      "Translation error: The expanded size of the tensor (619) must match the existing size (514) at non-singleton dimension 1.  Target sizes: [1, 619].  Tensor sizes: [1, 514]\n",
      "Translation error: The expanded size of the tensor (593) must match the existing size (514) at non-singleton dimension 1.  Target sizes: [1, 593].  Tensor sizes: [1, 514]\n"
     ]
    }
   ],
   "source": [
    "%pip install deep-translator\n",
    "\n",
    "from transformers import pipeline\n",
    "from deep_translator import GoogleTranslator\n",
    "\n",
    "# Load emotion analysis pipeline (English)\n",
    "emotion_classifier = pipeline(\"text-classification\", model=\"j-hartmann/emotion-english-distilroberta-base\", top_k=None)\n",
    "\n",
    "# Initialize translator\n",
    "translator = GoogleTranslator(source='ar', target='en')\n",
    "\n",
    "def analyze_emotions_translated(lyrics):\n",
    "    if not isinstance(lyrics, str) or lyrics.strip() == '':\n",
    "        return 'neutral'\n",
    "    # Translate Arabic to English\n",
    "    try:\n",
    "        translated_lyrics = translator.translate(lyrics)\n",
    "        # Truncate to 512 tokens\n",
    "        translated_lyrics = ' '.join(translated_lyrics.split()[:512])\n",
    "        # Get emotion scores\n",
    "        emotions = emotion_classifier(translated_lyrics)[0]\n",
    "        dominant_emotion = max(emotions, key=lambda x: x['score'])['label']\n",
    "        return dominant_emotion\n",
    "    except Exception as e:\n",
    "        print(f\"Translation error: {e}\")\n",
    "        return 'neutral'\n",
    "\n",
    "# Apply emotion analysis to translated lyrics\n",
    "data['Emotion'] = data['Tokenized & Preprocessed Lyrics'].apply(analyze_emotions_translated)"
   ]
  },
  {
   "cell_type": "code",
   "execution_count": 117,
   "metadata": {},
   "outputs": [
    {
     "name": "stderr",
     "output_type": "stream",
     "text": [
      "C:\\Users\\ADMIN\\AppData\\Local\\Temp\\ipykernel_3000\\3562857803.py:2: FutureWarning:\n",
      "\n",
      "\n",
      "\n",
      "Passing `palette` without assigning `hue` is deprecated and will be removed in v0.14.0. Assign the `x` variable to `hue` and set `legend=False` for the same effect.\n",
      "\n",
      "\n"
     ]
    },
    {
     "data": {
      "image/png": "[encoded data removed]",
      "text/plain": [
       "<Figure size 600x400 with 1 Axes>"
      ]
     },
     "metadata": {},
     "output_type": "display_data"
    }
   ],
   "source": [
    "plt.figure(figsize=(6,4))\n",
    "sns.countplot(data=data, x='Emotion', palette='muted')\n",
    "plt.title(\"Emotion Distribution\")\n",
    "plt.xlabel(\"Emotion\")\n",
    "plt.ylabel(\"Count\")\n",
    "plt.xticks(rotation=45)\n",
    "plt.show()"
   ]
  },
  {
   "cell_type": "markdown",
   "metadata": {},
   "source": [
    "## TF-IDF"
   ]
  },
  {
   "cell_type": "code",
   "execution_count": 118,
   "metadata": {},
   "outputs": [
    {
     "name": "stderr",
     "output_type": "stream",
     "text": [
      "C:\\Users\\ADMIN\\AppData\\Local\\Temp\\ipykernel_3000\\757608435.py:31: FutureWarning:\n",
      "\n",
      "\n",
      "\n",
      "Passing `palette` without assigning `hue` is deprecated and will be removed in v0.14.0. Assign the `y` variable to `hue` and set `legend=False` for the same effect.\n",
      "\n",
      "\n"
     ]
    },
    {
     "data": {
      "image/png": "[encoded data removed]",
      "text/plain": [
       "<Figure size 1200x800 with 1 Axes>"
      ]
     },
     "metadata": {},
     "output_type": "display_data"
    }
   ],
   "source": [
    "from sklearn.feature_extraction.text import TfidfVectorizer\n",
    "import arabic_reshaper\n",
    "from bidi.algorithm import get_display\n",
    "import matplotlib.pyplot as plt\n",
    "import seaborn as sns\n",
    "\n",
    "# Compute TF-IDF for Track Titles\n",
    "vectorizer_titles = TfidfVectorizer()\n",
    "tfidf_matrix_titles = vectorizer_titles.fit_transform(data['Tokenized & Preprocessed Lyrics'])\n",
    "\n",
    "# Get feature names (words) and sum TF-IDF scores across all titles\n",
    "feature_names_titles = vectorizer_titles.get_feature_names_out()\n",
    "tfidf_sums_titles = pd.Series(tfidf_matrix_titles.sum(axis=0).A1, index=feature_names_titles)\n",
    "\n",
    "# Select top 20 words based on TF-IDF sums\n",
    "top_words_titles = tfidf_sums_titles.sort_values(ascending=False).head(25)\n",
    "\n",
    "# Process Arabic text for proper display\n",
    "arabic_words_titles = top_words_titles.index.tolist()\n",
    "display_words_titles = []\n",
    "for word in arabic_words_titles:\n",
    "    reshaped_word = arabic_reshaper.reshape(word)\n",
    "    display_word = get_display(reshaped_word)\n",
    "    display_words_titles.append(display_word)\n",
    "\n",
    "# Create a new Series with processed Arabic words\n",
    "processed_tfidf_titles = pd.Series(top_words_titles.values, index=display_words_titles)\n",
    "\n",
    "# Plot the top 20 TF-IDF words for Track Titles\n",
    "plt.figure(figsize=(12, 8))\n",
    "sns.barplot(x=processed_tfidf_titles.values, y=processed_tfidf_titles.index, palette='coolwarm')\n",
    "plt.title(\"Top 20 TF-IDF Words in Track Titles\", fontsize=14)\n",
    "plt.xlabel(\"TF-IDF Score Sum\", fontsize=12)\n",
    "plt.ylabel(\"Words\", fontsize=12)\n",
    "plt.tight_layout()\n",
    "plt.show()"
   ]
  },
  {
   "cell_type": "markdown",
   "metadata": {},
   "source": [
    "## Group by composer"
   ]
  },
  {
   "cell_type": "code",
   "execution_count": 120,
   "metadata": {},
   "outputs": [
    {
     "name": "stdout",
     "output_type": "stream",
     "text": [
      "Top words for امجد العاطفي: ['اتوب', 'فى', 'انا', 'اللى', 'انت', 'قلبى', 'الايام', 'اه', 'حبيبى', 'كده']\n",
      "Top words for جورج يزبك: ['سلطان', 'الهوى', 'اشكى', 'القلوب', 'للزمان', 'عاشقين', 'لى', 'ويقول', 'الزمان', 'بعذابه']\n",
      "Top words for رياض البندك: ['ليل', 'اتغير', 'حزين', 'ومهما', 'خلينا', 'تتغير', 'مصير', 'انا', 'العمر', 'ده']\n",
      "Top words for زياد برجى: ['بضحك', 'بيحسدونى', 'بختك', 'اه', 'فى', 'حواليك', 'تحبك', 'وبيقولولى', 'ده', 'جنبك']\n",
      "Top words for شاكر الموجي: ['فى', 'ياما', 'فين', 'انا', 'جراح', 'صياد', 'الناس', 'اللى', 'اه', 'الوعود']\n",
      "Top words for صابر كمال: ['يابا', 'قوال', 'يتقال', 'الجريح', 'بالكلام', 'حال', 'بسؤال', 'يطيب', 'الحنان', 'يتطلب']\n",
      "Top words for صلاح الشرنوبي: ['قلبى', 'انا', 'مره', 'لسه', 'انت', 'اه', 'فى', 'حبيبى', 'عمرى', 'كلام']\n",
      "Top words for طارق ابو جوده: ['شو', 'حبيبى', 'انا', 'حياتى', 'الهوى', 'تشتكى', 'لحالك', 'طلع', 'يجمعنا', 'بتمنى']\n",
      "Top words for مازن زوائدي: ['ليه', 'تهربى', 'وتحيرى', 'وتبعدى', 'بسكه', 'سفر', 'بسؤال', 'قلبى', 'الرحيل', 'درب']\n",
      "Top words for محمد يحيي: ['زيه', 'الفل', 'واقوله', 'واحده', 'هيعيش', 'حلوه', 'ليل', 'جنانى', 'عمرى', 'اللى']\n",
      "Top words for مصطفى شكرى: ['مبقاش', 'حبه', 'اللى', 'معنى', 'يلم', 'قيمته', 'بيرجع', 'ساعات', 'سابحبه', 'وعدنا']\n",
      "Top words for مقداد سهيلي: ['انت', 'فى', 'الدنيا', 'نصيبى', 'غرامنا', 'حبيبى', 'اللى', 'ماعرفش', 'جميل', 'الجمال']\n",
      "Top words for ملحم بركات: ['الدهب', 'العتب', 'بيضله', 'شو', 'دهب', 'نفع', 'بيستاهل', 'حبيبى', 'المحبه', 'قالوا']\n",
      "Top words for نور الملاح: ['روحى', 'علطول', 'وهنبقى', 'بالحب', 'هايمين', 'صابرين', 'الحنين', 'عاشقين', 'قلبى', 'ويا']\n",
      "Top words for هثم زياد: ['نفتح', 'خليت', 'مسيت', 'دقيت', 'بوجودك', 'فرح', 'بابى', 'روحى', 'نشرح', 'ايامى']\n",
      "Top words for وليد سعد: ['فى', 'زمانى', 'بعدك', 'ايه', 'روحى', 'اللوم', 'علشانه', 'واللى', 'انا', 'رجعت']\n",
      "Top words for ياسر جلال: ['بلاد', 'مراسيل', 'مكتوب', 'اداوى', 'عليا', 'شفت', 'ترتاح', 'لفيت', 'وعينيا', 'ابعت']\n"
     ]
    }
   ],
   "source": [
    "from sklearn.feature_extraction.text import TfidfVectorizer\n",
    "\n",
    "composer_lyrics = data.groupby('Composer')['Tokenized & Preprocessed Lyrics'].apply(lambda x: ' '.join(x)).reset_index()\n",
    "\n",
    "# Apply TF-IDF\n",
    "vectorizer = TfidfVectorizer()\n",
    "tfidf_matrix = vectorizer.fit_transform(composer_lyrics['Tokenized & Preprocessed Lyrics'])\n",
    "\n",
    "# Get the words (features)\n",
    "feature_names = vectorizer.get_feature_names_out()\n",
    "\n",
    "# Show top 10 words for each composer\n",
    "N = 10\n",
    "for i, composer in enumerate(composer_lyrics['Composer']):\n",
    "    tfidf_scores = tfidf_matrix[i].toarray().flatten()\n",
    "    top_indices = tfidf_scores.argsort()[-N:][::-1]  # Get indices of top N scores\n",
    "    top_words = [feature_names[idx] for idx in top_indices]\n",
    "    print(f\"Top words for {composer}: {top_words}\")"
   ]
  },
  {
   "cell_type": "code",
   "execution_count": 121,
   "metadata": {},
   "outputs": [
    {
     "data": {
      "image/png": "[encoded data removed]",
      "text/plain": [
       "<Figure size 1000x600 with 1 Axes>"
      ]
     },
     "metadata": {},
     "output_type": "display_data"
    }
   ],
   "source": [
    "import matplotlib.pyplot as plt\n",
    "import seaborn as sns\n",
    "\n",
    "# Expanded lists of Arabic positive and negative words (customize further as needed)\n",
    "positive_words = [\"حب\", \"فرح\", \"جميل\", \"سعادة\", \"أمل\", \"سلام\", \"بهجة\", \"حنان\"]\n",
    "negative_words = [\"حزن\", \"ألم\", \"دموع\", \"كره\", \"خوف\", \"غضب\", \"أسى\", \"يأس\"]\n",
    "\n",
    "def sentiment_score(lyrics):\n",
    "    words = lyrics.split()  # Split lyrics into words\n",
    "    total_words = len(words)\n",
    "    pos_count = sum(1 for word in words if word in positive_words)\n",
    "    neg_count = sum(1 for word in words if word in negative_words)\n",
    "    if total_words == 0:\n",
    "        return 0  # Neutral if no words are present\n",
    "    return (pos_count - neg_count) / total_words  # Sentiment score per word\n",
    "\n",
    "# Assuming 'data' is your DataFrame with 'Track Lyrics' and 'Release year' columns\n",
    "data['sentiment'] = data['Tokenized & Preprocessed Lyrics'].apply(sentiment_score)\n",
    "\n",
    "# Calculate average sentiment per year\n",
    "yearly_sentiment = data.groupby('Release year')['sentiment'].mean().reset_index().sort_values('Release year')\n",
    "\n",
    "# Plot sentiment over time\n",
    "plt.figure(figsize=(10, 6))\n",
    "sns.lineplot(x='Release year', y='sentiment', data=yearly_sentiment, label='Average Sentiment')\n",
    "sns.scatterplot(x='Release year', y='sentiment', data=data, alpha=0.3, label='Individual Songs')\n",
    "plt.axhline(0, color='gray', linestyle='--')  # Reference line at neutral sentiment\n",
    "plt.title('Sentiment Score Over Time', fontsize=14)\n",
    "plt.xlabel('Release Year', fontsize=12)\n",
    "plt.ylabel('Sentiment Score', fontsize=12)\n",
    "plt.legend()\n",
    "plt.tight_layout()\n",
    "plt.show()"
   ]
  },
  {
   "cell_type": "code",
   "execution_count": 124,
   "metadata": {},
   "outputs": [
    {
     "name": "stderr",
     "output_type": "stream",
     "text": [
      "c:\\Users\\ADMIN\\AppData\\Local\\Programs\\Python\\Python312\\Lib\\site-packages\\transformers\\tokenization_utils_base.py:1601: FutureWarning:\n",
      "\n",
      "`clean_up_tokenization_spaces` was not set. It will be set to `True` by default. This behavior will be depracted in transformers v4.45, and will be then set to `False` by default. For more details check this issue: https://github.com/huggingface/transformers/issues/31884\n",
      "\n",
      "c:\\Users\\ADMIN\\AppData\\Local\\Programs\\Python\\Python312\\Lib\\site-packages\\transformers\\pipelines\\text_classification.py:104: UserWarning:\n",
      "\n",
      "`return_all_scores` is now deprecated,  if want a similar functionality use `top_k=None` instead of `return_all_scores=True` or `top_k=1` instead of `return_all_scores=False`.\n",
      "\n"
     ]
    },
    {
     "name": "stdout",
     "output_type": "stream",
     "text": [
      "Error processing lyrics: The size of tensor a (522) must match the size of tensor b (512) at non-singleton dimension 1\n",
      "Error processing lyrics: The size of tensor a (608) must match the size of tensor b (512) at non-singleton dimension 1\n",
      "Error processing lyrics: The size of tensor a (758) must match the size of tensor b (512) at non-singleton dimension 1\n",
      "Error processing lyrics: The size of tensor a (888) must match the size of tensor b (512) at non-singleton dimension 1\n",
      "Error processing lyrics: The size of tensor a (660) must match the size of tensor b (512) at non-singleton dimension 1\n",
      "Error processing lyrics: The size of tensor a (838) must match the size of tensor b (512) at non-singleton dimension 1\n",
      "Error processing lyrics: The size of tensor a (662) must match the size of tensor b (512) at non-singleton dimension 1\n",
      "Error processing lyrics: The size of tensor a (592) must match the size of tensor b (512) at non-singleton dimension 1\n",
      "Error processing lyrics: The size of tensor a (714) must match the size of tensor b (512) at non-singleton dimension 1\n",
      "Error processing lyrics: The size of tensor a (610) must match the size of tensor b (512) at non-singleton dimension 1\n",
      "Error processing lyrics: The size of tensor a (664) must match the size of tensor b (512) at non-singleton dimension 1\n",
      "Error processing lyrics: The size of tensor a (546) must match the size of tensor b (512) at non-singleton dimension 1\n",
      "Error processing lyrics: The size of tensor a (560) must match the size of tensor b (512) at non-singleton dimension 1\n",
      "Error processing lyrics: The size of tensor a (686) must match the size of tensor b (512) at non-singleton dimension 1\n",
      "Error processing lyrics: The size of tensor a (864) must match the size of tensor b (512) at non-singleton dimension 1\n",
      "Error processing lyrics: The size of tensor a (752) must match the size of tensor b (512) at non-singleton dimension 1\n",
      "Error processing lyrics: The size of tensor a (608) must match the size of tensor b (512) at non-singleton dimension 1\n",
      "Error processing lyrics: The size of tensor a (938) must match the size of tensor b (512) at non-singleton dimension 1\n",
      "Error processing lyrics: The size of tensor a (700) must match the size of tensor b (512) at non-singleton dimension 1\n",
      "Error processing lyrics: The size of tensor a (632) must match the size of tensor b (512) at non-singleton dimension 1\n",
      "Error processing lyrics: The size of tensor a (962) must match the size of tensor b (512) at non-singleton dimension 1\n",
      "Error processing lyrics: The size of tensor a (920) must match the size of tensor b (512) at non-singleton dimension 1\n",
      "Error processing lyrics: The size of tensor a (538) must match the size of tensor b (512) at non-singleton dimension 1\n",
      "Error processing lyrics: The size of tensor a (583) must match the size of tensor b (512) at non-singleton dimension 1\n",
      "Error processing lyrics: The size of tensor a (1128) must match the size of tensor b (512) at non-singleton dimension 1\n",
      "Error processing lyrics: The size of tensor a (1233) must match the size of tensor b (512) at non-singleton dimension 1\n",
      "Error processing lyrics: The size of tensor a (1326) must match the size of tensor b (512) at non-singleton dimension 1\n",
      "Error processing lyrics: The size of tensor a (526) must match the size of tensor b (512) at non-singleton dimension 1\n",
      "Error processing lyrics: The size of tensor a (872) must match the size of tensor b (512) at non-singleton dimension 1\n",
      "Error processing lyrics: The size of tensor a (676) must match the size of tensor b (512) at non-singleton dimension 1\n",
      "Error processing lyrics: The size of tensor a (826) must match the size of tensor b (512) at non-singleton dimension 1\n",
      "Error processing lyrics: The size of tensor a (684) must match the size of tensor b (512) at non-singleton dimension 1\n"
     ]
    },
    {
     "data": {
      "image/png": "[encoded data removed]",
      "text/plain": [
       "<Figure size 1000x600 with 1 Axes>"
      ]
     },
     "metadata": {},
     "output_type": "display_data"
    }
   ],
   "source": [
    "import pandas as pd\n",
    "import matplotlib.pyplot as plt\n",
    "import seaborn as sns\n",
    "from transformers import pipeline\n",
    "\n",
    "# Initialize the sentiment analysis pipeline\n",
    "try:\n",
    "    sentiment_analyzer = pipeline(\n",
    "        \"sentiment-analysis\",\n",
    "        model=\"CAMeL-Lab/bert-base-arabic-camelbert-da-sentiment\",\n",
    "        tokenizer=\"CAMeL-Lab/bert-base-arabic-camelbert-da-sentiment\",\n",
    "        return_all_scores=True\n",
    "    )\n",
    "except Exception as e:\n",
    "    print(f\"Error loading model: {e}\")\n",
    "    print(\"Ensure 'transformers' and 'torch' are installed and try again.\")\n",
    "    raise\n",
    "\n",
    "def sentiment_score(lyrics):\n",
    "    # Handle empty or invalid lyrics\n",
    "    if not isinstance(lyrics, str) or len(lyrics.strip()) == 0:\n",
    "        return 0\n",
    "    \n",
    "    try:\n",
    "        # Run sentiment analysis\n",
    "        result = sentiment_analyzer(lyrics)[0]\n",
    "        \n",
    "        # Map labels to scores: positive (+1), neutral (0), negative (-1)\n",
    "        score = 0\n",
    "        for item in result:\n",
    "            label = item['label']\n",
    "            if label == 'positive':\n",
    "                score += item['score']\n",
    "            elif label == 'negative':\n",
    "                score -= item['score']\n",
    "            # Neutral contributes 0 (no change)\n",
    "        \n",
    "        return score  # Returns a score roughly between -1 and 1\n",
    "    except Exception as e:\n",
    "        print(f\"Error processing lyrics: {e}\")\n",
    "        return 0  # Return neutral score on error\n",
    "\n",
    "# Apply sentiment scoring to your DataFrame\n",
    "data['sentiment'] = data['Tokenized & Preprocessed Lyrics'].apply(sentiment_score)\n",
    "\n",
    "# Calculate average sentiment per year\n",
    "yearly_sentiment = data.groupby('Release year')['sentiment'].mean().reset_index().sort_values('Release year')\n",
    "\n",
    "# Plot sentiment over time\n",
    "plt.figure(figsize=(10, 6))\n",
    "sns.lineplot(x='Release year', y='sentiment', data=yearly_sentiment, label='Average Sentiment', color='blue', marker='o')\n",
    "sns.scatterplot(x='Release year', y='sentiment', data=data, alpha=0.3, label='Individual Songs', color='orange')\n",
    "plt.axhline(0, color='gray', linestyle='--')  # Reference line at neutral\n",
    "plt.title('Sentiment Score Over Time (CAMeL-Lab BERT)', fontsize=14)\n",
    "plt.xlabel('Release Year', fontsize=12)\n",
    "plt.ylabel('Sentiment Score (-1 to 1)', fontsize=12)\n",
    "plt.legend()\n",
    "plt.tight_layout()\n",
    "plt.show()"
   ]
  }
 ],
 "metadata": {
  "kernelspec": {
   "display_name": "Python 3",
   "language": "python",
   "name": "python3"
  },
  "language_info": {
   "codemirror_mode": {
    "name": "ipython",
    "version": 3
   },
   "file_extension": ".py",
   "mimetype": "text/x-python",
   "name": "python",
   "nbconvert_exporter": "python",
   "pygments_lexer": "ipython3",
   "version": "3.12.5"
  }
 },
 "nbformat": 4,
 "nbformat_minor": 2
}
