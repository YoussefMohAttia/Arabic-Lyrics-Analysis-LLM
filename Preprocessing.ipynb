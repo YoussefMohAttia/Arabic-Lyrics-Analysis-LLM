{
 "cells": [
  {
   "cell_type": "code",
   "execution_count": 1,
   "metadata": {},
   "outputs": [],
   "source": [
    "import pandas as pd\n",
    "import numpy as np\n",
    "import re\n",
    "from nltk.corpus import stopwords\n",
    "from nltk.stem import WordNetLemmatizer\n",
    "from sklearn.feature_extraction.text import CountVectorizer, TfidfVectorizer\n",
    "from sklearn.preprocessing import OneHotEncoder\n",
    "from gensim.models import Word2Vec"
   ]
  },
  {
   "cell_type": "code",
   "execution_count": 3,
   "metadata": {},
   "outputs": [
    {
     "data": {
      "text/html": [
       "<div>\n",
       "<style scoped>\n",
       "    .dataframe tbody tr th:only-of-type {\n",
       "        vertical-align: middle;\n",
       "    }\n",
       "\n",
       "    .dataframe tbody tr th {\n",
       "        vertical-align: top;\n",
       "    }\n",
       "\n",
       "    .dataframe thead th {\n",
       "        text-align: right;\n",
       "    }\n",
       "</style>\n",
       "<table border=\"1\" class=\"dataframe\">\n",
       "  <thead>\n",
       "    <tr style=\"text-align: right;\">\n",
       "      <th></th>\n",
       "      <th>Track Title</th>\n",
       "      <th>Track Lyrics</th>\n",
       "      <th>Release year</th>\n",
       "    </tr>\n",
       "  </thead>\n",
       "  <tbody>\n",
       "    <tr>\n",
       "      <th>0</th>\n",
       "      <td>Aah Habaieb - آه حبايب</td>\n",
       "      <td>اه حبايب بس فين الحب غايب\\nوليه يا قلبي ما لك...</td>\n",
       "      <td>1995</td>\n",
       "    </tr>\n",
       "    <tr>\n",
       "      <th>1</th>\n",
       "      <td>Aalem Albi El Shok - علم قلبي الشوق</td>\n",
       "      <td>\\nيا ليلي يا ليلي يا ليل\\n\\nعلم قلبي الشوق الش...</td>\n",
       "      <td>2008</td>\n",
       "    </tr>\n",
       "    <tr>\n",
       "      <th>2</th>\n",
       "      <td>Addi Eli Kanou - أدي اللي كانوا</td>\n",
       "      <td>أدي اللي كانوا يا هوا أقرب ما لينا\\nواللي ما ...</td>\n",
       "      <td>2008</td>\n",
       "    </tr>\n",
       "    <tr>\n",
       "      <th>3</th>\n",
       "      <td>Alb Al Asheq Daleiloh - قلب العاشق دليله</td>\n",
       "      <td>قلب العاشق دليله\\nقلب العاشق دليله\\n\\nقلب العا...</td>\n",
       "      <td>2002</td>\n",
       "    </tr>\n",
       "    <tr>\n",
       "      <th>4</th>\n",
       "      <td>Al Forqah Saabah - الفرقة صعبة</td>\n",
       "      <td>مش قادر اصبرعغيابا\\nكل ليله بجمع دموعي\\nو بسهر...</td>\n",
       "      <td>2009</td>\n",
       "    </tr>\n",
       "  </tbody>\n",
       "</table>\n",
       "</div>"
      ],
      "text/plain": [
       "                                Track Title  \\\n",
       "0                    Aah Habaieb - آه حبايب   \n",
       "1       Aalem Albi El Shok - علم قلبي الشوق   \n",
       "2           Addi Eli Kanou - أدي اللي كانوا   \n",
       "3  Alb Al Asheq Daleiloh - قلب العاشق دليله   \n",
       "4            Al Forqah Saabah - الفرقة صعبة   \n",
       "\n",
       "                                        Track Lyrics  Release year  \n",
       "0   اه حبايب بس فين الحب غايب\\nوليه يا قلبي ما لك...          1995  \n",
       "1  \\nيا ليلي يا ليلي يا ليل\\n\\nعلم قلبي الشوق الش...          2008  \n",
       "2   أدي اللي كانوا يا هوا أقرب ما لينا\\nواللي ما ...          2008  \n",
       "3  قلب العاشق دليله\\nقلب العاشق دليله\\n\\nقلب العا...          2002  \n",
       "4  مش قادر اصبرعغيابا\\nكل ليله بجمع دموعي\\nو بسهر...          2009  "
      ]
     },
     "execution_count": 3,
     "metadata": {},
     "output_type": "execute_result"
    }
   ],
   "source": [
    "data = pd.read_csv('george_wassouf_lyrics_dataset.csv')\n",
    "data.head()"
   ]
  },
  {
   "cell_type": "code",
   "execution_count": 4,
   "metadata": {
    "vscode": {
     "languageId": "ruby"
    }
   },
   "outputs": [
    {
     "name": "stdout",
     "output_type": "stream",
     "text": [
      "78\n",
      "3\n",
      "['Track Title', 'Track Lyrics', 'Unnamed: 2']\n"
     ]
    }
   ],
   "source": [
    "# Number of songs\n",
    "no_of_songs = data.shape[0]\n",
    "print(no_of_songs)\n",
    "# Number of attributes\n",
    "no_of_attributes = data.shape[1]\n",
    "print(no_of_attributes)\n",
    "# Attribute names\n",
    "attrs = data.columns.tolist()\n",
    "print(attrs)"
   ]
  },
  {
   "cell_type": "code",
   "execution_count": null,
   "metadata": {},
   "outputs": [
    {
     "name": "stdout",
     "output_type": "stream",
     "text": [
      "                                        Track Lyrics\n",
      "0   اه حبايب بس فين الحب غايب\\r\\nوليه يا قلبي ما ...\n",
      "1  \\r\\nيا ليلي يا ليلي يا ليل\\r\\n\\r\\nعلم قلبي الش...\n",
      "2  أدي اللي كانوا يا هوا أقرب ما لينا\\r\\nواللي ما...\n",
      "3  قلب العاشق دليله\\r\\nقلب العاشق دليله\\r\\n\\r\\nقل...\n",
      "4  مش قادر اصبرعغيابا\\r\\nكل ليله بجمع دموعي\\r\\nو ...\n"
     ]
    }
   ],
   "source": [
    "track_lyrics_df = data['Track Lyrics'].to_frame()\n",
    "print(track_lyrics_df.head())"
   ]
  },
  {
   "cell_type": "code",
   "execution_count": 5,
   "metadata": {
    "vscode": {
     "languageId": "ruby"
    }
   },
   "outputs": [
    {
     "data": {
      "text/html": [
       "<div>\n",
       "<style scoped>\n",
       "    .dataframe tbody tr th:only-of-type {\n",
       "        vertical-align: middle;\n",
       "    }\n",
       "\n",
       "    .dataframe tbody tr th {\n",
       "        vertical-align: top;\n",
       "    }\n",
       "\n",
       "    .dataframe thead th {\n",
       "        text-align: right;\n",
       "    }\n",
       "</style>\n",
       "<table border=\"1\" class=\"dataframe\">\n",
       "  <thead>\n",
       "    <tr style=\"text-align: right;\">\n",
       "      <th></th>\n",
       "      <th>Track Title</th>\n",
       "      <th>Track Lyrics</th>\n",
       "      <th>Release year</th>\n",
       "    </tr>\n",
       "  </thead>\n",
       "  <tbody>\n",
       "    <tr>\n",
       "      <th>0</th>\n",
       "      <td>Aah Habaieb - آه حبايب</td>\n",
       "      <td>اه حبايب فين الحب غايب وليه قلبي لكش نايب شافو...</td>\n",
       "      <td>1995</td>\n",
       "    </tr>\n",
       "    <tr>\n",
       "      <th>1</th>\n",
       "      <td>Aalem Albi El Shok - علم قلبي الشوق</td>\n",
       "      <td>ليلي ليلي ليل قلبي الشوق الشوق عيني السهر خدني...</td>\n",
       "      <td>2008</td>\n",
       "    </tr>\n",
       "    <tr>\n",
       "      <th>2</th>\n",
       "      <td>Addi Eli Kanou - أدي اللي كانوا</td>\n",
       "      <td>أدي اللي كانوا هوا أقرب لينا واللي هانوا هوا ي...</td>\n",
       "      <td>2008</td>\n",
       "    </tr>\n",
       "    <tr>\n",
       "      <th>3</th>\n",
       "      <td>Alb Al Asheq Daleiloh - قلب العاشق دليله</td>\n",
       "      <td>قلب العاشق دليله قلب العاشق دليله قلب العاشق د...</td>\n",
       "      <td>2002</td>\n",
       "    </tr>\n",
       "    <tr>\n",
       "      <th>4</th>\n",
       "      <td>Al Forqah Saabah - الفرقة صعبة</td>\n",
       "      <td>مش قادر اصبرعغيابا ليله بجمع دموعي بسهر دمعات ...</td>\n",
       "      <td>2009</td>\n",
       "    </tr>\n",
       "  </tbody>\n",
       "</table>\n",
       "</div>"
      ],
      "text/plain": [
       "                                Track Title  \\\n",
       "0                    Aah Habaieb - آه حبايب   \n",
       "1       Aalem Albi El Shok - علم قلبي الشوق   \n",
       "2           Addi Eli Kanou - أدي اللي كانوا   \n",
       "3  Alb Al Asheq Daleiloh - قلب العاشق دليله   \n",
       "4            Al Forqah Saabah - الفرقة صعبة   \n",
       "\n",
       "                                        Track Lyrics  Release year  \n",
       "0  اه حبايب فين الحب غايب وليه قلبي لكش نايب شافو...          1995  \n",
       "1  ليلي ليلي ليل قلبي الشوق الشوق عيني السهر خدني...          2008  \n",
       "2  أدي اللي كانوا هوا أقرب لينا واللي هانوا هوا ي...          2008  \n",
       "3  قلب العاشق دليله قلب العاشق دليله قلب العاشق د...          2002  \n",
       "4  مش قادر اصبرعغيابا ليله بجمع دموعي بسهر دمعات ...          2009  "
      ]
     },
     "execution_count": 5,
     "metadata": {},
     "output_type": "execute_result"
    }
   ],
   "source": [
    "stop_words = set(stopwords.words('arabic'))\n",
    "data['Track Lyrics'] = data['Track Lyrics'].apply(lambda x: ' '.join([word for word in x.split() if word not in stop_words]))\n",
    "data.head()"
   ]
  }
 ],
 "metadata": {
  "kernelspec": {
   "display_name": "Python 3",
   "language": "python",
   "name": "python3"
  },
  "language_info": {
   "codemirror_mode": {
    "name": "ipython",
    "version": 3
   },
   "file_extension": ".py",
   "mimetype": "text/x-python",
   "name": "python",
   "nbconvert_exporter": "python",
   "pygments_lexer": "ipython3",
   "version": "3.12.6"
  }
 },
 "nbformat": 4,
 "nbformat_minor": 2
}
